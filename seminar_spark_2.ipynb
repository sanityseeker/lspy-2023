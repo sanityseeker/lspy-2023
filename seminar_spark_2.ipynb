{
 "cells": [
  {
   "cell_type": "code",
   "execution_count": 1,
   "id": "6b2b5d12",
   "metadata": {
    "ExecuteTime": {
     "end_time": "2023-03-10T10:05:06.707662Z",
     "start_time": "2023-03-10T10:05:06.594677Z"
    }
   },
   "outputs": [],
   "source": [
    "import pandas as pd\n",
    "import pyspark\n",
    "\n",
    "from pyspark.sql import SparkSession, Row, functions, types"
   ]
  },
  {
   "cell_type": "code",
   "execution_count": 2,
   "id": "21bf5bbc",
   "metadata": {
    "ExecuteTime": {
     "end_time": "2023-03-10T10:05:12.639590Z",
     "start_time": "2023-03-10T10:05:10.792785Z"
    }
   },
   "outputs": [
    {
     "name": "stdout",
     "output_type": "stream",
     "text": [
      "23/03/10 14:05:11 WARN Utils: Your hostname, celeron resolves to a loopback address: 127.0.1.1; using 192.168.10.58 instead (on interface wlo1)\n",
      "23/03/10 14:05:11 WARN Utils: Set SPARK_LOCAL_IP if you need to bind to another address\n"
     ]
    },
    {
     "name": "stderr",
     "output_type": "stream",
     "text": [
      "Setting default log level to \"WARN\".\n",
      "To adjust logging level use sc.setLogLevel(newLevel). For SparkR, use setLogLevel(newLevel).\n"
     ]
    },
    {
     "name": "stdout",
     "output_type": "stream",
     "text": [
      "23/03/10 14:05:11 WARN NativeCodeLoader: Unable to load native-hadoop library for your platform... using builtin-java classes where applicable\n",
      "23/03/10 14:05:12 WARN Utils: Service 'SparkUI' could not bind on port 4040. Attempting port 4041.\n"
     ]
    }
   ],
   "source": [
    "spark = SparkSession.builder \\\n",
    "    .master(\"local[*]\") \\\n",
    "    .config(\"spark.sql.autoBroadcastJoinThreshold\", -1) \\\n",
    "    .config(\"spark.executor.memory\", \"3gb\") \\\n",
    "    .appName('test') \\\n",
    "    .getOrCreate()"
   ]
  },
  {
   "cell_type": "code",
   "execution_count": 4,
   "id": "cce1a11e",
   "metadata": {
    "ExecuteTime": {
     "end_time": "2023-03-10T10:10:32.753017Z",
     "start_time": "2023-03-10T10:10:32.643011Z"
    }
   },
   "outputs": [
    {
     "name": "stdout",
     "output_type": "stream",
     "text": [
      "\r\n",
      "set -e\r\n",
      "\r\n",
      "TAXI_TYPE=$1 # \"yellow\"\r\n",
      "YEAR=$2 # 2020\r\n",
      "\r\n",
      "URL_PREFIX=\"https://github.com/DataTalksClub/nyc-tlc-data/releases/download\"\r\n",
      "\r\n",
      "for MONTH in {1..12}; do\r\n",
      "  FMONTH=`printf \"%02d\" ${MONTH}`\r\n",
      "\r\n",
      "  URL=\"${URL_PREFIX}/${TAXI_TYPE}/${TAXI_TYPE}_tripdata_${YEAR}-${FMONTH}.csv.gz\"\r\n",
      "\r\n",
      "  LOCAL_PREFIX=\"data/raw/${TAXI_TYPE}/${YEAR}/${FMONTH}\"\r\n",
      "  LOCAL_FILE=\"${TAXI_TYPE}_tripdata_${YEAR}_${FMONTH}.csv.gz\"\r\n",
      "  LOCAL_PATH=\"${LOCAL_PREFIX}/${LOCAL_FILE}\"\r\n",
      "\r\n",
      "  echo \"downloading ${URL} to ${LOCAL_PATH}\"\r\n",
      "  mkdir -p ${LOCAL_PREFIX}\r\n",
      "  wget ${URL} -O ${LOCAL_PATH}\r\n",
      "\r\n",
      "done\r\n"
     ]
    }
   ],
   "source": [
    "! cat download_data.sh"
   ]
  },
  {
   "cell_type": "code",
   "execution_count": 3,
   "id": "07e8bf25",
   "metadata": {
    "ExecuteTime": {
     "end_time": "2023-03-10T10:10:08.606766Z",
     "start_time": "2023-03-10T10:10:08.476005Z"
    }
   },
   "outputs": [
    {
     "name": "stdout",
     "output_type": "stream",
     "text": [
      "data\t\t     seminar_numpy.ipynb    seminar_spark_template.ipynb\r\n",
      "download_data.sh     seminar_pandas.ipynb   seminar_sql.ipynb\r\n",
      "img\t\t     seminar_plots.ipynb    spark-warehouse\r\n",
      "README.md\t     seminar_spark_1.ipynb\r\n",
      "seminar_mrjob.ipynb  seminar_spark_2.ipynb\r\n"
     ]
    }
   ],
   "source": [
    "! bash download_data yellow 2020"
   ]
  },
  {
   "cell_type": "code",
   "execution_count": 6,
   "id": "0f6299bd",
   "metadata": {
    "ExecuteTime": {
     "end_time": "2023-03-10T10:14:52.641468Z",
     "start_time": "2023-03-10T10:14:52.636769Z"
    }
   },
   "outputs": [],
   "source": [
    "green_schema = types.StructType([\n",
    "    types.StructField(\"VendorID\", types.IntegerType(), True),\n",
    "    types.StructField(\"lpep_pickup_datetime\", types.TimestampType(), True),\n",
    "    types.StructField(\"lpep_dropoff_datetime\", types.TimestampType(), True),\n",
    "    types.StructField(\"store_and_fwd_flag\", types.StringType(), True),\n",
    "    types.StructField(\"RatecodeID\", types.IntegerType(), True),\n",
    "    types.StructField(\"PULocationID\", types.IntegerType(), True),\n",
    "    types.StructField(\"DOLocationID\", types.IntegerType(), True),\n",
    "    types.StructField(\"passenger_count\", types.IntegerType(), True),\n",
    "    types.StructField(\"trip_distance\", types.DoubleType(), True),\n",
    "    types.StructField(\"fare_amount\", types.DoubleType(), True),\n",
    "    types.StructField(\"extra\", types.DoubleType(), True),\n",
    "    types.StructField(\"mta_tax\", types.DoubleType(), True),\n",
    "    types.StructField(\"tip_amount\", types.DoubleType(), True),\n",
    "    types.StructField(\"tolls_amount\", types.DoubleType(), True),\n",
    "    types.StructField(\"ehail_fee\", types.DoubleType(), True),\n",
    "    types.StructField(\"improvement_surcharge\", types.DoubleType(), True),\n",
    "    types.StructField(\"total_amount\", types.DoubleType(), True),\n",
    "    types.StructField(\"payment_type\", types.IntegerType(), True),\n",
    "    types.StructField(\"trip_type\", types.IntegerType(), True),\n",
    "    types.StructField(\"congestion_surcharge\", types.DoubleType(), True)\n",
    "])\n",
    "\n",
    "yellow_schema = types.StructType([\n",
    "    types.StructField(\"VendorID\", types.IntegerType(), True),\n",
    "    types.StructField(\"tpep_pickup_datetime\", types.TimestampType(), True),\n",
    "    types.StructField(\"tpep_dropoff_datetime\", types.TimestampType(), True),\n",
    "    types.StructField(\"passenger_count\", types.IntegerType(), True),\n",
    "    types.StructField(\"trip_distance\", types.DoubleType(), True),\n",
    "    types.StructField(\"RatecodeID\", types.IntegerType(), True),\n",
    "    types.StructField(\"store_and_fwd_flag\", types.StringType(), True),\n",
    "    types.StructField(\"PULocationID\", types.IntegerType(), True),\n",
    "    types.StructField(\"DOLocationID\", types.IntegerType(), True),\n",
    "    types.StructField(\"payment_type\", types.IntegerType(), True),\n",
    "    types.StructField(\"fare_amount\", types.DoubleType(), True),\n",
    "    types.StructField(\"extra\", types.DoubleType(), True),\n",
    "    types.StructField(\"mta_tax\", types.DoubleType(), True),\n",
    "    types.StructField(\"tip_amount\", types.DoubleType(), True),\n",
    "    types.StructField(\"tolls_amount\", types.DoubleType(), True),\n",
    "    types.StructField(\"improvement_surcharge\", types.DoubleType(), True),\n",
    "    types.StructField(\"total_amount\", types.DoubleType(), True),\n",
    "    types.StructField(\"congestion_surcharge\", types.DoubleType(), True)\n",
    "])"
   ]
  },
  {
   "cell_type": "code",
   "execution_count": 8,
   "id": "3dcbe8ba",
   "metadata": {
    "ExecuteTime": {
     "end_time": "2023-03-10T10:15:27.460846Z",
     "start_time": "2023-03-10T10:15:27.458191Z"
    }
   },
   "outputs": [],
   "source": [
    "def save_to_parquet(year, taxi_type, taxi_schema):\n",
    "\n",
    "    for month in range(1, 13):\n",
    "        print(f'processing data for {year}/{month}')\n",
    "\n",
    "        input_path = f'data/raw/{taxi_type}/{year}/{month:02d}/'\n",
    "        output_path = f'data/pq/{taxi_type}/{year}/{month:02d}/'\n",
    "\n",
    "        df = spark.read \\\n",
    "            .option(\"header\", \"true\") \\\n",
    "            .schema(taxi_schema) \\\n",
    "            .csv(input_path)\n",
    "\n",
    "        df.repartition(4).write.parquet(output_path)"
   ]
  },
  {
   "cell_type": "code",
   "execution_count": 9,
   "id": "41bde29b",
   "metadata": {
    "ExecuteTime": {
     "end_time": "2023-03-10T10:16:13.486505Z",
     "start_time": "2023-03-10T10:16:03.605741Z"
    }
   },
   "outputs": [
    {
     "name": "stdout",
     "output_type": "stream",
     "text": [
      "processing data for 2020/1\n"
     ]
    },
    {
     "name": "stderr",
     "output_type": "stream",
     "text": [
      "                                                                                \r"
     ]
    },
    {
     "name": "stdout",
     "output_type": "stream",
     "text": [
      "processing data for 2020/2\n"
     ]
    },
    {
     "name": "stderr",
     "output_type": "stream",
     "text": [
      "                                                                                \r"
     ]
    },
    {
     "name": "stdout",
     "output_type": "stream",
     "text": [
      "processing data for 2020/3\n",
      "processing data for 2020/4\n",
      "processing data for 2020/5\n",
      "processing data for 2020/6\n",
      "processing data for 2020/7\n",
      "processing data for 2020/8\n",
      "processing data for 2020/9\n",
      "processing data for 2020/10\n",
      "processing data for 2020/11\n",
      "processing data for 2020/12\n"
     ]
    }
   ],
   "source": [
    "save_to_parquet(2020, 'green', green_schema)"
   ]
  },
  {
   "cell_type": "code",
   "execution_count": 10,
   "id": "088b2e97",
   "metadata": {
    "ExecuteTime": {
     "end_time": "2023-03-10T10:17:06.888226Z",
     "start_time": "2023-03-10T10:17:03.920646Z"
    }
   },
   "outputs": [
    {
     "name": "stdout",
     "output_type": "stream",
     "text": [
      "processing data for 2021/1\n",
      "processing data for 2021/2\n",
      "processing data for 2021/3\n",
      "processing data for 2021/4\n",
      "processing data for 2021/5\n",
      "processing data for 2021/6\n",
      "processing data for 2021/7\n",
      "processing data for 2021/8\n",
      "processing data for 2021/9\n"
     ]
    },
    {
     "ename": "AnalysisException",
     "evalue": "Path does not exist: file:/home/sanityseeker/Documents/Projects/lspy-2023/data/raw/green/2021/09",
     "output_type": "error",
     "traceback": [
      "\u001b[0;31m---------------------------------------------------------------------------\u001b[0m",
      "\u001b[0;31mAnalysisException\u001b[0m                         Traceback (most recent call last)",
      "Input \u001b[0;32mIn [10]\u001b[0m, in \u001b[0;36m<cell line: 1>\u001b[0;34m()\u001b[0m\n\u001b[0;32m----> 1\u001b[0m \u001b[43msave_to_parquet\u001b[49m\u001b[43m(\u001b[49m\u001b[38;5;241;43m2021\u001b[39;49m\u001b[43m,\u001b[49m\u001b[43m \u001b[49m\u001b[38;5;124;43m'\u001b[39;49m\u001b[38;5;124;43mgreen\u001b[39;49m\u001b[38;5;124;43m'\u001b[39;49m\u001b[43m,\u001b[49m\u001b[43m \u001b[49m\u001b[43mgreen_schema\u001b[49m\u001b[43m)\u001b[49m\n",
      "Input \u001b[0;32mIn [8]\u001b[0m, in \u001b[0;36msave_to_parquet\u001b[0;34m(year, taxi_type, taxi_schema)\u001b[0m\n\u001b[1;32m      6\u001b[0m input_path \u001b[38;5;241m=\u001b[39m \u001b[38;5;124mf\u001b[39m\u001b[38;5;124m'\u001b[39m\u001b[38;5;124mdata/raw/\u001b[39m\u001b[38;5;132;01m{\u001b[39;00mtaxi_type\u001b[38;5;132;01m}\u001b[39;00m\u001b[38;5;124m/\u001b[39m\u001b[38;5;132;01m{\u001b[39;00myear\u001b[38;5;132;01m}\u001b[39;00m\u001b[38;5;124m/\u001b[39m\u001b[38;5;132;01m{\u001b[39;00mmonth\u001b[38;5;132;01m:\u001b[39;00m\u001b[38;5;124m02d\u001b[39m\u001b[38;5;132;01m}\u001b[39;00m\u001b[38;5;124m/\u001b[39m\u001b[38;5;124m'\u001b[39m\n\u001b[1;32m      7\u001b[0m output_path \u001b[38;5;241m=\u001b[39m \u001b[38;5;124mf\u001b[39m\u001b[38;5;124m'\u001b[39m\u001b[38;5;124mdata/pq/\u001b[39m\u001b[38;5;132;01m{\u001b[39;00mtaxi_type\u001b[38;5;132;01m}\u001b[39;00m\u001b[38;5;124m/\u001b[39m\u001b[38;5;132;01m{\u001b[39;00myear\u001b[38;5;132;01m}\u001b[39;00m\u001b[38;5;124m/\u001b[39m\u001b[38;5;132;01m{\u001b[39;00mmonth\u001b[38;5;132;01m:\u001b[39;00m\u001b[38;5;124m02d\u001b[39m\u001b[38;5;132;01m}\u001b[39;00m\u001b[38;5;124m/\u001b[39m\u001b[38;5;124m'\u001b[39m\n\u001b[0;32m----> 9\u001b[0m df \u001b[38;5;241m=\u001b[39m \u001b[43mspark\u001b[49m\u001b[38;5;241;43m.\u001b[39;49m\u001b[43mread\u001b[49m\u001b[43m \u001b[49m\u001b[43m\\\u001b[49m\n\u001b[1;32m     10\u001b[0m \u001b[43m    \u001b[49m\u001b[38;5;241;43m.\u001b[39;49m\u001b[43moption\u001b[49m\u001b[43m(\u001b[49m\u001b[38;5;124;43m\"\u001b[39;49m\u001b[38;5;124;43mheader\u001b[39;49m\u001b[38;5;124;43m\"\u001b[39;49m\u001b[43m,\u001b[49m\u001b[43m \u001b[49m\u001b[38;5;124;43m\"\u001b[39;49m\u001b[38;5;124;43mtrue\u001b[39;49m\u001b[38;5;124;43m\"\u001b[39;49m\u001b[43m)\u001b[49m\u001b[43m \u001b[49m\u001b[43m\\\u001b[49m\n\u001b[1;32m     11\u001b[0m \u001b[43m    \u001b[49m\u001b[38;5;241;43m.\u001b[39;49m\u001b[43mschema\u001b[49m\u001b[43m(\u001b[49m\u001b[43mtaxi_schema\u001b[49m\u001b[43m)\u001b[49m\u001b[43m \u001b[49m\u001b[43m\\\u001b[49m\n\u001b[1;32m     12\u001b[0m \u001b[43m    \u001b[49m\u001b[38;5;241;43m.\u001b[39;49m\u001b[43mcsv\u001b[49m\u001b[43m(\u001b[49m\u001b[43minput_path\u001b[49m\u001b[43m)\u001b[49m\n\u001b[1;32m     14\u001b[0m df\u001b[38;5;241m.\u001b[39mrepartition(\u001b[38;5;241m4\u001b[39m)\u001b[38;5;241m.\u001b[39mwrite\u001b[38;5;241m.\u001b[39mparquet(output_path)\n",
      "File \u001b[0;32m~/anaconda3/envs/ml-env/lib/python3.8/site-packages/pyspark/sql/readwriter.py:535\u001b[0m, in \u001b[0;36mDataFrameReader.csv\u001b[0;34m(self, path, schema, sep, encoding, quote, escape, comment, header, inferSchema, ignoreLeadingWhiteSpace, ignoreTrailingWhiteSpace, nullValue, nanValue, positiveInf, negativeInf, dateFormat, timestampFormat, maxColumns, maxCharsPerColumn, maxMalformedLogPerPartition, mode, columnNameOfCorruptRecord, multiLine, charToEscapeQuoteEscaping, samplingRatio, enforceSchema, emptyValue, locale, lineSep, pathGlobFilter, recursiveFileLookup, modifiedBefore, modifiedAfter, unescapedQuoteHandling)\u001b[0m\n\u001b[1;32m    533\u001b[0m \u001b[38;5;28;01mif\u001b[39;00m \u001b[38;5;28mtype\u001b[39m(path) \u001b[38;5;241m==\u001b[39m \u001b[38;5;28mlist\u001b[39m:\n\u001b[1;32m    534\u001b[0m     \u001b[38;5;28;01massert\u001b[39;00m \u001b[38;5;28mself\u001b[39m\u001b[38;5;241m.\u001b[39m_spark\u001b[38;5;241m.\u001b[39m_sc\u001b[38;5;241m.\u001b[39m_jvm \u001b[38;5;129;01mis\u001b[39;00m \u001b[38;5;129;01mnot\u001b[39;00m \u001b[38;5;28;01mNone\u001b[39;00m\n\u001b[0;32m--> 535\u001b[0m     \u001b[38;5;28;01mreturn\u001b[39;00m \u001b[38;5;28mself\u001b[39m\u001b[38;5;241m.\u001b[39m_df(\u001b[38;5;28;43mself\u001b[39;49m\u001b[38;5;241;43m.\u001b[39;49m\u001b[43m_jreader\u001b[49m\u001b[38;5;241;43m.\u001b[39;49m\u001b[43mcsv\u001b[49m\u001b[43m(\u001b[49m\u001b[38;5;28;43mself\u001b[39;49m\u001b[38;5;241;43m.\u001b[39;49m\u001b[43m_spark\u001b[49m\u001b[38;5;241;43m.\u001b[39;49m\u001b[43m_sc\u001b[49m\u001b[38;5;241;43m.\u001b[39;49m\u001b[43m_jvm\u001b[49m\u001b[38;5;241;43m.\u001b[39;49m\u001b[43mPythonUtils\u001b[49m\u001b[38;5;241;43m.\u001b[39;49m\u001b[43mtoSeq\u001b[49m\u001b[43m(\u001b[49m\u001b[43mpath\u001b[49m\u001b[43m)\u001b[49m\u001b[43m)\u001b[49m)\n\u001b[1;32m    536\u001b[0m \u001b[38;5;28;01melif\u001b[39;00m \u001b[38;5;28misinstance\u001b[39m(path, RDD):\n\u001b[1;32m    538\u001b[0m     \u001b[38;5;28;01mdef\u001b[39;00m \u001b[38;5;21mfunc\u001b[39m(iterator):\n",
      "File \u001b[0;32m~/anaconda3/envs/ml-env/lib/python3.8/site-packages/py4j/java_gateway.py:1321\u001b[0m, in \u001b[0;36mJavaMember.__call__\u001b[0;34m(self, *args)\u001b[0m\n\u001b[1;32m   1315\u001b[0m command \u001b[38;5;241m=\u001b[39m proto\u001b[38;5;241m.\u001b[39mCALL_COMMAND_NAME \u001b[38;5;241m+\u001b[39m\\\n\u001b[1;32m   1316\u001b[0m     \u001b[38;5;28mself\u001b[39m\u001b[38;5;241m.\u001b[39mcommand_header \u001b[38;5;241m+\u001b[39m\\\n\u001b[1;32m   1317\u001b[0m     args_command \u001b[38;5;241m+\u001b[39m\\\n\u001b[1;32m   1318\u001b[0m     proto\u001b[38;5;241m.\u001b[39mEND_COMMAND_PART\n\u001b[1;32m   1320\u001b[0m answer \u001b[38;5;241m=\u001b[39m \u001b[38;5;28mself\u001b[39m\u001b[38;5;241m.\u001b[39mgateway_client\u001b[38;5;241m.\u001b[39msend_command(command)\n\u001b[0;32m-> 1321\u001b[0m return_value \u001b[38;5;241m=\u001b[39m \u001b[43mget_return_value\u001b[49m\u001b[43m(\u001b[49m\n\u001b[1;32m   1322\u001b[0m \u001b[43m    \u001b[49m\u001b[43manswer\u001b[49m\u001b[43m,\u001b[49m\u001b[43m \u001b[49m\u001b[38;5;28;43mself\u001b[39;49m\u001b[38;5;241;43m.\u001b[39;49m\u001b[43mgateway_client\u001b[49m\u001b[43m,\u001b[49m\u001b[43m \u001b[49m\u001b[38;5;28;43mself\u001b[39;49m\u001b[38;5;241;43m.\u001b[39;49m\u001b[43mtarget_id\u001b[49m\u001b[43m,\u001b[49m\u001b[43m \u001b[49m\u001b[38;5;28;43mself\u001b[39;49m\u001b[38;5;241;43m.\u001b[39;49m\u001b[43mname\u001b[49m\u001b[43m)\u001b[49m\n\u001b[1;32m   1324\u001b[0m \u001b[38;5;28;01mfor\u001b[39;00m temp_arg \u001b[38;5;129;01min\u001b[39;00m temp_args:\n\u001b[1;32m   1325\u001b[0m     temp_arg\u001b[38;5;241m.\u001b[39m_detach()\n",
      "File \u001b[0;32m~/anaconda3/envs/ml-env/lib/python3.8/site-packages/pyspark/sql/utils.py:196\u001b[0m, in \u001b[0;36mcapture_sql_exception.<locals>.deco\u001b[0;34m(*a, **kw)\u001b[0m\n\u001b[1;32m    192\u001b[0m converted \u001b[38;5;241m=\u001b[39m convert_exception(e\u001b[38;5;241m.\u001b[39mjava_exception)\n\u001b[1;32m    193\u001b[0m \u001b[38;5;28;01mif\u001b[39;00m \u001b[38;5;129;01mnot\u001b[39;00m \u001b[38;5;28misinstance\u001b[39m(converted, UnknownException):\n\u001b[1;32m    194\u001b[0m     \u001b[38;5;66;03m# Hide where the exception came from that shows a non-Pythonic\u001b[39;00m\n\u001b[1;32m    195\u001b[0m     \u001b[38;5;66;03m# JVM exception message.\u001b[39;00m\n\u001b[0;32m--> 196\u001b[0m     \u001b[38;5;28;01mraise\u001b[39;00m converted \u001b[38;5;28;01mfrom\u001b[39;00m \u001b[38;5;28mNone\u001b[39m\n\u001b[1;32m    197\u001b[0m \u001b[38;5;28;01melse\u001b[39;00m:\n\u001b[1;32m    198\u001b[0m     \u001b[38;5;28;01mraise\u001b[39;00m\n",
      "\u001b[0;31mAnalysisException\u001b[0m: Path does not exist: file:/home/sanityseeker/Documents/Projects/lspy-2023/data/raw/green/2021/09"
     ]
    }
   ],
   "source": [
    "save_to_parquet(2021, 'green', green_schema)"
   ]
  },
  {
   "cell_type": "code",
   "execution_count": 11,
   "id": "04864d66",
   "metadata": {
    "ExecuteTime": {
     "end_time": "2023-03-10T10:19:11.105623Z",
     "start_time": "2023-03-10T10:17:40.068522Z"
    }
   },
   "outputs": [
    {
     "name": "stdout",
     "output_type": "stream",
     "text": [
      "processing data for 2020/1\n"
     ]
    },
    {
     "name": "stderr",
     "output_type": "stream",
     "text": [
      "                                                                                \r"
     ]
    },
    {
     "name": "stdout",
     "output_type": "stream",
     "text": [
      "processing data for 2020/2\n"
     ]
    },
    {
     "name": "stderr",
     "output_type": "stream",
     "text": [
      "                                                                                \r"
     ]
    },
    {
     "name": "stdout",
     "output_type": "stream",
     "text": [
      "processing data for 2020/3\n"
     ]
    },
    {
     "name": "stderr",
     "output_type": "stream",
     "text": [
      "                                                                                \r"
     ]
    },
    {
     "name": "stdout",
     "output_type": "stream",
     "text": [
      "processing data for 2020/4\n"
     ]
    },
    {
     "name": "stderr",
     "output_type": "stream",
     "text": [
      "                                                                                \r"
     ]
    },
    {
     "name": "stdout",
     "output_type": "stream",
     "text": [
      "processing data for 2020/5\n"
     ]
    },
    {
     "name": "stderr",
     "output_type": "stream",
     "text": [
      "                                                                                \r"
     ]
    },
    {
     "name": "stdout",
     "output_type": "stream",
     "text": [
      "processing data for 2020/6\n"
     ]
    },
    {
     "name": "stderr",
     "output_type": "stream",
     "text": [
      "                                                                                \r"
     ]
    },
    {
     "name": "stdout",
     "output_type": "stream",
     "text": [
      "processing data for 2020/7\n"
     ]
    },
    {
     "name": "stderr",
     "output_type": "stream",
     "text": [
      "                                                                                \r"
     ]
    },
    {
     "name": "stdout",
     "output_type": "stream",
     "text": [
      "processing data for 2020/8\n"
     ]
    },
    {
     "name": "stderr",
     "output_type": "stream",
     "text": [
      "                                                                                \r"
     ]
    },
    {
     "name": "stdout",
     "output_type": "stream",
     "text": [
      "processing data for 2020/9\n"
     ]
    },
    {
     "name": "stderr",
     "output_type": "stream",
     "text": [
      "                                                                                \r"
     ]
    },
    {
     "name": "stdout",
     "output_type": "stream",
     "text": [
      "processing data for 2020/10\n"
     ]
    },
    {
     "name": "stderr",
     "output_type": "stream",
     "text": [
      "                                                                                \r"
     ]
    },
    {
     "name": "stdout",
     "output_type": "stream",
     "text": [
      "processing data for 2020/11\n"
     ]
    },
    {
     "name": "stderr",
     "output_type": "stream",
     "text": [
      "                                                                                \r"
     ]
    },
    {
     "name": "stdout",
     "output_type": "stream",
     "text": [
      "processing data for 2020/12\n"
     ]
    },
    {
     "name": "stderr",
     "output_type": "stream",
     "text": [
      "                                                                                \r"
     ]
    }
   ],
   "source": [
    "save_to_parquet(2020, 'yellow', yellow_schema)"
   ]
  },
  {
   "cell_type": "code",
   "execution_count": 12,
   "id": "4aade425",
   "metadata": {
    "ExecuteTime": {
     "end_time": "2023-03-10T10:20:11.514048Z",
     "start_time": "2023-03-10T10:19:18.476370Z"
    }
   },
   "outputs": [
    {
     "name": "stdout",
     "output_type": "stream",
     "text": [
      "processing data for 2021/1\n"
     ]
    },
    {
     "name": "stderr",
     "output_type": "stream",
     "text": [
      "                                                                                \r"
     ]
    },
    {
     "name": "stdout",
     "output_type": "stream",
     "text": [
      "processing data for 2021/2\n"
     ]
    },
    {
     "name": "stderr",
     "output_type": "stream",
     "text": [
      "                                                                                \r"
     ]
    },
    {
     "name": "stdout",
     "output_type": "stream",
     "text": [
      "processing data for 2021/3\n"
     ]
    },
    {
     "name": "stderr",
     "output_type": "stream",
     "text": [
      "                                                                                \r"
     ]
    },
    {
     "name": "stdout",
     "output_type": "stream",
     "text": [
      "processing data for 2021/4\n"
     ]
    },
    {
     "name": "stderr",
     "output_type": "stream",
     "text": [
      "                                                                                \r"
     ]
    },
    {
     "name": "stdout",
     "output_type": "stream",
     "text": [
      "processing data for 2021/5\n"
     ]
    },
    {
     "name": "stderr",
     "output_type": "stream",
     "text": [
      "                                                                                \r"
     ]
    },
    {
     "name": "stdout",
     "output_type": "stream",
     "text": [
      "processing data for 2021/6\n"
     ]
    },
    {
     "name": "stderr",
     "output_type": "stream",
     "text": [
      "                                                                                \r"
     ]
    },
    {
     "name": "stdout",
     "output_type": "stream",
     "text": [
      "processing data for 2021/7\n"
     ]
    },
    {
     "name": "stderr",
     "output_type": "stream",
     "text": [
      "[Stage 115:>                                                        (0 + 4) / 4]\r"
     ]
    },
    {
     "name": "stdout",
     "output_type": "stream",
     "text": [
      "processing data for 2021/8\n",
      "processing data for 2021/9\n"
     ]
    },
    {
     "name": "stderr",
     "output_type": "stream",
     "text": [
      "\r",
      "[Stage 115:============================>                            (2 + 2) / 4]\r",
      "\r",
      "                                                                                \r"
     ]
    },
    {
     "ename": "AnalysisException",
     "evalue": "Path does not exist: file:/home/sanityseeker/Documents/Projects/lspy-2023/data/raw/yellow/2021/09",
     "output_type": "error",
     "traceback": [
      "\u001b[0;31m---------------------------------------------------------------------------\u001b[0m",
      "\u001b[0;31mAnalysisException\u001b[0m                         Traceback (most recent call last)",
      "Input \u001b[0;32mIn [12]\u001b[0m, in \u001b[0;36m<cell line: 1>\u001b[0;34m()\u001b[0m\n\u001b[0;32m----> 1\u001b[0m \u001b[43msave_to_parquet\u001b[49m\u001b[43m(\u001b[49m\u001b[38;5;241;43m2021\u001b[39;49m\u001b[43m,\u001b[49m\u001b[43m \u001b[49m\u001b[38;5;124;43m'\u001b[39;49m\u001b[38;5;124;43myellow\u001b[39;49m\u001b[38;5;124;43m'\u001b[39;49m\u001b[43m,\u001b[49m\u001b[43m \u001b[49m\u001b[43myellow_schema\u001b[49m\u001b[43m)\u001b[49m\n",
      "Input \u001b[0;32mIn [8]\u001b[0m, in \u001b[0;36msave_to_parquet\u001b[0;34m(year, taxi_type, taxi_schema)\u001b[0m\n\u001b[1;32m      6\u001b[0m input_path \u001b[38;5;241m=\u001b[39m \u001b[38;5;124mf\u001b[39m\u001b[38;5;124m'\u001b[39m\u001b[38;5;124mdata/raw/\u001b[39m\u001b[38;5;132;01m{\u001b[39;00mtaxi_type\u001b[38;5;132;01m}\u001b[39;00m\u001b[38;5;124m/\u001b[39m\u001b[38;5;132;01m{\u001b[39;00myear\u001b[38;5;132;01m}\u001b[39;00m\u001b[38;5;124m/\u001b[39m\u001b[38;5;132;01m{\u001b[39;00mmonth\u001b[38;5;132;01m:\u001b[39;00m\u001b[38;5;124m02d\u001b[39m\u001b[38;5;132;01m}\u001b[39;00m\u001b[38;5;124m/\u001b[39m\u001b[38;5;124m'\u001b[39m\n\u001b[1;32m      7\u001b[0m output_path \u001b[38;5;241m=\u001b[39m \u001b[38;5;124mf\u001b[39m\u001b[38;5;124m'\u001b[39m\u001b[38;5;124mdata/pq/\u001b[39m\u001b[38;5;132;01m{\u001b[39;00mtaxi_type\u001b[38;5;132;01m}\u001b[39;00m\u001b[38;5;124m/\u001b[39m\u001b[38;5;132;01m{\u001b[39;00myear\u001b[38;5;132;01m}\u001b[39;00m\u001b[38;5;124m/\u001b[39m\u001b[38;5;132;01m{\u001b[39;00mmonth\u001b[38;5;132;01m:\u001b[39;00m\u001b[38;5;124m02d\u001b[39m\u001b[38;5;132;01m}\u001b[39;00m\u001b[38;5;124m/\u001b[39m\u001b[38;5;124m'\u001b[39m\n\u001b[0;32m----> 9\u001b[0m df \u001b[38;5;241m=\u001b[39m \u001b[43mspark\u001b[49m\u001b[38;5;241;43m.\u001b[39;49m\u001b[43mread\u001b[49m\u001b[43m \u001b[49m\u001b[43m\\\u001b[49m\n\u001b[1;32m     10\u001b[0m \u001b[43m    \u001b[49m\u001b[38;5;241;43m.\u001b[39;49m\u001b[43moption\u001b[49m\u001b[43m(\u001b[49m\u001b[38;5;124;43m\"\u001b[39;49m\u001b[38;5;124;43mheader\u001b[39;49m\u001b[38;5;124;43m\"\u001b[39;49m\u001b[43m,\u001b[49m\u001b[43m \u001b[49m\u001b[38;5;124;43m\"\u001b[39;49m\u001b[38;5;124;43mtrue\u001b[39;49m\u001b[38;5;124;43m\"\u001b[39;49m\u001b[43m)\u001b[49m\u001b[43m \u001b[49m\u001b[43m\\\u001b[49m\n\u001b[1;32m     11\u001b[0m \u001b[43m    \u001b[49m\u001b[38;5;241;43m.\u001b[39;49m\u001b[43mschema\u001b[49m\u001b[43m(\u001b[49m\u001b[43mtaxi_schema\u001b[49m\u001b[43m)\u001b[49m\u001b[43m \u001b[49m\u001b[43m\\\u001b[49m\n\u001b[1;32m     12\u001b[0m \u001b[43m    \u001b[49m\u001b[38;5;241;43m.\u001b[39;49m\u001b[43mcsv\u001b[49m\u001b[43m(\u001b[49m\u001b[43minput_path\u001b[49m\u001b[43m)\u001b[49m\n\u001b[1;32m     14\u001b[0m df\u001b[38;5;241m.\u001b[39mrepartition(\u001b[38;5;241m4\u001b[39m)\u001b[38;5;241m.\u001b[39mwrite\u001b[38;5;241m.\u001b[39mparquet(output_path)\n",
      "File \u001b[0;32m~/anaconda3/envs/ml-env/lib/python3.8/site-packages/pyspark/sql/readwriter.py:535\u001b[0m, in \u001b[0;36mDataFrameReader.csv\u001b[0;34m(self, path, schema, sep, encoding, quote, escape, comment, header, inferSchema, ignoreLeadingWhiteSpace, ignoreTrailingWhiteSpace, nullValue, nanValue, positiveInf, negativeInf, dateFormat, timestampFormat, maxColumns, maxCharsPerColumn, maxMalformedLogPerPartition, mode, columnNameOfCorruptRecord, multiLine, charToEscapeQuoteEscaping, samplingRatio, enforceSchema, emptyValue, locale, lineSep, pathGlobFilter, recursiveFileLookup, modifiedBefore, modifiedAfter, unescapedQuoteHandling)\u001b[0m\n\u001b[1;32m    533\u001b[0m \u001b[38;5;28;01mif\u001b[39;00m \u001b[38;5;28mtype\u001b[39m(path) \u001b[38;5;241m==\u001b[39m \u001b[38;5;28mlist\u001b[39m:\n\u001b[1;32m    534\u001b[0m     \u001b[38;5;28;01massert\u001b[39;00m \u001b[38;5;28mself\u001b[39m\u001b[38;5;241m.\u001b[39m_spark\u001b[38;5;241m.\u001b[39m_sc\u001b[38;5;241m.\u001b[39m_jvm \u001b[38;5;129;01mis\u001b[39;00m \u001b[38;5;129;01mnot\u001b[39;00m \u001b[38;5;28;01mNone\u001b[39;00m\n\u001b[0;32m--> 535\u001b[0m     \u001b[38;5;28;01mreturn\u001b[39;00m \u001b[38;5;28mself\u001b[39m\u001b[38;5;241m.\u001b[39m_df(\u001b[38;5;28;43mself\u001b[39;49m\u001b[38;5;241;43m.\u001b[39;49m\u001b[43m_jreader\u001b[49m\u001b[38;5;241;43m.\u001b[39;49m\u001b[43mcsv\u001b[49m\u001b[43m(\u001b[49m\u001b[38;5;28;43mself\u001b[39;49m\u001b[38;5;241;43m.\u001b[39;49m\u001b[43m_spark\u001b[49m\u001b[38;5;241;43m.\u001b[39;49m\u001b[43m_sc\u001b[49m\u001b[38;5;241;43m.\u001b[39;49m\u001b[43m_jvm\u001b[49m\u001b[38;5;241;43m.\u001b[39;49m\u001b[43mPythonUtils\u001b[49m\u001b[38;5;241;43m.\u001b[39;49m\u001b[43mtoSeq\u001b[49m\u001b[43m(\u001b[49m\u001b[43mpath\u001b[49m\u001b[43m)\u001b[49m\u001b[43m)\u001b[49m)\n\u001b[1;32m    536\u001b[0m \u001b[38;5;28;01melif\u001b[39;00m \u001b[38;5;28misinstance\u001b[39m(path, RDD):\n\u001b[1;32m    538\u001b[0m     \u001b[38;5;28;01mdef\u001b[39;00m \u001b[38;5;21mfunc\u001b[39m(iterator):\n",
      "File \u001b[0;32m~/anaconda3/envs/ml-env/lib/python3.8/site-packages/py4j/java_gateway.py:1321\u001b[0m, in \u001b[0;36mJavaMember.__call__\u001b[0;34m(self, *args)\u001b[0m\n\u001b[1;32m   1315\u001b[0m command \u001b[38;5;241m=\u001b[39m proto\u001b[38;5;241m.\u001b[39mCALL_COMMAND_NAME \u001b[38;5;241m+\u001b[39m\\\n\u001b[1;32m   1316\u001b[0m     \u001b[38;5;28mself\u001b[39m\u001b[38;5;241m.\u001b[39mcommand_header \u001b[38;5;241m+\u001b[39m\\\n\u001b[1;32m   1317\u001b[0m     args_command \u001b[38;5;241m+\u001b[39m\\\n\u001b[1;32m   1318\u001b[0m     proto\u001b[38;5;241m.\u001b[39mEND_COMMAND_PART\n\u001b[1;32m   1320\u001b[0m answer \u001b[38;5;241m=\u001b[39m \u001b[38;5;28mself\u001b[39m\u001b[38;5;241m.\u001b[39mgateway_client\u001b[38;5;241m.\u001b[39msend_command(command)\n\u001b[0;32m-> 1321\u001b[0m return_value \u001b[38;5;241m=\u001b[39m \u001b[43mget_return_value\u001b[49m\u001b[43m(\u001b[49m\n\u001b[1;32m   1322\u001b[0m \u001b[43m    \u001b[49m\u001b[43manswer\u001b[49m\u001b[43m,\u001b[49m\u001b[43m \u001b[49m\u001b[38;5;28;43mself\u001b[39;49m\u001b[38;5;241;43m.\u001b[39;49m\u001b[43mgateway_client\u001b[49m\u001b[43m,\u001b[49m\u001b[43m \u001b[49m\u001b[38;5;28;43mself\u001b[39;49m\u001b[38;5;241;43m.\u001b[39;49m\u001b[43mtarget_id\u001b[49m\u001b[43m,\u001b[49m\u001b[43m \u001b[49m\u001b[38;5;28;43mself\u001b[39;49m\u001b[38;5;241;43m.\u001b[39;49m\u001b[43mname\u001b[49m\u001b[43m)\u001b[49m\n\u001b[1;32m   1324\u001b[0m \u001b[38;5;28;01mfor\u001b[39;00m temp_arg \u001b[38;5;129;01min\u001b[39;00m temp_args:\n\u001b[1;32m   1325\u001b[0m     temp_arg\u001b[38;5;241m.\u001b[39m_detach()\n",
      "File \u001b[0;32m~/anaconda3/envs/ml-env/lib/python3.8/site-packages/pyspark/sql/utils.py:196\u001b[0m, in \u001b[0;36mcapture_sql_exception.<locals>.deco\u001b[0;34m(*a, **kw)\u001b[0m\n\u001b[1;32m    192\u001b[0m converted \u001b[38;5;241m=\u001b[39m convert_exception(e\u001b[38;5;241m.\u001b[39mjava_exception)\n\u001b[1;32m    193\u001b[0m \u001b[38;5;28;01mif\u001b[39;00m \u001b[38;5;129;01mnot\u001b[39;00m \u001b[38;5;28misinstance\u001b[39m(converted, UnknownException):\n\u001b[1;32m    194\u001b[0m     \u001b[38;5;66;03m# Hide where the exception came from that shows a non-Pythonic\u001b[39;00m\n\u001b[1;32m    195\u001b[0m     \u001b[38;5;66;03m# JVM exception message.\u001b[39;00m\n\u001b[0;32m--> 196\u001b[0m     \u001b[38;5;28;01mraise\u001b[39;00m converted \u001b[38;5;28;01mfrom\u001b[39;00m \u001b[38;5;28mNone\u001b[39m\n\u001b[1;32m    197\u001b[0m \u001b[38;5;28;01melse\u001b[39;00m:\n\u001b[1;32m    198\u001b[0m     \u001b[38;5;28;01mraise\u001b[39;00m\n",
      "\u001b[0;31mAnalysisException\u001b[0m: Path does not exist: file:/home/sanityseeker/Documents/Projects/lspy-2023/data/raw/yellow/2021/09"
     ]
    }
   ],
   "source": [
    "save_to_parquet(2021, 'yellow', yellow_schema)"
   ]
  },
  {
   "cell_type": "markdown",
   "id": "7ae2542a",
   "metadata": {},
   "source": [
    "Read new data"
   ]
  },
  {
   "cell_type": "code",
   "execution_count": 14,
   "id": "0885c4a1",
   "metadata": {
    "ExecuteTime": {
     "end_time": "2023-03-10T10:21:27.305692Z",
     "start_time": "2023-03-10T10:21:27.195352Z"
    }
   },
   "outputs": [
    {
     "name": "stdout",
     "output_type": "stream",
     "text": [
      "crime-punishment.txt  digits  pq  raw  report  word2def.txt  words.txt\r\n"
     ]
    }
   ],
   "source": [
    "! ls data"
   ]
  },
  {
   "cell_type": "code",
   "execution_count": 15,
   "id": "79055825",
   "metadata": {
    "ExecuteTime": {
     "end_time": "2023-03-10T10:21:58.414005Z",
     "start_time": "2023-03-10T10:21:58.325912Z"
    }
   },
   "outputs": [],
   "source": [
    "df_green = spark.read.parquet('data/pq/green/*/*')"
   ]
  },
  {
   "cell_type": "code",
   "execution_count": 16,
   "id": "63996afe",
   "metadata": {
    "ExecuteTime": {
     "end_time": "2023-03-10T10:22:32.365054Z",
     "start_time": "2023-03-10T10:22:32.323015Z"
    }
   },
   "outputs": [],
   "source": [
    "df_yellow = spark.read.parquet('data/pq/yellow/*/*')"
   ]
  },
  {
   "cell_type": "code",
   "execution_count": 21,
   "id": "55b7d0cc",
   "metadata": {
    "ExecuteTime": {
     "end_time": "2023-03-10T10:23:05.553484Z",
     "start_time": "2023-03-10T10:23:05.501812Z"
    }
   },
   "outputs": [
    {
     "data": {
      "text/plain": [
       "Row(VendorID=1, tpep_pickup_datetime=datetime.datetime(2020, 1, 16, 10, 6, 42), tpep_dropoff_datetime=datetime.datetime(2020, 1, 16, 10, 36, 24), passenger_count=1, trip_distance=5.0, RatecodeID=1, store_and_fwd_flag='N', PULocationID=162, DOLocationID=13, payment_type=1, fare_amount=22.0, extra=2.5, mta_tax=0.5, tip_amount=5.05, tolls_amount=0.0, improvement_surcharge=0.3, total_amount=30.35, congestion_surcharge=2.5)"
      ]
     },
     "execution_count": 21,
     "metadata": {},
     "output_type": "execute_result"
    }
   ],
   "source": [
    "df_yellow.take(1)[0]"
   ]
  },
  {
   "cell_type": "code",
   "execution_count": 22,
   "id": "4e15db8b",
   "metadata": {
    "ExecuteTime": {
     "end_time": "2023-03-10T10:23:48.449888Z",
     "start_time": "2023-03-10T10:23:48.305290Z"
    }
   },
   "outputs": [
    {
     "name": "stdout",
     "output_type": "stream",
     "text": [
      "+--------+--------------------+---------------------+------------------+----------+------------+------------+---------------+-------------+-----------+-----+-------+----------+------------+---------+---------------------+------------+------------+---------+--------------------+\n",
      "|VendorID|lpep_pickup_datetime|lpep_dropoff_datetime|store_and_fwd_flag|RatecodeID|PULocationID|DOLocationID|passenger_count|trip_distance|fare_amount|extra|mta_tax|tip_amount|tolls_amount|ehail_fee|improvement_surcharge|total_amount|payment_type|trip_type|congestion_surcharge|\n",
      "+--------+--------------------+---------------------+------------------+----------+------------+------------+---------------+-------------+-----------+-----+-------+----------+------------+---------+---------------------+------------+------------+---------+--------------------+\n",
      "|       1| 2020-01-31 15:00:30|  2020-01-31 15:06:05|                 N|         1|         196|          95|              1|          1.2|        6.0|  0.0|    0.5|       0.0|         0.0|     null|                  0.3|         6.8|           2|        1|                 0.0|\n",
      "|       2| 2020-01-17 07:52:53|  2020-01-17 08:15:01|                 N|         1|          52|         229|              5|         7.87|       23.5|  0.0|    0.5|       3.0|         0.0|     null|                  0.3|       30.05|           1|        1|                2.75|\n",
      "|       2| 2020-01-31 02:19:05|  2020-01-31 02:33:10|                 N|         1|          82|         197|              1|         4.48|       15.5|  0.5|    0.5|       0.0|         0.0|     null|                  0.3|        16.8|           2|        1|                 0.0|\n",
      "|       2| 2020-01-21 00:19:28|  2020-01-21 00:38:57|                 N|         1|           7|         173|              2|         5.35|       20.0|  0.5|    0.5|       0.0|         0.0|     null|                  0.3|        21.3|           2|        1|                 0.0|\n",
      "|       2| 2020-01-24 19:02:40|  2020-01-24 22:58:30|                 N|         5|         191|         134|              2|          0.0|        9.5|  0.0|    0.0|      2.45|         0.0|     null|                  0.3|       12.25|           1|        2|                 0.0|\n",
      "|       2| 2020-01-14 13:11:28|  2020-01-14 13:25:25|                 N|         1|         166|         247|              1|         2.36|       11.5|  0.0|    0.5|       0.0|         0.0|     null|                  0.3|        12.3|           2|        1|                 0.0|\n",
      "|       2| 2020-01-29 21:37:20|  2020-01-29 21:45:29|                 N|         1|         181|          52|              1|          1.6|        8.0|  0.5|    0.5|       0.0|         0.0|     null|                  0.3|         9.3|           2|        1|                 0.0|\n",
      "|       2| 2020-01-22 14:54:23|  2020-01-22 15:30:14|                 N|         1|         166|         140|              1|         3.96|       23.5|  0.0|    0.5|      5.41|         0.0|     null|                  0.3|       32.46|           1|        1|                2.75|\n",
      "|       2| 2020-01-29 21:34:01|  2020-01-29 21:58:27|                 N|         1|          25|          14|              1|         5.51|       20.5|  0.5|    0.5|       0.0|         0.0|     null|                  0.3|        21.8|           2|        1|                 0.0|\n",
      "|       2| 2020-01-14 15:54:16|  2020-01-14 16:38:10|                 N|         1|         244|         229|              1|         9.24|       32.5|  0.0|    0.5|       0.0|         0.0|     null|                  0.3|       36.05|           2|        1|                2.75|\n",
      "|    null| 2020-01-08 12:46:00|  2020-01-08 13:26:00|              null|      null|          70|         224|           null|         8.65|      22.69|  0.0|    0.5|       0.0|        6.12|     null|                  0.3|       29.61|        null|     null|                null|\n",
      "|       2| 2020-01-06 17:02:10|  2020-01-06 17:22:55|                 N|         1|         260|         260|              5|         1.91|       13.5|  1.0|    0.5|       0.0|         0.0|     null|                  0.3|        15.3|           2|        1|                 0.0|\n",
      "|    null| 2020-01-08 09:04:00|  2020-01-08 09:27:00|              null|      null|         131|          92|           null|         7.85|      22.82|  0.0|    0.0|       0.0|         0.0|     null|                  0.3|       23.12|        null|     null|                null|\n",
      "|    null| 2020-01-19 15:55:00|  2020-01-19 16:13:00|              null|      null|         222|          71|           null|         3.38|      21.95| 2.75|    0.5|       0.0|         0.0|     null|                  0.3|        25.5|        null|     null|                null|\n",
      "|       2| 2020-01-23 12:17:31|  2020-01-23 12:25:36|                 N|         1|          41|         166|              1|         1.45|        7.5|  0.0|    0.5|      1.66|         0.0|     null|                  0.3|        9.96|           1|        1|                 0.0|\n",
      "|       2| 2020-01-18 18:36:46|  2020-01-18 18:42:27|                 N|         1|          41|          42|              1|         0.98|        5.5|  0.0|    0.5|       0.0|         0.0|     null|                  0.3|         6.3|           2|        1|                 0.0|\n",
      "|       2| 2020-01-03 14:34:18|  2020-01-03 14:35:40|                 N|         1|         244|         244|              1|         0.25|        3.0|  0.0|    0.5|       0.0|         0.0|     null|                  0.3|         3.8|           2|        1|                 0.0|\n",
      "|       2| 2020-01-16 20:26:02|  2020-01-16 20:34:34|                 N|         1|          75|          75|              1|         0.77|        7.0|  0.5|    0.5|       0.0|         0.0|     null|                  0.3|         8.3|           2|        1|                 0.0|\n",
      "|       2| 2020-01-26 10:00:04|  2020-01-26 10:12:51|                 N|         1|          42|         238|              1|         2.33|       10.5|  0.0|    0.5|       0.0|         0.0|     null|                  0.3|       14.05|           2|        1|                2.75|\n",
      "|       1| 2020-01-21 00:03:19|  2020-01-21 00:07:31|                 N|         1|          75|          74|              1|          0.8|        5.0|  0.5|    0.5|      1.25|         0.0|     null|                  0.3|        7.55|           1|        1|                 0.0|\n",
      "+--------+--------------------+---------------------+------------------+----------+------------+------------+---------------+-------------+-----------+-----+-------+----------+------------+---------+---------------------+------------+------------+---------+--------------------+\n",
      "only showing top 20 rows\n",
      "\n"
     ]
    }
   ],
   "source": [
    "df_green.show()"
   ]
  },
  {
   "cell_type": "code",
   "execution_count": 23,
   "id": "1fb6cdd7",
   "metadata": {
    "ExecuteTime": {
     "end_time": "2023-03-10T10:24:40.226237Z",
     "start_time": "2023-03-10T10:24:40.223830Z"
    }
   },
   "outputs": [
    {
     "data": {
      "text/plain": [
       "['VendorID',\n",
       " 'tpep_pickup_datetime',\n",
       " 'tpep_dropoff_datetime',\n",
       " 'passenger_count',\n",
       " 'trip_distance',\n",
       " 'RatecodeID',\n",
       " 'store_and_fwd_flag',\n",
       " 'PULocationID',\n",
       " 'DOLocationID',\n",
       " 'payment_type',\n",
       " 'fare_amount',\n",
       " 'extra',\n",
       " 'mta_tax',\n",
       " 'tip_amount',\n",
       " 'tolls_amount',\n",
       " 'improvement_surcharge',\n",
       " 'total_amount',\n",
       " 'congestion_surcharge']"
      ]
     },
     "execution_count": 23,
     "metadata": {},
     "output_type": "execute_result"
    }
   ],
   "source": [
    "df_yellow.columns"
   ]
  },
  {
   "cell_type": "code",
   "execution_count": 24,
   "id": "e14763fd",
   "metadata": {
    "ExecuteTime": {
     "end_time": "2023-03-10T10:24:50.363412Z",
     "start_time": "2023-03-10T10:24:50.360879Z"
    }
   },
   "outputs": [
    {
     "data": {
      "text/plain": [
       "['VendorID',\n",
       " 'lpep_pickup_datetime',\n",
       " 'lpep_dropoff_datetime',\n",
       " 'store_and_fwd_flag',\n",
       " 'RatecodeID',\n",
       " 'PULocationID',\n",
       " 'DOLocationID',\n",
       " 'passenger_count',\n",
       " 'trip_distance',\n",
       " 'fare_amount',\n",
       " 'extra',\n",
       " 'mta_tax',\n",
       " 'tip_amount',\n",
       " 'tolls_amount',\n",
       " 'ehail_fee',\n",
       " 'improvement_surcharge',\n",
       " 'total_amount',\n",
       " 'payment_type',\n",
       " 'trip_type',\n",
       " 'congestion_surcharge']"
      ]
     },
     "execution_count": 24,
     "metadata": {},
     "output_type": "execute_result"
    }
   ],
   "source": [
    "df_green.columns"
   ]
  },
  {
   "cell_type": "code",
   "execution_count": 26,
   "id": "9b34b505",
   "metadata": {
    "ExecuteTime": {
     "end_time": "2023-03-10T10:27:35.031001Z",
     "start_time": "2023-03-10T10:27:35.020374Z"
    }
   },
   "outputs": [],
   "source": [
    "df_green = df_green \\\n",
    "        .withColumnRenamed('lpep_pickup_datetime', 'pickup_datetime') \\\n",
    "        .withColumnRenamed('lpep_dropoff_datetime', 'dropoff_datetime')\n",
    "    \n",
    "df_yellow = df_yellow \\\n",
    "        .withColumnRenamed('tpep_pickup_datetime', 'pickup_datetime') \\\n",
    "        .withColumnRenamed('tpep_dropoff_datetime', 'dropoff_datetime')"
   ]
  },
  {
   "cell_type": "code",
   "execution_count": 28,
   "id": "b6f8448f",
   "metadata": {
    "ExecuteTime": {
     "end_time": "2023-03-10T10:28:11.272197Z",
     "start_time": "2023-03-10T10:28:11.269473Z"
    }
   },
   "outputs": [
    {
     "data": {
      "text/plain": [
       "{'DOLocationID',\n",
       " 'PULocationID',\n",
       " 'RatecodeID',\n",
       " 'VendorID',\n",
       " 'congestion_surcharge',\n",
       " 'dropoff_datetime',\n",
       " 'extra',\n",
       " 'fare_amount',\n",
       " 'improvement_surcharge',\n",
       " 'mta_tax',\n",
       " 'passenger_count',\n",
       " 'payment_type',\n",
       " 'pickup_datetime',\n",
       " 'store_and_fwd_flag',\n",
       " 'tip_amount',\n",
       " 'tolls_amount',\n",
       " 'total_amount',\n",
       " 'trip_distance'}"
      ]
     },
     "execution_count": 28,
     "metadata": {},
     "output_type": "execute_result"
    }
   ],
   "source": [
    "set(df_green.columns) & set(df_yellow.columns)"
   ]
  },
  {
   "cell_type": "code",
   "execution_count": 29,
   "id": "5872a56f",
   "metadata": {
    "ExecuteTime": {
     "end_time": "2023-03-10T10:29:15.591707Z",
     "start_time": "2023-03-10T10:29:15.589864Z"
    }
   },
   "outputs": [],
   "source": [
    "common_columns = []\n",
    "\n",
    "yel_cols = set(df_yellow.columns)\n",
    "for column in df_green.columns:\n",
    "    if column in yel_cols:\n",
    "        common_columns.append(column)"
   ]
  },
  {
   "cell_type": "code",
   "execution_count": 30,
   "id": "ad158d29",
   "metadata": {
    "ExecuteTime": {
     "end_time": "2023-03-10T10:29:18.753056Z",
     "start_time": "2023-03-10T10:29:18.750724Z"
    }
   },
   "outputs": [
    {
     "data": {
      "text/plain": [
       "['VendorID',\n",
       " 'pickup_datetime',\n",
       " 'dropoff_datetime',\n",
       " 'store_and_fwd_flag',\n",
       " 'RatecodeID',\n",
       " 'PULocationID',\n",
       " 'DOLocationID',\n",
       " 'passenger_count',\n",
       " 'trip_distance',\n",
       " 'fare_amount',\n",
       " 'extra',\n",
       " 'mta_tax',\n",
       " 'tip_amount',\n",
       " 'tolls_amount',\n",
       " 'improvement_surcharge',\n",
       " 'total_amount',\n",
       " 'payment_type',\n",
       " 'congestion_surcharge']"
      ]
     },
     "execution_count": 30,
     "metadata": {},
     "output_type": "execute_result"
    }
   ],
   "source": [
    "common_columns"
   ]
  },
  {
   "cell_type": "code",
   "execution_count": 33,
   "id": "d8864990",
   "metadata": {
    "ExecuteTime": {
     "end_time": "2023-03-10T10:32:07.946890Z",
     "start_time": "2023-03-10T10:32:07.915882Z"
    }
   },
   "outputs": [],
   "source": [
    "df_green_select = df_green.select(common_columns).withColumn('service_type', functions.lit('green'))\n",
    "df_yellow_select = df_yellow.select(common_columns).withColumn('service_type', functions.lit('yellow'))"
   ]
  },
  {
   "cell_type": "code",
   "execution_count": 35,
   "id": "76d793f1",
   "metadata": {
    "ExecuteTime": {
     "end_time": "2023-03-10T10:34:30.571279Z",
     "start_time": "2023-03-10T10:34:30.560121Z"
    }
   },
   "outputs": [],
   "source": [
    "df_united_taxi_data = df_yellow_select.unionAll(df_green_select)"
   ]
  },
  {
   "cell_type": "code",
   "execution_count": 38,
   "id": "138b97d3",
   "metadata": {
    "ExecuteTime": {
     "end_time": "2023-03-10T10:36:46.563208Z",
     "start_time": "2023-03-10T10:36:46.548326Z"
    }
   },
   "outputs": [
    {
     "name": "stderr",
     "output_type": "stream",
     "text": [
      "/home/sanityseeker/anaconda3/envs/ml-env/lib/python3.8/site-packages/pyspark/sql/dataframe.py:229: FutureWarning: Deprecated in 2.0, use createOrReplaceTempView instead.\n",
      "  warnings.warn(\"Deprecated in 2.0, use createOrReplaceTempView instead.\", FutureWarning)\n"
     ]
    }
   ],
   "source": [
    "df_united_taxi_data.registerTempTable('united_taxi_data')"
   ]
  },
  {
   "cell_type": "code",
   "execution_count": 37,
   "id": "13110ede",
   "metadata": {
    "ExecuteTime": {
     "end_time": "2023-03-10T10:35:49.215712Z",
     "start_time": "2023-03-10T10:35:48.077572Z"
    }
   },
   "outputs": [
    {
     "name": "stderr",
     "output_type": "stream",
     "text": [
      "\r",
      "[Stage 128:================>                                     (11 + 16) / 37]\r",
      "\r",
      "[Stage 128:=================================================>     (33 + 4) / 37]\r"
     ]
    },
    {
     "name": "stdout",
     "output_type": "stream",
     "text": [
      "+------------+--------+\n",
      "|service_type|   count|\n",
      "+------------+--------+\n",
      "|      yellow|39649199|\n",
      "|       green| 2304517|\n",
      "+------------+--------+\n",
      "\n"
     ]
    },
    {
     "name": "stderr",
     "output_type": "stream",
     "text": [
      "\r",
      "                                                                                \r"
     ]
    }
   ],
   "source": [
    "df_united_taxi_data.groupBy('service_type').count().show()"
   ]
  },
  {
   "cell_type": "code",
   "execution_count": 39,
   "id": "3bed18e2",
   "metadata": {
    "ExecuteTime": {
     "end_time": "2023-03-10T10:37:39.813705Z",
     "start_time": "2023-03-10T10:37:38.989840Z"
    }
   },
   "outputs": [
    {
     "name": "stdout",
     "output_type": "stream",
     "text": [
      "+------------+--------+\n",
      "|service_type|count(1)|\n",
      "+------------+--------+\n",
      "|      yellow|39649199|\n",
      "|       green| 2304517|\n",
      "+------------+--------+\n",
      "\n"
     ]
    },
    {
     "name": "stderr",
     "output_type": "stream",
     "text": [
      "\r",
      "[Stage 131:=================================================>     (33 + 4) / 37]\r",
      "\r",
      "                                                                                \r"
     ]
    }
   ],
   "source": [
    "spark.sql(\n",
    "\"\"\"\n",
    "select service_type, count(1)\n",
    "from united_taxi_data\n",
    "group by 1\n",
    "\"\"\"\n",
    ").show()"
   ]
  },
  {
   "cell_type": "code",
   "execution_count": 42,
   "id": "8d7106eb",
   "metadata": {
    "ExecuteTime": {
     "end_time": "2023-03-10T10:44:27.669123Z",
     "start_time": "2023-03-10T10:44:27.660548Z"
    }
   },
   "outputs": [],
   "source": [
    "df_revenue = spark.sql(\n",
    "\"\"\"\n",
    "select PULocationID as zone\n",
    ", date_trunc('month', pickup_datetime) as month\n",
    ", service_type\n",
    ", sum(tip_amount) as monthly_tips\n",
    ", sum(total_amount) as monthly_total\n",
    ", avg(trip_distance) as avg_monthly_distance\n",
    "from united_taxi_data\n",
    "group by 1, 2, 3\n",
    "\"\"\"\n",
    ")"
   ]
  },
  {
   "cell_type": "code",
   "execution_count": 43,
   "id": "8091f49e",
   "metadata": {
    "ExecuteTime": {
     "end_time": "2023-03-10T10:46:13.141588Z",
     "start_time": "2023-03-10T10:46:10.573400Z"
    }
   },
   "outputs": [
    {
     "name": "stderr",
     "output_type": "stream",
     "text": [
      "                                                                                \r"
     ]
    }
   ],
   "source": [
    "df_revenue.coalesce(1).write.parquet('data/result/revenue/', mode='overwrite')"
   ]
  },
  {
   "cell_type": "code",
   "execution_count": 44,
   "id": "a54dc23e",
   "metadata": {
    "ExecuteTime": {
     "end_time": "2023-03-10T10:47:23.823086Z",
     "start_time": "2023-03-10T10:47:23.789941Z"
    }
   },
   "outputs": [],
   "source": [
    "df_revenue_recovered = spark.read.parquet('data/result/*')"
   ]
  },
  {
   "cell_type": "code",
   "execution_count": 49,
   "id": "544d6999",
   "metadata": {
    "ExecuteTime": {
     "end_time": "2023-03-10T10:51:10.716303Z",
     "start_time": "2023-03-10T10:51:10.711227Z"
    }
   },
   "outputs": [
    {
     "name": "stderr",
     "output_type": "stream",
     "text": [
      "/home/sanityseeker/anaconda3/envs/ml-env/lib/python3.8/site-packages/pyspark/sql/dataframe.py:229: FutureWarning: Deprecated in 2.0, use createOrReplaceTempView instead.\n",
      "  warnings.warn(\"Deprecated in 2.0, use createOrReplaceTempView instead.\", FutureWarning)\n"
     ]
    }
   ],
   "source": [
    "df_revenue_recovered.registerTempTable('revenue')"
   ]
  },
  {
   "cell_type": "code",
   "execution_count": 51,
   "id": "91cfb9f4",
   "metadata": {
    "ExecuteTime": {
     "end_time": "2023-03-10T10:52:04.867539Z",
     "start_time": "2023-03-10T10:52:04.779564Z"
    }
   },
   "outputs": [
    {
     "name": "stdout",
     "output_type": "stream",
     "text": [
      "+----+-------------------+------------+------------------+------------------+--------------------+\n",
      "|zone|              month|service_type|      monthly_tips|     monthly_total|avg_monthly_distance|\n",
      "+----+-------------------+------------+------------------+------------------+--------------------+\n",
      "| 193|2041-08-01 00:00:00|       green|               0.0|               0.0|                 0.0|\n",
      "| 231|2029-05-01 00:00:00|      yellow|              2.16|             12.96|                1.69|\n",
      "| 107|2021-12-01 00:00:00|      yellow|              2.45|             12.25|                0.78|\n",
      "| 233|2021-12-01 00:00:00|      yellow|              2.06|             12.36|                1.23|\n",
      "| 163|2021-12-01 00:00:00|      yellow|             13.82|             69.12|                 7.8|\n",
      "| 234|2021-12-01 00:00:00|      yellow|               0.0|              11.3|                1.62|\n",
      "|  79|2021-12-01 00:00:00|      yellow|              3.08|             15.38|                1.77|\n",
      "|  41|2021-11-01 00:00:00|      yellow|               0.0|               8.3|                1.29|\n",
      "|  75|2021-11-01 00:00:00|      yellow|               2.0|              20.3|                2.98|\n",
      "| 164|2021-11-01 00:00:00|      yellow|               0.0|              12.3|                2.06|\n",
      "| 249|2021-11-01 00:00:00|      yellow|              2.06|             12.36|                1.52|\n",
      "| 231|2021-11-01 00:00:00|      yellow|              2.76|             16.56|                 2.2|\n",
      "| 262|2021-10-01 00:00:00|      yellow|               5.7|              32.0|                6.23|\n",
      "| 170|2021-10-01 00:00:00|      yellow|               0.0|              10.3|                1.05|\n",
      "| 229|2021-10-01 00:00:00|      yellow|               1.0|              11.3|                1.36|\n",
      "| 230|2021-09-01 00:00:00|      yellow|               0.0|              22.6|                1.17|\n",
      "| 137|2021-09-01 00:00:00|      yellow|               1.5|              12.3|                1.65|\n",
      "|  48|2021-08-01 00:00:00|      yellow|               2.5|              21.8|                3.66|\n",
      "| 233|2021-08-01 00:00:00|      yellow|               1.0|              15.8|                2.22|\n",
      "|  90|2021-08-01 00:00:00|      yellow|              2.76|             16.56|                2.16|\n",
      "|  74|2021-08-01 00:00:00|      yellow|               0.0|               7.8|                1.64|\n",
      "|  68|2021-08-01 00:00:00|      yellow|              8.29|             65.19|                3.16|\n",
      "| 163|2021-08-01 00:00:00|      yellow|               0.0|              20.3|                4.28|\n",
      "| 264|2021-08-01 00:00:00|      yellow|             13.16|             78.96|                0.31|\n",
      "| 225|2021-08-01 00:00:00|      yellow|               0.0|              11.3|                2.17|\n",
      "| 161|2021-08-01 00:00:00|      yellow|              3.32|             37.22|  1.3233333333333335|\n",
      "| 263|2021-08-01 00:00:00|      yellow|               5.2|              26.0|                4.18|\n",
      "| 113|2021-08-01 00:00:00|      yellow|              2.46|             14.76|                2.17|\n",
      "| 237|2021-08-01 00:00:00|      yellow|               0.0|               5.8|                 0.0|\n",
      "| 142|2021-08-01 00:00:00|      yellow|               0.0|              34.6|  2.9650000000000003|\n",
      "| 100|2021-08-01 00:00:00|      yellow|              2.37|             18.17|                 2.8|\n",
      "| 234|2021-08-01 00:00:00|      yellow|               1.0|              15.3|                2.09|\n",
      "| 107|2021-08-01 00:00:00|      yellow|               0.0|              12.3|                1.83|\n",
      "|  79|2021-08-01 00:00:00|      yellow|              2.86|             17.16|                2.98|\n",
      "|  74|2021-08-01 00:00:00|       green|              4.86|             43.46|               4.475|\n",
      "| 132|2021-08-01 00:00:00|      yellow|               0.0|              71.6|               24.04|\n",
      "| 186|2021-08-01 00:00:00|      yellow|              2.66|             15.96|                1.01|\n",
      "| 141|2021-08-01 00:00:00|      yellow|              2.06|             12.36|                1.23|\n",
      "| 137|2021-08-01 00:00:00|      yellow| 5.779999999999999|             41.68|   2.033333333333333|\n",
      "| 138|2021-08-01 00:00:00|      yellow| 52.99999999999999|             324.1|  10.030000000000001|\n",
      "|  25|2021-08-01 00:00:00|      yellow|               0.0|              13.3|                 2.4|\n",
      "|  79|2021-07-01 00:00:00|      yellow|181706.38000000388|1396897.3099999835|   4.970368692174295|\n",
      "|  32|2021-07-01 00:00:00|      yellow|             56.86| 5367.879999999997|  1101.3259848484843|\n",
      "| 254|2021-07-01 00:00:00|      yellow|             73.55|12766.720000000003|  10.157365079365077|\n",
      "| 260|2021-07-01 00:00:00|      yellow|1613.4199999999998| 20313.79000000002|  398.14525030525033|\n",
      "| 229|2021-07-01 00:00:00|      yellow|126648.81000000138|1005299.0199998252|   2.806386959180788|\n",
      "| 241|2021-07-01 00:00:00|      yellow|            137.12|           7403.91|   6.644742268041237|\n",
      "| 181|2021-07-01 00:00:00|      yellow|3697.4500000000007| 35504.00999999995|   5.289929411764706|\n",
      "|  63|2021-07-01 00:00:00|      yellow|             67.34|            6454.2|   9.281168831168833|\n",
      "| 124|2021-07-01 00:00:00|      yellow|            148.37|5163.0199999999995|  10.535555555555556|\n",
      "| 129|2021-07-01 00:00:00|      yellow|1494.4100000000003| 25494.02999999998|   5.069651531151003|\n",
      "| 173|2021-07-01 00:00:00|      yellow|             86.15|3880.2099999999996|   6.472347826086957|\n",
      "| 163|2021-07-01 00:00:00|      yellow|154891.93000000255| 1240196.669999908|   2.445552147653723|\n",
      "| 123|2021-07-01 00:00:00|      yellow|              61.7| 5674.840000000001|   7.098933333333333|\n",
      "| 122|2021-07-01 00:00:00|      yellow|             13.17|           4526.67|   8.170550458715597|\n",
      "|  20|2021-07-01 00:00:00|      yellow|173.96000000000004|            5627.2|  5.9761988304093565|\n",
      "|   2|2021-07-01 00:00:00|      yellow|             15.46|            156.41|               13.99|\n",
      "|   8|2021-07-01 00:00:00|      yellow|             170.8|           1440.72|   4.829090909090908|\n",
      "| 192|2021-07-01 00:00:00|      yellow|             40.94|           2692.46|   7.497307692307692|\n",
      "| 105|2021-07-01 00:00:00|      yellow|              2.48|             52.08|                6.01|\n",
      "|  93|2021-07-01 00:00:00|      yellow|           2122.42|17363.010000000006|   9.058528428093643|\n",
      "| 151|2021-07-01 00:00:00|      yellow|57698.380000000165|477274.96999998845|   2.694059624199597|\n",
      "|  50|2021-07-01 00:00:00|      yellow|46472.219999999994| 392273.3399999963|  16.184314729936176|\n",
      "| 224|2021-07-01 00:00:00|      yellow|          10018.02| 81647.65999999967|      2.816461573135|\n",
      "|  97|2021-07-01 00:00:00|      yellow|3345.6399999999994| 38272.55999999988|   4.701857142857144|\n",
      "|  60|2021-07-01 00:00:00|      yellow|              40.3| 3794.189999999999|               6.014|\n",
      "| 188|2021-07-01 00:00:00|      yellow| 750.4499999999998| 23845.18999999999|   6.869590043923864|\n",
      "| 234|2021-07-01 00:00:00|      yellow|162918.89000000202| 1267206.189999929|   3.548260109544362|\n",
      "| 248|2021-07-01 00:00:00|      yellow|             64.11|10344.670000000002|    9.92596566523605|\n",
      "| 171|2021-07-01 00:00:00|      yellow|             28.79|            5946.5|   7.649554140127387|\n",
      "|   4|2021-07-01 00:00:00|      yellow|           9347.95| 83006.26999999979|   31.73722567287783|\n",
      "| 235|2021-07-01 00:00:00|      yellow|            157.26|13059.470000000007|  320.50574229691875|\n",
      "| 193|2021-07-01 00:00:00|      yellow| 893.1299999999997|20226.930000000037|  39.696165680473385|\n",
      "| 141|2021-07-01 00:00:00|      yellow| 156998.5900000032|1251621.3299998974|  3.9230063526945007|\n",
      "| 247|2021-07-01 00:00:00|      yellow|            619.43|15911.110000000028|   469.5072041166384|\n",
      "| 156|2021-07-01 00:00:00|      yellow|             33.81|             599.2|  12.481428571428571|\n",
      "| 158|2021-07-01 00:00:00|      yellow| 49908.87999999984|  376970.009999999|  2.8019269502480086|\n",
      "|  70|2021-07-01 00:00:00|      yellow|34737.919999999955| 284577.1500000034|   9.602954850245863|\n",
      "| 127|2021-07-01 00:00:00|      yellow|            755.21|11297.620000000015|   6.146371191135734|\n",
      "| 182|2021-07-01 00:00:00|      yellow|             69.42|10300.180000000002|   6.613673469387754|\n",
      "| 209|2021-07-01 00:00:00|      yellow|14027.690000000031| 119358.0100000004|   4.059340213785478|\n",
      "| 246|2021-07-01 00:00:00|      yellow| 82168.96000000049| 666164.2799999411|   6.530527879103685|\n",
      "| 190|2021-07-01 00:00:00|      yellow|195.26999999999998|2416.0299999999993|    5.36159090909091|\n",
      "| 149|2021-07-01 00:00:00|      yellow| 67.08000000000001|           8552.37|  239.42790575916231|\n",
      "|  83|2021-07-01 00:00:00|      yellow|            264.69| 5249.670000000001|  373.75712041884816|\n",
      "| 236|2021-07-01 00:00:00|      yellow|219356.94000000396|1718193.0800001114|  2.7507340873200614|\n",
      "|  27|2021-07-01 00:00:00|      yellow|              8.73|159.30999999999997|               7.465|\n",
      "| 218|2021-07-01 00:00:00|      yellow|126.47999999999999|14464.370000000008|  203.86705882352948|\n",
      "| 220|2021-07-01 00:00:00|      yellow|242.72000000000003| 9333.770000000002|    404.423568627451|\n",
      "| 216|2021-07-01 00:00:00|      yellow|1679.7399999999998|28518.290000000008|   396.7509717314487|\n",
      "| 159|2021-07-01 00:00:00|      yellow|             111.0| 11010.32000000001|   5.305646766169154|\n",
      "|  51|2021-07-01 00:00:00|      yellow| 58.60000000000001|17204.050000000007|  11.795748663101605|\n",
      "| 262|2021-07-01 00:00:00|      yellow|  81260.4200000004| 636446.9499999518|   2.750634972857375|\n",
      "|  76|2021-07-01 00:00:00|      yellow|            255.95|35269.859999999986|  292.67302832243996|\n",
      "| 143|2021-07-01 00:00:00|      yellow| 69763.43000000024| 561488.8999999732|    8.67811935866983|\n",
      "|  73|2021-07-01 00:00:00|      yellow|             36.33|            1373.5|   6.083333333333333|\n",
      "| 106|2021-07-01 00:00:00|      yellow|            571.34|            6773.5|   5.561478260869564|\n",
      "|  16|2021-07-01 00:00:00|      yellow|              56.3|           6456.12|   528.0301923076925|\n",
      "| 201|2021-07-01 00:00:00|      yellow| 90.41999999999999|           3462.75|   566.3424242424242|\n",
      "| 245|2021-07-01 00:00:00|      yellow|               0.0|             124.6|                8.15|\n",
      "+----+-------------------+------------+------------------+------------------+--------------------+\n",
      "only showing top 100 rows\n",
      "\n"
     ]
    }
   ],
   "source": [
    "spark.sql(\n",
    "\"\"\"\n",
    "select * from revenue\n",
    "order by month desc\n",
    "\"\"\"\n",
    ").show(100)"
   ]
  },
  {
   "cell_type": "code",
   "execution_count": 53,
   "id": "5c4963a4",
   "metadata": {
    "ExecuteTime": {
     "end_time": "2023-03-10T10:54:59.788409Z",
     "start_time": "2023-03-10T10:54:59.783319Z"
    }
   },
   "outputs": [
    {
     "name": "stderr",
     "output_type": "stream",
     "text": [
      "/home/sanityseeker/anaconda3/envs/ml-env/lib/python3.8/site-packages/pyspark/sql/dataframe.py:229: FutureWarning: Deprecated in 2.0, use createOrReplaceTempView instead.\n",
      "  warnings.warn(\"Deprecated in 2.0, use createOrReplaceTempView instead.\", FutureWarning)\n"
     ]
    }
   ],
   "source": [
    "df_green.registerTempTable('green')"
   ]
  },
  {
   "cell_type": "code",
   "execution_count": 54,
   "id": "c6ef7ddf",
   "metadata": {
    "ExecuteTime": {
     "end_time": "2023-03-10T10:55:00.511125Z",
     "start_time": "2023-03-10T10:55:00.500077Z"
    }
   },
   "outputs": [],
   "source": [
    "df_green_revenue = spark.sql(\"\"\"\n",
    "SELECT \n",
    "    date_trunc('hour', pickup_datetime) AS hour,\n",
    "    PULocationID AS zone,\n",
    "    SUM(total_amount) AS amount,\n",
    "    COUNT(1) AS number_records\n",
    "FROM\n",
    "    green\n",
    "WHERE\n",
    "    pickup_datetime >= '2020-01-01 00:00:00' and pickup_datetime <= '2022-01-01 00:00:00'\n",
    "GROUP BY\n",
    "    1, 2\n",
    "\"\"\")"
   ]
  },
  {
   "cell_type": "code",
   "execution_count": 55,
   "id": "4a357653",
   "metadata": {
    "ExecuteTime": {
     "end_time": "2023-03-10T10:55:12.383218Z",
     "start_time": "2023-03-10T10:55:12.378377Z"
    }
   },
   "outputs": [],
   "source": [
    "df_yellow.registerTempTable('yellow')"
   ]
  },
  {
   "cell_type": "code",
   "execution_count": 56,
   "id": "e7da0398",
   "metadata": {
    "ExecuteTime": {
     "end_time": "2023-03-10T10:55:23.241436Z",
     "start_time": "2023-03-10T10:55:23.233092Z"
    }
   },
   "outputs": [],
   "source": [
    "df_yellow_revenue = spark.sql(\"\"\"\n",
    "SELECT \n",
    "    date_trunc('hour', pickup_datetime) AS hour,\n",
    "    PULocationID AS zone,\n",
    "    SUM(total_amount) AS amount,\n",
    "    COUNT(1) AS number_records\n",
    "FROM\n",
    "    yellow\n",
    "WHERE\n",
    "    pickup_datetime >= '2020-01-01 00:00:00' and pickup_datetime <= '2022-01-01 00:00:00'\n",
    "GROUP BY\n",
    "    1, 2\n",
    "\"\"\")"
   ]
  },
  {
   "cell_type": "code",
   "execution_count": 58,
   "id": "4bddd63a",
   "metadata": {
    "ExecuteTime": {
     "end_time": "2023-03-10T10:56:52.900989Z",
     "start_time": "2023-03-10T10:56:49.352631Z"
    }
   },
   "outputs": [
    {
     "name": "stderr",
     "output_type": "stream",
     "text": [
      "                                                                                \r"
     ]
    }
   ],
   "source": [
    "df_yellow_revenue.repartition(4).write.parquet('data/result/revenue/yellow', mode='overwrite')"
   ]
  },
  {
   "cell_type": "code",
   "execution_count": 59,
   "id": "f8c00806",
   "metadata": {
    "ExecuteTime": {
     "end_time": "2023-03-10T10:57:50.378077Z",
     "start_time": "2023-03-10T10:57:47.413938Z"
    }
   },
   "outputs": [
    {
     "name": "stderr",
     "output_type": "stream",
     "text": [
      "[Stage 155:=================================================>     (19 + 2) / 21]\r"
     ]
    },
    {
     "name": "stdout",
     "output_type": "stream",
     "text": [
      "+-------------------+----+------------------+--------------+\n",
      "|               hour|zone|            amount|number_records|\n",
      "+-------------------+----+------------------+--------------+\n",
      "|2020-01-16 07:00:00|  74|1009.9200000000001|            62|\n",
      "|2020-01-13 09:00:00| 163| 4503.789999999998|           236|\n",
      "|2020-01-06 12:00:00|  43|3048.8299999999995|           193|\n",
      "|2020-01-26 17:00:00| 239| 5902.589999999995|           378|\n",
      "|2020-01-23 06:00:00|  79|1235.4600000000003|            78|\n",
      "|2020-01-03 22:00:00| 142| 7562.159999999994|           473|\n",
      "|2020-01-12 12:00:00| 163| 4355.149999999998|           258|\n",
      "|2020-01-04 13:00:00| 143|2408.8799999999997|           171|\n",
      "|2020-01-25 22:00:00| 114| 5290.099999999997|           301|\n",
      "|2020-01-17 17:00:00| 170| 8916.779999999999|           497|\n",
      "|2020-01-25 10:00:00| 186| 6621.049999999993|           448|\n",
      "|2020-01-04 11:00:00| 230| 5140.639999999996|           297|\n",
      "|2020-01-24 16:00:00| 186| 8362.349999999995|           429|\n",
      "|2020-01-03 14:00:00| 132|26320.500000000022|           501|\n",
      "|2020-01-19 20:00:00|  90|2601.0699999999997|           169|\n",
      "|2020-01-02 13:00:00| 161| 8028.809999999996|           475|\n",
      "|2020-01-23 21:00:00| 137|2003.9499999999998|           126|\n",
      "|2020-01-30 23:00:00| 163| 6053.809999999996|           334|\n",
      "|2020-01-10 21:00:00| 246|3178.3099999999995|           171|\n",
      "|2020-01-27 10:00:00| 238| 4196.479999999998|           259|\n",
      "+-------------------+----+------------------+--------------+\n",
      "only showing top 20 rows\n",
      "\n"
     ]
    },
    {
     "name": "stderr",
     "output_type": "stream",
     "text": [
      "\r",
      "                                                                                \r"
     ]
    }
   ],
   "source": [
    "df_yellow_revenue.show()"
   ]
  },
  {
   "cell_type": "code",
   "execution_count": 61,
   "id": "3e3ea69d",
   "metadata": {
    "ExecuteTime": {
     "end_time": "2023-03-10T10:59:45.695149Z",
     "start_time": "2023-03-10T10:59:45.687864Z"
    }
   },
   "outputs": [],
   "source": [
    "df_green_revenue_ = df_green_revenue \\\n",
    ".withColumnRenamed('amount', 'green_amount') \\\n",
    ".withColumnRenamed('number_records', 'green_number_records')\n",
    "\n",
    "df_yellow_revenue_ = df_yellow_revenue \\\n",
    ".withColumnRenamed('amount', 'yellow_amount') \\\n",
    ".withColumnRenamed('number_records', 'yellow_number_records')"
   ]
  },
  {
   "cell_type": "code",
   "execution_count": 66,
   "id": "1c387dc8",
   "metadata": {
    "ExecuteTime": {
     "end_time": "2023-03-10T11:09:04.721552Z",
     "start_time": "2023-03-10T11:09:04.710645Z"
    }
   },
   "outputs": [],
   "source": [
    "df_joined_revenue = df_yellow_revenue_.join(functions.broadcast(df_green_revenue_), on=['hour', 'zone'], how='outer')"
   ]
  },
  {
   "cell_type": "code",
   "execution_count": 67,
   "id": "1564d5c4",
   "metadata": {
    "ExecuteTime": {
     "end_time": "2023-03-10T11:09:13.301979Z",
     "start_time": "2023-03-10T11:09:09.216064Z"
    }
   },
   "outputs": [
    {
     "name": "stdout",
     "output_type": "stream",
     "text": [
      "23/03/10 15:09:09 WARN HintErrorLogger: Hint (strategy=broadcast) is not supported in the query: build right for full outer join.\n"
     ]
    },
    {
     "name": "stderr",
     "output_type": "stream",
     "text": [
      "[Stage 163:=========>     (13 + 8) / 21][Stage 164:========>       (8 + 8) / 16]\r"
     ]
    },
    {
     "name": "stdout",
     "output_type": "stream",
     "text": [
      "23/03/10 15:09:12 WARN HintErrorLogger: Hint (strategy=broadcast) is not supported in the query: build right for full outer join.\n"
     ]
    },
    {
     "name": "stderr",
     "output_type": "stream",
     "text": [
      "[Stage 163:===============================================>       (18 + 3) / 21]\r"
     ]
    },
    {
     "name": "stdout",
     "output_type": "stream",
     "text": [
      "23/03/10 15:09:12 WARN HintErrorLogger: Hint (strategy=broadcast) is not supported in the query: build right for full outer join.\n",
      "23/03/10 15:09:12 WARN MemoryManager: Total allocation exceeds 95.00% (1,020,054,720 bytes) of heap memory\n",
      "Scaling row group sizes to 95.00% for 8 writers\n",
      "23/03/10 15:09:12 WARN MemoryManager: Total allocation exceeds 95.00% (1,020,054,720 bytes) of heap memory\n",
      "Scaling row group sizes to 84.44% for 9 writers\n",
      "23/03/10 15:09:12 WARN MemoryManager: Total allocation exceeds 95.00% (1,020,054,720 bytes) of heap memory\n",
      "Scaling row group sizes to 76.00% for 10 writers\n",
      "23/03/10 15:09:12 WARN MemoryManager: Total allocation exceeds 95.00% (1,020,054,720 bytes) of heap memory\n",
      "Scaling row group sizes to 69.09% for 11 writers\n",
      "23/03/10 15:09:12 WARN MemoryManager: Total allocation exceeds 95.00% (1,020,054,720 bytes) of heap memory\n",
      "Scaling row group sizes to 63.33% for 12 writers\n",
      "23/03/10 15:09:12 WARN MemoryManager: Total allocation exceeds 95.00% (1,020,054,720 bytes) of heap memory\n",
      "Scaling row group sizes to 58.46% for 13 writers\n",
      "23/03/10 15:09:12 WARN MemoryManager: Total allocation exceeds 95.00% (1,020,054,720 bytes) of heap memory\n",
      "Scaling row group sizes to 54.29% for 14 writers\n",
      "23/03/10 15:09:12 WARN MemoryManager: Total allocation exceeds 95.00% (1,020,054,720 bytes) of heap memory\n",
      "Scaling row group sizes to 50.67% for 15 writers\n",
      "23/03/10 15:09:13 WARN MemoryManager: Total allocation exceeds 95.00% (1,020,054,720 bytes) of heap memory\n",
      "Scaling row group sizes to 47.50% for 16 writers\n",
      "23/03/10 15:09:13 WARN MemoryManager: Total allocation exceeds 95.00% (1,020,054,720 bytes) of heap memory\n",
      "Scaling row group sizes to 50.67% for 15 writers\n",
      "23/03/10 15:09:13 WARN MemoryManager: Total allocation exceeds 95.00% (1,020,054,720 bytes) of heap memory\n",
      "Scaling row group sizes to 54.29% for 14 writers\n",
      "23/03/10 15:09:13 WARN MemoryManager: Total allocation exceeds 95.00% (1,020,054,720 bytes) of heap memory\n",
      "Scaling row group sizes to 58.46% for 13 writers\n",
      "23/03/10 15:09:13 WARN MemoryManager: Total allocation exceeds 95.00% (1,020,054,720 bytes) of heap memory\n",
      "Scaling row group sizes to 63.33% for 12 writers\n",
      "23/03/10 15:09:13 WARN MemoryManager: Total allocation exceeds 95.00% (1,020,054,720 bytes) of heap memory\n",
      "Scaling row group sizes to 69.09% for 11 writers\n",
      "23/03/10 15:09:13 WARN MemoryManager: Total allocation exceeds 95.00% (1,020,054,720 bytes) of heap memory\n",
      "Scaling row group sizes to 76.00% for 10 writers\n",
      "23/03/10 15:09:13 WARN MemoryManager: Total allocation exceeds 95.00% (1,020,054,720 bytes) of heap memory\n",
      "Scaling row group sizes to 84.44% for 9 writers\n",
      "23/03/10 15:09:13 WARN MemoryManager: Total allocation exceeds 95.00% (1,020,054,720 bytes) of heap memory\n",
      "Scaling row group sizes to 95.00% for 8 writers\n"
     ]
    },
    {
     "name": "stderr",
     "output_type": "stream",
     "text": [
      "\r",
      "[Stage 167:===================================================>   (16 + 1) / 17]\r",
      "\r",
      "                                                                                \r"
     ]
    }
   ],
   "source": [
    "df_joined_revenue.write.parquet('data/result/revenue/total', mode='overwrite')"
   ]
  },
  {
   "cell_type": "code",
   "execution_count": 72,
   "id": "afcc7008",
   "metadata": {
    "ExecuteTime": {
     "end_time": "2023-03-10T11:12:40.147041Z",
     "start_time": "2023-03-10T11:12:39.961582Z"
    }
   },
   "outputs": [
    {
     "name": "stdout",
     "output_type": "stream",
     "text": [
      "+--------------------+--------------------+\n",
      "|min(pickup_datetime)|max(pickup_datetime)|\n",
      "+--------------------+--------------------+\n",
      "| 2008-12-31 22:06:48| 2041-08-17 16:24:38|\n",
      "+--------------------+--------------------+\n",
      "\n"
     ]
    }
   ],
   "source": [
    "spark.sql(\n",
    "\"\"\"\n",
    "select min(pickup_datetime),\n",
    "max(pickup_datetime)\n",
    "from green\n",
    "\"\"\"    \n",
    ").show()"
   ]
  },
  {
   "cell_type": "code",
   "execution_count": 68,
   "id": "48e042ce",
   "metadata": {
    "ExecuteTime": {
     "end_time": "2023-03-10T11:11:12.028707Z",
     "start_time": "2023-03-10T11:11:11.996957Z"
    }
   },
   "outputs": [],
   "source": [
    "green_rdd = df_green.select('pickup_datetime', 'PULocationID', 'total_amount').rdd"
   ]
  },
  {
   "cell_type": "code",
   "execution_count": 69,
   "id": "4393e288",
   "metadata": {
    "ExecuteTime": {
     "end_time": "2023-03-10T11:11:17.529594Z",
     "start_time": "2023-03-10T11:11:17.526822Z"
    }
   },
   "outputs": [
    {
     "data": {
      "text/plain": [
       "MapPartitionsRDD[363] at javaToPython at NativeMethodAccessorImpl.java:0"
      ]
     },
     "execution_count": 69,
     "metadata": {},
     "output_type": "execute_result"
    }
   ],
   "source": [
    "green_rdd"
   ]
  },
  {
   "cell_type": "code",
   "execution_count": 70,
   "id": "b789f898",
   "metadata": {
    "ExecuteTime": {
     "end_time": "2023-03-10T11:11:44.563237Z",
     "start_time": "2023-03-10T11:11:44.561261Z"
    }
   },
   "outputs": [],
   "source": [
    "from datetime import datetime"
   ]
  },
  {
   "cell_type": "code",
   "execution_count": 73,
   "id": "11bcdb75",
   "metadata": {
    "ExecuteTime": {
     "end_time": "2023-03-10T11:13:50.621446Z",
     "start_time": "2023-03-10T11:13:50.619344Z"
    }
   },
   "outputs": [],
   "source": [
    "start_dt = datetime(year=2020, month=1, day=1)\n",
    "end_dt = datetime(year=2022, month=1, day=1)"
   ]
  },
  {
   "cell_type": "code",
   "execution_count": 75,
   "id": "8f4a664e",
   "metadata": {
    "ExecuteTime": {
     "end_time": "2023-03-10T11:14:10.200822Z",
     "start_time": "2023-03-10T11:14:10.178666Z"
    }
   },
   "outputs": [],
   "source": [
    "sample_row = green_rdd.take(1)[0]"
   ]
  },
  {
   "cell_type": "code",
   "execution_count": 79,
   "id": "ebaf85c7",
   "metadata": {
    "ExecuteTime": {
     "end_time": "2023-03-10T11:14:41.455206Z",
     "start_time": "2023-03-10T11:14:41.453053Z"
    }
   },
   "outputs": [
    {
     "data": {
      "text/plain": [
       "datetime.datetime(2020, 1, 31, 15, 0, 30)"
      ]
     },
     "execution_count": 79,
     "metadata": {},
     "output_type": "execute_result"
    }
   ],
   "source": [
    "sample_row.pickup_datetime"
   ]
  },
  {
   "cell_type": "code",
   "execution_count": 83,
   "id": "caa5e409",
   "metadata": {
    "ExecuteTime": {
     "end_time": "2023-03-10T11:17:27.304523Z",
     "start_time": "2023-03-10T11:17:27.302179Z"
    }
   },
   "outputs": [],
   "source": [
    "def filter_dt_outliers(row):\n",
    "    start_dt = datetime(year=2020, month=1, day=1)\n",
    "    end_dt = datetime(year=2022, month=1, day=1)\n",
    "    return row.pickup_datetime >= start_dt and row.pickup_datetime <= end_dt"
   ]
  },
  {
   "cell_type": "code",
   "execution_count": 84,
   "id": "d780edb0",
   "metadata": {
    "ExecuteTime": {
     "end_time": "2023-03-10T11:17:37.416004Z",
     "start_time": "2023-03-10T11:17:29.862158Z"
    }
   },
   "outputs": [
    {
     "name": "stderr",
     "output_type": "stream",
     "text": [
      "                                                                                \r"
     ]
    },
    {
     "data": {
      "text/plain": [
       "[Row(pickup_datetime=datetime.datetime(2020, 1, 31, 15, 0, 30), PULocationID=196, total_amount=6.8),\n",
       " Row(pickup_datetime=datetime.datetime(2020, 1, 17, 7, 52, 53), PULocationID=52, total_amount=30.05),\n",
       " Row(pickup_datetime=datetime.datetime(2020, 1, 31, 2, 19, 5), PULocationID=82, total_amount=16.8),\n",
       " Row(pickup_datetime=datetime.datetime(2020, 1, 21, 0, 19, 28), PULocationID=7, total_amount=21.3),\n",
       " Row(pickup_datetime=datetime.datetime(2020, 1, 24, 19, 2, 40), PULocationID=191, total_amount=12.25),\n",
       " Row(pickup_datetime=datetime.datetime(2020, 1, 14, 13, 11, 28), PULocationID=166, total_amount=12.3),\n",
       " Row(pickup_datetime=datetime.datetime(2020, 1, 29, 21, 37, 20), PULocationID=181, total_amount=9.3),\n",
       " Row(pickup_datetime=datetime.datetime(2020, 1, 22, 14, 54, 23), PULocationID=166, total_amount=32.46),\n",
       " Row(pickup_datetime=datetime.datetime(2020, 1, 29, 21, 34, 1), PULocationID=25, total_amount=21.8),\n",
       " Row(pickup_datetime=datetime.datetime(2020, 1, 14, 15, 54, 16), PULocationID=244, total_amount=36.05),\n",
       " Row(pickup_datetime=datetime.datetime(2020, 1, 8, 12, 46), PULocationID=70, total_amount=29.61),\n",
       " Row(pickup_datetime=datetime.datetime(2020, 1, 6, 17, 2, 10), PULocationID=260, total_amount=15.3),\n",
       " Row(pickup_datetime=datetime.datetime(2020, 1, 8, 9, 4), PULocationID=131, total_amount=23.12),\n",
       " Row(pickup_datetime=datetime.datetime(2020, 1, 19, 15, 55), PULocationID=222, total_amount=25.5),\n",
       " Row(pickup_datetime=datetime.datetime(2020, 1, 23, 12, 17, 31), PULocationID=41, total_amount=9.96),\n",
       " Row(pickup_datetime=datetime.datetime(2020, 1, 18, 18, 36, 46), PULocationID=41, total_amount=6.3),\n",
       " Row(pickup_datetime=datetime.datetime(2020, 1, 3, 14, 34, 18), PULocationID=244, total_amount=3.8),\n",
       " Row(pickup_datetime=datetime.datetime(2020, 1, 16, 20, 26, 2), PULocationID=75, total_amount=8.3),\n",
       " Row(pickup_datetime=datetime.datetime(2020, 1, 26, 10, 0, 4), PULocationID=42, total_amount=14.05),\n",
       " Row(pickup_datetime=datetime.datetime(2020, 1, 21, 0, 3, 19), PULocationID=75, total_amount=7.55),\n",
       " Row(pickup_datetime=datetime.datetime(2020, 1, 2, 9, 6), PULocationID=205, total_amount=71.56),\n",
       " Row(pickup_datetime=datetime.datetime(2020, 1, 17, 16, 43, 54), PULocationID=260, total_amount=12.36),\n",
       " Row(pickup_datetime=datetime.datetime(2020, 1, 18, 21, 25), PULocationID=195, total_amount=59.13),\n",
       " Row(pickup_datetime=datetime.datetime(2020, 1, 23, 11, 32), PULocationID=130, total_amount=32.61),\n",
       " Row(pickup_datetime=datetime.datetime(2020, 1, 2, 16, 33), PULocationID=74, total_amount=33.05),\n",
       " Row(pickup_datetime=datetime.datetime(2020, 1, 5, 0, 47, 43), PULocationID=80, total_amount=16.56),\n",
       " Row(pickup_datetime=datetime.datetime(2020, 1, 4, 3, 22), PULocationID=174, total_amount=23.85),\n",
       " Row(pickup_datetime=datetime.datetime(2020, 1, 11, 11, 53), PULocationID=254, total_amount=13.55),\n",
       " Row(pickup_datetime=datetime.datetime(2020, 1, 27, 14, 42), PULocationID=250, total_amount=30.48),\n",
       " Row(pickup_datetime=datetime.datetime(2020, 1, 17, 14, 55, 11), PULocationID=197, total_amount=64.92),\n",
       " Row(pickup_datetime=datetime.datetime(2020, 1, 7, 8, 16, 31), PULocationID=242, total_amount=6.0),\n",
       " Row(pickup_datetime=datetime.datetime(2020, 1, 15, 15, 2), PULocationID=260, total_amount=27.11),\n",
       " Row(pickup_datetime=datetime.datetime(2020, 1, 7, 1, 48, 8), PULocationID=7, total_amount=6.3),\n",
       " Row(pickup_datetime=datetime.datetime(2020, 1, 25, 7, 13, 45), PULocationID=17, total_amount=18.0),\n",
       " Row(pickup_datetime=datetime.datetime(2020, 1, 19, 13, 43), PULocationID=85, total_amount=24.42),\n",
       " Row(pickup_datetime=datetime.datetime(2020, 1, 26, 20, 19), PULocationID=74, total_amount=14.55),\n",
       " Row(pickup_datetime=datetime.datetime(2020, 1, 30, 9, 48, 50), PULocationID=41, total_amount=9.36),\n",
       " Row(pickup_datetime=datetime.datetime(2020, 1, 11, 10, 6, 6), PULocationID=167, total_amount=9.3),\n",
       " Row(pickup_datetime=datetime.datetime(2020, 1, 30, 16, 2), PULocationID=167, total_amount=24.31),\n",
       " Row(pickup_datetime=datetime.datetime(2020, 1, 20, 22, 37), PULocationID=52, total_amount=24.42),\n",
       " Row(pickup_datetime=datetime.datetime(2020, 1, 6, 8, 29), PULocationID=188, total_amount=23.11),\n",
       " Row(pickup_datetime=datetime.datetime(2020, 1, 4, 20, 3, 13), PULocationID=75, total_amount=13.51),\n",
       " Row(pickup_datetime=datetime.datetime(2020, 1, 19, 15, 26, 48), PULocationID=66, total_amount=41.13),\n",
       " Row(pickup_datetime=datetime.datetime(2020, 1, 4, 10, 30, 55), PULocationID=75, total_amount=34.51),\n",
       " Row(pickup_datetime=datetime.datetime(2020, 1, 6, 12, 36), PULocationID=130, total_amount=22.1),\n",
       " Row(pickup_datetime=datetime.datetime(2020, 1, 1, 1, 54, 24), PULocationID=129, total_amount=7.3),\n",
       " Row(pickup_datetime=datetime.datetime(2020, 1, 19, 12, 20), PULocationID=39, total_amount=26.36),\n",
       " Row(pickup_datetime=datetime.datetime(2020, 1, 30, 13, 19, 58), PULocationID=129, total_amount=40.3),\n",
       " Row(pickup_datetime=datetime.datetime(2020, 1, 21, 15, 44, 49), PULocationID=75, total_amount=12.55),\n",
       " Row(pickup_datetime=datetime.datetime(2020, 1, 24, 21, 59, 8), PULocationID=49, total_amount=15.3),\n",
       " Row(pickup_datetime=datetime.datetime(2020, 1, 28, 21, 52, 42), PULocationID=74, total_amount=26.46),\n",
       " Row(pickup_datetime=datetime.datetime(2020, 1, 9, 14, 5, 36), PULocationID=97, total_amount=6.3),\n",
       " Row(pickup_datetime=datetime.datetime(2020, 1, 9, 11, 13), PULocationID=26, total_amount=56.83),\n",
       " Row(pickup_datetime=datetime.datetime(2020, 1, 9, 21, 25, 10), PULocationID=130, total_amount=11.3),\n",
       " Row(pickup_datetime=datetime.datetime(2020, 1, 29, 10, 36, 52), PULocationID=75, total_amount=6.3),\n",
       " Row(pickup_datetime=datetime.datetime(2020, 1, 29, 10, 4), PULocationID=242, total_amount=25.84),\n",
       " Row(pickup_datetime=datetime.datetime(2020, 1, 9, 19, 0), PULocationID=15, total_amount=39.67),\n",
       " Row(pickup_datetime=datetime.datetime(2020, 1, 9, 9, 19), PULocationID=86, total_amount=41.43),\n",
       " Row(pickup_datetime=datetime.datetime(2020, 1, 8, 7, 10, 45), PULocationID=235, total_amount=7.8),\n",
       " Row(pickup_datetime=datetime.datetime(2020, 1, 9, 14, 15, 14), PULocationID=61, total_amount=16.0),\n",
       " Row(pickup_datetime=datetime.datetime(2020, 1, 5, 0, 0, 7), PULocationID=213, total_amount=56.92),\n",
       " Row(pickup_datetime=datetime.datetime(2020, 1, 11, 6, 27, 28), PULocationID=244, total_amount=9.96),\n",
       " Row(pickup_datetime=datetime.datetime(2020, 1, 23, 15, 46, 19), PULocationID=42, total_amount=19.26),\n",
       " Row(pickup_datetime=datetime.datetime(2020, 1, 30, 17, 54, 50), PULocationID=166, total_amount=22.26),\n",
       " Row(pickup_datetime=datetime.datetime(2020, 1, 21, 10, 4, 45), PULocationID=41, total_amount=9.8),\n",
       " Row(pickup_datetime=datetime.datetime(2020, 1, 9, 17, 39, 58), PULocationID=166, total_amount=19.05),\n",
       " Row(pickup_datetime=datetime.datetime(2020, 1, 19, 17, 57, 55), PULocationID=42, total_amount=6.8),\n",
       " Row(pickup_datetime=datetime.datetime(2020, 1, 9, 12, 36), PULocationID=7, total_amount=11.3),\n",
       " Row(pickup_datetime=datetime.datetime(2020, 1, 17, 8, 16, 28), PULocationID=210, total_amount=9.95),\n",
       " Row(pickup_datetime=datetime.datetime(2020, 1, 9, 9, 45), PULocationID=89, total_amount=20.99),\n",
       " Row(pickup_datetime=datetime.datetime(2020, 1, 6, 9, 8, 51), PULocationID=116, total_amount=23.05),\n",
       " Row(pickup_datetime=datetime.datetime(2020, 1, 7, 16, 48, 29), PULocationID=33, total_amount=18.8),\n",
       " Row(pickup_datetime=datetime.datetime(2020, 1, 13, 8, 56), PULocationID=244, total_amount=38.45),\n",
       " Row(pickup_datetime=datetime.datetime(2020, 1, 7, 0, 39), PULocationID=41, total_amount=65.93),\n",
       " Row(pickup_datetime=datetime.datetime(2020, 1, 1, 0, 43, 8), PULocationID=25, total_amount=19.05),\n",
       " Row(pickup_datetime=datetime.datetime(2020, 1, 24, 13, 14, 25), PULocationID=226, total_amount=15.0),\n",
       " Row(pickup_datetime=datetime.datetime(2020, 1, 20, 15, 46), PULocationID=242, total_amount=22.01),\n",
       " Row(pickup_datetime=datetime.datetime(2020, 1, 19, 12, 46, 2), PULocationID=225, total_amount=17.75),\n",
       " Row(pickup_datetime=datetime.datetime(2020, 1, 2, 10, 5), PULocationID=51, total_amount=36.92),\n",
       " Row(pickup_datetime=datetime.datetime(2020, 1, 24, 18, 42, 3), PULocationID=82, total_amount=12.8),\n",
       " Row(pickup_datetime=datetime.datetime(2020, 1, 8, 20, 50, 28), PULocationID=260, total_amount=5.8),\n",
       " Row(pickup_datetime=datetime.datetime(2020, 1, 27, 13, 40, 54), PULocationID=95, total_amount=8.8),\n",
       " Row(pickup_datetime=datetime.datetime(2020, 1, 24, 10, 51), PULocationID=222, total_amount=26.36),\n",
       " Row(pickup_datetime=datetime.datetime(2020, 1, 23, 19, 39, 59), PULocationID=97, total_amount=20.16),\n",
       " Row(pickup_datetime=datetime.datetime(2020, 1, 22, 22, 8, 20), PULocationID=82, total_amount=14.76),\n",
       " Row(pickup_datetime=datetime.datetime(2020, 1, 18, 16, 22), PULocationID=225, total_amount=23.98),\n",
       " Row(pickup_datetime=datetime.datetime(2020, 1, 14, 16, 16, 34), PULocationID=65, total_amount=12.8),\n",
       " Row(pickup_datetime=datetime.datetime(2020, 1, 27, 20, 23, 48), PULocationID=66, total_amount=10.78),\n",
       " Row(pickup_datetime=datetime.datetime(2020, 1, 7, 16, 11), PULocationID=61, total_amount=19.78),\n",
       " Row(pickup_datetime=datetime.datetime(2020, 1, 9, 20, 41, 18), PULocationID=7, total_amount=7.25),\n",
       " Row(pickup_datetime=datetime.datetime(2020, 1, 4, 18, 55, 37), PULocationID=129, total_amount=11.3),\n",
       " Row(pickup_datetime=datetime.datetime(2020, 1, 9, 23, 5), PULocationID=66, total_amount=9.8),\n",
       " Row(pickup_datetime=datetime.datetime(2020, 1, 27, 13, 48, 57), PULocationID=244, total_amount=28.86),\n",
       " Row(pickup_datetime=datetime.datetime(2020, 1, 26, 3, 21, 44), PULocationID=150, total_amount=13.56),\n",
       " Row(pickup_datetime=datetime.datetime(2020, 1, 4, 8, 17, 43), PULocationID=41, total_amount=8.8),\n",
       " Row(pickup_datetime=datetime.datetime(2020, 1, 27, 8, 2, 45), PULocationID=75, total_amount=10.86),\n",
       " Row(pickup_datetime=datetime.datetime(2020, 1, 7, 13, 53, 10), PULocationID=49, total_amount=10.8),\n",
       " Row(pickup_datetime=datetime.datetime(2020, 1, 11, 12, 17, 28), PULocationID=174, total_amount=21.0),\n",
       " Row(pickup_datetime=datetime.datetime(2020, 1, 21, 18, 21, 36), PULocationID=97, total_amount=11.16),\n",
       " Row(pickup_datetime=datetime.datetime(2020, 1, 27, 8, 27, 29), PULocationID=75, total_amount=6.8),\n",
       " Row(pickup_datetime=datetime.datetime(2020, 1, 7, 16, 0), PULocationID=209, total_amount=57.12),\n",
       " Row(pickup_datetime=datetime.datetime(2020, 1, 30, 14, 57), PULocationID=74, total_amount=51.49),\n",
       " Row(pickup_datetime=datetime.datetime(2020, 1, 3, 12, 42), PULocationID=61, total_amount=29.78),\n",
       " Row(pickup_datetime=datetime.datetime(2020, 1, 5, 15, 48, 14), PULocationID=97, total_amount=10.56),\n",
       " Row(pickup_datetime=datetime.datetime(2020, 1, 19, 7, 9), PULocationID=74, total_amount=40.71),\n",
       " Row(pickup_datetime=datetime.datetime(2020, 1, 9, 16, 54, 53), PULocationID=196, total_amount=25.0),\n",
       " Row(pickup_datetime=datetime.datetime(2020, 1, 25, 4, 20, 46), PULocationID=80, total_amount=64.7),\n",
       " Row(pickup_datetime=datetime.datetime(2020, 1, 23, 14, 24, 8), PULocationID=97, total_amount=17.3),\n",
       " Row(pickup_datetime=datetime.datetime(2020, 1, 16, 20, 33, 12), PULocationID=65, total_amount=25.55),\n",
       " Row(pickup_datetime=datetime.datetime(2020, 1, 26, 0, 21, 25), PULocationID=7, total_amount=12.8),\n",
       " Row(pickup_datetime=datetime.datetime(2020, 1, 10, 15, 19, 36), PULocationID=75, total_amount=7.05),\n",
       " Row(pickup_datetime=datetime.datetime(2020, 1, 13, 10, 45), PULocationID=152, total_amount=36.05),\n",
       " Row(pickup_datetime=datetime.datetime(2020, 1, 30, 15, 32, 42), PULocationID=220, total_amount=6.8),\n",
       " Row(pickup_datetime=datetime.datetime(2020, 1, 23, 15, 25, 30), PULocationID=222, total_amount=18.8),\n",
       " Row(pickup_datetime=datetime.datetime(2020, 1, 3, 22, 55), PULocationID=77, total_amount=18.48),\n",
       " Row(pickup_datetime=datetime.datetime(2020, 1, 18, 10, 18), PULocationID=216, total_amount=39.67),\n",
       " Row(pickup_datetime=datetime.datetime(2020, 1, 4, 12, 46, 50), PULocationID=226, total_amount=6.8),\n",
       " Row(pickup_datetime=datetime.datetime(2020, 1, 6, 16, 2, 33), PULocationID=75, total_amount=14.05),\n",
       " Row(pickup_datetime=datetime.datetime(2020, 1, 10, 22, 28), PULocationID=74, total_amount=7.3),\n",
       " Row(pickup_datetime=datetime.datetime(2020, 1, 10, 9, 29, 54), PULocationID=72, total_amount=20.0),\n",
       " Row(pickup_datetime=datetime.datetime(2020, 1, 3, 7, 19, 17), PULocationID=74, total_amount=6.8),\n",
       " Row(pickup_datetime=datetime.datetime(2020, 1, 29, 7, 19), PULocationID=181, total_amount=49.78),\n",
       " Row(pickup_datetime=datetime.datetime(2020, 1, 27, 20, 40, 49), PULocationID=74, total_amount=13.25),\n",
       " Row(pickup_datetime=datetime.datetime(2020, 1, 10, 5, 27), PULocationID=254, total_amount=27.68),\n",
       " Row(pickup_datetime=datetime.datetime(2020, 1, 12, 10, 32, 43), PULocationID=223, total_amount=9.8),\n",
       " Row(pickup_datetime=datetime.datetime(2020, 1, 30, 13, 19, 11), PULocationID=42, total_amount=36.86),\n",
       " Row(pickup_datetime=datetime.datetime(2020, 1, 28, 19, 15, 27), PULocationID=66, total_amount=39.06),\n",
       " Row(pickup_datetime=datetime.datetime(2020, 1, 15, 21, 55, 4), PULocationID=223, total_amount=16.3),\n",
       " Row(pickup_datetime=datetime.datetime(2020, 1, 15, 18, 52, 36), PULocationID=134, total_amount=11.0),\n",
       " Row(pickup_datetime=datetime.datetime(2020, 1, 1, 13, 21, 4), PULocationID=31, total_amount=13.8),\n",
       " Row(pickup_datetime=datetime.datetime(2020, 1, 10, 8, 49, 6), PULocationID=74, total_amount=19.86),\n",
       " Row(pickup_datetime=datetime.datetime(2020, 1, 26, 12, 48, 44), PULocationID=41, total_amount=19.03),\n",
       " Row(pickup_datetime=datetime.datetime(2020, 1, 4, 17, 51, 50), PULocationID=212, total_amount=11.8),\n",
       " Row(pickup_datetime=datetime.datetime(2020, 1, 21, 13, 26), PULocationID=131, total_amount=36.04),\n",
       " Row(pickup_datetime=datetime.datetime(2020, 1, 10, 20, 42, 25), PULocationID=74, total_amount=16.86),\n",
       " Row(pickup_datetime=datetime.datetime(2020, 1, 5, 13, 23), PULocationID=188, total_amount=19.78),\n",
       " Row(pickup_datetime=datetime.datetime(2020, 1, 12, 0, 34, 15), PULocationID=66, total_amount=16.73),\n",
       " Row(pickup_datetime=datetime.datetime(2020, 1, 25, 0, 32, 15), PULocationID=82, total_amount=8.76),\n",
       " Row(pickup_datetime=datetime.datetime(2020, 1, 9, 18, 7, 51), PULocationID=43, total_amount=20.55),\n",
       " Row(pickup_datetime=datetime.datetime(2020, 1, 16, 9, 56, 54), PULocationID=210, total_amount=8.8),\n",
       " Row(pickup_datetime=datetime.datetime(2020, 1, 1, 15, 13, 19), PULocationID=260, total_amount=14.04),\n",
       " Row(pickup_datetime=datetime.datetime(2020, 1, 23, 7, 27), PULocationID=119, total_amount=17.6),\n",
       " Row(pickup_datetime=datetime.datetime(2020, 1, 25, 11, 31, 54), PULocationID=82, total_amount=11.76),\n",
       " Row(pickup_datetime=datetime.datetime(2020, 1, 28, 17, 13, 31), PULocationID=97, total_amount=6.3),\n",
       " Row(pickup_datetime=datetime.datetime(2020, 1, 6, 13, 59), PULocationID=119, total_amount=26.26),\n",
       " Row(pickup_datetime=datetime.datetime(2020, 1, 11, 20, 37), PULocationID=177, total_amount=19.78),\n",
       " Row(pickup_datetime=datetime.datetime(2020, 1, 19, 14, 44, 42), PULocationID=97, total_amount=9.8),\n",
       " Row(pickup_datetime=datetime.datetime(2020, 1, 30, 18, 23, 24), PULocationID=196, total_amount=8.16),\n",
       " Row(pickup_datetime=datetime.datetime(2020, 1, 16, 13, 42), PULocationID=95, total_amount=39.5),\n",
       " Row(pickup_datetime=datetime.datetime(2020, 1, 16, 14, 0, 38), PULocationID=166, total_amount=6.3),\n",
       " Row(pickup_datetime=datetime.datetime(2020, 1, 2, 16, 14, 38), PULocationID=223, total_amount=11.16),\n",
       " Row(pickup_datetime=datetime.datetime(2020, 1, 15, 22, 7, 2), PULocationID=97, total_amount=12.8),\n",
       " Row(pickup_datetime=datetime.datetime(2020, 1, 6, 14, 10, 46), PULocationID=145, total_amount=29.31),\n",
       " Row(pickup_datetime=datetime.datetime(2020, 1, 8, 10, 10, 47), PULocationID=244, total_amount=6.3),\n",
       " Row(pickup_datetime=datetime.datetime(2020, 1, 3, 16, 4), PULocationID=150, total_amount=57.25),\n",
       " Row(pickup_datetime=datetime.datetime(2020, 1, 25, 0, 58, 38), PULocationID=74, total_amount=9.55),\n",
       " Row(pickup_datetime=datetime.datetime(2020, 1, 13, 18, 23, 19), PULocationID=21, total_amount=27.3),\n",
       " Row(pickup_datetime=datetime.datetime(2020, 1, 25, 19, 5, 25), PULocationID=74, total_amount=12.0),\n",
       " Row(pickup_datetime=datetime.datetime(2020, 1, 18, 8, 20, 3), PULocationID=116, total_amount=4.3),\n",
       " Row(pickup_datetime=datetime.datetime(2020, 1, 12, 21, 29), PULocationID=74, total_amount=6.24),\n",
       " Row(pickup_datetime=datetime.datetime(2020, 1, 5, 16, 25, 29), PULocationID=75, total_amount=12.55),\n",
       " Row(pickup_datetime=datetime.datetime(2020, 1, 6, 4, 52), PULocationID=42, total_amount=20.74),\n",
       " Row(pickup_datetime=datetime.datetime(2020, 1, 31, 18, 11, 5), PULocationID=17, total_amount=10.8),\n",
       " Row(pickup_datetime=datetime.datetime(2020, 1, 11, 23, 9, 37), PULocationID=65, total_amount=9.3),\n",
       " Row(pickup_datetime=datetime.datetime(2020, 1, 9, 10, 39), PULocationID=54, total_amount=17.53),\n",
       " Row(pickup_datetime=datetime.datetime(2020, 1, 14, 1, 27, 23), PULocationID=126, total_amount=58.92),\n",
       " Row(pickup_datetime=datetime.datetime(2020, 1, 13, 19, 38, 31), PULocationID=25, total_amount=11.0),\n",
       " Row(pickup_datetime=datetime.datetime(2020, 1, 6, 21, 34, 46), PULocationID=74, total_amount=12.3),\n",
       " Row(pickup_datetime=datetime.datetime(2020, 1, 29, 11, 13, 17), PULocationID=75, total_amount=25.3),\n",
       " Row(pickup_datetime=datetime.datetime(2020, 1, 6, 19, 44, 16), PULocationID=146, total_amount=9.8),\n",
       " Row(pickup_datetime=datetime.datetime(2020, 1, 18, 12, 26, 10), PULocationID=19, total_amount=23.0),\n",
       " Row(pickup_datetime=datetime.datetime(2020, 1, 28, 20, 17, 30), PULocationID=25, total_amount=6.96),\n",
       " Row(pickup_datetime=datetime.datetime(2020, 1, 18, 15, 9, 32), PULocationID=75, total_amount=13.81),\n",
       " Row(pickup_datetime=datetime.datetime(2020, 1, 2, 19, 55, 36), PULocationID=196, total_amount=14.8),\n",
       " Row(pickup_datetime=datetime.datetime(2020, 1, 17, 19, 56, 10), PULocationID=129, total_amount=8.3),\n",
       " Row(pickup_datetime=datetime.datetime(2020, 1, 13, 9, 1), PULocationID=39, total_amount=18.48),\n",
       " Row(pickup_datetime=datetime.datetime(2020, 1, 7, 11, 58, 9), PULocationID=75, total_amount=5.8),\n",
       " Row(pickup_datetime=datetime.datetime(2020, 1, 3, 8, 36), PULocationID=71, total_amount=24.42),\n",
       " Row(pickup_datetime=datetime.datetime(2020, 1, 25, 11, 44, 39), PULocationID=95, total_amount=10.8),\n",
       " Row(pickup_datetime=datetime.datetime(2020, 1, 6, 8, 43), PULocationID=115, total_amount=65.4),\n",
       " Row(pickup_datetime=datetime.datetime(2020, 1, 12, 11, 7, 41), PULocationID=95, total_amount=11.8),\n",
       " Row(pickup_datetime=datetime.datetime(2020, 1, 15, 11, 12, 51), PULocationID=52, total_amount=19.86),\n",
       " Row(pickup_datetime=datetime.datetime(2020, 1, 6, 6, 31, 21), PULocationID=75, total_amount=8.3),\n",
       " Row(pickup_datetime=datetime.datetime(2020, 1, 3, 1, 55, 25), PULocationID=95, total_amount=15.96),\n",
       " Row(pickup_datetime=datetime.datetime(2020, 1, 8, 10, 47), PULocationID=16, total_amount=53.21),\n",
       " Row(pickup_datetime=datetime.datetime(2020, 1, 17, 9, 45, 31), PULocationID=82, total_amount=4.8),\n",
       " Row(pickup_datetime=datetime.datetime(2020, 1, 22, 21, 32, 58), PULocationID=74, total_amount=12.3),\n",
       " Row(pickup_datetime=datetime.datetime(2020, 1, 21, 9, 49, 24), PULocationID=41, total_amount=14.55),\n",
       " Row(pickup_datetime=datetime.datetime(2020, 1, 3, 15, 19, 35), PULocationID=52, total_amount=69.09),\n",
       " Row(pickup_datetime=datetime.datetime(2020, 1, 28, 19, 17, 16), PULocationID=74, total_amount=15.45),\n",
       " Row(pickup_datetime=datetime.datetime(2020, 1, 30, 10, 34, 25), PULocationID=75, total_amount=11.76),\n",
       " Row(pickup_datetime=datetime.datetime(2020, 1, 2, 11, 16), PULocationID=15, total_amount=39.67),\n",
       " Row(pickup_datetime=datetime.datetime(2020, 1, 13, 17, 59, 5), PULocationID=82, total_amount=15.3),\n",
       " Row(pickup_datetime=datetime.datetime(2020, 1, 10, 15, 48), PULocationID=18, total_amount=13.92),\n",
       " Row(pickup_datetime=datetime.datetime(2020, 1, 23, 10, 53), PULocationID=39, total_amount=25.0),\n",
       " Row(pickup_datetime=datetime.datetime(2020, 1, 31, 8, 54, 38), PULocationID=92, total_amount=36.42),\n",
       " Row(pickup_datetime=datetime.datetime(2020, 1, 3, 20, 38, 25), PULocationID=255, total_amount=6.3),\n",
       " Row(pickup_datetime=datetime.datetime(2020, 1, 6, 19, 10, 4), PULocationID=82, total_amount=15.3),\n",
       " Row(pickup_datetime=datetime.datetime(2020, 1, 6, 22, 21, 6), PULocationID=66, total_amount=12.36),\n",
       " Row(pickup_datetime=datetime.datetime(2020, 1, 13, 22, 47, 6), PULocationID=82, total_amount=8.3),\n",
       " Row(pickup_datetime=datetime.datetime(2020, 1, 29, 12, 54, 4), PULocationID=196, total_amount=32.8),\n",
       " Row(pickup_datetime=datetime.datetime(2020, 1, 12, 17, 50, 47), PULocationID=74, total_amount=8.3),\n",
       " Row(pickup_datetime=datetime.datetime(2020, 1, 15, 13, 54, 38), PULocationID=242, total_amount=27.0),\n",
       " Row(pickup_datetime=datetime.datetime(2020, 1, 9, 23, 2, 39), PULocationID=152, total_amount=34.42),\n",
       " Row(pickup_datetime=datetime.datetime(2020, 1, 9, 18, 24, 35), PULocationID=166, total_amount=15.55),\n",
       " Row(pickup_datetime=datetime.datetime(2020, 1, 19, 8, 47, 19), PULocationID=24, total_amount=6.36),\n",
       " Row(pickup_datetime=datetime.datetime(2020, 1, 16, 9, 2, 8), PULocationID=74, total_amount=16.05),\n",
       " Row(pickup_datetime=datetime.datetime(2020, 1, 12, 15, 22), PULocationID=181, total_amount=8.5),\n",
       " Row(pickup_datetime=datetime.datetime(2020, 1, 21, 20, 43), PULocationID=92, total_amount=16.6),\n",
       " Row(pickup_datetime=datetime.datetime(2020, 1, 18, 9, 51, 32), PULocationID=244, total_amount=25.26),\n",
       " Row(pickup_datetime=datetime.datetime(2020, 1, 27, 13, 39, 52), PULocationID=244, total_amount=27.55),\n",
       " Row(pickup_datetime=datetime.datetime(2020, 1, 23, 3, 37), PULocationID=147, total_amount=46.99),\n",
       " Row(pickup_datetime=datetime.datetime(2020, 1, 13, 19, 4, 34), PULocationID=95, total_amount=7.8),\n",
       " Row(pickup_datetime=datetime.datetime(2020, 1, 17, 7, 58, 15), PULocationID=41, total_amount=9.36),\n",
       " Row(pickup_datetime=datetime.datetime(2020, 1, 25, 13, 48, 18), PULocationID=116, total_amount=12.43),\n",
       " Row(pickup_datetime=datetime.datetime(2020, 1, 11, 14, 46, 4), PULocationID=116, total_amount=9.8),\n",
       " Row(pickup_datetime=datetime.datetime(2020, 1, 25, 22, 43, 23), PULocationID=146, total_amount=5.8),\n",
       " Row(pickup_datetime=datetime.datetime(2020, 1, 23, 8, 4, 26), PULocationID=75, total_amount=20.55),\n",
       " Row(pickup_datetime=datetime.datetime(2020, 1, 9, 9, 47, 1), PULocationID=130, total_amount=8.0),\n",
       " Row(pickup_datetime=datetime.datetime(2020, 1, 10, 12, 3), PULocationID=33, total_amount=12.93),\n",
       " Row(pickup_datetime=datetime.datetime(2020, 1, 26, 14, 28, 40), PULocationID=66, total_amount=24.65),\n",
       " Row(pickup_datetime=datetime.datetime(2020, 1, 18, 11, 16, 1), PULocationID=244, total_amount=26.55),\n",
       " Row(pickup_datetime=datetime.datetime(2020, 1, 26, 14, 33, 16), PULocationID=7, total_amount=35.46),\n",
       " Row(pickup_datetime=datetime.datetime(2020, 1, 1, 1, 28, 5), PULocationID=112, total_amount=17.76),\n",
       " Row(pickup_datetime=datetime.datetime(2020, 1, 21, 18, 35, 49), PULocationID=42, total_amount=11.3),\n",
       " Row(pickup_datetime=datetime.datetime(2020, 1, 2, 11, 22, 17), PULocationID=74, total_amount=16.26),\n",
       " Row(pickup_datetime=datetime.datetime(2020, 1, 29, 10, 14, 9), PULocationID=82, total_amount=9.8),\n",
       " Row(pickup_datetime=datetime.datetime(2020, 1, 22, 11, 48), PULocationID=225, total_amount=29.21),\n",
       " Row(pickup_datetime=datetime.datetime(2020, 1, 4, 12, 24, 24), PULocationID=82, total_amount=14.8),\n",
       " Row(pickup_datetime=datetime.datetime(2020, 1, 15, 21, 35, 36), PULocationID=95, total_amount=7.56),\n",
       " Row(pickup_datetime=datetime.datetime(2020, 1, 31, 10, 46, 42), PULocationID=41, total_amount=4.8),\n",
       " Row(pickup_datetime=datetime.datetime(2020, 1, 26, 10, 21), PULocationID=167, total_amount=26.14),\n",
       " Row(pickup_datetime=datetime.datetime(2020, 1, 16, 18, 23), PULocationID=259, total_amount=36.0),\n",
       " Row(pickup_datetime=datetime.datetime(2020, 1, 22, 16, 52, 28), PULocationID=166, total_amount=12.65),\n",
       " Row(pickup_datetime=datetime.datetime(2020, 1, 31, 13, 55, 7), PULocationID=75, total_amount=25.86),\n",
       " Row(pickup_datetime=datetime.datetime(2020, 1, 26, 13, 28, 35), PULocationID=82, total_amount=10.56),\n",
       " Row(pickup_datetime=datetime.datetime(2020, 1, 9, 9, 7, 14), PULocationID=74, total_amount=14.16),\n",
       " Row(pickup_datetime=datetime.datetime(2020, 1, 6, 9, 45), PULocationID=71, total_amount=24.42),\n",
       " Row(pickup_datetime=datetime.datetime(2020, 1, 15, 8, 19, 20), PULocationID=55, total_amount=17.8),\n",
       " Row(pickup_datetime=datetime.datetime(2020, 1, 9, 9, 4), PULocationID=21, total_amount=36.55),\n",
       " Row(pickup_datetime=datetime.datetime(2020, 1, 2, 15, 50), PULocationID=89, total_amount=20.85),\n",
       " Row(pickup_datetime=datetime.datetime(2020, 1, 29, 11, 20), PULocationID=75, total_amount=38.84),\n",
       " Row(pickup_datetime=datetime.datetime(2020, 1, 9, 10, 15), PULocationID=42, total_amount=21.41),\n",
       " Row(pickup_datetime=datetime.datetime(2020, 1, 28, 15, 51, 59), PULocationID=24, total_amount=19.26),\n",
       " Row(pickup_datetime=datetime.datetime(2020, 1, 6, 6, 52, 14), PULocationID=260, total_amount=15.35),\n",
       " Row(pickup_datetime=datetime.datetime(2020, 1, 30, 8, 53), PULocationID=26, total_amount=46.66),\n",
       " Row(pickup_datetime=datetime.datetime(2020, 1, 15, 12, 48, 40), PULocationID=41, total_amount=5.3),\n",
       " Row(pickup_datetime=datetime.datetime(2020, 1, 18, 16, 45), PULocationID=130, total_amount=53.43),\n",
       " Row(pickup_datetime=datetime.datetime(2020, 1, 8, 18, 1, 22), PULocationID=95, total_amount=9.49),\n",
       " Row(pickup_datetime=datetime.datetime(2020, 1, 18, 9, 59, 1), PULocationID=95, total_amount=8.8),\n",
       " Row(pickup_datetime=datetime.datetime(2020, 1, 9, 18, 26, 56), PULocationID=93, total_amount=34.71),\n",
       " Row(pickup_datetime=datetime.datetime(2020, 1, 13, 19, 15, 1), PULocationID=75, total_amount=6.3),\n",
       " Row(pickup_datetime=datetime.datetime(2020, 1, 1, 23, 48), PULocationID=210, total_amount=8.8),\n",
       " Row(pickup_datetime=datetime.datetime(2020, 1, 31, 12, 56, 47), PULocationID=65, total_amount=7.8),\n",
       " Row(pickup_datetime=datetime.datetime(2020, 1, 16, 15, 22, 14), PULocationID=75, total_amount=7.48),\n",
       " Row(pickup_datetime=datetime.datetime(2020, 1, 12, 0, 2, 33), PULocationID=97, total_amount=31.31),\n",
       " Row(pickup_datetime=datetime.datetime(2020, 1, 5, 10, 18, 24), PULocationID=134, total_amount=11.76),\n",
       " Row(pickup_datetime=datetime.datetime(2020, 1, 11, 23, 14, 32), PULocationID=65, total_amount=9.36),\n",
       " Row(pickup_datetime=datetime.datetime(2020, 1, 23, 17, 27, 16), PULocationID=33, total_amount=42.95),\n",
       " Row(pickup_datetime=datetime.datetime(2020, 1, 23, 9, 3, 59), PULocationID=145, total_amount=9.75),\n",
       " Row(pickup_datetime=datetime.datetime(2020, 1, 31, 19, 18, 42), PULocationID=40, total_amount=9.54),\n",
       " Row(pickup_datetime=datetime.datetime(2020, 1, 20, 15, 0, 6), PULocationID=243, total_amount=6.89),\n",
       " Row(pickup_datetime=datetime.datetime(2020, 1, 9, 13, 44, 18), PULocationID=75, total_amount=25.8),\n",
       " Row(pickup_datetime=datetime.datetime(2020, 1, 1, 2, 36, 40), PULocationID=168, total_amount=10.8),\n",
       " Row(pickup_datetime=datetime.datetime(2020, 1, 4, 17, 47), PULocationID=216, total_amount=43.87),\n",
       " Row(pickup_datetime=datetime.datetime(2020, 1, 14, 2, 5, 18), PULocationID=42, total_amount=15.55),\n",
       " Row(pickup_datetime=datetime.datetime(2020, 1, 22, 11, 59), PULocationID=92, total_amount=30.11),\n",
       " Row(pickup_datetime=datetime.datetime(2020, 1, 25, 15, 8, 21), PULocationID=52, total_amount=17.3),\n",
       " Row(pickup_datetime=datetime.datetime(2020, 1, 4, 14, 52, 13), PULocationID=74, total_amount=11.16),\n",
       " Row(pickup_datetime=datetime.datetime(2020, 1, 3, 21, 17, 37), PULocationID=75, total_amount=10.86),\n",
       " Row(pickup_datetime=datetime.datetime(2020, 1, 30, 14, 55), PULocationID=197, total_amount=35.72),\n",
       " Row(pickup_datetime=datetime.datetime(2020, 1, 25, 22, 24, 7), PULocationID=255, total_amount=23.46),\n",
       " Row(pickup_datetime=datetime.datetime(2020, 1, 27, 18, 4, 53), PULocationID=74, total_amount=7.3),\n",
       " Row(pickup_datetime=datetime.datetime(2020, 1, 15, 8, 51, 28), PULocationID=74, total_amount=9.95),\n",
       " Row(pickup_datetime=datetime.datetime(2020, 1, 29, 9, 37), PULocationID=55, total_amount=35.34),\n",
       " Row(pickup_datetime=datetime.datetime(2020, 1, 29, 23, 31, 8), PULocationID=166, total_amount=6.3),\n",
       " Row(pickup_datetime=datetime.datetime(2020, 1, 11, 0, 6, 6), PULocationID=75, total_amount=21.8),\n",
       " Row(pickup_datetime=datetime.datetime(2020, 1, 15, 17, 33, 3), PULocationID=228, total_amount=77.17),\n",
       " Row(pickup_datetime=datetime.datetime(2020, 1, 6, 21, 16, 33), PULocationID=181, total_amount=12.8),\n",
       " Row(pickup_datetime=datetime.datetime(2020, 1, 10, 10, 18), PULocationID=63, total_amount=21.74),\n",
       " Row(pickup_datetime=datetime.datetime(2020, 1, 21, 8, 39, 20), PULocationID=74, total_amount=6.3),\n",
       " Row(pickup_datetime=datetime.datetime(2020, 1, 22, 9, 16, 20), PULocationID=97, total_amount=5.8),\n",
       " Row(pickup_datetime=datetime.datetime(2020, 1, 9, 14, 55, 53), PULocationID=42, total_amount=7.5),\n",
       " Row(pickup_datetime=datetime.datetime(2020, 1, 27, 9, 44), PULocationID=39, total_amount=31.08),\n",
       " Row(pickup_datetime=datetime.datetime(2020, 1, 4, 20, 4), PULocationID=89, total_amount=24.42),\n",
       " Row(pickup_datetime=datetime.datetime(2020, 1, 16, 10, 21), PULocationID=49, total_amount=22.2),\n",
       " Row(pickup_datetime=datetime.datetime(2020, 1, 14, 22, 19, 28), PULocationID=226, total_amount=16.55),\n",
       " Row(pickup_datetime=datetime.datetime(2020, 1, 23, 11, 42, 36), PULocationID=97, total_amount=19.86),\n",
       " Row(pickup_datetime=datetime.datetime(2020, 1, 12, 12, 49), PULocationID=121, total_amount=48.36),\n",
       " Row(pickup_datetime=datetime.datetime(2020, 1, 13, 17, 18, 35), PULocationID=75, total_amount=10.38),\n",
       " Row(pickup_datetime=datetime.datetime(2020, 1, 11, 20, 31, 16), PULocationID=145, total_amount=20.67),\n",
       " Row(pickup_datetime=datetime.datetime(2020, 1, 25, 1, 21, 47), PULocationID=112, total_amount=12.36),\n",
       " Row(pickup_datetime=datetime.datetime(2020, 1, 19, 13, 2), PULocationID=76, total_amount=18.48),\n",
       " Row(pickup_datetime=datetime.datetime(2020, 1, 26, 0, 56, 39), PULocationID=243, total_amount=47.05),\n",
       " Row(pickup_datetime=datetime.datetime(2020, 1, 16, 8, 7), PULocationID=81, total_amount=24.21),\n",
       " Row(pickup_datetime=datetime.datetime(2020, 1, 23, 19, 38, 27), PULocationID=95, total_amount=12.7),\n",
       " Row(pickup_datetime=datetime.datetime(2020, 1, 5, 22, 21, 4), PULocationID=7, total_amount=10.8),\n",
       " Row(pickup_datetime=datetime.datetime(2020, 1, 7, 12, 34), PULocationID=35, total_amount=52.4),\n",
       " Row(pickup_datetime=datetime.datetime(2020, 1, 13, 22, 22), PULocationID=174, total_amount=20.64),\n",
       " Row(pickup_datetime=datetime.datetime(2020, 1, 11, 12, 15, 31), PULocationID=20, total_amount=5.8),\n",
       " Row(pickup_datetime=datetime.datetime(2020, 1, 10, 21, 40, 31), PULocationID=66, total_amount=19.86),\n",
       " Row(pickup_datetime=datetime.datetime(2020, 1, 16, 17, 26, 52), PULocationID=51, total_amount=21.3),\n",
       " Row(pickup_datetime=datetime.datetime(2020, 1, 3, 16, 32, 40), PULocationID=244, total_amount=12.3),\n",
       " Row(pickup_datetime=datetime.datetime(2020, 1, 25, 15, 9, 35), PULocationID=7, total_amount=16.8),\n",
       " Row(pickup_datetime=datetime.datetime(2020, 1, 31, 19, 43, 7), PULocationID=25, total_amount=6.8),\n",
       " Row(pickup_datetime=datetime.datetime(2020, 1, 17, 6, 46, 52), PULocationID=225, total_amount=25.0),\n",
       " Row(pickup_datetime=datetime.datetime(2020, 1, 3, 19, 30), PULocationID=250, total_amount=67.59),\n",
       " Row(pickup_datetime=datetime.datetime(2020, 1, 29, 17, 55, 25), PULocationID=166, total_amount=12.96),\n",
       " Row(pickup_datetime=datetime.datetime(2020, 1, 31, 22, 12, 13), PULocationID=52, total_amount=22.3),\n",
       " Row(pickup_datetime=datetime.datetime(2020, 1, 22, 15, 59), PULocationID=234, total_amount=33.44),\n",
       " Row(pickup_datetime=datetime.datetime(2020, 1, 14, 7, 11), PULocationID=89, total_amount=17.0),\n",
       " Row(pickup_datetime=datetime.datetime(2020, 1, 6, 17, 13, 38), PULocationID=121, total_amount=20.0),\n",
       " Row(pickup_datetime=datetime.datetime(2020, 1, 30, 21, 10, 35), PULocationID=95, total_amount=14.04),\n",
       " Row(pickup_datetime=datetime.datetime(2020, 1, 11, 23, 47, 47), PULocationID=181, total_amount=33.3),\n",
       " Row(pickup_datetime=datetime.datetime(2020, 1, 25, 10, 59, 37), PULocationID=226, total_amount=21.55),\n",
       " Row(pickup_datetime=datetime.datetime(2020, 1, 23, 12, 56), PULocationID=226, total_amount=24.5),\n",
       " Row(pickup_datetime=datetime.datetime(2020, 1, 17, 18, 39, 19), PULocationID=25, total_amount=35.76),\n",
       " Row(pickup_datetime=datetime.datetime(2020, 1, 28, 17, 30), PULocationID=159, total_amount=26.26),\n",
       " Row(pickup_datetime=datetime.datetime(2020, 1, 15, 23, 28, 35), PULocationID=97, total_amount=11.76),\n",
       " Row(pickup_datetime=datetime.datetime(2020, 1, 20, 14, 51, 34), PULocationID=33, total_amount=6.3),\n",
       " Row(pickup_datetime=datetime.datetime(2020, 1, 23, 12, 33), PULocationID=78, total_amount=21.8),\n",
       " Row(pickup_datetime=datetime.datetime(2020, 1, 15, 20, 10, 29), PULocationID=83, total_amount=13.8),\n",
       " Row(pickup_datetime=datetime.datetime(2020, 1, 9, 11, 32, 22), PULocationID=162, total_amount=25.43),\n",
       " Row(pickup_datetime=datetime.datetime(2020, 1, 7, 23, 58, 41), PULocationID=82, total_amount=21.8),\n",
       " Row(pickup_datetime=datetime.datetime(2020, 1, 21, 20, 1, 6), PULocationID=129, total_amount=9.3),\n",
       " Row(pickup_datetime=datetime.datetime(2020, 1, 23, 10, 58, 37), PULocationID=65, total_amount=27.3),\n",
       " Row(pickup_datetime=datetime.datetime(2020, 1, 2, 13, 13, 2), PULocationID=152, total_amount=3.8),\n",
       " Row(pickup_datetime=datetime.datetime(2020, 1, 16, 4, 3), PULocationID=3, total_amount=23.85),\n",
       " Row(pickup_datetime=datetime.datetime(2020, 1, 2, 10, 33, 36), PULocationID=74, total_amount=14.8),\n",
       " Row(pickup_datetime=datetime.datetime(2020, 1, 22, 14, 7, 38), PULocationID=181, total_amount=5.76),\n",
       " Row(pickup_datetime=datetime.datetime(2020, 1, 10, 1, 57, 50), PULocationID=7, total_amount=5.3),\n",
       " Row(pickup_datetime=datetime.datetime(2020, 1, 25, 23, 10, 20), PULocationID=255, total_amount=8.3),\n",
       " Row(pickup_datetime=datetime.datetime(2020, 1, 13, 11, 21, 22), PULocationID=260, total_amount=12.8),\n",
       " Row(pickup_datetime=datetime.datetime(2020, 1, 8, 14, 10, 20), PULocationID=97, total_amount=15.3),\n",
       " Row(pickup_datetime=datetime.datetime(2020, 1, 6, 4, 2, 55), PULocationID=41, total_amount=7.56),\n",
       " Row(pickup_datetime=datetime.datetime(2020, 1, 22, 17, 47, 30), PULocationID=74, total_amount=15.95),\n",
       " Row(pickup_datetime=datetime.datetime(2020, 1, 18, 5, 21), PULocationID=257, total_amount=19.78),\n",
       " Row(pickup_datetime=datetime.datetime(2020, 1, 27, 16, 20, 30), PULocationID=75, total_amount=10.55),\n",
       " Row(pickup_datetime=datetime.datetime(2020, 1, 23, 20, 26, 36), PULocationID=166, total_amount=8.8),\n",
       " Row(pickup_datetime=datetime.datetime(2020, 1, 11, 11, 12), PULocationID=188, total_amount=8.3),\n",
       " Row(pickup_datetime=datetime.datetime(2020, 1, 3, 15, 37, 20), PULocationID=112, total_amount=11.76),\n",
       " Row(pickup_datetime=datetime.datetime(2020, 1, 28, 13, 31, 8), PULocationID=94, total_amount=20.0),\n",
       " Row(pickup_datetime=datetime.datetime(2020, 1, 31, 14, 12, 54), PULocationID=74, total_amount=9.8),\n",
       " Row(pickup_datetime=datetime.datetime(2020, 1, 3, 20, 40, 9), PULocationID=166, total_amount=6.35),\n",
       " Row(pickup_datetime=datetime.datetime(2020, 1, 19, 19, 38, 25), PULocationID=82, total_amount=8.8),\n",
       " Row(pickup_datetime=datetime.datetime(2020, 1, 15, 18, 33, 52), PULocationID=74, total_amount=14.3),\n",
       " Row(pickup_datetime=datetime.datetime(2020, 1, 13, 19, 55, 42), PULocationID=41, total_amount=30.31),\n",
       " Row(pickup_datetime=datetime.datetime(2020, 1, 10, 10, 30, 56), PULocationID=74, total_amount=15.3),\n",
       " Row(pickup_datetime=datetime.datetime(2020, 1, 16, 10, 59), PULocationID=32, total_amount=23.85),\n",
       " Row(pickup_datetime=datetime.datetime(2020, 1, 18, 19, 53, 14), PULocationID=41, total_amount=27.42),\n",
       " Row(pickup_datetime=datetime.datetime(2020, 1, 11, 16, 40, 38), PULocationID=223, total_amount=33.06),\n",
       " Row(pickup_datetime=datetime.datetime(2020, 1, 19, 3, 13, 48), PULocationID=80, total_amount=6.36),\n",
       " Row(pickup_datetime=datetime.datetime(2020, 1, 23, 12, 13), PULocationID=167, total_amount=36.71),\n",
       " Row(pickup_datetime=datetime.datetime(2020, 1, 21, 15, 32, 39), PULocationID=181, total_amount=31.0),\n",
       " Row(pickup_datetime=datetime.datetime(2020, 1, 29, 18, 19, 5), PULocationID=75, total_amount=17.75),\n",
       " Row(pickup_datetime=datetime.datetime(2020, 1, 27, 8, 59, 9), PULocationID=145, total_amount=6.3),\n",
       " Row(pickup_datetime=datetime.datetime(2020, 1, 14, 11, 10, 18), PULocationID=159, total_amount=7.8),\n",
       " Row(pickup_datetime=datetime.datetime(2020, 1, 3, 15, 11, 37), PULocationID=166, total_amount=17.46),\n",
       " Row(pickup_datetime=datetime.datetime(2020, 1, 12, 17, 2, 39), PULocationID=166, total_amount=4.8),\n",
       " Row(pickup_datetime=datetime.datetime(2020, 1, 15, 21, 4, 31), PULocationID=75, total_amount=6.8),\n",
       " Row(pickup_datetime=datetime.datetime(2020, 1, 2, 8, 39, 7), PULocationID=74, total_amount=7.3),\n",
       " Row(pickup_datetime=datetime.datetime(2020, 1, 20, 12, 1, 9), PULocationID=75, total_amount=13.86),\n",
       " Row(pickup_datetime=datetime.datetime(2020, 1, 14, 8, 55), PULocationID=74, total_amount=57.3),\n",
       " Row(pickup_datetime=datetime.datetime(2020, 1, 16, 12, 33, 48), PULocationID=41, total_amount=8.03),\n",
       " Row(pickup_datetime=datetime.datetime(2020, 1, 21, 6, 18), PULocationID=39, total_amount=26.84),\n",
       " Row(pickup_datetime=datetime.datetime(2020, 1, 11, 6, 2), PULocationID=242, total_amount=31.55),\n",
       " Row(pickup_datetime=datetime.datetime(2020, 1, 1, 3, 6, 44), PULocationID=181, total_amount=10.56),\n",
       " Row(pickup_datetime=datetime.datetime(2020, 1, 10, 19, 11, 32), PULocationID=41, total_amount=21.6),\n",
       " Row(pickup_datetime=datetime.datetime(2020, 1, 5, 22, 34), PULocationID=52, total_amount=15.57),\n",
       " Row(pickup_datetime=datetime.datetime(2020, 1, 24, 21, 14, 22), PULocationID=260, total_amount=8.8),\n",
       " Row(pickup_datetime=datetime.datetime(2020, 1, 7, 23, 35, 44), PULocationID=66, total_amount=6.8),\n",
       " Row(pickup_datetime=datetime.datetime(2020, 1, 3, 16, 59, 44), PULocationID=43, total_amount=8.8),\n",
       " Row(pickup_datetime=datetime.datetime(2020, 1, 25, 12, 25, 29), PULocationID=168, total_amount=32.55),\n",
       " Row(pickup_datetime=datetime.datetime(2020, 1, 9, 14, 43), PULocationID=174, total_amount=36.0),\n",
       " Row(pickup_datetime=datetime.datetime(2020, 1, 26, 19, 48, 17), PULocationID=36, total_amount=30.06),\n",
       " Row(pickup_datetime=datetime.datetime(2020, 1, 6, 21, 9, 6), PULocationID=82, total_amount=6.8),\n",
       " Row(pickup_datetime=datetime.datetime(2020, 1, 12, 10, 39), PULocationID=149, total_amount=14.5),\n",
       " Row(pickup_datetime=datetime.datetime(2020, 1, 12, 19, 18, 15), PULocationID=195, total_amount=8.76),\n",
       " Row(pickup_datetime=datetime.datetime(2020, 1, 1, 2, 59, 26), PULocationID=152, total_amount=16.44),\n",
       " Row(pickup_datetime=datetime.datetime(2020, 1, 5, 22, 3, 40), PULocationID=74, total_amount=4.8),\n",
       " Row(pickup_datetime=datetime.datetime(2020, 1, 31, 19, 59, 46), PULocationID=52, total_amount=13.56),\n",
       " Row(pickup_datetime=datetime.datetime(2020, 1, 12, 10, 10), PULocationID=33, total_amount=30.59),\n",
       " Row(pickup_datetime=datetime.datetime(2020, 1, 9, 13, 46, 36), PULocationID=181, total_amount=12.09),\n",
       " Row(pickup_datetime=datetime.datetime(2020, 1, 22, 18, 13, 53), PULocationID=74, total_amount=12.8),\n",
       " Row(pickup_datetime=datetime.datetime(2020, 1, 29, 15, 21), PULocationID=92, total_amount=30.11),\n",
       " Row(pickup_datetime=datetime.datetime(2020, 1, 23, 10, 19), PULocationID=74, total_amount=14.3),\n",
       " Row(pickup_datetime=datetime.datetime(2020, 1, 8, 8, 27), PULocationID=122, total_amount=41.79),\n",
       " Row(pickup_datetime=datetime.datetime(2020, 1, 14, 18, 12, 34), PULocationID=41, total_amount=6.8),\n",
       " Row(pickup_datetime=datetime.datetime(2020, 1, 11, 13, 51, 29), PULocationID=260, total_amount=7.8),\n",
       " Row(pickup_datetime=datetime.datetime(2020, 1, 19, 16, 49, 47), PULocationID=25, total_amount=8.15),\n",
       " Row(pickup_datetime=datetime.datetime(2020, 1, 21, 23, 2, 4), PULocationID=24, total_amount=10.56),\n",
       " Row(pickup_datetime=datetime.datetime(2020, 1, 10, 16, 45, 25), PULocationID=65, total_amount=17.88),\n",
       " Row(pickup_datetime=datetime.datetime(2020, 1, 3, 19, 8, 16), PULocationID=7, total_amount=6.8),\n",
       " Row(pickup_datetime=datetime.datetime(2020, 1, 21, 14, 50), PULocationID=81, total_amount=41.29),\n",
       " Row(pickup_datetime=datetime.datetime(2020, 1, 12, 7, 35), PULocationID=205, total_amount=43.8),\n",
       " Row(pickup_datetime=datetime.datetime(2020, 1, 25, 16, 54, 24), PULocationID=181, total_amount=4.8),\n",
       " Row(pickup_datetime=datetime.datetime(2020, 1, 25, 20, 45, 24), PULocationID=33, total_amount=29.3),\n",
       " Row(pickup_datetime=datetime.datetime(2020, 1, 28, 14, 27, 38), PULocationID=244, total_amount=21.3),\n",
       " Row(pickup_datetime=datetime.datetime(2020, 1, 24, 20, 55, 47), PULocationID=181, total_amount=23.5),\n",
       " Row(pickup_datetime=datetime.datetime(2020, 1, 11, 9, 48, 1), PULocationID=95, total_amount=9.3),\n",
       " Row(pickup_datetime=datetime.datetime(2020, 1, 7, 7, 49, 13), PULocationID=236, total_amount=13.26),\n",
       " Row(pickup_datetime=datetime.datetime(2020, 1, 8, 15, 0, 32), PULocationID=181, total_amount=16.8),\n",
       " Row(pickup_datetime=datetime.datetime(2020, 1, 10, 7, 6), PULocationID=189, total_amount=24.42),\n",
       " Row(pickup_datetime=datetime.datetime(2020, 1, 10, 14, 23, 16), PULocationID=166, total_amount=11.8),\n",
       " Row(pickup_datetime=datetime.datetime(2020, 1, 14, 13, 56), PULocationID=75, total_amount=23.7),\n",
       " Row(pickup_datetime=datetime.datetime(2020, 1, 4, 22, 45, 15), PULocationID=33, total_amount=7.56),\n",
       " Row(pickup_datetime=datetime.datetime(2020, 1, 7, 14, 18, 15), PULocationID=74, total_amount=10.8),\n",
       " Row(pickup_datetime=datetime.datetime(2020, 1, 27, 12, 31, 49), PULocationID=41, total_amount=15.55),\n",
       " Row(pickup_datetime=datetime.datetime(2020, 1, 9, 16, 4, 33), PULocationID=41, total_amount=9.49),\n",
       " Row(pickup_datetime=datetime.datetime(2020, 1, 11, 12, 41, 40), PULocationID=7, total_amount=5.3),\n",
       " Row(pickup_datetime=datetime.datetime(2020, 1, 21, 17, 58, 1), PULocationID=74, total_amount=11.8),\n",
       " Row(pickup_datetime=datetime.datetime(2020, 1, 27, 15, 46, 28), PULocationID=210, total_amount=10.3),\n",
       " Row(pickup_datetime=datetime.datetime(2020, 1, 12, 17, 11, 46), PULocationID=7, total_amount=8.76),\n",
       " Row(pickup_datetime=datetime.datetime(2020, 1, 18, 11, 19, 39), PULocationID=75, total_amount=9.36),\n",
       " Row(pickup_datetime=datetime.datetime(2020, 1, 31, 10, 6, 57), PULocationID=166, total_amount=6.3),\n",
       " Row(pickup_datetime=datetime.datetime(2020, 1, 17, 0, 43, 20), PULocationID=82, total_amount=7.3),\n",
       " Row(pickup_datetime=datetime.datetime(2020, 1, 3, 15, 30), PULocationID=65, total_amount=41.56),\n",
       " Row(pickup_datetime=datetime.datetime(2020, 1, 4, 9, 55, 23), PULocationID=42, total_amount=7.3),\n",
       " Row(pickup_datetime=datetime.datetime(2020, 1, 6, 14, 28), PULocationID=196, total_amount=32.22),\n",
       " Row(pickup_datetime=datetime.datetime(2020, 1, 9, 17, 20), PULocationID=145, total_amount=37.07),\n",
       " Row(pickup_datetime=datetime.datetime(2020, 1, 16, 14, 39, 13), PULocationID=74, total_amount=30.3),\n",
       " Row(pickup_datetime=datetime.datetime(2020, 1, 28, 12, 8), PULocationID=86, total_amount=47.35),\n",
       " Row(pickup_datetime=datetime.datetime(2020, 1, 1, 10, 29, 33), PULocationID=33, total_amount=11.76),\n",
       " Row(pickup_datetime=datetime.datetime(2020, 1, 15, 8, 15, 23), PULocationID=35, total_amount=23.0),\n",
       " Row(pickup_datetime=datetime.datetime(2020, 1, 8, 8, 30), PULocationID=191, total_amount=30.11),\n",
       " Row(pickup_datetime=datetime.datetime(2020, 1, 9, 11, 41, 29), PULocationID=82, total_amount=30.0),\n",
       " Row(pickup_datetime=datetime.datetime(2020, 1, 25, 11, 44, 15), PULocationID=260, total_amount=11.3),\n",
       " Row(pickup_datetime=datetime.datetime(2020, 1, 2, 14, 31, 5), PULocationID=41, total_amount=9.8),\n",
       " Row(pickup_datetime=datetime.datetime(2020, 1, 11, 13, 30, 26), PULocationID=42, total_amount=8.3),\n",
       " Row(pickup_datetime=datetime.datetime(2020, 1, 9, 14, 57), PULocationID=97, total_amount=31.08),\n",
       " Row(pickup_datetime=datetime.datetime(2020, 1, 3, 21, 38, 24), PULocationID=7, total_amount=6.8),\n",
       " Row(pickup_datetime=datetime.datetime(2020, 1, 31, 11, 19, 11), PULocationID=130, total_amount=11.76),\n",
       " Row(pickup_datetime=datetime.datetime(2020, 1, 24, 8, 25, 18), PULocationID=42, total_amount=4.8),\n",
       " Row(pickup_datetime=datetime.datetime(2020, 1, 29, 8, 44, 40), PULocationID=74, total_amount=8.8),\n",
       " Row(pickup_datetime=datetime.datetime(2020, 1, 9, 15, 14), PULocationID=18, total_amount=15.84),\n",
       " Row(pickup_datetime=datetime.datetime(2020, 1, 19, 23, 13, 25), PULocationID=226, total_amount=24.55),\n",
       " Row(pickup_datetime=datetime.datetime(2020, 1, 24, 15, 36, 55), PULocationID=152, total_amount=12.3),\n",
       " Row(pickup_datetime=datetime.datetime(2020, 1, 31, 11, 51), PULocationID=242, total_amount=24.21),\n",
       " Row(pickup_datetime=datetime.datetime(2020, 1, 20, 23, 37, 9), PULocationID=97, total_amount=5.8),\n",
       " Row(pickup_datetime=datetime.datetime(2020, 1, 18, 21, 41), PULocationID=167, total_amount=22.29),\n",
       " Row(pickup_datetime=datetime.datetime(2020, 1, 15, 21, 0), PULocationID=66, total_amount=33.05),\n",
       " Row(pickup_datetime=datetime.datetime(2020, 1, 23, 7, 33, 22), PULocationID=7, total_amount=33.23),\n",
       " Row(pickup_datetime=datetime.datetime(2020, 1, 18, 6, 29, 30), PULocationID=41, total_amount=7.56),\n",
       " Row(pickup_datetime=datetime.datetime(2020, 1, 21, 15, 26, 56), PULocationID=223, total_amount=24.8),\n",
       " Row(pickup_datetime=datetime.datetime(2020, 1, 29, 21, 56, 6), PULocationID=74, total_amount=12.88),\n",
       " Row(pickup_datetime=datetime.datetime(2020, 1, 27, 22, 11, 1), PULocationID=95, total_amount=9.96),\n",
       " Row(pickup_datetime=datetime.datetime(2020, 1, 17, 18, 24, 31), PULocationID=82, total_amount=28.55),\n",
       " Row(pickup_datetime=datetime.datetime(2020, 1, 28, 6, 52), PULocationID=219, total_amount=61.55),\n",
       " Row(pickup_datetime=datetime.datetime(2020, 1, 9, 20, 1, 52), PULocationID=244, total_amount=19.55),\n",
       " Row(pickup_datetime=datetime.datetime(2020, 1, 28, 18, 26, 44), PULocationID=75, total_amount=14.05),\n",
       " Row(pickup_datetime=datetime.datetime(2020, 1, 30, 17, 31, 11), PULocationID=130, total_amount=11.3),\n",
       " Row(pickup_datetime=datetime.datetime(2020, 1, 19, 11, 1, 17), PULocationID=65, total_amount=7.56),\n",
       " Row(pickup_datetime=datetime.datetime(2020, 1, 23, 18, 9, 13), PULocationID=146, total_amount=8.8),\n",
       " Row(pickup_datetime=datetime.datetime(2020, 1, 7, 9, 51, 34), PULocationID=75, total_amount=15.06),\n",
       " Row(pickup_datetime=datetime.datetime(2020, 1, 11, 12, 22, 15), PULocationID=65, total_amount=12.36),\n",
       " Row(pickup_datetime=datetime.datetime(2020, 1, 9, 9, 43, 52), PULocationID=74, total_amount=20.46),\n",
       " Row(pickup_datetime=datetime.datetime(2020, 1, 21, 16, 17, 36), PULocationID=75, total_amount=19.05),\n",
       " Row(pickup_datetime=datetime.datetime(2020, 1, 10, 15, 8, 41), PULocationID=75, total_amount=11.05),\n",
       " Row(pickup_datetime=datetime.datetime(2020, 1, 11, 23, 33, 39), PULocationID=92, total_amount=14.76),\n",
       " Row(pickup_datetime=datetime.datetime(2020, 1, 3, 18, 28, 23), PULocationID=74, total_amount=17.46),\n",
       " Row(pickup_datetime=datetime.datetime(2020, 1, 9, 11, 53, 37), PULocationID=97, total_amount=18.95),\n",
       " Row(pickup_datetime=datetime.datetime(2020, 1, 20, 4, 42, 18), PULocationID=130, total_amount=12.8),\n",
       " Row(pickup_datetime=datetime.datetime(2020, 1, 16, 11, 15, 28), PULocationID=25, total_amount=20.06),\n",
       " Row(pickup_datetime=datetime.datetime(2020, 1, 11, 18, 15, 58), PULocationID=97, total_amount=7.8),\n",
       " Row(pickup_datetime=datetime.datetime(2020, 1, 29, 22, 22, 31), PULocationID=134, total_amount=8.16),\n",
       " Row(pickup_datetime=datetime.datetime(2020, 1, 13, 8, 3, 2), PULocationID=145, total_amount=8.76),\n",
       " Row(pickup_datetime=datetime.datetime(2020, 1, 11, 11, 12), PULocationID=151, total_amount=48.82),\n",
       " Row(pickup_datetime=datetime.datetime(2020, 1, 3, 8, 14), PULocationID=136, total_amount=29.0),\n",
       " Row(pickup_datetime=datetime.datetime(2020, 1, 31, 20, 56, 17), PULocationID=75, total_amount=18.27),\n",
       " Row(pickup_datetime=datetime.datetime(2020, 1, 12, 6, 1, 38), PULocationID=256, total_amount=26.05),\n",
       " Row(pickup_datetime=datetime.datetime(2020, 1, 10, 14, 28, 42), PULocationID=146, total_amount=10.75),\n",
       " Row(pickup_datetime=datetime.datetime(2020, 1, 11, 18, 23, 46), PULocationID=95, total_amount=12.3),\n",
       " Row(pickup_datetime=datetime.datetime(2020, 1, 9, 20, 7, 31), PULocationID=75, total_amount=8.16),\n",
       " Row(pickup_datetime=datetime.datetime(2020, 1, 10, 14, 11), PULocationID=242, total_amount=21.64),\n",
       " Row(pickup_datetime=datetime.datetime(2020, 1, 8, 13, 24, 45), PULocationID=74, total_amount=6.6),\n",
       " Row(pickup_datetime=datetime.datetime(2020, 1, 9, 16, 12, 55), PULocationID=181, total_amount=40.69),\n",
       " Row(pickup_datetime=datetime.datetime(2020, 1, 2, 13, 37, 10), PULocationID=74, total_amount=14.3),\n",
       " Row(pickup_datetime=datetime.datetime(2020, 1, 9, 18, 34, 32), PULocationID=25, total_amount=12.88),\n",
       " Row(pickup_datetime=datetime.datetime(2020, 1, 14, 14, 58), PULocationID=174, total_amount=26.14),\n",
       " Row(pickup_datetime=datetime.datetime(2020, 1, 25, 15, 30), PULocationID=7, total_amount=6.09),\n",
       " Row(pickup_datetime=datetime.datetime(2020, 1, 1, 4, 8, 47), PULocationID=69, total_amount=8.3),\n",
       " Row(pickup_datetime=datetime.datetime(2020, 1, 28, 7, 57, 48), PULocationID=130, total_amount=10.3),\n",
       " Row(pickup_datetime=datetime.datetime(2020, 1, 30, 17, 32), PULocationID=35, total_amount=19.78),\n",
       " Row(pickup_datetime=datetime.datetime(2020, 1, 7, 22, 46, 42), PULocationID=41, total_amount=8.76),\n",
       " Row(pickup_datetime=datetime.datetime(2020, 1, 17, 7, 39, 3), PULocationID=117, total_amount=5.3),\n",
       " Row(pickup_datetime=datetime.datetime(2020, 1, 18, 13, 35, 51), PULocationID=7, total_amount=6.3),\n",
       " Row(pickup_datetime=datetime.datetime(2020, 1, 10, 20, 56), PULocationID=61, total_amount=23.98),\n",
       " Row(pickup_datetime=datetime.datetime(2020, 1, 30, 21, 39, 28), PULocationID=7, total_amount=27.8),\n",
       " Row(pickup_datetime=datetime.datetime(2020, 1, 2, 14, 53), PULocationID=196, total_amount=54.29),\n",
       " Row(pickup_datetime=datetime.datetime(2020, 1, 18, 5, 37, 55), PULocationID=82, total_amount=11.3),\n",
       " Row(pickup_datetime=datetime.datetime(2020, 1, 6, 7, 43, 18), PULocationID=260, total_amount=10.3),\n",
       " Row(pickup_datetime=datetime.datetime(2020, 1, 9, 18, 20, 31), PULocationID=223, total_amount=15.3),\n",
       " Row(pickup_datetime=datetime.datetime(2020, 1, 25, 17, 7, 44), PULocationID=97, total_amount=14.76),\n",
       " Row(pickup_datetime=datetime.datetime(2020, 1, 29, 18, 18, 7), PULocationID=247, total_amount=6.3),\n",
       " Row(pickup_datetime=datetime.datetime(2020, 1, 18, 14, 28), PULocationID=41, total_amount=7.8),\n",
       " Row(pickup_datetime=datetime.datetime(2020, 1, 14, 19, 57, 8), PULocationID=95, total_amount=14.3),\n",
       " Row(pickup_datetime=datetime.datetime(2020, 1, 2, 17, 35), PULocationID=188, total_amount=28.45),\n",
       " Row(pickup_datetime=datetime.datetime(2020, 1, 5, 10, 24, 30), PULocationID=97, total_amount=12.35),\n",
       " Row(pickup_datetime=datetime.datetime(2020, 1, 30, 16, 32), PULocationID=33, total_amount=25.41),\n",
       " Row(pickup_datetime=datetime.datetime(2020, 1, 18, 14, 29), PULocationID=41, total_amount=15.36),\n",
       " Row(pickup_datetime=datetime.datetime(2020, 1, 11, 16, 27), PULocationID=76, total_amount=13.36),\n",
       " Row(pickup_datetime=datetime.datetime(2020, 1, 15, 21, 42, 30), PULocationID=152, total_amount=11.76),\n",
       " Row(pickup_datetime=datetime.datetime(2020, 1, 2, 22, 14, 36), PULocationID=42, total_amount=21.55),\n",
       " Row(pickup_datetime=datetime.datetime(2020, 1, 24, 11, 40, 33), PULocationID=244, total_amount=27.05),\n",
       " Row(pickup_datetime=datetime.datetime(2020, 1, 7, 9, 9), PULocationID=130, total_amount=24.62),\n",
       " Row(pickup_datetime=datetime.datetime(2020, 1, 24, 21, 21, 7), PULocationID=166, total_amount=14.05),\n",
       " Row(pickup_datetime=datetime.datetime(2020, 1, 8, 6, 58, 52), PULocationID=159, total_amount=37.12),\n",
       " Row(pickup_datetime=datetime.datetime(2020, 1, 23, 10, 8, 8), PULocationID=74, total_amount=15.42),\n",
       " Row(pickup_datetime=datetime.datetime(2020, 1, 8, 16, 7, 22), PULocationID=244, total_amount=37.26),\n",
       " Row(pickup_datetime=datetime.datetime(2020, 1, 27, 13, 18, 41), PULocationID=166, total_amount=6.8),\n",
       " Row(pickup_datetime=datetime.datetime(2020, 1, 1, 1, 17, 50), PULocationID=82, total_amount=6.8),\n",
       " Row(pickup_datetime=datetime.datetime(2020, 1, 4, 23, 50, 22), PULocationID=256, total_amount=30.53),\n",
       " Row(pickup_datetime=datetime.datetime(2020, 1, 16, 15, 52, 15), PULocationID=95, total_amount=9.8),\n",
       " Row(pickup_datetime=datetime.datetime(2020, 1, 7, 12, 34, 6), PULocationID=82, total_amount=6.8),\n",
       " Row(pickup_datetime=datetime.datetime(2020, 1, 16, 14, 35), PULocationID=42, total_amount=16.98),\n",
       " Row(pickup_datetime=datetime.datetime(2020, 1, 19, 18, 35), PULocationID=101, total_amount=28.97),\n",
       " Row(pickup_datetime=datetime.datetime(2020, 1, 7, 18, 8, 41), PULocationID=65, total_amount=10.79),\n",
       " Row(pickup_datetime=datetime.datetime(2020, 1, 1, 20, 11, 42), PULocationID=41, total_amount=5.8),\n",
       " Row(pickup_datetime=datetime.datetime(2020, 1, 29, 2, 44, 58), PULocationID=145, total_amount=22.05),\n",
       " Row(pickup_datetime=datetime.datetime(2020, 1, 8, 13, 19, 16), PULocationID=41, total_amount=6.96),\n",
       " Row(pickup_datetime=datetime.datetime(2020, 1, 31, 10, 41, 29), PULocationID=130, total_amount=5.76),\n",
       " Row(pickup_datetime=datetime.datetime(2020, 1, 9, 14, 54), PULocationID=97, total_amount=31.88),\n",
       " Row(pickup_datetime=datetime.datetime(2020, 1, 9, 22, 1, 47), PULocationID=129, total_amount=8.15),\n",
       " Row(pickup_datetime=datetime.datetime(2020, 1, 15, 10, 50), PULocationID=210, total_amount=22.44),\n",
       " Row(pickup_datetime=datetime.datetime(2020, 1, 14, 11, 11, 50), PULocationID=62, total_amount=14.16),\n",
       " Row(pickup_datetime=datetime.datetime(2020, 1, 29, 17, 44, 58), PULocationID=42, total_amount=53.92),\n",
       " Row(pickup_datetime=datetime.datetime(2020, 1, 18, 19, 25, 36), PULocationID=24, total_amount=8.15),\n",
       " Row(pickup_datetime=datetime.datetime(2020, 1, 13, 19, 33, 33), PULocationID=130, total_amount=34.3),\n",
       " Row(pickup_datetime=datetime.datetime(2020, 1, 31, 14, 49, 46), PULocationID=97, total_amount=11.16),\n",
       " Row(pickup_datetime=datetime.datetime(2020, 1, 15, 15, 36, 5), PULocationID=74, total_amount=11.62),\n",
       " Row(pickup_datetime=datetime.datetime(2020, 1, 13, 11, 42, 28), PULocationID=166, total_amount=18.66),\n",
       " Row(pickup_datetime=datetime.datetime(2020, 1, 5, 10, 38, 57), PULocationID=43, total_amount=10.56),\n",
       " Row(pickup_datetime=datetime.datetime(2020, 1, 4, 15, 26, 11), PULocationID=166, total_amount=16.05),\n",
       " Row(pickup_datetime=datetime.datetime(2020, 1, 14, 8, 27, 56), PULocationID=7, total_amount=8.8),\n",
       " Row(pickup_datetime=datetime.datetime(2020, 1, 23, 14, 17), PULocationID=140, total_amount=29.45),\n",
       " Row(pickup_datetime=datetime.datetime(2020, 1, 15, 12, 49, 49), PULocationID=81, total_amount=49.42),\n",
       " Row(pickup_datetime=datetime.datetime(2020, 1, 6, 12, 18), PULocationID=62, total_amount=10.3),\n",
       " Row(pickup_datetime=datetime.datetime(2020, 1, 24, 13, 54, 42), PULocationID=24, total_amount=13.55),\n",
       " Row(pickup_datetime=datetime.datetime(2020, 1, 25, 12, 51, 44), PULocationID=152, total_amount=11.8),\n",
       " Row(pickup_datetime=datetime.datetime(2020, 1, 5, 11, 59), PULocationID=42, total_amount=8.3),\n",
       " Row(pickup_datetime=datetime.datetime(2020, 1, 5, 12, 55, 59), PULocationID=75, total_amount=7.3),\n",
       " Row(pickup_datetime=datetime.datetime(2020, 1, 16, 18, 16, 57), PULocationID=41, total_amount=7.3),\n",
       " Row(pickup_datetime=datetime.datetime(2020, 1, 30, 8, 10, 15), PULocationID=260, total_amount=12.3),\n",
       " Row(pickup_datetime=datetime.datetime(2020, 1, 6, 14, 11, 22), PULocationID=17, total_amount=7.8),\n",
       " Row(pickup_datetime=datetime.datetime(2020, 1, 27, 17, 21), PULocationID=88, total_amount=41.32),\n",
       " Row(pickup_datetime=datetime.datetime(2020, 1, 13, 19, 58, 44), PULocationID=116, total_amount=9.36),\n",
       " Row(pickup_datetime=datetime.datetime(2020, 1, 10, 17, 27, 16), PULocationID=82, total_amount=11.3),\n",
       " Row(pickup_datetime=datetime.datetime(2020, 1, 19, 21, 16, 12), PULocationID=36, total_amount=23.0),\n",
       " Row(pickup_datetime=datetime.datetime(2020, 1, 4, 0, 2, 28), PULocationID=179, total_amount=12.3),\n",
       " Row(pickup_datetime=datetime.datetime(2020, 1, 29, 21, 27, 7), PULocationID=41, total_amount=32.3),\n",
       " Row(pickup_datetime=datetime.datetime(2020, 1, 6, 19, 1), PULocationID=146, total_amount=58.74),\n",
       " Row(pickup_datetime=datetime.datetime(2020, 1, 10, 19, 58, 18), PULocationID=97, total_amount=10.3),\n",
       " Row(pickup_datetime=datetime.datetime(2020, 1, 3, 19, 35, 24), PULocationID=129, total_amount=5.3),\n",
       " Row(pickup_datetime=datetime.datetime(2020, 1, 11, 11, 8, 17), PULocationID=146, total_amount=11.16),\n",
       " Row(pickup_datetime=datetime.datetime(2020, 1, 25, 10, 23, 5), PULocationID=95, total_amount=7.3),\n",
       " Row(pickup_datetime=datetime.datetime(2020, 1, 19, 20, 20), PULocationID=26, total_amount=22.98),\n",
       " Row(pickup_datetime=datetime.datetime(2020, 1, 31, 16, 50, 33), PULocationID=75, total_amount=25.8),\n",
       " Row(pickup_datetime=datetime.datetime(2020, 1, 23, 19, 20, 13), PULocationID=134, total_amount=16.0),\n",
       " Row(pickup_datetime=datetime.datetime(2020, 1, 8, 19, 4, 8), PULocationID=244, total_amount=28.26),\n",
       " Row(pickup_datetime=datetime.datetime(2020, 1, 23, 8, 10, 4), PULocationID=17, total_amount=9.75),\n",
       " Row(pickup_datetime=datetime.datetime(2020, 1, 4, 20, 35, 33), PULocationID=166, total_amount=8.16),\n",
       " Row(pickup_datetime=datetime.datetime(2020, 1, 25, 17, 22), PULocationID=237, total_amount=57.73),\n",
       " Row(pickup_datetime=datetime.datetime(2020, 1, 17, 10, 49, 18), PULocationID=42, total_amount=3.3),\n",
       " Row(pickup_datetime=datetime.datetime(2020, 1, 14, 6, 44), PULocationID=72, total_amount=28.45),\n",
       " Row(pickup_datetime=datetime.datetime(2020, 1, 10, 10, 6), PULocationID=81, total_amount=67.59),\n",
       " Row(pickup_datetime=datetime.datetime(2020, 1, 3, 19, 17, 33), PULocationID=97, total_amount=9.96),\n",
       " Row(pickup_datetime=datetime.datetime(2020, 1, 6, 15, 14), PULocationID=33, total_amount=28.45),\n",
       " Row(pickup_datetime=datetime.datetime(2020, 1, 21, 13, 1, 41), PULocationID=74, total_amount=40.06),\n",
       " Row(pickup_datetime=datetime.datetime(2020, 1, 7, 22, 5, 25), PULocationID=168, total_amount=41.67),\n",
       " Row(pickup_datetime=datetime.datetime(2020, 1, 16, 9, 16, 17), PULocationID=41, total_amount=7.71),\n",
       " Row(pickup_datetime=datetime.datetime(2020, 1, 8, 19, 15, 45), PULocationID=223, total_amount=7.25),\n",
       " Row(pickup_datetime=datetime.datetime(2020, 1, 10, 15, 56, 59), PULocationID=243, total_amount=27.05),\n",
       " Row(pickup_datetime=datetime.datetime(2020, 1, 25, 14, 40, 8), PULocationID=82, total_amount=12.8),\n",
       " Row(pickup_datetime=datetime.datetime(2020, 1, 6, 12, 37), PULocationID=155, total_amount=11.86),\n",
       " Row(pickup_datetime=datetime.datetime(2020, 1, 31, 10, 22, 55), PULocationID=33, total_amount=15.34),\n",
       " Row(pickup_datetime=datetime.datetime(2020, 1, 25, 15, 35, 46), PULocationID=56, total_amount=9.3),\n",
       " Row(pickup_datetime=datetime.datetime(2020, 1, 2, 16, 57, 34), PULocationID=43, total_amount=11.55),\n",
       " Row(pickup_datetime=datetime.datetime(2020, 1, 16, 14, 51, 47), PULocationID=127, total_amount=4.3),\n",
       " Row(pickup_datetime=datetime.datetime(2020, 1, 20, 8, 11), PULocationID=39, total_amount=26.84),\n",
       " Row(pickup_datetime=datetime.datetime(2020, 1, 13, 11, 33, 57), PULocationID=220, total_amount=3.8),\n",
       " Row(pickup_datetime=datetime.datetime(2020, 1, 23, 9, 9, 24), PULocationID=243, total_amount=25.05),\n",
       " Row(pickup_datetime=datetime.datetime(2020, 1, 4, 8, 51, 16), PULocationID=41, total_amount=7.56),\n",
       " Row(pickup_datetime=datetime.datetime(2020, 1, 8, 18, 32, 36), PULocationID=74, total_amount=12.3),\n",
       " Row(pickup_datetime=datetime.datetime(2020, 1, 30, 15, 34, 54), PULocationID=21, total_amount=50.0),\n",
       " Row(pickup_datetime=datetime.datetime(2020, 1, 30, 0, 3, 36), PULocationID=226, total_amount=24.77),\n",
       " Row(pickup_datetime=datetime.datetime(2020, 1, 1, 12, 36), PULocationID=210, total_amount=8.5),\n",
       " Row(pickup_datetime=datetime.datetime(2020, 1, 11, 11, 38, 54), PULocationID=60, total_amount=12.8),\n",
       " Row(pickup_datetime=datetime.datetime(2020, 1, 11, 19, 14), PULocationID=149, total_amount=22.44),\n",
       " Row(pickup_datetime=datetime.datetime(2020, 1, 25, 15, 59, 22), PULocationID=7, total_amount=7.3),\n",
       " Row(pickup_datetime=datetime.datetime(2020, 1, 21, 12, 43, 2), PULocationID=129, total_amount=14.3),\n",
       " Row(pickup_datetime=datetime.datetime(2020, 1, 24, 10, 29, 51), PULocationID=166, total_amount=13.85),\n",
       " Row(pickup_datetime=datetime.datetime(2020, 1, 30, 21, 18, 55), PULocationID=95, total_amount=12.36),\n",
       " Row(pickup_datetime=datetime.datetime(2020, 1, 6, 10, 30), PULocationID=76, total_amount=14.3),\n",
       " Row(pickup_datetime=datetime.datetime(2020, 1, 12, 18, 33, 54), PULocationID=74, total_amount=6.8),\n",
       " Row(pickup_datetime=datetime.datetime(2020, 1, 18, 10, 14, 38), PULocationID=75, total_amount=9.36),\n",
       " Row(pickup_datetime=datetime.datetime(2020, 1, 14, 15, 48, 46), PULocationID=166, total_amount=13.86),\n",
       " Row(pickup_datetime=datetime.datetime(2020, 1, 27, 7, 3), PULocationID=76, total_amount=29.88),\n",
       " Row(pickup_datetime=datetime.datetime(2020, 1, 4, 20, 54), PULocationID=41, total_amount=8.3),\n",
       " Row(pickup_datetime=datetime.datetime(2020, 1, 13, 1, 9, 30), PULocationID=129, total_amount=7.3),\n",
       " Row(pickup_datetime=datetime.datetime(2020, 1, 19, 2, 46, 5), PULocationID=82, total_amount=3.8),\n",
       " Row(pickup_datetime=datetime.datetime(2020, 1, 31, 10, 48, 46), PULocationID=41, total_amount=11.0),\n",
       " Row(pickup_datetime=datetime.datetime(2020, 1, 10, 17, 4, 37), PULocationID=82, total_amount=17.8),\n",
       " Row(pickup_datetime=datetime.datetime(2020, 1, 28, 20, 26, 21), PULocationID=95, total_amount=5.8),\n",
       " Row(pickup_datetime=datetime.datetime(2020, 1, 6, 7, 20, 43), PULocationID=74, total_amount=6.3),\n",
       " Row(pickup_datetime=datetime.datetime(2020, 1, 9, 18, 50, 49), PULocationID=173, total_amount=8.3),\n",
       " Row(pickup_datetime=datetime.datetime(2020, 1, 25, 9, 29, 28), PULocationID=97, total_amount=7.3),\n",
       " Row(pickup_datetime=datetime.datetime(2020, 1, 18, 0, 31, 34), PULocationID=80, total_amount=18.5),\n",
       " Row(pickup_datetime=datetime.datetime(2020, 1, 23, 17, 33, 29), PULocationID=75, total_amount=9.55),\n",
       " Row(pickup_datetime=datetime.datetime(2020, 1, 23, 8, 31), PULocationID=95, total_amount=61.58),\n",
       " Row(pickup_datetime=datetime.datetime(2020, 1, 16, 8, 33, 36), PULocationID=65, total_amount=29.05),\n",
       " Row(pickup_datetime=datetime.datetime(2020, 1, 30, 10, 20, 45), PULocationID=74, total_amount=7.3),\n",
       " Row(pickup_datetime=datetime.datetime(2020, 1, 25, 3, 14), PULocationID=216, total_amount=39.67),\n",
       " Row(pickup_datetime=datetime.datetime(2020, 1, 10, 10, 54, 12), PULocationID=52, total_amount=28.26),\n",
       " Row(pickup_datetime=datetime.datetime(2020, 1, 6, 12, 46, 1), PULocationID=82, total_amount=13.3),\n",
       " Row(pickup_datetime=datetime.datetime(2020, 1, 18, 18, 21), PULocationID=17, total_amount=37.97),\n",
       " Row(pickup_datetime=datetime.datetime(2020, 1, 23, 15, 50), PULocationID=41, total_amount=24.4),\n",
       " Row(pickup_datetime=datetime.datetime(2020, 1, 24, 21, 38, 28), PULocationID=95, total_amount=9.12),\n",
       " Row(pickup_datetime=datetime.datetime(2020, 1, 6, 13, 48), PULocationID=233, total_amount=50.21),\n",
       " Row(pickup_datetime=datetime.datetime(2020, 1, 15, 9, 10, 6), PULocationID=74, total_amount=12.36),\n",
       " Row(pickup_datetime=datetime.datetime(2020, 1, 20, 1, 37, 26), PULocationID=75, total_amount=4.3),\n",
       " Row(pickup_datetime=datetime.datetime(2020, 1, 7, 13, 59, 58), PULocationID=166, total_amount=6.8),\n",
       " Row(pickup_datetime=datetime.datetime(2020, 1, 22, 9, 30), PULocationID=257, total_amount=22.78),\n",
       " Row(pickup_datetime=datetime.datetime(2020, 1, 22, 8, 22), PULocationID=77, total_amount=26.88),\n",
       " Row(pickup_datetime=datetime.datetime(2020, 1, 11, 8, 47), PULocationID=218, total_amount=11.66),\n",
       " Row(pickup_datetime=datetime.datetime(2020, 1, 5, 3, 7), PULocationID=55, total_amount=27.05),\n",
       " Row(pickup_datetime=datetime.datetime(2020, 1, 10, 16, 48, 19), PULocationID=181, total_amount=10.8),\n",
       " Row(pickup_datetime=datetime.datetime(2020, 1, 11, 9, 14), PULocationID=225, total_amount=8.5),\n",
       " Row(pickup_datetime=datetime.datetime(2020, 1, 16, 9, 33), PULocationID=131, total_amount=24.52),\n",
       " Row(pickup_datetime=datetime.datetime(2020, 1, 11, 10, 53, 41), PULocationID=74, total_amount=19.26),\n",
       " Row(pickup_datetime=datetime.datetime(2020, 1, 28, 17, 5, 28), PULocationID=75, total_amount=21.33),\n",
       " Row(pickup_datetime=datetime.datetime(2020, 1, 14, 20, 28, 24), PULocationID=97, total_amount=27.66),\n",
       " Row(pickup_datetime=datetime.datetime(2020, 1, 18, 1, 42, 51), PULocationID=25, total_amount=18.3),\n",
       " Row(pickup_datetime=datetime.datetime(2020, 1, 4, 20, 23, 11), PULocationID=181, total_amount=10.56),\n",
       " Row(pickup_datetime=datetime.datetime(2020, 1, 21, 21, 17, 35), PULocationID=95, total_amount=14.8),\n",
       " Row(pickup_datetime=datetime.datetime(2020, 1, 1, 1, 34, 30), PULocationID=95, total_amount=8.16),\n",
       " Row(pickup_datetime=datetime.datetime(2020, 1, 24, 22, 7, 37), PULocationID=181, total_amount=8.8),\n",
       " Row(pickup_datetime=datetime.datetime(2020, 1, 17, 18, 52, 15), PULocationID=260, total_amount=26.3),\n",
       " Row(pickup_datetime=datetime.datetime(2020, 1, 9, 10, 29, 49), PULocationID=75, total_amount=8.8),\n",
       " Row(pickup_datetime=datetime.datetime(2020, 1, 24, 6, 12), PULocationID=235, total_amount=50.8),\n",
       " Row(pickup_datetime=datetime.datetime(2020, 1, 14, 8, 53, 37), PULocationID=74, total_amount=28.0),\n",
       " Row(pickup_datetime=datetime.datetime(2020, 1, 10, 17, 17), PULocationID=119, total_amount=14.71),\n",
       " Row(pickup_datetime=datetime.datetime(2020, 1, 5, 13, 39, 53), PULocationID=166, total_amount=11.3),\n",
       " Row(pickup_datetime=datetime.datetime(2020, 1, 26, 11, 0, 57), PULocationID=129, total_amount=6.3),\n",
       " Row(pickup_datetime=datetime.datetime(2020, 1, 12, 8, 58), PULocationID=259, total_amount=15.77),\n",
       " Row(pickup_datetime=datetime.datetime(2020, 1, 8, 19, 27, 48), PULocationID=130, total_amount=6.3),\n",
       " Row(pickup_datetime=datetime.datetime(2020, 1, 15, 19, 35), PULocationID=17, total_amount=44.89),\n",
       " Row(pickup_datetime=datetime.datetime(2020, 1, 10, 16, 31, 50), PULocationID=173, total_amount=11.3),\n",
       " Row(pickup_datetime=datetime.datetime(2020, 1, 15, 17, 33), PULocationID=226, total_amount=32.11),\n",
       " Row(pickup_datetime=datetime.datetime(2020, 1, 16, 18, 17, 16), PULocationID=25, total_amount=12.35),\n",
       " Row(pickup_datetime=datetime.datetime(2020, 1, 18, 2, 45, 15), PULocationID=82, total_amount=10.3),\n",
       " Row(pickup_datetime=datetime.datetime(2020, 1, 9, 13, 53, 36), PULocationID=244, total_amount=7.0),\n",
       " Row(pickup_datetime=datetime.datetime(2020, 1, 12, 9, 39, 56), PULocationID=66, total_amount=15.55),\n",
       " Row(pickup_datetime=datetime.datetime(2020, 1, 2, 18, 40, 12), PULocationID=82, total_amount=8.3),\n",
       " Row(pickup_datetime=datetime.datetime(2020, 1, 2, 18, 6, 18), PULocationID=193, total_amount=14.25),\n",
       " Row(pickup_datetime=datetime.datetime(2020, 1, 16, 15, 26, 41), PULocationID=150, total_amount=41.3),\n",
       " Row(pickup_datetime=datetime.datetime(2020, 1, 14, 8, 18, 10), PULocationID=116, total_amount=0.0),\n",
       " Row(pickup_datetime=datetime.datetime(2020, 1, 26, 22, 14, 19), PULocationID=66, total_amount=16.56),\n",
       " Row(pickup_datetime=datetime.datetime(2020, 1, 8, 18, 6, 12), PULocationID=95, total_amount=25.8),\n",
       " Row(pickup_datetime=datetime.datetime(2020, 1, 24, 9, 31), PULocationID=210, total_amount=28.48),\n",
       " Row(pickup_datetime=datetime.datetime(2020, 1, 9, 19, 0, 33), PULocationID=129, total_amount=18.8),\n",
       " Row(pickup_datetime=datetime.datetime(2020, 1, 11, 22, 39, 10), PULocationID=112, total_amount=30.06),\n",
       " Row(pickup_datetime=datetime.datetime(2020, 1, 25, 2, 21, 35), PULocationID=223, total_amount=5.8),\n",
       " Row(pickup_datetime=datetime.datetime(2020, 1, 19, 14, 30, 4), PULocationID=25, total_amount=6.3),\n",
       " Row(pickup_datetime=datetime.datetime(2020, 1, 20, 0, 38, 12), PULocationID=82, total_amount=12.36),\n",
       " Row(pickup_datetime=datetime.datetime(2020, 1, 7, 8, 38), PULocationID=150, total_amount=17.66),\n",
       " Row(pickup_datetime=datetime.datetime(2020, 1, 20, 11, 30, 26), PULocationID=42, total_amount=28.86),\n",
       " Row(pickup_datetime=datetime.datetime(2020, 1, 27, 14, 23, 59), PULocationID=75, total_amount=18.05),\n",
       " Row(pickup_datetime=datetime.datetime(2020, 1, 15, 12, 57), PULocationID=134, total_amount=22.1),\n",
       " Row(pickup_datetime=datetime.datetime(2020, 1, 17, 13, 31), PULocationID=7, total_amount=48.11),\n",
       " Row(pickup_datetime=datetime.datetime(2020, 1, 22, 17, 36, 28), PULocationID=95, total_amount=8.8),\n",
       " Row(pickup_datetime=datetime.datetime(2020, 1, 30, 17, 24, 55), PULocationID=97, total_amount=11.16),\n",
       " Row(pickup_datetime=datetime.datetime(2020, 1, 9, 12, 3, 55), PULocationID=92, total_amount=5.8),\n",
       " Row(pickup_datetime=datetime.datetime(2020, 1, 4, 22, 12, 41), PULocationID=82, total_amount=11.3),\n",
       " Row(pickup_datetime=datetime.datetime(2020, 1, 30, 15, 32), PULocationID=162, total_amount=37.67),\n",
       " Row(pickup_datetime=datetime.datetime(2020, 1, 30, 10, 14), PULocationID=188, total_amount=26.93),\n",
       " Row(pickup_datetime=datetime.datetime(2020, 1, 5, 15, 35), PULocationID=61, total_amount=23.98),\n",
       " Row(pickup_datetime=datetime.datetime(2020, 1, 2, 12, 49), PULocationID=225, total_amount=15.81),\n",
       " Row(pickup_datetime=datetime.datetime(2020, 1, 29, 11, 58, 1), PULocationID=166, total_amount=7.56),\n",
       " Row(pickup_datetime=datetime.datetime(2020, 1, 2, 17, 27, 58), PULocationID=260, total_amount=11.8),\n",
       " Row(pickup_datetime=datetime.datetime(2020, 1, 10, 22, 29), PULocationID=77, total_amount=26.84),\n",
       " Row(pickup_datetime=datetime.datetime(2020, 1, 15, 17, 43), PULocationID=97, total_amount=19.78),\n",
       " Row(pickup_datetime=datetime.datetime(2020, 1, 8, 7, 22, 50), PULocationID=116, total_amount=58.92),\n",
       " Row(pickup_datetime=datetime.datetime(2020, 1, 12, 17, 57, 35), PULocationID=166, total_amount=7.25),\n",
       " Row(pickup_datetime=datetime.datetime(2020, 1, 23, 18, 9, 21), PULocationID=95, total_amount=19.3),\n",
       " Row(pickup_datetime=datetime.datetime(2020, 1, 27, 10, 0, 2), PULocationID=116, total_amount=33.66),\n",
       " Row(pickup_datetime=datetime.datetime(2020, 1, 7, 10, 19), PULocationID=71, total_amount=51.16),\n",
       " Row(pickup_datetime=datetime.datetime(2020, 1, 11, 8, 32, 16), PULocationID=42, total_amount=8.3),\n",
       " Row(pickup_datetime=datetime.datetime(2020, 1, 11, 5, 37, 38), PULocationID=255, total_amount=29.0),\n",
       " Row(pickup_datetime=datetime.datetime(2020, 1, 24, 15, 38, 14), PULocationID=75, total_amount=14.55),\n",
       " Row(pickup_datetime=datetime.datetime(2020, 1, 29, 14, 14), PULocationID=223, total_amount=29.4),\n",
       " Row(pickup_datetime=datetime.datetime(2020, 1, 26, 14, 18, 51), PULocationID=42, total_amount=11.76),\n",
       " Row(pickup_datetime=datetime.datetime(2020, 1, 26, 16, 18, 9), PULocationID=33, total_amount=8.58),\n",
       " Row(pickup_datetime=datetime.datetime(2020, 1, 9, 16, 22), PULocationID=123, total_amount=10.7),\n",
       " Row(pickup_datetime=datetime.datetime(2020, 1, 7, 9, 46), PULocationID=51, total_amount=22.01),\n",
       " Row(pickup_datetime=datetime.datetime(2020, 1, 16, 22, 39, 21), PULocationID=7, total_amount=9.3),\n",
       " Row(pickup_datetime=datetime.datetime(2020, 1, 27, 10, 25, 11), PULocationID=65, total_amount=8.3),\n",
       " Row(pickup_datetime=datetime.datetime(2020, 1, 12, 9, 15, 11), PULocationID=95, total_amount=12.96),\n",
       " Row(pickup_datetime=datetime.datetime(2020, 1, 16, 8, 32, 12), PULocationID=74, total_amount=16.8),\n",
       " Row(pickup_datetime=datetime.datetime(2020, 1, 12, 9, 38, 34), PULocationID=74, total_amount=8.8),\n",
       " Row(pickup_datetime=datetime.datetime(2020, 1, 30, 10, 47), PULocationID=25, total_amount=30.14),\n",
       " Row(pickup_datetime=datetime.datetime(2020, 1, 23, 19, 30, 17), PULocationID=95, total_amount=11.3),\n",
       " Row(pickup_datetime=datetime.datetime(2020, 1, 24, 23, 47, 50), PULocationID=75, total_amount=16.55),\n",
       " Row(pickup_datetime=datetime.datetime(2020, 1, 20, 9, 26, 23), PULocationID=193, total_amount=7.8),\n",
       " Row(pickup_datetime=datetime.datetime(2020, 1, 11, 11, 19, 39), PULocationID=75, total_amount=6.3),\n",
       " Row(pickup_datetime=datetime.datetime(2020, 1, 26, 0, 6, 22), PULocationID=260, total_amount=14.8),\n",
       " Row(pickup_datetime=datetime.datetime(2020, 1, 18, 15, 6, 13), PULocationID=82, total_amount=20.8),\n",
       " Row(pickup_datetime=datetime.datetime(2020, 1, 8, 15, 1, 25), PULocationID=67, total_amount=10.8),\n",
       " Row(pickup_datetime=datetime.datetime(2020, 1, 18, 9, 20, 55), PULocationID=74, total_amount=7.8),\n",
       " Row(pickup_datetime=datetime.datetime(2020, 1, 25, 20, 35, 27), PULocationID=24, total_amount=11.8),\n",
       " Row(pickup_datetime=datetime.datetime(2020, 1, 2, 15, 27), PULocationID=95, total_amount=44.42),\n",
       " Row(pickup_datetime=datetime.datetime(2020, 1, 14, 7, 47, 48), PULocationID=134, total_amount=25.3),\n",
       " Row(pickup_datetime=datetime.datetime(2020, 1, 4, 18, 54, 58), PULocationID=49, total_amount=9.3),\n",
       " Row(pickup_datetime=datetime.datetime(2020, 1, 12, 11, 24, 59), PULocationID=33, total_amount=15.55),\n",
       " Row(pickup_datetime=datetime.datetime(2020, 1, 3, 10, 46, 58), PULocationID=116, total_amount=11.3),\n",
       " Row(pickup_datetime=datetime.datetime(2020, 1, 15, 13, 52), PULocationID=40, total_amount=28.45),\n",
       " Row(pickup_datetime=datetime.datetime(2020, 1, 19, 9, 39, 8), PULocationID=116, total_amount=25.43),\n",
       " Row(pickup_datetime=datetime.datetime(2020, 1, 8, 13, 39), PULocationID=95, total_amount=15.44),\n",
       " Row(pickup_datetime=datetime.datetime(2020, 1, 23, 15, 3, 23), PULocationID=244, total_amount=15.36),\n",
       " Row(pickup_datetime=datetime.datetime(2020, 1, 9, 18, 42), PULocationID=244, total_amount=59.86),\n",
       " Row(pickup_datetime=datetime.datetime(2020, 1, 2, 7, 56), PULocationID=152, total_amount=25.57),\n",
       " Row(pickup_datetime=datetime.datetime(2020, 1, 16, 8, 19), PULocationID=189, total_amount=19.78),\n",
       " Row(pickup_datetime=datetime.datetime(2020, 1, 28, 16, 36, 45), PULocationID=181, total_amount=6.3),\n",
       " Row(pickup_datetime=datetime.datetime(2020, 1, 5, 15, 21), PULocationID=213, total_amount=24.58),\n",
       " Row(pickup_datetime=datetime.datetime(2020, 1, 29, 13, 32, 29), PULocationID=82, total_amount=32.3),\n",
       " Row(pickup_datetime=datetime.datetime(2020, 1, 21, 10, 9, 8), PULocationID=43, total_amount=24.55),\n",
       " Row(pickup_datetime=datetime.datetime(2020, 1, 14, 22, 57, 59), PULocationID=25, total_amount=15.36),\n",
       " Row(pickup_datetime=datetime.datetime(2020, 1, 12, 0, 48, 38), PULocationID=42, total_amount=8.3),\n",
       " Row(pickup_datetime=datetime.datetime(2020, 1, 4, 14, 29, 33), PULocationID=264, total_amount=3.3),\n",
       " Row(pickup_datetime=datetime.datetime(2020, 1, 28, 23, 29, 58), PULocationID=7, total_amount=22.8),\n",
       " Row(pickup_datetime=datetime.datetime(2020, 1, 5, 20, 13, 15), PULocationID=66, total_amount=12.8),\n",
       " Row(pickup_datetime=datetime.datetime(2020, 1, 7, 12, 47, 54), PULocationID=196, total_amount=19.8),\n",
       " Row(pickup_datetime=datetime.datetime(2020, 1, 16, 16, 52, 36), PULocationID=41, total_amount=12.36),\n",
       " Row(pickup_datetime=datetime.datetime(2020, 1, 3, 5, 14, 1), PULocationID=168, total_amount=6.8),\n",
       " Row(pickup_datetime=datetime.datetime(2020, 1, 13, 18, 51), PULocationID=7, total_amount=6.8),\n",
       " Row(pickup_datetime=datetime.datetime(2020, 1, 11, 12, 5, 18), PULocationID=41, total_amount=24.05),\n",
       " Row(pickup_datetime=datetime.datetime(2020, 1, 4, 21, 59, 24), PULocationID=244, total_amount=7.3),\n",
       " Row(pickup_datetime=datetime.datetime(2020, 1, 24, 16, 10, 11), PULocationID=65, total_amount=10.38),\n",
       " Row(pickup_datetime=datetime.datetime(2020, 1, 12, 10, 15, 39), PULocationID=47, total_amount=18.0),\n",
       " Row(pickup_datetime=datetime.datetime(2020, 1, 20, 21, 7, 44), PULocationID=75, total_amount=5.8),\n",
       " Row(pickup_datetime=datetime.datetime(2020, 1, 6, 15, 48, 49), PULocationID=82, total_amount=4.8),\n",
       " Row(pickup_datetime=datetime.datetime(2020, 1, 21, 10, 36, 34), PULocationID=24, total_amount=13.05),\n",
       " Row(pickup_datetime=datetime.datetime(2020, 1, 11, 13, 13, 13), PULocationID=243, total_amount=20.3),\n",
       " Row(pickup_datetime=datetime.datetime(2020, 1, 3, 6, 9, 8), PULocationID=74, total_amount=34.86),\n",
       " Row(pickup_datetime=datetime.datetime(2020, 1, 8, 13, 57, 55), PULocationID=66, total_amount=7.3),\n",
       " Row(pickup_datetime=datetime.datetime(2020, 1, 10, 16, 23, 12), PULocationID=129, total_amount=10.3),\n",
       " Row(pickup_datetime=datetime.datetime(2020, 1, 24, 15, 5), PULocationID=151, total_amount=31.91),\n",
       " Row(pickup_datetime=datetime.datetime(2020, 1, 17, 16, 49, 55), PULocationID=42, total_amount=10.3),\n",
       " Row(pickup_datetime=datetime.datetime(2020, 1, 6, 12, 53, 43), PULocationID=82, total_amount=17.3),\n",
       " Row(pickup_datetime=datetime.datetime(2020, 1, 21, 14, 15, 20), PULocationID=75, total_amount=18.65),\n",
       " Row(pickup_datetime=datetime.datetime(2020, 1, 11, 1, 57, 43), PULocationID=166, total_amount=12.8),\n",
       " Row(pickup_datetime=datetime.datetime(2020, 1, 22, 10, 11, 3), PULocationID=41, total_amount=14.05),\n",
       " Row(pickup_datetime=datetime.datetime(2020, 1, 17, 17, 58, 21), PULocationID=166, total_amount=11.8),\n",
       " Row(pickup_datetime=datetime.datetime(2020, 1, 28, 19, 30, 20), PULocationID=65, total_amount=14.16),\n",
       " Row(pickup_datetime=datetime.datetime(2020, 1, 3, 18, 25, 23), PULocationID=264, total_amount=20.3),\n",
       " Row(pickup_datetime=datetime.datetime(2020, 1, 25, 17, 42, 35), PULocationID=181, total_amount=5.0),\n",
       " Row(pickup_datetime=datetime.datetime(2020, 1, 18, 12, 56, 54), PULocationID=33, total_amount=6.55),\n",
       " Row(pickup_datetime=datetime.datetime(2020, 1, 2, 20, 30, 6), PULocationID=82, total_amount=11.8),\n",
       " Row(pickup_datetime=datetime.datetime(2020, 1, 11, 10, 23, 14), PULocationID=260, total_amount=30.3),\n",
       " Row(pickup_datetime=datetime.datetime(2020, 1, 23, 17, 2), PULocationID=65, total_amount=34.04),\n",
       " Row(pickup_datetime=datetime.datetime(2020, 1, 28, 13, 29, 56), PULocationID=169, total_amount=0.0),\n",
       " Row(pickup_datetime=datetime.datetime(2020, 1, 16, 9, 19), PULocationID=51, total_amount=22.01),\n",
       " Row(pickup_datetime=datetime.datetime(2020, 1, 18, 13, 26, 2), PULocationID=97, total_amount=11.8),\n",
       " Row(pickup_datetime=datetime.datetime(2020, 1, 15, 20, 57, 10), PULocationID=25, total_amount=10.79),\n",
       " Row(pickup_datetime=datetime.datetime(2020, 1, 12, 2, 30, 53), PULocationID=33, total_amount=21.96),\n",
       " Row(pickup_datetime=datetime.datetime(2020, 1, 16, 13, 55, 36), PULocationID=82, total_amount=6.8),\n",
       " Row(pickup_datetime=datetime.datetime(2020, 1, 12, 17, 1), PULocationID=91, total_amount=45.26),\n",
       " Row(pickup_datetime=datetime.datetime(2020, 1, 7, 5, 2, 31), PULocationID=82, total_amount=8.8),\n",
       " Row(pickup_datetime=datetime.datetime(2020, 1, 12, 20, 15), PULocationID=74, total_amount=13.91),\n",
       " Row(pickup_datetime=datetime.datetime(2020, 1, 30, 19, 2, 20), PULocationID=75, total_amount=12.3),\n",
       " Row(pickup_datetime=datetime.datetime(2020, 1, 22, 15, 2), PULocationID=117, total_amount=43.91),\n",
       " Row(pickup_datetime=datetime.datetime(2020, 1, 28, 1, 54, 47), PULocationID=130, total_amount=13.18),\n",
       " Row(pickup_datetime=datetime.datetime(2020, 1, 7, 18, 24, 50), PULocationID=82, total_amount=11.8),\n",
       " Row(pickup_datetime=datetime.datetime(2020, 1, 8, 17, 37, 28), PULocationID=244, total_amount=25.05),\n",
       " Row(pickup_datetime=datetime.datetime(2020, 1, 22, 0, 13, 16), PULocationID=75, total_amount=11.05),\n",
       " Row(pickup_datetime=datetime.datetime(2020, 1, 25, 12, 23, 25), PULocationID=33, total_amount=18.68),\n",
       " Row(pickup_datetime=datetime.datetime(2020, 1, 13, 0, 17, 53), PULocationID=95, total_amount=7.56),\n",
       " Row(pickup_datetime=datetime.datetime(2020, 1, 16, 8, 19, 27), PULocationID=75, total_amount=5.3),\n",
       " Row(pickup_datetime=datetime.datetime(2020, 1, 16, 0, 32, 25), PULocationID=260, total_amount=15.3),\n",
       " Row(pickup_datetime=datetime.datetime(2020, 1, 3, 18, 1, 23), PULocationID=97, total_amount=12.74),\n",
       " Row(pickup_datetime=datetime.datetime(2020, 1, 26, 16, 13, 55), PULocationID=166, total_amount=7.3),\n",
       " Row(pickup_datetime=datetime.datetime(2020, 1, 31, 17, 19, 14), PULocationID=95, total_amount=17.16),\n",
       " Row(pickup_datetime=datetime.datetime(2020, 1, 10, 17, 56, 12), PULocationID=264, total_amount=7.3),\n",
       " Row(pickup_datetime=datetime.datetime(2020, 1, 12, 21, 8, 29), PULocationID=82, total_amount=9.96),\n",
       " Row(pickup_datetime=datetime.datetime(2020, 1, 25, 2, 44, 51), PULocationID=83, total_amount=6.8),\n",
       " Row(pickup_datetime=datetime.datetime(2020, 1, 30, 0, 22, 25), PULocationID=130, total_amount=13.8),\n",
       " Row(pickup_datetime=datetime.datetime(2020, 1, 11, 19, 12, 30), PULocationID=168, total_amount=14.76),\n",
       " Row(pickup_datetime=datetime.datetime(2020, 1, 3, 13, 36, 37), PULocationID=75, total_amount=9.05),\n",
       " Row(pickup_datetime=datetime.datetime(2020, 1, 16, 17, 21, 24), PULocationID=52, total_amount=25.55),\n",
       " Row(pickup_datetime=datetime.datetime(2020, 1, 26, 11, 32, 47), PULocationID=42, total_amount=22.86),\n",
       " Row(pickup_datetime=datetime.datetime(2020, 1, 30, 16, 20, 57), PULocationID=166, total_amount=10.3),\n",
       " Row(pickup_datetime=datetime.datetime(2020, 1, 21, 15, 15, 57), PULocationID=181, total_amount=33.3),\n",
       " Row(pickup_datetime=datetime.datetime(2020, 1, 27, 12, 38, 56), PULocationID=24, total_amount=10.38),\n",
       " Row(pickup_datetime=datetime.datetime(2020, 1, 17, 10, 37), PULocationID=95, total_amount=15.44),\n",
       " Row(pickup_datetime=datetime.datetime(2020, 1, 31, 18, 40, 40), PULocationID=157, total_amount=18.0),\n",
       " Row(pickup_datetime=datetime.datetime(2020, 1, 4, 1, 18, 25), PULocationID=83, total_amount=8.3),\n",
       " Row(pickup_datetime=datetime.datetime(2020, 1, 7, 12, 8), PULocationID=210, total_amount=20.9),\n",
       " Row(pickup_datetime=datetime.datetime(2020, 1, 22, 10, 55, 7), PULocationID=130, total_amount=64.31),\n",
       " Row(pickup_datetime=datetime.datetime(2020, 1, 17, 10, 22), PULocationID=140, total_amount=48.36),\n",
       " Row(pickup_datetime=datetime.datetime(2020, 1, 19, 14, 32, 16), PULocationID=129, total_amount=5.8),\n",
       " Row(pickup_datetime=datetime.datetime(2020, 1, 26, 21, 28, 32), PULocationID=52, total_amount=9.35),\n",
       " Row(pickup_datetime=datetime.datetime(2020, 1, 18, 22, 23), PULocationID=39, total_amount=29.0),\n",
       " Row(pickup_datetime=datetime.datetime(2020, 1, 4, 16, 14, 58), PULocationID=97, total_amount=18.36),\n",
       " Row(pickup_datetime=datetime.datetime(2020, 1, 23, 8, 21, 48), PULocationID=74, total_amount=4.3),\n",
       " Row(pickup_datetime=datetime.datetime(2020, 1, 3, 13, 48, 34), PULocationID=43, total_amount=10.0),\n",
       " Row(pickup_datetime=datetime.datetime(2020, 1, 31, 14, 49, 41), PULocationID=65, total_amount=12.36),\n",
       " Row(pickup_datetime=datetime.datetime(2020, 1, 31, 15, 46), PULocationID=174, total_amount=22.62),\n",
       " Row(pickup_datetime=datetime.datetime(2020, 1, 12, 22, 13, 29), PULocationID=223, total_amount=7.54),\n",
       " Row(pickup_datetime=datetime.datetime(2020, 1, 6, 7, 24, 46), PULocationID=74, total_amount=7.82),\n",
       " Row(pickup_datetime=datetime.datetime(2020, 1, 23, 12, 25, 2), PULocationID=7, total_amount=8.3),\n",
       " Row(pickup_datetime=datetime.datetime(2020, 1, 23, 9, 25), PULocationID=247, total_amount=26.26),\n",
       " Row(pickup_datetime=datetime.datetime(2020, 1, 25, 16, 7, 33), PULocationID=122, total_amount=33.0),\n",
       " Row(pickup_datetime=datetime.datetime(2020, 1, 22, 17, 44, 43), PULocationID=41, total_amount=5.8),\n",
       " Row(pickup_datetime=datetime.datetime(2020, 1, 20, 18, 21, 5), PULocationID=193, total_amount=37.86),\n",
       " Row(pickup_datetime=datetime.datetime(2020, 1, 7, 18, 14, 31), PULocationID=223, total_amount=10.14),\n",
       " Row(pickup_datetime=datetime.datetime(2020, 1, 29, 11, 58), PULocationID=22, total_amount=20.74),\n",
       " Row(pickup_datetime=datetime.datetime(2020, 1, 5, 22, 40, 53), PULocationID=65, total_amount=6.8),\n",
       " Row(pickup_datetime=datetime.datetime(2020, 1, 14, 22, 18, 5), PULocationID=244, total_amount=37.26),\n",
       " Row(pickup_datetime=datetime.datetime(2020, 1, 14, 18, 23, 7), PULocationID=74, total_amount=21.66),\n",
       " Row(pickup_datetime=datetime.datetime(2020, 1, 23, 17, 39, 35), PULocationID=260, total_amount=20.16),\n",
       " Row(pickup_datetime=datetime.datetime(2020, 1, 19, 8, 2, 54), PULocationID=61, total_amount=5.3),\n",
       " Row(pickup_datetime=datetime.datetime(2020, 1, 29, 17, 52, 21), PULocationID=65, total_amount=6.36),\n",
       " Row(pickup_datetime=datetime.datetime(2020, 1, 9, 9, 6), PULocationID=91, total_amount=25.2),\n",
       " Row(pickup_datetime=datetime.datetime(2020, 1, 8, 15, 6, 39), PULocationID=74, total_amount=6.89),\n",
       " Row(pickup_datetime=datetime.datetime(2020, 1, 29, 11, 43, 14), PULocationID=74, total_amount=14.8),\n",
       " Row(pickup_datetime=datetime.datetime(2020, 1, 21, 13, 44, 30), PULocationID=82, total_amount=6.3),\n",
       " Row(pickup_datetime=datetime.datetime(2020, 1, 7, 21, 29, 42), PULocationID=69, total_amount=6.0),\n",
       " Row(pickup_datetime=datetime.datetime(2020, 1, 2, 15, 23), PULocationID=188, total_amount=11.94),\n",
       " Row(pickup_datetime=datetime.datetime(2020, 1, 30, 15, 48, 35), PULocationID=52, total_amount=11.76),\n",
       " Row(pickup_datetime=datetime.datetime(2020, 1, 4, 17, 34), PULocationID=254, total_amount=32.58),\n",
       " Row(pickup_datetime=datetime.datetime(2020, 1, 29, 13, 35, 48), PULocationID=244, total_amount=19.55),\n",
       " Row(pickup_datetime=datetime.datetime(2020, 1, 13, 17, 35, 46), PULocationID=33, total_amount=16.3),\n",
       " Row(pickup_datetime=datetime.datetime(2020, 1, 23, 18, 44, 37), PULocationID=130, total_amount=12.96),\n",
       " Row(pickup_datetime=datetime.datetime(2020, 1, 16, 17, 40), PULocationID=87, total_amount=41.53),\n",
       " Row(pickup_datetime=datetime.datetime(2020, 1, 3, 15, 13, 23), PULocationID=82, total_amount=10.88),\n",
       " Row(pickup_datetime=datetime.datetime(2020, 1, 7, 14, 47, 57), PULocationID=166, total_amount=6.8),\n",
       " Row(pickup_datetime=datetime.datetime(2020, 1, 31, 11, 9, 7), PULocationID=7, total_amount=8.8),\n",
       " Row(pickup_datetime=datetime.datetime(2020, 1, 27, 18, 22, 26), PULocationID=65, total_amount=8.76),\n",
       " Row(pickup_datetime=datetime.datetime(2020, 1, 31, 10, 9, 26), PULocationID=39, total_amount=18.0),\n",
       " Row(pickup_datetime=datetime.datetime(2020, 1, 9, 13, 24), PULocationID=75, total_amount=20.55),\n",
       " Row(pickup_datetime=datetime.datetime(2020, 1, 9, 17, 19, 39), PULocationID=95, total_amount=19.75),\n",
       " Row(pickup_datetime=datetime.datetime(2020, 1, 14, 13, 18, 59), PULocationID=69, total_amount=5.8),\n",
       " Row(pickup_datetime=datetime.datetime(2020, 1, 10, 22, 56, 17), PULocationID=116, total_amount=7.8),\n",
       " Row(pickup_datetime=datetime.datetime(2020, 1, 14, 8, 37, 36), PULocationID=244, total_amount=18.8),\n",
       " Row(pickup_datetime=datetime.datetime(2020, 1, 7, 19, 55, 16), PULocationID=75, total_amount=15.55),\n",
       " Row(pickup_datetime=datetime.datetime(2020, 1, 3, 21, 25), PULocationID=92, total_amount=46.5),\n",
       " Row(pickup_datetime=datetime.datetime(2020, 1, 7, 19, 52, 15), PULocationID=223, total_amount=19.55),\n",
       " Row(pickup_datetime=datetime.datetime(2020, 1, 7, 7, 58, 47), PULocationID=52, total_amount=27.06),\n",
       " Row(pickup_datetime=datetime.datetime(2020, 1, 8, 14, 51), PULocationID=67, total_amount=15.89),\n",
       " Row(pickup_datetime=datetime.datetime(2020, 1, 18, 12, 39, 27), PULocationID=116, total_amount=28.26),\n",
       " Row(pickup_datetime=datetime.datetime(2020, 1, 15, 18, 33, 36), PULocationID=75, total_amount=10.14),\n",
       " Row(pickup_datetime=datetime.datetime(2020, 1, 17, 14, 59, 56), PULocationID=82, total_amount=14.3),\n",
       " Row(pickup_datetime=datetime.datetime(2020, 1, 24, 22, 32, 51), PULocationID=129, total_amount=6.8),\n",
       " Row(pickup_datetime=datetime.datetime(2020, 1, 15, 9, 33), PULocationID=66, total_amount=19.71),\n",
       " Row(pickup_datetime=datetime.datetime(2020, 1, 31, 11, 55, 18), PULocationID=212, total_amount=9.96),\n",
       " Row(pickup_datetime=datetime.datetime(2020, 1, 3, 5, 10), PULocationID=35, total_amount=32.9),\n",
       " Row(pickup_datetime=datetime.datetime(2020, 1, 5, 19, 29, 15), PULocationID=74, total_amount=16.3),\n",
       " Row(pickup_datetime=datetime.datetime(2020, 1, 8, 18, 13, 42), PULocationID=89, total_amount=11.3),\n",
       " Row(pickup_datetime=datetime.datetime(2020, 1, 12, 14, 41, 11), PULocationID=33, total_amount=11.0),\n",
       " Row(pickup_datetime=datetime.datetime(2020, 1, 26, 18, 28), PULocationID=25, total_amount=70.78),\n",
       " Row(pickup_datetime=datetime.datetime(2020, 1, 23, 9, 56, 15), PULocationID=167, total_amount=7.56),\n",
       " Row(pickup_datetime=datetime.datetime(2020, 1, 9, 17, 58, 31), PULocationID=74, total_amount=8.8),\n",
       " Row(pickup_datetime=datetime.datetime(2020, 1, 30, 10, 30), PULocationID=182, total_amount=43.26),\n",
       " Row(pickup_datetime=datetime.datetime(2020, 1, 4, 18, 16, 4), PULocationID=7, total_amount=29.46),\n",
       " Row(pickup_datetime=datetime.datetime(2020, 1, 28, 14, 20), PULocationID=250, total_amount=26.81),\n",
       " Row(pickup_datetime=datetime.datetime(2020, 1, 24, 15, 53), PULocationID=165, total_amount=20.56),\n",
       " Row(pickup_datetime=datetime.datetime(2020, 1, 19, 15, 42, 16), PULocationID=82, total_amount=13.3),\n",
       " Row(pickup_datetime=datetime.datetime(2020, 1, 27, 20, 13, 22), PULocationID=92, total_amount=10.8),\n",
       " Row(pickup_datetime=datetime.datetime(2020, 1, 4, 13, 38, 42), PULocationID=75, total_amount=5.3),\n",
       " Row(pickup_datetime=datetime.datetime(2020, 1, 3, 7, 36), PULocationID=76, total_amount=31.08),\n",
       " Row(pickup_datetime=datetime.datetime(2020, 1, 20, 8, 50, 27), PULocationID=244, total_amount=6.3),\n",
       " Row(pickup_datetime=datetime.datetime(2020, 1, 29, 13, 26, 5), PULocationID=244, total_amount=13.3),\n",
       " Row(pickup_datetime=datetime.datetime(2020, 1, 30, 16, 37, 49), PULocationID=82, total_amount=11.3),\n",
       " Row(pickup_datetime=datetime.datetime(2020, 1, 27, 10, 49, 36), PULocationID=134, total_amount=18.3),\n",
       " Row(pickup_datetime=datetime.datetime(2020, 1, 2, 10, 32), PULocationID=42, total_amount=59.79),\n",
       " Row(pickup_datetime=datetime.datetime(2020, 1, 29, 10, 28, 20), PULocationID=74, total_amount=16.86),\n",
       " Row(pickup_datetime=datetime.datetime(2020, 1, 11, 23, 42, 17), PULocationID=41, total_amount=10.3),\n",
       " Row(pickup_datetime=datetime.datetime(2020, 1, 24, 19, 6, 55), PULocationID=75, total_amount=6.96),\n",
       " Row(pickup_datetime=datetime.datetime(2020, 1, 24, 17, 34, 16), PULocationID=226, total_amount=31.8),\n",
       " Row(pickup_datetime=datetime.datetime(2020, 1, 30, 10, 11, 51), PULocationID=43, total_amount=39.55),\n",
       " Row(pickup_datetime=datetime.datetime(2020, 1, 29, 8, 56, 43), PULocationID=66, total_amount=28.05),\n",
       " Row(pickup_datetime=datetime.datetime(2020, 1, 30, 13, 14, 4), PULocationID=65, total_amount=20.05),\n",
       " Row(pickup_datetime=datetime.datetime(2020, 1, 4, 12, 55), PULocationID=222, total_amount=22.4),\n",
       " Row(pickup_datetime=datetime.datetime(2020, 1, 7, 15, 38), PULocationID=65, total_amount=39.68),\n",
       " Row(pickup_datetime=datetime.datetime(2020, 1, 20, 23, 51, 11), PULocationID=223, total_amount=15.8),\n",
       " Row(pickup_datetime=datetime.datetime(2020, 1, 10, 10, 6, 23), PULocationID=82, total_amount=34.55),\n",
       " Row(pickup_datetime=datetime.datetime(2020, 1, 23, 21, 59, 11), PULocationID=80, total_amount=33.8),\n",
       " Row(pickup_datetime=datetime.datetime(2020, 1, 28, 13, 52), PULocationID=76, total_amount=29.0),\n",
       " Row(pickup_datetime=datetime.datetime(2020, 1, 3, 15, 2, 46), PULocationID=7, total_amount=16.8),\n",
       " Row(pickup_datetime=datetime.datetime(2020, 1, 3, 12, 43), PULocationID=189, total_amount=52.4),\n",
       " Row(pickup_datetime=datetime.datetime(2020, 1, 30, 11, 31), PULocationID=41, total_amount=25.34),\n",
       " Row(pickup_datetime=datetime.datetime(2020, 1, 16, 9, 41), PULocationID=35, total_amount=22.2),\n",
       " Row(pickup_datetime=datetime.datetime(2020, 1, 1, 23, 11, 33), PULocationID=116, total_amount=7.3),\n",
       " Row(pickup_datetime=datetime.datetime(2020, 1, 23, 17, 21, 51), PULocationID=65, total_amount=7.8),\n",
       " Row(pickup_datetime=datetime.datetime(2020, 1, 17, 21, 53, 13), PULocationID=74, total_amount=-7.3),\n",
       " Row(pickup_datetime=datetime.datetime(2020, 1, 3, 11, 50, 19), PULocationID=166, total_amount=16.05),\n",
       " Row(pickup_datetime=datetime.datetime(2020, 1, 23, 7, 7, 55), PULocationID=244, total_amount=58.92),\n",
       " Row(pickup_datetime=datetime.datetime(2020, 1, 31, 11, 19, 26), PULocationID=244, total_amount=12.95),\n",
       " Row(pickup_datetime=datetime.datetime(2020, 1, 7, 8, 42, 16), PULocationID=75, total_amount=7.3),\n",
       " Row(pickup_datetime=datetime.datetime(2020, 1, 23, 14, 42, 21), PULocationID=75, total_amount=29.28),\n",
       " Row(pickup_datetime=datetime.datetime(2020, 1, 4, 10, 37), PULocationID=78, total_amount=15.33),\n",
       " Row(pickup_datetime=datetime.datetime(2020, 1, 22, 17, 59), PULocationID=25, total_amount=22.28),\n",
       " Row(pickup_datetime=datetime.datetime(2020, 1, 23, 18, 53, 18), PULocationID=52, total_amount=18.8),\n",
       " Row(pickup_datetime=datetime.datetime(2020, 1, 2, 16, 38, 2), PULocationID=7, total_amount=10.3),\n",
       " Row(pickup_datetime=datetime.datetime(2020, 1, 7, 10, 45), PULocationID=216, total_amount=45.98),\n",
       " Row(pickup_datetime=datetime.datetime(2020, 1, 30, 19, 20, 19), PULocationID=130, total_amount=8.3),\n",
       " Row(pickup_datetime=datetime.datetime(2020, 1, 26, 15, 12), PULocationID=35, total_amount=49.2),\n",
       " Row(pickup_datetime=datetime.datetime(2020, 1, 20, 8, 9), PULocationID=119, total_amount=14.8),\n",
       " Row(pickup_datetime=datetime.datetime(2020, 1, 19, 3, 28, 48), PULocationID=95, total_amount=18.36),\n",
       " Row(pickup_datetime=datetime.datetime(2020, 1, 27, 14, 53), PULocationID=75, total_amount=5.8),\n",
       " Row(pickup_datetime=datetime.datetime(2020, 1, 7, 14, 40, 14), PULocationID=25, total_amount=13.8),\n",
       " Row(pickup_datetime=datetime.datetime(2020, 1, 19, 7, 59), PULocationID=213, total_amount=22.29),\n",
       " Row(pickup_datetime=datetime.datetime(2020, 1, 11, 10, 35, 22), PULocationID=82, total_amount=12.8),\n",
       " Row(pickup_datetime=datetime.datetime(2020, 1, 21, 13, 46, 58), PULocationID=145, total_amount=3.3),\n",
       " Row(pickup_datetime=datetime.datetime(2020, 1, 12, 9, 31), PULocationID=71, total_amount=24.42),\n",
       " Row(pickup_datetime=datetime.datetime(2020, 1, 6, 14, 25), PULocationID=72, total_amount=25.5),\n",
       " Row(pickup_datetime=datetime.datetime(2020, 1, 29, 20, 49, 44), PULocationID=95, total_amount=8.16),\n",
       " Row(pickup_datetime=datetime.datetime(2020, 1, 1, 0, 46), PULocationID=123, total_amount=15.87),\n",
       " Row(pickup_datetime=datetime.datetime(2020, 1, 5, 1, 12, 16), PULocationID=36, total_amount=28.56),\n",
       " Row(pickup_datetime=datetime.datetime(2020, 1, 1, 22, 5, 35), PULocationID=42, total_amount=31.86),\n",
       " Row(pickup_datetime=datetime.datetime(2020, 1, 8, 22, 31, 8), PULocationID=25, total_amount=16.3),\n",
       " Row(pickup_datetime=datetime.datetime(2020, 1, 14, 7, 13), PULocationID=189, total_amount=24.42),\n",
       " Row(pickup_datetime=datetime.datetime(2020, 1, 14, 18, 26, 27), PULocationID=166, total_amount=8.4),\n",
       " Row(pickup_datetime=datetime.datetime(2020, 1, 23, 20, 11, 38), PULocationID=7, total_amount=0.0),\n",
       " Row(pickup_datetime=datetime.datetime(2020, 1, 22, 1, 37, 38), PULocationID=260, total_amount=20.8),\n",
       " Row(pickup_datetime=datetime.datetime(2020, 1, 2, 19, 42, 13), PULocationID=42, total_amount=4.3),\n",
       " Row(pickup_datetime=datetime.datetime(2020, 1, 3, 14, 23, 56), PULocationID=49, total_amount=23.3),\n",
       " Row(pickup_datetime=datetime.datetime(2020, 1, 12, 23, 29, 22), PULocationID=260, total_amount=-4.3),\n",
       " Row(pickup_datetime=datetime.datetime(2020, 1, 28, 18, 52, 10), PULocationID=66, total_amount=17.05),\n",
       " Row(pickup_datetime=datetime.datetime(2020, 1, 23, 12, 39, 19), PULocationID=65, total_amount=13.39),\n",
       " Row(pickup_datetime=datetime.datetime(2020, 1, 27, 12, 46, 40), PULocationID=41, total_amount=9.8),\n",
       " Row(pickup_datetime=datetime.datetime(2020, 1, 18, 15, 43), PULocationID=92, total_amount=22.39),\n",
       " Row(pickup_datetime=datetime.datetime(2020, 1, 27, 11, 34, 42), PULocationID=33, total_amount=28.56),\n",
       " Row(pickup_datetime=datetime.datetime(2020, 1, 13, 8, 44, 16), PULocationID=75, total_amount=11.55),\n",
       " Row(pickup_datetime=datetime.datetime(2020, 1, 9, 18, 57, 40), PULocationID=146, total_amount=7.8),\n",
       " Row(pickup_datetime=datetime.datetime(2020, 1, 8, 0, 8, 22), PULocationID=129, total_amount=8.8),\n",
       " Row(pickup_datetime=datetime.datetime(2020, 1, 24, 8, 7), PULocationID=61, total_amount=25.5),\n",
       " Row(pickup_datetime=datetime.datetime(2020, 1, 25, 14, 9, 48), PULocationID=75, total_amount=6.3),\n",
       " Row(pickup_datetime=datetime.datetime(2020, 1, 12, 17, 32, 25), PULocationID=260, total_amount=7.8),\n",
       " Row(pickup_datetime=datetime.datetime(2020, 1, 18, 22, 47, 45), PULocationID=25, total_amount=14.16),\n",
       " Row(pickup_datetime=datetime.datetime(2020, 1, 22, 8, 1, 11), PULocationID=75, total_amount=10.05),\n",
       " Row(pickup_datetime=datetime.datetime(2020, 1, 30, 18, 58, 55), PULocationID=97, total_amount=10.3),\n",
       " Row(pickup_datetime=datetime.datetime(2020, 1, 23, 9, 8, 53), PULocationID=97, total_amount=7.8),\n",
       " Row(pickup_datetime=datetime.datetime(2020, 1, 13, 23, 12, 39), PULocationID=82, total_amount=9.96),\n",
       " Row(pickup_datetime=datetime.datetime(2020, 1, 6, 4, 26), PULocationID=77, total_amount=57.43),\n",
       " Row(pickup_datetime=datetime.datetime(2020, 1, 2, 16, 16, 49), PULocationID=74, total_amount=49.42),\n",
       " Row(pickup_datetime=datetime.datetime(2020, 1, 6, 12, 8, 4), PULocationID=41, total_amount=6.24),\n",
       " Row(pickup_datetime=datetime.datetime(2020, 1, 23, 9, 43, 11), PULocationID=41, total_amount=15.3),\n",
       " Row(pickup_datetime=datetime.datetime(2020, 1, 30, 21, 24, 8), PULocationID=97, total_amount=12.96),\n",
       " Row(pickup_datetime=datetime.datetime(2020, 1, 14, 6, 2), PULocationID=168, total_amount=30.32),\n",
       " Row(pickup_datetime=datetime.datetime(2020, 1, 27, 23, 18, 52), PULocationID=42, total_amount=5.8),\n",
       " Row(pickup_datetime=datetime.datetime(2020, 1, 29, 18, 20, 7), PULocationID=75, total_amount=14.46),\n",
       " Row(pickup_datetime=datetime.datetime(2020, 1, 11, 17, 36, 11), PULocationID=166, total_amount=15.66),\n",
       " Row(pickup_datetime=datetime.datetime(2020, 1, 17, 2, 45, 26), PULocationID=36, total_amount=9.36),\n",
       " Row(pickup_datetime=datetime.datetime(2020, 1, 18, 1, 51, 6), PULocationID=92, total_amount=15.3),\n",
       " Row(pickup_datetime=datetime.datetime(2020, 1, 30, 15, 29, 31), PULocationID=41, total_amount=12.8),\n",
       " Row(pickup_datetime=datetime.datetime(2020, 1, 3, 21, 34, 35), PULocationID=226, total_amount=9.96),\n",
       " Row(pickup_datetime=datetime.datetime(2020, 1, 15, 8, 3, 19), PULocationID=75, total_amount=7.0),\n",
       " Row(pickup_datetime=datetime.datetime(2020, 1, 9, 15, 28), PULocationID=39, total_amount=39.04),\n",
       " Row(pickup_datetime=datetime.datetime(2020, 1, 7, 12, 57, 59), PULocationID=66, total_amount=36.06),\n",
       " Row(pickup_datetime=datetime.datetime(2020, 1, 31, 23, 5, 51), PULocationID=41, total_amount=9.3),\n",
       " Row(pickup_datetime=datetime.datetime(2020, 1, 23, 14, 6, 18), PULocationID=43, total_amount=18.06),\n",
       " Row(pickup_datetime=datetime.datetime(2020, 1, 2, 16, 3, 6), PULocationID=244, total_amount=19.56),\n",
       " Row(pickup_datetime=datetime.datetime(2020, 1, 6, 10, 26, 36), PULocationID=74, total_amount=7.8),\n",
       " Row(pickup_datetime=datetime.datetime(2020, 1, 30, 20, 42, 56), PULocationID=97, total_amount=23.76),\n",
       " Row(pickup_datetime=datetime.datetime(2020, 1, 8, 9, 2, 43), PULocationID=75, total_amount=11.3),\n",
       " Row(pickup_datetime=datetime.datetime(2020, 1, 22, 14, 16, 20), PULocationID=116, total_amount=58.7),\n",
       " Row(pickup_datetime=datetime.datetime(2020, 1, 15, 18, 33, 31), PULocationID=130, total_amount=4.3),\n",
       " Row(pickup_datetime=datetime.datetime(2020, 1, 6, 15, 11, 17), PULocationID=147, total_amount=11.3),\n",
       " Row(pickup_datetime=datetime.datetime(2020, 1, 10, 18, 39), PULocationID=66, total_amount=34.04),\n",
       " Row(pickup_datetime=datetime.datetime(2020, 1, 14, 12, 58, 18), PULocationID=217, total_amount=7.8),\n",
       " Row(pickup_datetime=datetime.datetime(2020, 1, 26, 17, 28, 14), PULocationID=74, total_amount=21.96),\n",
       " Row(pickup_datetime=datetime.datetime(2020, 1, 10, 8, 28, 1), PULocationID=82, total_amount=13.8),\n",
       " Row(pickup_datetime=datetime.datetime(2020, 1, 15, 14, 54, 53), PULocationID=247, total_amount=13.3),\n",
       " Row(pickup_datetime=datetime.datetime(2020, 1, 21, 11, 59, 47), PULocationID=41, total_amount=12.96),\n",
       " Row(pickup_datetime=datetime.datetime(2020, 1, 6, 10, 38, 40), PULocationID=182, total_amount=42.46),\n",
       " Row(pickup_datetime=datetime.datetime(2020, 1, 10, 16, 35, 40), PULocationID=97, total_amount=14.12),\n",
       " Row(pickup_datetime=datetime.datetime(2020, 1, 14, 12, 15, 22), PULocationID=238, total_amount=18.0),\n",
       " Row(pickup_datetime=datetime.datetime(2020, 1, 14, 11, 48, 25), PULocationID=130, total_amount=12.3),\n",
       " Row(pickup_datetime=datetime.datetime(2020, 1, 27, 20, 14, 23), PULocationID=129, total_amount=11.62),\n",
       " Row(pickup_datetime=datetime.datetime(2020, 1, 15, 15, 24, 23), PULocationID=244, total_amount=25.35),\n",
       " Row(pickup_datetime=datetime.datetime(2020, 1, 24, 22, 9, 25), PULocationID=42, total_amount=8.3),\n",
       " Row(pickup_datetime=datetime.datetime(2020, 1, 18, 11, 42, 40), PULocationID=42, total_amount=6.8),\n",
       " Row(pickup_datetime=datetime.datetime(2020, 1, 3, 17, 12, 12), PULocationID=66, total_amount=9.3),\n",
       " Row(pickup_datetime=datetime.datetime(2020, 1, 31, 12, 47), PULocationID=213, total_amount=26.14),\n",
       " Row(pickup_datetime=datetime.datetime(2020, 1, 8, 12, 13, 1), PULocationID=181, total_amount=7.25),\n",
       " Row(pickup_datetime=datetime.datetime(2020, 1, 23, 12, 53), PULocationID=65, total_amount=15.69),\n",
       " Row(pickup_datetime=datetime.datetime(2020, 1, 17, 0, 7, 5), PULocationID=33, total_amount=10.14),\n",
       " Row(pickup_datetime=datetime.datetime(2020, 1, 14, 9, 39, 12), PULocationID=66, total_amount=7.3),\n",
       " Row(pickup_datetime=datetime.datetime(2020, 1, 24, 16, 29, 10), PULocationID=97, total_amount=7.8),\n",
       " Row(pickup_datetime=datetime.datetime(2020, 1, 7, 6, 57), PULocationID=238, total_amount=31.91),\n",
       " Row(pickup_datetime=datetime.datetime(2020, 1, 12, 13, 27, 57), PULocationID=166, total_amount=16.25),\n",
       " Row(pickup_datetime=datetime.datetime(2020, 1, 2, 10, 49, 27), PULocationID=244, total_amount=102.8),\n",
       " Row(pickup_datetime=datetime.datetime(2020, 1, 2, 7, 35), PULocationID=51, total_amount=46.27),\n",
       " Row(pickup_datetime=datetime.datetime(2020, 1, 17, 6, 54, 34), PULocationID=243, total_amount=9.3),\n",
       " Row(pickup_datetime=datetime.datetime(2020, 1, 29, 7, 1, 14), PULocationID=74, total_amount=12.25),\n",
       " Row(pickup_datetime=datetime.datetime(2020, 1, 27, 23, 49, 19), PULocationID=260, total_amount=12.3),\n",
       " Row(pickup_datetime=datetime.datetime(2020, 1, 20, 13, 53, 59), PULocationID=75, total_amount=8.3),\n",
       " Row(pickup_datetime=datetime.datetime(2020, 1, 7, 13, 59), PULocationID=250, total_amount=30.32),\n",
       " Row(pickup_datetime=datetime.datetime(2020, 1, 21, 22, 51, 21), PULocationID=243, total_amount=12.8),\n",
       " Row(pickup_datetime=datetime.datetime(2020, 1, 22, 17, 55, 28), PULocationID=196, total_amount=15.3),\n",
       " ...]"
      ]
     },
     "execution_count": 84,
     "metadata": {},
     "output_type": "execute_result"
    }
   ],
   "source": [
    "green_rdd.filter(filter_dt_outliers).collect()"
   ]
  },
  {
   "cell_type": "code",
   "execution_count": 89,
   "id": "3f10acf8",
   "metadata": {
    "ExecuteTime": {
     "end_time": "2023-03-10T11:21:58.977685Z",
     "start_time": "2023-03-10T11:21:58.975046Z"
    }
   },
   "outputs": [
    {
     "data": {
      "text/plain": [
       "datetime.datetime(2020, 1, 31, 15, 0)"
      ]
     },
     "execution_count": 89,
     "metadata": {},
     "output_type": "execute_result"
    }
   ],
   "source": [
    "sample_row.pickup_datetime.replace(minute=0, second=0)"
   ]
  },
  {
   "cell_type": "code",
   "execution_count": 90,
   "id": "25a0e195",
   "metadata": {
    "ExecuteTime": {
     "end_time": "2023-03-10T11:24:14.045781Z",
     "start_time": "2023-03-10T11:24:14.043654Z"
    }
   },
   "outputs": [],
   "source": [
    "def mapper(row):\n",
    "    hour = row.pickup_datetime.replace(minute=0, second=0)\n",
    "    location = row.PULocationID\n",
    "    \n",
    "    amount = row.total_amount\n",
    "    \n",
    "    return ((location, hour), (amount, 1))"
   ]
  },
  {
   "cell_type": "code",
   "execution_count": 91,
   "id": "64db3c89",
   "metadata": {
    "ExecuteTime": {
     "end_time": "2023-03-10T11:26:15.873212Z",
     "start_time": "2023-03-10T11:26:15.871291Z"
    }
   },
   "outputs": [],
   "source": [
    "def reducer(left_value, right_value):\n",
    "    l_amount, l_count = left_value\n",
    "    r_amount, r_count = right_value\n",
    "    \n",
    "    return l_amount + r_amount, l_count + r_count"
   ]
  },
  {
   "cell_type": "markdown",
   "id": "b29f51dc",
   "metadata": {},
   "source": [
    "Important that if the schema is not specified, the calculations will be made prematurely to infer it."
   ]
  },
  {
   "cell_type": "code",
   "execution_count": 116,
   "id": "580100d7",
   "metadata": {
    "ExecuteTime": {
     "end_time": "2023-03-10T11:37:34.447450Z",
     "start_time": "2023-03-10T11:37:29.904651Z"
    }
   },
   "outputs": [
    {
     "name": "stderr",
     "output_type": "stream",
     "text": [
      "                                                                                \r"
     ]
    }
   ],
   "source": [
    "df_result = green_rdd \\\n",
    "    .filter(filter_dt_outliers) \\\n",
    "    .map(mapper) \\\n",
    "    .reduceByKey(reducer) \\\n",
    "    .map(lambda row: (row[0][0], row[0][1], row[1][0], row[1][1])) \\\n",
    "    .toDF()"
   ]
  },
  {
   "cell_type": "code",
   "execution_count": 117,
   "id": "07fbc0d9",
   "metadata": {
    "ExecuteTime": {
     "end_time": "2023-03-10T11:37:37.137725Z",
     "start_time": "2023-03-10T11:37:37.072323Z"
    }
   },
   "outputs": [
    {
     "data": {
      "text/plain": [
       "Row(_1=131, _2=datetime.datetime(2020, 1, 8, 9, 0), _3=88.34, _4=4)"
      ]
     },
     "execution_count": 117,
     "metadata": {},
     "output_type": "execute_result"
    }
   ],
   "source": [
    "df_result.take(1)[0]"
   ]
  },
  {
   "cell_type": "markdown",
   "id": "2b45edf3",
   "metadata": {},
   "source": [
    "Columns are infereded but don't have names. We can pass them with NamedTuple"
   ]
  },
  {
   "cell_type": "code",
   "execution_count": 118,
   "id": "e041a747",
   "metadata": {
    "ExecuteTime": {
     "end_time": "2023-03-10T11:38:21.432685Z",
     "start_time": "2023-03-10T11:38:16.803245Z"
    }
   },
   "outputs": [
    {
     "name": "stderr",
     "output_type": "stream",
     "text": [
      "                                                                                \r"
     ]
    }
   ],
   "source": [
    "from collections import namedtuple\n",
    "\n",
    "ResultRow = namedtuple('ResultRow', ['hour', 'zone', 'revenue', 'count'])\n",
    "\n",
    "df_result = green_rdd \\\n",
    "    .filter(filter_dt_outliers) \\\n",
    "    .map(mapper) \\\n",
    "    .reduceByKey(reducer) \\\n",
    "    .map(lambda row: ResultRow(row[0][0], row[0][1], row[1][0], row[1][1])) \\\n",
    "    .toDF() # unwrapping ((keys), (values)) to (key_1, ..., value_n) and using namedtuple for schema"
   ]
  },
  {
   "cell_type": "code",
   "execution_count": 119,
   "id": "4da2cf9e",
   "metadata": {
    "ExecuteTime": {
     "end_time": "2023-03-10T11:38:28.967875Z",
     "start_time": "2023-03-10T11:38:28.895950Z"
    }
   },
   "outputs": [
    {
     "data": {
      "text/plain": [
       "Row(hour=131, zone=datetime.datetime(2020, 1, 8, 9, 0), revenue=88.34, count=4)"
      ]
     },
     "execution_count": 119,
     "metadata": {},
     "output_type": "execute_result"
    }
   ],
   "source": [
    "df_result.take(1)[0]"
   ]
  },
  {
   "cell_type": "markdown",
   "id": "4129130e",
   "metadata": {},
   "source": [
    "But we are still having premature calculations. What if we specify the schema?"
   ]
  },
  {
   "cell_type": "code",
   "execution_count": 120,
   "id": "cce853e9",
   "metadata": {
    "ExecuteTime": {
     "end_time": "2023-03-10T11:39:12.010288Z",
     "start_time": "2023-03-10T11:39:11.996579Z"
    }
   },
   "outputs": [],
   "source": [
    "result_schema = types.StructType([\n",
    "    types.StructField('hour', types.TimestampType(), True),\n",
    "    types.StructField('zone', types.IntegerType(), True),\n",
    "    types.StructField('revenue', types.DoubleType(), True),\n",
    "    types.StructField('count', types.IntegerType(), True)\n",
    "])\n",
    "\n",
    "df_result = green_rdd \\\n",
    "    .filter(filter_dt_outliers) \\\n",
    "    .map(mapper) \\\n",
    "    .reduceByKey(reducer) \\\n",
    "    .map(lambda row: ResultRow(row[0][0], row[0][1], row[1][0], row[1][1])) \\\n",
    "    .toDF(result_schema) # unwrapping ((keys), (values)) to (key_1, ..., value_n)"
   ]
  },
  {
   "cell_type": "markdown",
   "id": "3523f8d3",
   "metadata": {
    "ExecuteTime": {
     "end_time": "2023-03-10T11:39:25.106873Z",
     "start_time": "2023-03-10T11:39:25.105073Z"
    }
   },
   "source": [
    "It works, no calculations are being made"
   ]
  },
  {
   "cell_type": "markdown",
   "id": "803d0878",
   "metadata": {},
   "source": [
    "---\n",
    "\n",
    "**Credits**: \n",
    "DataTalks course by Alexey Grigoryev\n",
    "\n",
    "https://github.com/DataTalksClub/data-engineering-zoomcamp/tree/main/week_5_batch_processing"
   ]
  }
 ],
 "metadata": {
  "kernelspec": {
   "display_name": "Python [conda env:ml-env]",
   "language": "python",
   "name": "conda-env-ml-env-py"
  },
  "language_info": {
   "codemirror_mode": {
    "name": "ipython",
    "version": 3
   },
   "file_extension": ".py",
   "mimetype": "text/x-python",
   "name": "python",
   "nbconvert_exporter": "python",
   "pygments_lexer": "ipython3",
   "version": "3.8.13"
  },
  "toc": {
   "base_numbering": 1,
   "nav_menu": {},
   "number_sections": true,
   "sideBar": true,
   "skip_h1_title": false,
   "title_cell": "Table of Contents",
   "title_sidebar": "Contents",
   "toc_cell": false,
   "toc_position": {},
   "toc_section_display": true,
   "toc_window_display": false
  },
  "varInspector": {
   "cols": {
    "lenName": 16,
    "lenType": 16,
    "lenVar": 40
   },
   "kernels_config": {
    "python": {
     "delete_cmd_postfix": "",
     "delete_cmd_prefix": "del ",
     "library": "var_list.py",
     "varRefreshCmd": "print(var_dic_list())"
    },
    "r": {
     "delete_cmd_postfix": ") ",
     "delete_cmd_prefix": "rm(",
     "library": "var_list.r",
     "varRefreshCmd": "cat(var_dic_list()) "
    }
   },
   "types_to_exclude": [
    "module",
    "function",
    "builtin_function_or_method",
    "instance",
    "_Feature"
   ],
   "window_display": false
  }
 },
 "nbformat": 4,
 "nbformat_minor": 5
}
