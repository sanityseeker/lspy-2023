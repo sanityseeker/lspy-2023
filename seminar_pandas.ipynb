{
 "cells": [
  {
   "cell_type": "code",
   "execution_count": 153,
   "id": "33e276da",
   "metadata": {
    "ExecuteTime": {
     "end_time": "2023-01-27T14:38:02.207066Z",
     "start_time": "2023-01-27T14:38:02.205340Z"
    }
   },
   "outputs": [],
   "source": [
    "import numpy as np\n",
    "import pandas as pd"
   ]
  },
  {
   "cell_type": "markdown",
   "id": "f64f86cc",
   "metadata": {},
   "source": [
    "## Немного ни о чем"
   ]
  },
  {
   "cell_type": "markdown",
   "id": "4ef1067c",
   "metadata": {},
   "source": [
    "Поговорим про разные представления для пропущенных значений"
   ]
  },
  {
   "cell_type": "code",
   "execution_count": 2,
   "id": "ae50165b",
   "metadata": {
    "ExecuteTime": {
     "end_time": "2023-01-27T12:15:31.507474Z",
     "start_time": "2023-01-27T12:15:31.505539Z"
    }
   },
   "outputs": [],
   "source": [
    "df_float = pd.DataFrame(\n",
    "    {\n",
    "        'column_none': [1., 2., 3., 4., 5., None],\n",
    "        'column_nan': [1., 2., 3., 4., 5., np.nan],\n",
    "    }\n",
    ")"
   ]
  },
  {
   "cell_type": "code",
   "execution_count": 3,
   "id": "099254bd",
   "metadata": {
    "ExecuteTime": {
     "end_time": "2023-01-27T12:15:31.514961Z",
     "start_time": "2023-01-27T12:15:31.509704Z"
    }
   },
   "outputs": [
    {
     "data": {
      "text/plain": [
       "0     True\n",
       "1     True\n",
       "2     True\n",
       "3     True\n",
       "4     True\n",
       "5    False\n",
       "dtype: bool"
      ]
     },
     "execution_count": 3,
     "metadata": {},
     "output_type": "execute_result"
    }
   ],
   "source": [
    "df_float['column_none'] == df_float['column_nan']"
   ]
  },
  {
   "cell_type": "code",
   "execution_count": 4,
   "id": "aa032221",
   "metadata": {
    "ExecuteTime": {
     "end_time": "2023-01-27T12:15:31.520021Z",
     "start_time": "2023-01-27T12:15:31.515709Z"
    }
   },
   "outputs": [
    {
     "data": {
      "text/html": [
       "<div>\n",
       "<style scoped>\n",
       "    .dataframe tbody tr th:only-of-type {\n",
       "        vertical-align: middle;\n",
       "    }\n",
       "\n",
       "    .dataframe tbody tr th {\n",
       "        vertical-align: top;\n",
       "    }\n",
       "\n",
       "    .dataframe thead th {\n",
       "        text-align: right;\n",
       "    }\n",
       "</style>\n",
       "<table border=\"1\" class=\"dataframe\">\n",
       "  <thead>\n",
       "    <tr style=\"text-align: right;\">\n",
       "      <th></th>\n",
       "      <th>column_none</th>\n",
       "      <th>column_nan</th>\n",
       "    </tr>\n",
       "  </thead>\n",
       "  <tbody>\n",
       "    <tr>\n",
       "      <th>0</th>\n",
       "      <td>1.0</td>\n",
       "      <td>1.0</td>\n",
       "    </tr>\n",
       "    <tr>\n",
       "      <th>1</th>\n",
       "      <td>2.0</td>\n",
       "      <td>2.0</td>\n",
       "    </tr>\n",
       "    <tr>\n",
       "      <th>2</th>\n",
       "      <td>3.0</td>\n",
       "      <td>3.0</td>\n",
       "    </tr>\n",
       "    <tr>\n",
       "      <th>3</th>\n",
       "      <td>4.0</td>\n",
       "      <td>4.0</td>\n",
       "    </tr>\n",
       "    <tr>\n",
       "      <th>4</th>\n",
       "      <td>5.0</td>\n",
       "      <td>5.0</td>\n",
       "    </tr>\n",
       "    <tr>\n",
       "      <th>5</th>\n",
       "      <td>NaN</td>\n",
       "      <td>NaN</td>\n",
       "    </tr>\n",
       "  </tbody>\n",
       "</table>\n",
       "</div>"
      ],
      "text/plain": [
       "   column_none  column_nan\n",
       "0          1.0         1.0\n",
       "1          2.0         2.0\n",
       "2          3.0         3.0\n",
       "3          4.0         4.0\n",
       "4          5.0         5.0\n",
       "5          NaN         NaN"
      ]
     },
     "execution_count": 4,
     "metadata": {},
     "output_type": "execute_result"
    }
   ],
   "source": [
    "df_float"
   ]
  },
  {
   "cell_type": "code",
   "execution_count": 5,
   "id": "96af8aa1",
   "metadata": {
    "ExecuteTime": {
     "end_time": "2023-01-27T12:15:31.522866Z",
     "start_time": "2023-01-27T12:15:31.520904Z"
    }
   },
   "outputs": [
    {
     "data": {
      "text/plain": [
       "column_none   NaN\n",
       "column_nan    NaN\n",
       "Name: 5, dtype: float64"
      ]
     },
     "execution_count": 5,
     "metadata": {},
     "output_type": "execute_result"
    }
   ],
   "source": [
    "df_float.loc[5]"
   ]
  },
  {
   "cell_type": "code",
   "execution_count": 6,
   "id": "23481ee8",
   "metadata": {
    "ExecuteTime": {
     "end_time": "2023-01-27T12:15:31.525371Z",
     "start_time": "2023-01-27T12:15:31.523524Z"
    }
   },
   "outputs": [
    {
     "data": {
      "text/plain": [
       "(dtype('float64'), dtype('float64'))"
      ]
     },
     "execution_count": 6,
     "metadata": {},
     "output_type": "execute_result"
    }
   ],
   "source": [
    "df_float['column_none'].dtype, df_float['column_nan'].dtype"
   ]
  },
  {
   "cell_type": "markdown",
   "id": "f6522e76",
   "metadata": {},
   "source": [
    "Видим, что None скастовался в np.nan и стал float. Что будет, если у нас изначально данные из целых чисел?"
   ]
  },
  {
   "cell_type": "code",
   "execution_count": 7,
   "id": "6f8946ad",
   "metadata": {
    "ExecuteTime": {
     "end_time": "2023-01-27T12:15:31.622971Z",
     "start_time": "2023-01-27T12:15:31.621283Z"
    }
   },
   "outputs": [],
   "source": [
    "df_int = pd.DataFrame(\n",
    "    {\n",
    "        'column_none': [1, 2, 3, 4, 5, None],\n",
    "        'column_nan': [1, 2, 3, 4, 5, np.nan],\n",
    "    }\n",
    ")"
   ]
  },
  {
   "cell_type": "code",
   "execution_count": 8,
   "id": "03917e4d",
   "metadata": {
    "ExecuteTime": {
     "end_time": "2023-01-27T12:15:31.625960Z",
     "start_time": "2023-01-27T12:15:31.623746Z"
    }
   },
   "outputs": [
    {
     "data": {
      "text/plain": [
       "0     True\n",
       "1     True\n",
       "2     True\n",
       "3     True\n",
       "4     True\n",
       "5    False\n",
       "dtype: bool"
      ]
     },
     "execution_count": 8,
     "metadata": {},
     "output_type": "execute_result"
    }
   ],
   "source": [
    "df_int['column_none'] == df_int['column_nan']"
   ]
  },
  {
   "cell_type": "code",
   "execution_count": 9,
   "id": "54895b7a",
   "metadata": {
    "ExecuteTime": {
     "end_time": "2023-01-27T12:15:31.631115Z",
     "start_time": "2023-01-27T12:15:31.627889Z"
    }
   },
   "outputs": [
    {
     "data": {
      "text/html": [
       "<div>\n",
       "<style scoped>\n",
       "    .dataframe tbody tr th:only-of-type {\n",
       "        vertical-align: middle;\n",
       "    }\n",
       "\n",
       "    .dataframe tbody tr th {\n",
       "        vertical-align: top;\n",
       "    }\n",
       "\n",
       "    .dataframe thead th {\n",
       "        text-align: right;\n",
       "    }\n",
       "</style>\n",
       "<table border=\"1\" class=\"dataframe\">\n",
       "  <thead>\n",
       "    <tr style=\"text-align: right;\">\n",
       "      <th></th>\n",
       "      <th>column_none</th>\n",
       "      <th>column_nan</th>\n",
       "    </tr>\n",
       "  </thead>\n",
       "  <tbody>\n",
       "    <tr>\n",
       "      <th>0</th>\n",
       "      <td>1.0</td>\n",
       "      <td>1.0</td>\n",
       "    </tr>\n",
       "    <tr>\n",
       "      <th>1</th>\n",
       "      <td>2.0</td>\n",
       "      <td>2.0</td>\n",
       "    </tr>\n",
       "    <tr>\n",
       "      <th>2</th>\n",
       "      <td>3.0</td>\n",
       "      <td>3.0</td>\n",
       "    </tr>\n",
       "    <tr>\n",
       "      <th>3</th>\n",
       "      <td>4.0</td>\n",
       "      <td>4.0</td>\n",
       "    </tr>\n",
       "    <tr>\n",
       "      <th>4</th>\n",
       "      <td>5.0</td>\n",
       "      <td>5.0</td>\n",
       "    </tr>\n",
       "    <tr>\n",
       "      <th>5</th>\n",
       "      <td>NaN</td>\n",
       "      <td>NaN</td>\n",
       "    </tr>\n",
       "  </tbody>\n",
       "</table>\n",
       "</div>"
      ],
      "text/plain": [
       "   column_none  column_nan\n",
       "0          1.0         1.0\n",
       "1          2.0         2.0\n",
       "2          3.0         3.0\n",
       "3          4.0         4.0\n",
       "4          5.0         5.0\n",
       "5          NaN         NaN"
      ]
     },
     "execution_count": 9,
     "metadata": {},
     "output_type": "execute_result"
    }
   ],
   "source": [
    "df_int"
   ]
  },
  {
   "cell_type": "code",
   "execution_count": 10,
   "id": "db733428",
   "metadata": {
    "ExecuteTime": {
     "end_time": "2023-01-27T12:15:31.636947Z",
     "start_time": "2023-01-27T12:15:31.633861Z"
    }
   },
   "outputs": [
    {
     "data": {
      "text/html": [
       "<div>\n",
       "<style scoped>\n",
       "    .dataframe tbody tr th:only-of-type {\n",
       "        vertical-align: middle;\n",
       "    }\n",
       "\n",
       "    .dataframe tbody tr th {\n",
       "        vertical-align: top;\n",
       "    }\n",
       "\n",
       "    .dataframe thead th {\n",
       "        text-align: right;\n",
       "    }\n",
       "</style>\n",
       "<table border=\"1\" class=\"dataframe\">\n",
       "  <thead>\n",
       "    <tr style=\"text-align: right;\">\n",
       "      <th></th>\n",
       "      <th>column_none</th>\n",
       "      <th>column_nan</th>\n",
       "    </tr>\n",
       "  </thead>\n",
       "  <tbody>\n",
       "    <tr>\n",
       "      <th>0</th>\n",
       "      <td>1.0</td>\n",
       "      <td>1.0</td>\n",
       "    </tr>\n",
       "    <tr>\n",
       "      <th>1</th>\n",
       "      <td>2.0</td>\n",
       "      <td>2.0</td>\n",
       "    </tr>\n",
       "    <tr>\n",
       "      <th>2</th>\n",
       "      <td>3.0</td>\n",
       "      <td>3.0</td>\n",
       "    </tr>\n",
       "    <tr>\n",
       "      <th>3</th>\n",
       "      <td>4.0</td>\n",
       "      <td>4.0</td>\n",
       "    </tr>\n",
       "    <tr>\n",
       "      <th>4</th>\n",
       "      <td>5.0</td>\n",
       "      <td>5.0</td>\n",
       "    </tr>\n",
       "    <tr>\n",
       "      <th>5</th>\n",
       "      <td>NaN</td>\n",
       "      <td>NaN</td>\n",
       "    </tr>\n",
       "  </tbody>\n",
       "</table>\n",
       "</div>"
      ],
      "text/plain": [
       "   column_none  column_nan\n",
       "0          1.0         1.0\n",
       "1          2.0         2.0\n",
       "2          3.0         3.0\n",
       "3          4.0         4.0\n",
       "4          5.0         5.0\n",
       "5          NaN         NaN"
      ]
     },
     "execution_count": 10,
     "metadata": {},
     "output_type": "execute_result"
    }
   ],
   "source": [
    "df_int"
   ]
  },
  {
   "cell_type": "markdown",
   "id": "62eb4191",
   "metadata": {},
   "source": [
    "Тоже получили конвертацию None в NaN"
   ]
  },
  {
   "cell_type": "code",
   "execution_count": 11,
   "id": "3b9d6f55",
   "metadata": {
    "ExecuteTime": {
     "end_time": "2023-01-27T12:15:31.730689Z",
     "start_time": "2023-01-27T12:15:31.728298Z"
    }
   },
   "outputs": [
    {
     "data": {
      "text/plain": [
       "column_none   NaN\n",
       "column_nan    NaN\n",
       "Name: 5, dtype: float64"
      ]
     },
     "execution_count": 11,
     "metadata": {},
     "output_type": "execute_result"
    }
   ],
   "source": [
    "df_int.loc[5]"
   ]
  },
  {
   "cell_type": "code",
   "execution_count": 12,
   "id": "2b674ba5",
   "metadata": {
    "ExecuteTime": {
     "end_time": "2023-01-27T12:15:31.735136Z",
     "start_time": "2023-01-27T12:15:31.733297Z"
    }
   },
   "outputs": [
    {
     "data": {
      "text/plain": [
       "(dtype('float64'), dtype('float64'))"
      ]
     },
     "execution_count": 12,
     "metadata": {},
     "output_type": "execute_result"
    }
   ],
   "source": [
    "df_int['column_none'].dtype, df_int['column_nan'].dtype"
   ]
  },
  {
   "cell_type": "markdown",
   "id": "1dcff72b",
   "metadata": {},
   "source": [
    "Произошел каст, вероятно не очень желательный"
   ]
  },
  {
   "cell_type": "code",
   "execution_count": 13,
   "id": "1892b2cf",
   "metadata": {
    "ExecuteTime": {
     "end_time": "2023-01-27T12:15:32.964960Z",
     "start_time": "2023-01-27T12:15:31.834670Z"
    }
   },
   "outputs": [
    {
     "ename": "IntCastingNaNError",
     "evalue": "Cannot convert non-finite values (NA or inf) to integer",
     "output_type": "error",
     "traceback": [
      "\u001b[0;31m---------------------------------------------------------------------------\u001b[0m",
      "\u001b[0;31mIntCastingNaNError\u001b[0m                        Traceback (most recent call last)",
      "Input \u001b[0;32mIn [13]\u001b[0m, in \u001b[0;36m<cell line: 1>\u001b[0;34m()\u001b[0m\n\u001b[0;32m----> 1\u001b[0m df_int[\u001b[38;5;124m'\u001b[39m\u001b[38;5;124mcolumn_nan\u001b[39m\u001b[38;5;124m'\u001b[39m] \u001b[38;5;241m=\u001b[39m \u001b[43mdf_int\u001b[49m\u001b[43m[\u001b[49m\u001b[38;5;124;43m'\u001b[39;49m\u001b[38;5;124;43mcolumn_nan\u001b[39;49m\u001b[38;5;124;43m'\u001b[39;49m\u001b[43m]\u001b[49m\u001b[38;5;241;43m.\u001b[39;49m\u001b[43mastype\u001b[49m\u001b[43m(\u001b[49m\u001b[43mnp\u001b[49m\u001b[38;5;241;43m.\u001b[39;49m\u001b[43mint16\u001b[49m\u001b[43m)\u001b[49m\n",
      "File \u001b[0;32m~/anaconda3/envs/ml-env/lib/python3.8/site-packages/pandas/core/generic.py:5920\u001b[0m, in \u001b[0;36mNDFrame.astype\u001b[0;34m(self, dtype, copy, errors)\u001b[0m\n\u001b[1;32m   5913\u001b[0m     results \u001b[38;5;241m=\u001b[39m [\n\u001b[1;32m   5914\u001b[0m         \u001b[38;5;28mself\u001b[39m\u001b[38;5;241m.\u001b[39miloc[:, i]\u001b[38;5;241m.\u001b[39mastype(dtype, copy\u001b[38;5;241m=\u001b[39mcopy)\n\u001b[1;32m   5915\u001b[0m         \u001b[38;5;28;01mfor\u001b[39;00m i \u001b[38;5;129;01min\u001b[39;00m \u001b[38;5;28mrange\u001b[39m(\u001b[38;5;28mlen\u001b[39m(\u001b[38;5;28mself\u001b[39m\u001b[38;5;241m.\u001b[39mcolumns))\n\u001b[1;32m   5916\u001b[0m     ]\n\u001b[1;32m   5918\u001b[0m \u001b[38;5;28;01melse\u001b[39;00m:\n\u001b[1;32m   5919\u001b[0m     \u001b[38;5;66;03m# else, only a single dtype is given\u001b[39;00m\n\u001b[0;32m-> 5920\u001b[0m     new_data \u001b[38;5;241m=\u001b[39m \u001b[38;5;28;43mself\u001b[39;49m\u001b[38;5;241;43m.\u001b[39;49m\u001b[43m_mgr\u001b[49m\u001b[38;5;241;43m.\u001b[39;49m\u001b[43mastype\u001b[49m\u001b[43m(\u001b[49m\u001b[43mdtype\u001b[49m\u001b[38;5;241;43m=\u001b[39;49m\u001b[43mdtype\u001b[49m\u001b[43m,\u001b[49m\u001b[43m \u001b[49m\u001b[43mcopy\u001b[49m\u001b[38;5;241;43m=\u001b[39;49m\u001b[43mcopy\u001b[49m\u001b[43m,\u001b[49m\u001b[43m \u001b[49m\u001b[43merrors\u001b[49m\u001b[38;5;241;43m=\u001b[39;49m\u001b[43merrors\u001b[49m\u001b[43m)\u001b[49m\n\u001b[1;32m   5921\u001b[0m     \u001b[38;5;28;01mreturn\u001b[39;00m \u001b[38;5;28mself\u001b[39m\u001b[38;5;241m.\u001b[39m_constructor(new_data)\u001b[38;5;241m.\u001b[39m__finalize__(\u001b[38;5;28mself\u001b[39m, method\u001b[38;5;241m=\u001b[39m\u001b[38;5;124m\"\u001b[39m\u001b[38;5;124mastype\u001b[39m\u001b[38;5;124m\"\u001b[39m)\n\u001b[1;32m   5923\u001b[0m \u001b[38;5;66;03m# GH 33113: handle empty frame or series\u001b[39;00m\n",
      "File \u001b[0;32m~/anaconda3/envs/ml-env/lib/python3.8/site-packages/pandas/core/internals/managers.py:419\u001b[0m, in \u001b[0;36mBaseBlockManager.astype\u001b[0;34m(self, dtype, copy, errors)\u001b[0m\n\u001b[1;32m    418\u001b[0m \u001b[38;5;28;01mdef\u001b[39;00m \u001b[38;5;21mastype\u001b[39m(\u001b[38;5;28mself\u001b[39m: T, dtype, copy: \u001b[38;5;28mbool\u001b[39m \u001b[38;5;241m=\u001b[39m \u001b[38;5;28;01mFalse\u001b[39;00m, errors: \u001b[38;5;28mstr\u001b[39m \u001b[38;5;241m=\u001b[39m \u001b[38;5;124m\"\u001b[39m\u001b[38;5;124mraise\u001b[39m\u001b[38;5;124m\"\u001b[39m) \u001b[38;5;241m-\u001b[39m\u001b[38;5;241m>\u001b[39m T:\n\u001b[0;32m--> 419\u001b[0m     \u001b[38;5;28;01mreturn\u001b[39;00m \u001b[38;5;28;43mself\u001b[39;49m\u001b[38;5;241;43m.\u001b[39;49m\u001b[43mapply\u001b[49m\u001b[43m(\u001b[49m\u001b[38;5;124;43m\"\u001b[39;49m\u001b[38;5;124;43mastype\u001b[39;49m\u001b[38;5;124;43m\"\u001b[39;49m\u001b[43m,\u001b[49m\u001b[43m \u001b[49m\u001b[43mdtype\u001b[49m\u001b[38;5;241;43m=\u001b[39;49m\u001b[43mdtype\u001b[49m\u001b[43m,\u001b[49m\u001b[43m \u001b[49m\u001b[43mcopy\u001b[49m\u001b[38;5;241;43m=\u001b[39;49m\u001b[43mcopy\u001b[49m\u001b[43m,\u001b[49m\u001b[43m \u001b[49m\u001b[43merrors\u001b[49m\u001b[38;5;241;43m=\u001b[39;49m\u001b[43merrors\u001b[49m\u001b[43m)\u001b[49m\n",
      "File \u001b[0;32m~/anaconda3/envs/ml-env/lib/python3.8/site-packages/pandas/core/internals/managers.py:304\u001b[0m, in \u001b[0;36mBaseBlockManager.apply\u001b[0;34m(self, f, align_keys, ignore_failures, **kwargs)\u001b[0m\n\u001b[1;32m    302\u001b[0m         applied \u001b[38;5;241m=\u001b[39m b\u001b[38;5;241m.\u001b[39mapply(f, \u001b[38;5;241m*\u001b[39m\u001b[38;5;241m*\u001b[39mkwargs)\n\u001b[1;32m    303\u001b[0m     \u001b[38;5;28;01melse\u001b[39;00m:\n\u001b[0;32m--> 304\u001b[0m         applied \u001b[38;5;241m=\u001b[39m \u001b[38;5;28;43mgetattr\u001b[39;49m\u001b[43m(\u001b[49m\u001b[43mb\u001b[49m\u001b[43m,\u001b[49m\u001b[43m \u001b[49m\u001b[43mf\u001b[49m\u001b[43m)\u001b[49m\u001b[43m(\u001b[49m\u001b[38;5;241;43m*\u001b[39;49m\u001b[38;5;241;43m*\u001b[39;49m\u001b[43mkwargs\u001b[49m\u001b[43m)\u001b[49m\n\u001b[1;32m    305\u001b[0m \u001b[38;5;28;01mexcept\u001b[39;00m (\u001b[38;5;167;01mTypeError\u001b[39;00m, \u001b[38;5;167;01mNotImplementedError\u001b[39;00m):\n\u001b[1;32m    306\u001b[0m     \u001b[38;5;28;01mif\u001b[39;00m \u001b[38;5;129;01mnot\u001b[39;00m ignore_failures:\n",
      "File \u001b[0;32m~/anaconda3/envs/ml-env/lib/python3.8/site-packages/pandas/core/internals/blocks.py:580\u001b[0m, in \u001b[0;36mBlock.astype\u001b[0;34m(self, dtype, copy, errors)\u001b[0m\n\u001b[1;32m    562\u001b[0m \u001b[38;5;124;03m\"\"\"\u001b[39;00m\n\u001b[1;32m    563\u001b[0m \u001b[38;5;124;03mCoerce to the new dtype.\u001b[39;00m\n\u001b[1;32m    564\u001b[0m \n\u001b[0;32m   (...)\u001b[0m\n\u001b[1;32m    576\u001b[0m \u001b[38;5;124;03mBlock\u001b[39;00m\n\u001b[1;32m    577\u001b[0m \u001b[38;5;124;03m\"\"\"\u001b[39;00m\n\u001b[1;32m    578\u001b[0m values \u001b[38;5;241m=\u001b[39m \u001b[38;5;28mself\u001b[39m\u001b[38;5;241m.\u001b[39mvalues\n\u001b[0;32m--> 580\u001b[0m new_values \u001b[38;5;241m=\u001b[39m \u001b[43mastype_array_safe\u001b[49m\u001b[43m(\u001b[49m\u001b[43mvalues\u001b[49m\u001b[43m,\u001b[49m\u001b[43m \u001b[49m\u001b[43mdtype\u001b[49m\u001b[43m,\u001b[49m\u001b[43m \u001b[49m\u001b[43mcopy\u001b[49m\u001b[38;5;241;43m=\u001b[39;49m\u001b[43mcopy\u001b[49m\u001b[43m,\u001b[49m\u001b[43m \u001b[49m\u001b[43merrors\u001b[49m\u001b[38;5;241;43m=\u001b[39;49m\u001b[43merrors\u001b[49m\u001b[43m)\u001b[49m\n\u001b[1;32m    582\u001b[0m new_values \u001b[38;5;241m=\u001b[39m maybe_coerce_values(new_values)\n\u001b[1;32m    583\u001b[0m newb \u001b[38;5;241m=\u001b[39m \u001b[38;5;28mself\u001b[39m\u001b[38;5;241m.\u001b[39mmake_block(new_values)\n",
      "File \u001b[0;32m~/anaconda3/envs/ml-env/lib/python3.8/site-packages/pandas/core/dtypes/cast.py:1292\u001b[0m, in \u001b[0;36mastype_array_safe\u001b[0;34m(values, dtype, copy, errors)\u001b[0m\n\u001b[1;32m   1289\u001b[0m     dtype \u001b[38;5;241m=\u001b[39m dtype\u001b[38;5;241m.\u001b[39mnumpy_dtype\n\u001b[1;32m   1291\u001b[0m \u001b[38;5;28;01mtry\u001b[39;00m:\n\u001b[0;32m-> 1292\u001b[0m     new_values \u001b[38;5;241m=\u001b[39m \u001b[43mastype_array\u001b[49m\u001b[43m(\u001b[49m\u001b[43mvalues\u001b[49m\u001b[43m,\u001b[49m\u001b[43m \u001b[49m\u001b[43mdtype\u001b[49m\u001b[43m,\u001b[49m\u001b[43m \u001b[49m\u001b[43mcopy\u001b[49m\u001b[38;5;241;43m=\u001b[39;49m\u001b[43mcopy\u001b[49m\u001b[43m)\u001b[49m\n\u001b[1;32m   1293\u001b[0m \u001b[38;5;28;01mexcept\u001b[39;00m (\u001b[38;5;167;01mValueError\u001b[39;00m, \u001b[38;5;167;01mTypeError\u001b[39;00m):\n\u001b[1;32m   1294\u001b[0m     \u001b[38;5;66;03m# e.g. astype_nansafe can fail on object-dtype of strings\u001b[39;00m\n\u001b[1;32m   1295\u001b[0m     \u001b[38;5;66;03m#  trying to convert to float\u001b[39;00m\n\u001b[1;32m   1296\u001b[0m     \u001b[38;5;28;01mif\u001b[39;00m errors \u001b[38;5;241m==\u001b[39m \u001b[38;5;124m\"\u001b[39m\u001b[38;5;124mignore\u001b[39m\u001b[38;5;124m\"\u001b[39m:\n",
      "File \u001b[0;32m~/anaconda3/envs/ml-env/lib/python3.8/site-packages/pandas/core/dtypes/cast.py:1237\u001b[0m, in \u001b[0;36mastype_array\u001b[0;34m(values, dtype, copy)\u001b[0m\n\u001b[1;32m   1234\u001b[0m     values \u001b[38;5;241m=\u001b[39m values\u001b[38;5;241m.\u001b[39mastype(dtype, copy\u001b[38;5;241m=\u001b[39mcopy)\n\u001b[1;32m   1236\u001b[0m \u001b[38;5;28;01melse\u001b[39;00m:\n\u001b[0;32m-> 1237\u001b[0m     values \u001b[38;5;241m=\u001b[39m \u001b[43mastype_nansafe\u001b[49m\u001b[43m(\u001b[49m\u001b[43mvalues\u001b[49m\u001b[43m,\u001b[49m\u001b[43m \u001b[49m\u001b[43mdtype\u001b[49m\u001b[43m,\u001b[49m\u001b[43m \u001b[49m\u001b[43mcopy\u001b[49m\u001b[38;5;241;43m=\u001b[39;49m\u001b[43mcopy\u001b[49m\u001b[43m)\u001b[49m\n\u001b[1;32m   1239\u001b[0m \u001b[38;5;66;03m# in pandas we don't store numpy str dtypes, so convert to object\u001b[39;00m\n\u001b[1;32m   1240\u001b[0m \u001b[38;5;28;01mif\u001b[39;00m \u001b[38;5;28misinstance\u001b[39m(dtype, np\u001b[38;5;241m.\u001b[39mdtype) \u001b[38;5;129;01mand\u001b[39;00m \u001b[38;5;28missubclass\u001b[39m(values\u001b[38;5;241m.\u001b[39mdtype\u001b[38;5;241m.\u001b[39mtype, \u001b[38;5;28mstr\u001b[39m):\n",
      "File \u001b[0;32m~/anaconda3/envs/ml-env/lib/python3.8/site-packages/pandas/core/dtypes/cast.py:1148\u001b[0m, in \u001b[0;36mastype_nansafe\u001b[0;34m(arr, dtype, copy, skipna)\u001b[0m\n\u001b[1;32m   1145\u001b[0m     \u001b[38;5;28;01mraise\u001b[39;00m \u001b[38;5;167;01mTypeError\u001b[39;00m(\u001b[38;5;124mf\u001b[39m\u001b[38;5;124m\"\u001b[39m\u001b[38;5;124mcannot astype a timedelta from [\u001b[39m\u001b[38;5;132;01m{\u001b[39;00marr\u001b[38;5;241m.\u001b[39mdtype\u001b[38;5;132;01m}\u001b[39;00m\u001b[38;5;124m] to [\u001b[39m\u001b[38;5;132;01m{\u001b[39;00mdtype\u001b[38;5;132;01m}\u001b[39;00m\u001b[38;5;124m]\u001b[39m\u001b[38;5;124m\"\u001b[39m)\n\u001b[1;32m   1147\u001b[0m \u001b[38;5;28;01melif\u001b[39;00m np\u001b[38;5;241m.\u001b[39missubdtype(arr\u001b[38;5;241m.\u001b[39mdtype, np\u001b[38;5;241m.\u001b[39mfloating) \u001b[38;5;129;01mand\u001b[39;00m np\u001b[38;5;241m.\u001b[39missubdtype(dtype, np\u001b[38;5;241m.\u001b[39minteger):\n\u001b[0;32m-> 1148\u001b[0m     \u001b[38;5;28;01mreturn\u001b[39;00m \u001b[43mastype_float_to_int_nansafe\u001b[49m\u001b[43m(\u001b[49m\u001b[43marr\u001b[49m\u001b[43m,\u001b[49m\u001b[43m \u001b[49m\u001b[43mdtype\u001b[49m\u001b[43m,\u001b[49m\u001b[43m \u001b[49m\u001b[43mcopy\u001b[49m\u001b[43m)\u001b[49m\n\u001b[1;32m   1150\u001b[0m \u001b[38;5;28;01melif\u001b[39;00m is_object_dtype(arr\u001b[38;5;241m.\u001b[39mdtype):\n\u001b[1;32m   1151\u001b[0m \n\u001b[1;32m   1152\u001b[0m     \u001b[38;5;66;03m# work around NumPy brokenness, #1987\u001b[39;00m\n\u001b[1;32m   1153\u001b[0m     \u001b[38;5;28;01mif\u001b[39;00m np\u001b[38;5;241m.\u001b[39missubdtype(dtype\u001b[38;5;241m.\u001b[39mtype, np\u001b[38;5;241m.\u001b[39minteger):\n",
      "File \u001b[0;32m~/anaconda3/envs/ml-env/lib/python3.8/site-packages/pandas/core/dtypes/cast.py:1193\u001b[0m, in \u001b[0;36mastype_float_to_int_nansafe\u001b[0;34m(values, dtype, copy)\u001b[0m\n\u001b[1;32m   1189\u001b[0m \u001b[38;5;124;03m\"\"\"\u001b[39;00m\n\u001b[1;32m   1190\u001b[0m \u001b[38;5;124;03mastype with a check preventing converting NaN to an meaningless integer value.\u001b[39;00m\n\u001b[1;32m   1191\u001b[0m \u001b[38;5;124;03m\"\"\"\u001b[39;00m\n\u001b[1;32m   1192\u001b[0m \u001b[38;5;28;01mif\u001b[39;00m \u001b[38;5;129;01mnot\u001b[39;00m np\u001b[38;5;241m.\u001b[39misfinite(values)\u001b[38;5;241m.\u001b[39mall():\n\u001b[0;32m-> 1193\u001b[0m     \u001b[38;5;28;01mraise\u001b[39;00m IntCastingNaNError(\n\u001b[1;32m   1194\u001b[0m         \u001b[38;5;124m\"\u001b[39m\u001b[38;5;124mCannot convert non-finite values (NA or inf) to integer\u001b[39m\u001b[38;5;124m\"\u001b[39m\n\u001b[1;32m   1195\u001b[0m     )\n\u001b[1;32m   1196\u001b[0m \u001b[38;5;28;01mreturn\u001b[39;00m values\u001b[38;5;241m.\u001b[39mastype(dtype, copy\u001b[38;5;241m=\u001b[39mcopy)\n",
      "\u001b[0;31mIntCastingNaNError\u001b[0m: Cannot convert non-finite values (NA or inf) to integer"
     ]
    }
   ],
   "source": [
    "df_int['column_nan'] = df_int['column_nan'].astype(np.int16)"
   ]
  },
  {
   "cell_type": "markdown",
   "id": "46bb732a",
   "metadata": {},
   "source": [
    "Просто так скастить в integer, не выбрасывая NaN нельзя"
   ]
  },
  {
   "cell_type": "code",
   "execution_count": 61,
   "id": "d6613a8d",
   "metadata": {
    "ExecuteTime": {
     "end_time": "2023-01-27T12:15:54.035982Z",
     "start_time": "2023-01-27T12:15:54.033723Z"
    }
   },
   "outputs": [],
   "source": [
    "df_int['column_nan'] = df_int['column_nan'].astype(\"Int16\")"
   ]
  },
  {
   "cell_type": "markdown",
   "id": "8420ab25",
   "metadata": {},
   "source": [
    "О, что-то получилось?"
   ]
  },
  {
   "cell_type": "code",
   "execution_count": 62,
   "id": "788fd1aa",
   "metadata": {
    "ExecuteTime": {
     "end_time": "2023-01-27T12:15:54.133060Z",
     "start_time": "2023-01-27T12:15:54.129528Z"
    }
   },
   "outputs": [
    {
     "data": {
      "text/html": [
       "<div>\n",
       "<style scoped>\n",
       "    .dataframe tbody tr th:only-of-type {\n",
       "        vertical-align: middle;\n",
       "    }\n",
       "\n",
       "    .dataframe tbody tr th {\n",
       "        vertical-align: top;\n",
       "    }\n",
       "\n",
       "    .dataframe thead th {\n",
       "        text-align: right;\n",
       "    }\n",
       "</style>\n",
       "<table border=\"1\" class=\"dataframe\">\n",
       "  <thead>\n",
       "    <tr style=\"text-align: right;\">\n",
       "      <th></th>\n",
       "      <th>column_none</th>\n",
       "      <th>column_nan</th>\n",
       "    </tr>\n",
       "  </thead>\n",
       "  <tbody>\n",
       "    <tr>\n",
       "      <th>0</th>\n",
       "      <td>1.0</td>\n",
       "      <td>1</td>\n",
       "    </tr>\n",
       "    <tr>\n",
       "      <th>1</th>\n",
       "      <td>2.0</td>\n",
       "      <td>2</td>\n",
       "    </tr>\n",
       "    <tr>\n",
       "      <th>2</th>\n",
       "      <td>3.0</td>\n",
       "      <td>3</td>\n",
       "    </tr>\n",
       "    <tr>\n",
       "      <th>3</th>\n",
       "      <td>4.0</td>\n",
       "      <td>4</td>\n",
       "    </tr>\n",
       "    <tr>\n",
       "      <th>4</th>\n",
       "      <td>5.0</td>\n",
       "      <td>5</td>\n",
       "    </tr>\n",
       "    <tr>\n",
       "      <th>5</th>\n",
       "      <td>NaN</td>\n",
       "      <td>&lt;NA&gt;</td>\n",
       "    </tr>\n",
       "  </tbody>\n",
       "</table>\n",
       "</div>"
      ],
      "text/plain": [
       "   column_none  column_nan\n",
       "0          1.0           1\n",
       "1          2.0           2\n",
       "2          3.0           3\n",
       "3          4.0           4\n",
       "4          5.0           5\n",
       "5          NaN        <NA>"
      ]
     },
     "execution_count": 62,
     "metadata": {},
     "output_type": "execute_result"
    }
   ],
   "source": [
    "df_int"
   ]
  },
  {
   "cell_type": "code",
   "execution_count": 63,
   "id": "b6d94931",
   "metadata": {
    "ExecuteTime": {
     "end_time": "2023-01-27T12:15:54.135657Z",
     "start_time": "2023-01-27T12:15:54.133875Z"
    }
   },
   "outputs": [
    {
     "data": {
      "text/plain": [
       "(48, 18)"
      ]
     },
     "execution_count": 63,
     "metadata": {},
     "output_type": "execute_result"
    }
   ],
   "source": [
    "df_int['column_none'].nbytes, df_int['column_nan'].nbytes"
   ]
  },
  {
   "cell_type": "code",
   "execution_count": 64,
   "id": "06e092c5",
   "metadata": {
    "ExecuteTime": {
     "end_time": "2023-01-27T12:15:54.140069Z",
     "start_time": "2023-01-27T12:15:54.138282Z"
    }
   },
   "outputs": [
    {
     "data": {
      "text/plain": [
       "nan"
      ]
     },
     "execution_count": 64,
     "metadata": {},
     "output_type": "execute_result"
    }
   ],
   "source": [
    "df_int.column_none.loc[5]"
   ]
  },
  {
   "cell_type": "code",
   "execution_count": 65,
   "id": "7d542ce2",
   "metadata": {
    "ExecuteTime": {
     "end_time": "2023-01-27T12:15:54.144248Z",
     "start_time": "2023-01-27T12:15:54.142653Z"
    }
   },
   "outputs": [
    {
     "data": {
      "text/plain": [
       "<NA>"
      ]
     },
     "execution_count": 65,
     "metadata": {},
     "output_type": "execute_result"
    }
   ],
   "source": [
    "df_int.column_nan.loc[5]"
   ]
  },
  {
   "cell_type": "markdown",
   "id": "9705404a",
   "metadata": {},
   "source": [
    "Получили еще одну версию для \"ничего\"?))0)"
   ]
  },
  {
   "cell_type": "code",
   "execution_count": 66,
   "id": "1f1ca568",
   "metadata": {
    "ExecuteTime": {
     "end_time": "2023-01-27T12:15:54.243673Z",
     "start_time": "2023-01-27T12:15:54.240576Z"
    }
   },
   "outputs": [
    {
     "data": {
      "text/html": [
       "<div>\n",
       "<style scoped>\n",
       "    .dataframe tbody tr th:only-of-type {\n",
       "        vertical-align: middle;\n",
       "    }\n",
       "\n",
       "    .dataframe tbody tr th {\n",
       "        vertical-align: top;\n",
       "    }\n",
       "\n",
       "    .dataframe thead th {\n",
       "        text-align: right;\n",
       "    }\n",
       "</style>\n",
       "<table border=\"1\" class=\"dataframe\">\n",
       "  <thead>\n",
       "    <tr style=\"text-align: right;\">\n",
       "      <th></th>\n",
       "      <th>column_none</th>\n",
       "      <th>column_nan</th>\n",
       "    </tr>\n",
       "  </thead>\n",
       "  <tbody>\n",
       "    <tr>\n",
       "      <th>0</th>\n",
       "      <td>False</td>\n",
       "      <td>False</td>\n",
       "    </tr>\n",
       "    <tr>\n",
       "      <th>1</th>\n",
       "      <td>False</td>\n",
       "      <td>False</td>\n",
       "    </tr>\n",
       "    <tr>\n",
       "      <th>2</th>\n",
       "      <td>False</td>\n",
       "      <td>False</td>\n",
       "    </tr>\n",
       "    <tr>\n",
       "      <th>3</th>\n",
       "      <td>False</td>\n",
       "      <td>False</td>\n",
       "    </tr>\n",
       "    <tr>\n",
       "      <th>4</th>\n",
       "      <td>False</td>\n",
       "      <td>False</td>\n",
       "    </tr>\n",
       "    <tr>\n",
       "      <th>5</th>\n",
       "      <td>True</td>\n",
       "      <td>True</td>\n",
       "    </tr>\n",
       "  </tbody>\n",
       "</table>\n",
       "</div>"
      ],
      "text/plain": [
       "   column_none  column_nan\n",
       "0        False       False\n",
       "1        False       False\n",
       "2        False       False\n",
       "3        False       False\n",
       "4        False       False\n",
       "5         True        True"
      ]
     },
     "execution_count": 66,
     "metadata": {},
     "output_type": "execute_result"
    }
   ],
   "source": [
    "df_int.isna()"
   ]
  },
  {
   "cell_type": "code",
   "execution_count": 67,
   "id": "d143fca0",
   "metadata": {
    "ExecuteTime": {
     "end_time": "2023-01-27T12:15:54.246142Z",
     "start_time": "2023-01-27T12:15:54.244564Z"
    }
   },
   "outputs": [
    {
     "data": {
      "text/plain": [
       "8"
      ]
     },
     "execution_count": 67,
     "metadata": {},
     "output_type": "execute_result"
    }
   ],
   "source": [
    "df_int['column_none'].loc[5].nbytes"
   ]
  },
  {
   "cell_type": "code",
   "execution_count": 145,
   "id": "b8c7e9df",
   "metadata": {
    "ExecuteTime": {
     "end_time": "2023-01-27T12:16:25.138800Z",
     "start_time": "2023-01-27T12:16:25.136035Z"
    }
   },
   "outputs": [
    {
     "data": {
      "text/plain": [
       "column_1    48\n",
       "column_2    18\n",
       "dtype: int64"
      ]
     },
     "execution_count": 145,
     "metadata": {},
     "output_type": "execute_result"
    }
   ],
   "source": [
    "df_int.memory_usage(index=False)"
   ]
  },
  {
   "cell_type": "code",
   "execution_count": 69,
   "id": "fd86fe0d",
   "metadata": {
    "ExecuteTime": {
     "end_time": "2023-01-27T12:15:54.260052Z",
     "start_time": "2023-01-27T12:15:54.258803Z"
    }
   },
   "outputs": [],
   "source": [
    "df_int.columns = ['column_1', 'column_2']"
   ]
  },
  {
   "cell_type": "code",
   "execution_count": 70,
   "id": "16079916",
   "metadata": {
    "ExecuteTime": {
     "end_time": "2023-01-27T12:15:54.264516Z",
     "start_time": "2023-01-27T12:15:54.261556Z"
    }
   },
   "outputs": [
    {
     "data": {
      "text/html": [
       "<div>\n",
       "<style scoped>\n",
       "    .dataframe tbody tr th:only-of-type {\n",
       "        vertical-align: middle;\n",
       "    }\n",
       "\n",
       "    .dataframe tbody tr th {\n",
       "        vertical-align: top;\n",
       "    }\n",
       "\n",
       "    .dataframe thead th {\n",
       "        text-align: right;\n",
       "    }\n",
       "</style>\n",
       "<table border=\"1\" class=\"dataframe\">\n",
       "  <thead>\n",
       "    <tr style=\"text-align: right;\">\n",
       "      <th></th>\n",
       "      <th>column_1</th>\n",
       "      <th>column_2</th>\n",
       "    </tr>\n",
       "  </thead>\n",
       "  <tbody>\n",
       "    <tr>\n",
       "      <th>0</th>\n",
       "      <td>1.0</td>\n",
       "      <td>1</td>\n",
       "    </tr>\n",
       "    <tr>\n",
       "      <th>1</th>\n",
       "      <td>2.0</td>\n",
       "      <td>2</td>\n",
       "    </tr>\n",
       "    <tr>\n",
       "      <th>2</th>\n",
       "      <td>3.0</td>\n",
       "      <td>3</td>\n",
       "    </tr>\n",
       "    <tr>\n",
       "      <th>3</th>\n",
       "      <td>4.0</td>\n",
       "      <td>4</td>\n",
       "    </tr>\n",
       "    <tr>\n",
       "      <th>4</th>\n",
       "      <td>5.0</td>\n",
       "      <td>5</td>\n",
       "    </tr>\n",
       "    <tr>\n",
       "      <th>5</th>\n",
       "      <td>NaN</td>\n",
       "      <td>&lt;NA&gt;</td>\n",
       "    </tr>\n",
       "  </tbody>\n",
       "</table>\n",
       "</div>"
      ],
      "text/plain": [
       "   column_1  column_2\n",
       "0       1.0         1\n",
       "1       2.0         2\n",
       "2       3.0         3\n",
       "3       4.0         4\n",
       "4       5.0         5\n",
       "5       NaN      <NA>"
      ]
     },
     "execution_count": 70,
     "metadata": {},
     "output_type": "execute_result"
    }
   ],
   "source": [
    "df_int"
   ]
  },
  {
   "cell_type": "code",
   "execution_count": 71,
   "id": "28dc2f5b",
   "metadata": {
    "ExecuteTime": {
     "end_time": "2023-01-27T12:15:54.266682Z",
     "start_time": "2023-01-27T12:15:54.265187Z"
    }
   },
   "outputs": [],
   "source": [
    "df_int.loc[1, 'column_1'] = None\n",
    "df_int.loc[1, 'column_2'] = None"
   ]
  },
  {
   "cell_type": "code",
   "execution_count": 72,
   "id": "4292c100",
   "metadata": {
    "ExecuteTime": {
     "end_time": "2023-01-27T12:15:54.271770Z",
     "start_time": "2023-01-27T12:15:54.268971Z"
    }
   },
   "outputs": [
    {
     "data": {
      "text/html": [
       "<div>\n",
       "<style scoped>\n",
       "    .dataframe tbody tr th:only-of-type {\n",
       "        vertical-align: middle;\n",
       "    }\n",
       "\n",
       "    .dataframe tbody tr th {\n",
       "        vertical-align: top;\n",
       "    }\n",
       "\n",
       "    .dataframe thead th {\n",
       "        text-align: right;\n",
       "    }\n",
       "</style>\n",
       "<table border=\"1\" class=\"dataframe\">\n",
       "  <thead>\n",
       "    <tr style=\"text-align: right;\">\n",
       "      <th></th>\n",
       "      <th>column_1</th>\n",
       "      <th>column_2</th>\n",
       "    </tr>\n",
       "  </thead>\n",
       "  <tbody>\n",
       "    <tr>\n",
       "      <th>0</th>\n",
       "      <td>1.0</td>\n",
       "      <td>1</td>\n",
       "    </tr>\n",
       "    <tr>\n",
       "      <th>1</th>\n",
       "      <td>NaN</td>\n",
       "      <td>&lt;NA&gt;</td>\n",
       "    </tr>\n",
       "    <tr>\n",
       "      <th>2</th>\n",
       "      <td>3.0</td>\n",
       "      <td>3</td>\n",
       "    </tr>\n",
       "    <tr>\n",
       "      <th>3</th>\n",
       "      <td>4.0</td>\n",
       "      <td>4</td>\n",
       "    </tr>\n",
       "    <tr>\n",
       "      <th>4</th>\n",
       "      <td>5.0</td>\n",
       "      <td>5</td>\n",
       "    </tr>\n",
       "    <tr>\n",
       "      <th>5</th>\n",
       "      <td>NaN</td>\n",
       "      <td>&lt;NA&gt;</td>\n",
       "    </tr>\n",
       "  </tbody>\n",
       "</table>\n",
       "</div>"
      ],
      "text/plain": [
       "   column_1  column_2\n",
       "0       1.0         1\n",
       "1       NaN      <NA>\n",
       "2       3.0         3\n",
       "3       4.0         4\n",
       "4       5.0         5\n",
       "5       NaN      <NA>"
      ]
     },
     "execution_count": 72,
     "metadata": {},
     "output_type": "execute_result"
    }
   ],
   "source": [
    "df_int"
   ]
  },
  {
   "cell_type": "markdown",
   "id": "203fd572",
   "metadata": {},
   "source": [
    "Произошел еще один type cast"
   ]
  },
  {
   "cell_type": "code",
   "execution_count": 73,
   "id": "84bb17af",
   "metadata": {
    "ExecuteTime": {
     "end_time": "2023-01-27T12:15:54.370683Z",
     "start_time": "2023-01-27T12:15:54.368854Z"
    }
   },
   "outputs": [],
   "source": [
    "nas = df_int.column_2[df_int.column_2.isna()]"
   ]
  },
  {
   "cell_type": "code",
   "execution_count": 74,
   "id": "68542669",
   "metadata": {
    "ExecuteTime": {
     "end_time": "2023-01-27T12:15:54.375319Z",
     "start_time": "2023-01-27T12:15:54.373499Z"
    }
   },
   "outputs": [
    {
     "data": {
      "text/plain": [
       "<NA>"
      ]
     },
     "execution_count": 74,
     "metadata": {},
     "output_type": "execute_result"
    }
   ],
   "source": [
    "nas.iloc[0] == nas.iloc[1]"
   ]
  },
  {
   "cell_type": "code",
   "execution_count": 75,
   "id": "46e90ccb",
   "metadata": {
    "ExecuteTime": {
     "end_time": "2023-01-27T12:15:54.378010Z",
     "start_time": "2023-01-27T12:15:54.376167Z"
    }
   },
   "outputs": [
    {
     "data": {
      "text/plain": [
       "True"
      ]
     },
     "execution_count": 75,
     "metadata": {},
     "output_type": "execute_result"
    }
   ],
   "source": [
    "nas.iloc[0] is nas.iloc[1]"
   ]
  },
  {
   "cell_type": "markdown",
   "id": "26d7d389",
   "metadata": {},
   "source": [
    "!!!"
   ]
  },
  {
   "cell_type": "code",
   "execution_count": 76,
   "id": "ba03ba08",
   "metadata": {
    "ExecuteTime": {
     "end_time": "2023-01-27T12:15:54.476780Z",
     "start_time": "2023-01-27T12:15:54.474615Z"
    }
   },
   "outputs": [
    {
     "data": {
      "text/plain": [
       "(139672941813136, 139672941813136)"
      ]
     },
     "execution_count": 76,
     "metadata": {},
     "output_type": "execute_result"
    }
   ],
   "source": [
    "id(nas.iloc[0]), id(nas.iloc[1])"
   ]
  },
  {
   "cell_type": "markdown",
   "id": "8435e2d5",
   "metadata": {},
   "source": [
    "Это один и тот же объект!"
   ]
  },
  {
   "cell_type": "code",
   "execution_count": 77,
   "id": "5030d7ef",
   "metadata": {
    "ExecuteTime": {
     "end_time": "2023-01-27T12:15:54.574662Z",
     "start_time": "2023-01-27T12:15:54.572537Z"
    }
   },
   "outputs": [],
   "source": [
    "nans = df_int.column_1[df_int.column_1.isna()]"
   ]
  },
  {
   "cell_type": "code",
   "execution_count": 78,
   "id": "c0881669",
   "metadata": {
    "ExecuteTime": {
     "end_time": "2023-01-27T12:15:54.578745Z",
     "start_time": "2023-01-27T12:15:54.576256Z"
    }
   },
   "outputs": [
    {
     "data": {
      "text/plain": [
       "1   NaN\n",
       "5   NaN\n",
       "Name: column_1, dtype: float64"
      ]
     },
     "execution_count": 78,
     "metadata": {},
     "output_type": "execute_result"
    }
   ],
   "source": [
    "nans"
   ]
  },
  {
   "cell_type": "code",
   "execution_count": 79,
   "id": "6e165c22",
   "metadata": {
    "ExecuteTime": {
     "end_time": "2023-01-27T12:15:54.580684Z",
     "start_time": "2023-01-27T12:15:54.579533Z"
    }
   },
   "outputs": [],
   "source": [
    "a, b = nans.values"
   ]
  },
  {
   "cell_type": "code",
   "execution_count": 80,
   "id": "345d8a6e",
   "metadata": {
    "ExecuteTime": {
     "end_time": "2023-01-27T12:15:54.584587Z",
     "start_time": "2023-01-27T12:15:54.582998Z"
    }
   },
   "outputs": [
    {
     "data": {
      "text/plain": [
       "(nan, nan)"
      ]
     },
     "execution_count": 80,
     "metadata": {},
     "output_type": "execute_result"
    }
   ],
   "source": [
    "a, b"
   ]
  },
  {
   "cell_type": "code",
   "execution_count": 81,
   "id": "d2016ea3",
   "metadata": {
    "ExecuteTime": {
     "end_time": "2023-01-27T12:15:54.587982Z",
     "start_time": "2023-01-27T12:15:54.586494Z"
    }
   },
   "outputs": [
    {
     "data": {
      "text/plain": [
       "False"
      ]
     },
     "execution_count": 81,
     "metadata": {},
     "output_type": "execute_result"
    }
   ],
   "source": [
    "a == b"
   ]
  },
  {
   "cell_type": "code",
   "execution_count": 82,
   "id": "cde003bf",
   "metadata": {
    "ExecuteTime": {
     "end_time": "2023-01-27T12:15:54.592265Z",
     "start_time": "2023-01-27T12:15:54.590649Z"
    }
   },
   "outputs": [
    {
     "data": {
      "text/plain": [
       "False"
      ]
     },
     "execution_count": 82,
     "metadata": {},
     "output_type": "execute_result"
    }
   ],
   "source": [
    "a is b"
   ]
  },
  {
   "cell_type": "code",
   "execution_count": 83,
   "id": "207bd9d4",
   "metadata": {
    "ExecuteTime": {
     "end_time": "2023-01-27T12:15:54.596581Z",
     "start_time": "2023-01-27T12:15:54.594995Z"
    }
   },
   "outputs": [
    {
     "data": {
      "text/plain": [
       "(139672314563696, 139672314563920)"
      ]
     },
     "execution_count": 83,
     "metadata": {},
     "output_type": "execute_result"
    }
   ],
   "source": [
    "id(a), id(b)"
   ]
  },
  {
   "cell_type": "markdown",
   "id": "5063c735",
   "metadata": {},
   "source": [
    "И напоследок"
   ]
  },
  {
   "cell_type": "code",
   "execution_count": 84,
   "id": "02eedce2",
   "metadata": {
    "ExecuteTime": {
     "end_time": "2023-01-27T12:15:54.698137Z",
     "start_time": "2023-01-27T12:15:54.696343Z"
    }
   },
   "outputs": [
    {
     "data": {
      "text/plain": [
       "{nan, nan}"
      ]
     },
     "execution_count": 84,
     "metadata": {},
     "output_type": "execute_result"
    }
   ],
   "source": [
    "set([float('nan'), float('nan')])"
   ]
  },
  {
   "cell_type": "code",
   "execution_count": 85,
   "id": "e10630cb",
   "metadata": {
    "ExecuteTime": {
     "end_time": "2023-01-27T12:15:54.701437Z",
     "start_time": "2023-01-27T12:15:54.699788Z"
    }
   },
   "outputs": [
    {
     "data": {
      "text/plain": [
       "{nan, nan}"
      ]
     },
     "execution_count": 85,
     "metadata": {},
     "output_type": "execute_result"
    }
   ],
   "source": [
    "set([np.float64('nan'), np.float64('nan')])"
   ]
  },
  {
   "cell_type": "code",
   "execution_count": 86,
   "id": "7d4277ab",
   "metadata": {
    "ExecuteTime": {
     "end_time": "2023-01-27T12:15:54.705478Z",
     "start_time": "2023-01-27T12:15:54.703719Z"
    }
   },
   "outputs": [
    {
     "data": {
      "text/plain": [
       "{<NA>}"
      ]
     },
     "execution_count": 86,
     "metadata": {},
     "output_type": "execute_result"
    }
   ],
   "source": [
    "set([pd.NA, pd.NA])"
   ]
  },
  {
   "cell_type": "code",
   "execution_count": 87,
   "id": "4ff1f979",
   "metadata": {
    "ExecuteTime": {
     "end_time": "2023-01-27T12:15:54.709681Z",
     "start_time": "2023-01-27T12:15:54.707877Z"
    }
   },
   "outputs": [
    {
     "data": {
      "text/plain": [
       "{nan}"
      ]
     },
     "execution_count": 87,
     "metadata": {},
     "output_type": "execute_result"
    }
   ],
   "source": [
    "set([np.nan, np.nan])"
   ]
  },
  {
   "cell_type": "code",
   "execution_count": 88,
   "id": "b938230b",
   "metadata": {
    "ExecuteTime": {
     "end_time": "2023-01-27T12:15:54.713929Z",
     "start_time": "2023-01-27T12:15:54.712396Z"
    }
   },
   "outputs": [
    {
     "data": {
      "text/plain": [
       "True"
      ]
     },
     "execution_count": 88,
     "metadata": {},
     "output_type": "execute_result"
    }
   ],
   "source": [
    "np.nan is np.nan is np.NaN is np.NAN"
   ]
  },
  {
   "cell_type": "code",
   "execution_count": 89,
   "id": "9e5b68a4",
   "metadata": {
    "ExecuteTime": {
     "end_time": "2023-01-27T12:15:54.717484Z",
     "start_time": "2023-01-27T12:15:54.715865Z"
    }
   },
   "outputs": [
    {
     "data": {
      "text/plain": [
       "True"
      ]
     },
     "execution_count": 89,
     "metadata": {},
     "output_type": "execute_result"
    }
   ],
   "source": [
    "pd.NA is pd.NA"
   ]
  },
  {
   "cell_type": "code",
   "execution_count": 90,
   "id": "55334f03",
   "metadata": {
    "ExecuteTime": {
     "end_time": "2023-01-27T12:15:54.726729Z",
     "start_time": "2023-01-27T12:15:54.724916Z"
    }
   },
   "outputs": [
    {
     "data": {
      "text/plain": [
       "pandas._libs.missing.NAType"
      ]
     },
     "execution_count": 90,
     "metadata": {},
     "output_type": "execute_result"
    }
   ],
   "source": [
    "type(1 + pd.NA)"
   ]
  },
  {
   "cell_type": "code",
   "execution_count": 91,
   "id": "78121523",
   "metadata": {
    "ExecuteTime": {
     "end_time": "2023-01-27T12:15:54.734315Z",
     "start_time": "2023-01-27T12:15:54.732685Z"
    }
   },
   "outputs": [
    {
     "data": {
      "text/plain": [
       "(139672941813136, 139672941813136)"
      ]
     },
     "execution_count": 91,
     "metadata": {},
     "output_type": "execute_result"
    }
   ],
   "source": [
    "id(1 + pd.NA), id(pd.NA)"
   ]
  },
  {
   "cell_type": "code",
   "execution_count": 92,
   "id": "24595444",
   "metadata": {
    "ExecuteTime": {
     "end_time": "2023-01-27T12:15:54.741441Z",
     "start_time": "2023-01-27T12:15:54.739835Z"
    }
   },
   "outputs": [
    {
     "data": {
      "text/plain": [
       "True"
      ]
     },
     "execution_count": 92,
     "metadata": {},
     "output_type": "execute_result"
    }
   ],
   "source": [
    "np.nan is np.NaN is np.NAN"
   ]
  },
  {
   "cell_type": "code",
   "execution_count": 93,
   "id": "e8d7d2f5",
   "metadata": {
    "ExecuteTime": {
     "end_time": "2023-01-27T12:15:54.747900Z",
     "start_time": "2023-01-27T12:15:54.746364Z"
    }
   },
   "outputs": [
    {
     "data": {
      "text/plain": [
       "float"
      ]
     },
     "execution_count": 93,
     "metadata": {},
     "output_type": "execute_result"
    }
   ],
   "source": [
    "type(1 + np.nan)"
   ]
  },
  {
   "cell_type": "code",
   "execution_count": 94,
   "id": "c47e1ce2",
   "metadata": {
    "ExecuteTime": {
     "end_time": "2023-01-27T12:15:54.754682Z",
     "start_time": "2023-01-27T12:15:54.753089Z"
    }
   },
   "outputs": [
    {
     "data": {
      "text/plain": [
       "(139673343209232, 139672315328240)"
      ]
     },
     "execution_count": 94,
     "metadata": {},
     "output_type": "execute_result"
    }
   ],
   "source": [
    "id(np.nan), id(np.nan + 1)"
   ]
  },
  {
   "cell_type": "markdown",
   "id": "22a1edeb",
   "metadata": {},
   "source": [
    "## Задачи"
   ]
  },
  {
   "cell_type": "markdown",
   "id": "858fb50e",
   "metadata": {},
   "source": [
    "###  Given series A and series B"
   ]
  },
  {
   "cell_type": "code",
   "execution_count": 95,
   "id": "0fde126c",
   "metadata": {
    "ExecuteTime": {
     "end_time": "2023-01-27T12:15:55.010867Z",
     "start_time": "2023-01-27T12:15:55.009053Z"
    }
   },
   "outputs": [],
   "source": [
    "series_a = pd.Series([1, 2, 4, 3])\n",
    "series_b = pd.Series([3, 4, 5, 6])"
   ]
  },
  {
   "cell_type": "markdown",
   "id": "6384f777",
   "metadata": {},
   "source": [
    "- Items is series A not present in series B"
   ]
  },
  {
   "cell_type": "code",
   "execution_count": 96,
   "id": "c6d6eb95",
   "metadata": {
    "ExecuteTime": {
     "end_time": "2023-01-27T12:15:55.119068Z",
     "start_time": "2023-01-27T12:15:55.116559Z"
    }
   },
   "outputs": [
    {
     "data": {
      "text/plain": [
       "0     True\n",
       "1     True\n",
       "2    False\n",
       "3    False\n",
       "dtype: bool"
      ]
     },
     "execution_count": 96,
     "metadata": {},
     "output_type": "execute_result"
    }
   ],
   "source": [
    "~series_a.isin(series_b)"
   ]
  },
  {
   "cell_type": "code",
   "execution_count": 97,
   "id": "ebd1703e",
   "metadata": {
    "ExecuteTime": {
     "end_time": "2023-01-27T12:15:55.122673Z",
     "start_time": "2023-01-27T12:15:55.120568Z"
    }
   },
   "outputs": [
    {
     "data": {
      "text/plain": [
       "0    1\n",
       "1    2\n",
       "dtype: int64"
      ]
     },
     "execution_count": 97,
     "metadata": {},
     "output_type": "execute_result"
    }
   ],
   "source": [
    "series_a[~series_a.isin(series_b)]"
   ]
  },
  {
   "cell_type": "markdown",
   "id": "827f70fa",
   "metadata": {},
   "source": [
    "- Intersection of series"
   ]
  },
  {
   "cell_type": "code",
   "execution_count": 98,
   "id": "780bf64b",
   "metadata": {
    "ExecuteTime": {
     "end_time": "2023-01-27T12:15:55.240052Z",
     "start_time": "2023-01-27T12:15:55.238395Z"
    }
   },
   "outputs": [],
   "source": [
    "series_a = pd.Series([1, 2, 4, 3])\n",
    "series_b = pd.Series([3, 4, 5, 6])"
   ]
  },
  {
   "cell_type": "code",
   "execution_count": 99,
   "id": "cab6163a",
   "metadata": {
    "ExecuteTime": {
     "end_time": "2023-01-27T12:15:55.244291Z",
     "start_time": "2023-01-27T12:15:55.242217Z"
    }
   },
   "outputs": [
    {
     "name": "stdout",
     "output_type": "stream",
     "text": [
      "CPU times: user 67 µs, sys: 3 µs, total: 70 µs\n",
      "Wall time: 62.7 µs\n"
     ]
    },
    {
     "data": {
      "text/plain": [
       "array([3, 4])"
      ]
     },
     "execution_count": 99,
     "metadata": {},
     "output_type": "execute_result"
    }
   ],
   "source": [
    "%%time\n",
    "np.intersect1d(series_a, series_b)"
   ]
  },
  {
   "cell_type": "code",
   "execution_count": 100,
   "id": "bd2d1a65",
   "metadata": {
    "ExecuteTime": {
     "end_time": "2023-01-27T12:15:55.249398Z",
     "start_time": "2023-01-27T12:15:55.247436Z"
    }
   },
   "outputs": [
    {
     "name": "stdout",
     "output_type": "stream",
     "text": [
      "CPU times: user 8 µs, sys: 0 ns, total: 8 µs\n",
      "Wall time: 9.54 µs\n"
     ]
    },
    {
     "data": {
      "text/plain": [
       "{3, 4}"
      ]
     },
     "execution_count": 100,
     "metadata": {},
     "output_type": "execute_result"
    }
   ],
   "source": [
    "%%time\n",
    "set(series_a) & set(series_b)"
   ]
  },
  {
   "cell_type": "markdown",
   "id": "021ac4be",
   "metadata": {},
   "source": [
    "- Items presented only in one of the series, not in both"
   ]
  },
  {
   "cell_type": "code",
   "execution_count": 101,
   "id": "d890981b",
   "metadata": {
    "ExecuteTime": {
     "end_time": "2023-01-27T12:15:55.360004Z",
     "start_time": "2023-01-27T12:15:55.357832Z"
    }
   },
   "outputs": [
    {
     "data": {
      "text/plain": [
       "(array([1, 2]), array([5, 6]))"
      ]
     },
     "execution_count": 101,
     "metadata": {},
     "output_type": "execute_result"
    }
   ],
   "source": [
    "np.setdiff1d(series_a, series_b), np.setdiff1d(series_b, series_a)"
   ]
  },
  {
   "cell_type": "code",
   "execution_count": 102,
   "id": "c79b03ed",
   "metadata": {
    "ExecuteTime": {
     "end_time": "2023-01-27T12:15:55.363677Z",
     "start_time": "2023-01-27T12:15:55.361846Z"
    }
   },
   "outputs": [
    {
     "data": {
      "text/plain": [
       "array([1, 2, 5, 6])"
      ]
     },
     "execution_count": 102,
     "metadata": {},
     "output_type": "execute_result"
    }
   ],
   "source": [
    "np.union1d(np.setdiff1d(series_a, series_b), np.setdiff1d(series_b, series_a))"
   ]
  },
  {
   "cell_type": "markdown",
   "id": "291814ad",
   "metadata": {},
   "source": [
    "или"
   ]
  },
  {
   "cell_type": "code",
   "execution_count": 103,
   "id": "faaa0e86",
   "metadata": {
    "ExecuteTime": {
     "end_time": "2023-01-27T12:15:55.479359Z",
     "start_time": "2023-01-27T12:15:55.477238Z"
    }
   },
   "outputs": [
    {
     "data": {
      "text/plain": [
       "array([1, 2, 5, 6])"
      ]
     },
     "execution_count": 103,
     "metadata": {},
     "output_type": "execute_result"
    }
   ],
   "source": [
    "np.setxor1d(series_a, series_b)"
   ]
  },
  {
   "cell_type": "markdown",
   "id": "efe8342e",
   "metadata": {},
   "source": [
    "или"
   ]
  },
  {
   "cell_type": "code",
   "execution_count": 104,
   "id": "b2260285",
   "metadata": {
    "ExecuteTime": {
     "end_time": "2023-01-27T12:15:55.589923Z",
     "start_time": "2023-01-27T12:15:55.587151Z"
    }
   },
   "outputs": [
    {
     "data": {
      "text/plain": [
       "(0    1\n",
       " 1    2\n",
       " 2    3\n",
       " 3    4\n",
       " 4    5\n",
       " 5    6\n",
       " dtype: int64,\n",
       " 0    3\n",
       " 1    4\n",
       " dtype: int64)"
      ]
     },
     "execution_count": 104,
     "metadata": {},
     "output_type": "execute_result"
    }
   ],
   "source": [
    "series_union = pd.Series(np.union1d(series_a, series_b))\n",
    "series_intersect = pd.Series(np.intersect1d(series_a, series_b))\n",
    "\n",
    "series_union, series_intersect"
   ]
  },
  {
   "cell_type": "code",
   "execution_count": 105,
   "id": "f7a80c4e",
   "metadata": {
    "ExecuteTime": {
     "end_time": "2023-01-27T12:15:55.594568Z",
     "start_time": "2023-01-27T12:15:55.592330Z"
    }
   },
   "outputs": [
    {
     "data": {
      "text/plain": [
       "0    1\n",
       "1    2\n",
       "4    5\n",
       "5    6\n",
       "dtype: int64"
      ]
     },
     "execution_count": 105,
     "metadata": {},
     "output_type": "execute_result"
    }
   ],
   "source": [
    "series_union[~series_union.isin(series_intersect)]"
   ]
  },
  {
   "cell_type": "markdown",
   "id": "81c14aad",
   "metadata": {},
   "source": [
    "### Merge by column pairs: fruit-pazham, weight-kilo"
   ]
  },
  {
   "cell_type": "code",
   "execution_count": 106,
   "id": "f4d49adb",
   "metadata": {
    "ExecuteTime": {
     "end_time": "2023-01-27T12:15:55.709579Z",
     "start_time": "2023-01-27T12:15:55.707138Z"
    }
   },
   "outputs": [],
   "source": [
    "df1 = pd.DataFrame({'fruit': ['apple', 'banana', 'orange'] * 3,\n",
    "                    'weight': ['high', 'medium', 'low'] * 3,\n",
    "                    'price': np.random.randint(0, 15, 9)})\n",
    "\n",
    "df2 = pd.DataFrame({'pazham': ['apple', 'orange', 'pine'] * 2,\n",
    "                    'kilo': ['high', 'low'] * 3,\n",
    "                    'price': np.random.randint(0, 15, 6)})"
   ]
  },
  {
   "cell_type": "code",
   "execution_count": 107,
   "id": "75c949cf",
   "metadata": {
    "ExecuteTime": {
     "end_time": "2023-01-27T12:15:55.714975Z",
     "start_time": "2023-01-27T12:15:55.711946Z"
    }
   },
   "outputs": [
    {
     "data": {
      "text/html": [
       "<div>\n",
       "<style scoped>\n",
       "    .dataframe tbody tr th:only-of-type {\n",
       "        vertical-align: middle;\n",
       "    }\n",
       "\n",
       "    .dataframe tbody tr th {\n",
       "        vertical-align: top;\n",
       "    }\n",
       "\n",
       "    .dataframe thead th {\n",
       "        text-align: right;\n",
       "    }\n",
       "</style>\n",
       "<table border=\"1\" class=\"dataframe\">\n",
       "  <thead>\n",
       "    <tr style=\"text-align: right;\">\n",
       "      <th></th>\n",
       "      <th>fruit</th>\n",
       "      <th>weight</th>\n",
       "      <th>price</th>\n",
       "    </tr>\n",
       "  </thead>\n",
       "  <tbody>\n",
       "    <tr>\n",
       "      <th>0</th>\n",
       "      <td>apple</td>\n",
       "      <td>high</td>\n",
       "      <td>7</td>\n",
       "    </tr>\n",
       "    <tr>\n",
       "      <th>1</th>\n",
       "      <td>banana</td>\n",
       "      <td>medium</td>\n",
       "      <td>0</td>\n",
       "    </tr>\n",
       "    <tr>\n",
       "      <th>2</th>\n",
       "      <td>orange</td>\n",
       "      <td>low</td>\n",
       "      <td>12</td>\n",
       "    </tr>\n",
       "    <tr>\n",
       "      <th>3</th>\n",
       "      <td>apple</td>\n",
       "      <td>high</td>\n",
       "      <td>1</td>\n",
       "    </tr>\n",
       "    <tr>\n",
       "      <th>4</th>\n",
       "      <td>banana</td>\n",
       "      <td>medium</td>\n",
       "      <td>11</td>\n",
       "    </tr>\n",
       "  </tbody>\n",
       "</table>\n",
       "</div>"
      ],
      "text/plain": [
       "    fruit  weight  price\n",
       "0   apple    high      7\n",
       "1  banana  medium      0\n",
       "2  orange     low     12\n",
       "3   apple    high      1\n",
       "4  banana  medium     11"
      ]
     },
     "execution_count": 107,
     "metadata": {},
     "output_type": "execute_result"
    }
   ],
   "source": [
    "df1.head()"
   ]
  },
  {
   "cell_type": "code",
   "execution_count": 108,
   "id": "7d4b8483",
   "metadata": {
    "ExecuteTime": {
     "end_time": "2023-01-27T12:15:55.718522Z",
     "start_time": "2023-01-27T12:15:55.715740Z"
    }
   },
   "outputs": [
    {
     "data": {
      "text/html": [
       "<div>\n",
       "<style scoped>\n",
       "    .dataframe tbody tr th:only-of-type {\n",
       "        vertical-align: middle;\n",
       "    }\n",
       "\n",
       "    .dataframe tbody tr th {\n",
       "        vertical-align: top;\n",
       "    }\n",
       "\n",
       "    .dataframe thead th {\n",
       "        text-align: right;\n",
       "    }\n",
       "</style>\n",
       "<table border=\"1\" class=\"dataframe\">\n",
       "  <thead>\n",
       "    <tr style=\"text-align: right;\">\n",
       "      <th></th>\n",
       "      <th>pazham</th>\n",
       "      <th>kilo</th>\n",
       "      <th>price</th>\n",
       "    </tr>\n",
       "  </thead>\n",
       "  <tbody>\n",
       "    <tr>\n",
       "      <th>0</th>\n",
       "      <td>apple</td>\n",
       "      <td>high</td>\n",
       "      <td>14</td>\n",
       "    </tr>\n",
       "    <tr>\n",
       "      <th>1</th>\n",
       "      <td>orange</td>\n",
       "      <td>low</td>\n",
       "      <td>4</td>\n",
       "    </tr>\n",
       "    <tr>\n",
       "      <th>2</th>\n",
       "      <td>pine</td>\n",
       "      <td>high</td>\n",
       "      <td>7</td>\n",
       "    </tr>\n",
       "    <tr>\n",
       "      <th>3</th>\n",
       "      <td>apple</td>\n",
       "      <td>low</td>\n",
       "      <td>13</td>\n",
       "    </tr>\n",
       "    <tr>\n",
       "      <th>4</th>\n",
       "      <td>orange</td>\n",
       "      <td>high</td>\n",
       "      <td>9</td>\n",
       "    </tr>\n",
       "  </tbody>\n",
       "</table>\n",
       "</div>"
      ],
      "text/plain": [
       "   pazham  kilo  price\n",
       "0   apple  high     14\n",
       "1  orange   low      4\n",
       "2    pine  high      7\n",
       "3   apple   low     13\n",
       "4  orange  high      9"
      ]
     },
     "execution_count": 108,
     "metadata": {},
     "output_type": "execute_result"
    }
   ],
   "source": [
    "df2.head()"
   ]
  },
  {
   "cell_type": "code",
   "execution_count": 109,
   "id": "5c696b0d",
   "metadata": {
    "ExecuteTime": {
     "end_time": "2023-01-27T12:15:55.723882Z",
     "start_time": "2023-01-27T12:15:55.719269Z"
    }
   },
   "outputs": [
    {
     "data": {
      "text/html": [
       "<div>\n",
       "<style scoped>\n",
       "    .dataframe tbody tr th:only-of-type {\n",
       "        vertical-align: middle;\n",
       "    }\n",
       "\n",
       "    .dataframe tbody tr th {\n",
       "        vertical-align: top;\n",
       "    }\n",
       "\n",
       "    .dataframe thead th {\n",
       "        text-align: right;\n",
       "    }\n",
       "</style>\n",
       "<table border=\"1\" class=\"dataframe\">\n",
       "  <thead>\n",
       "    <tr style=\"text-align: right;\">\n",
       "      <th></th>\n",
       "      <th>fruit</th>\n",
       "      <th>weight</th>\n",
       "      <th>price_left</th>\n",
       "      <th>pazham</th>\n",
       "      <th>kilo</th>\n",
       "      <th>price_right</th>\n",
       "    </tr>\n",
       "  </thead>\n",
       "  <tbody>\n",
       "    <tr>\n",
       "      <th>0</th>\n",
       "      <td>apple</td>\n",
       "      <td>high</td>\n",
       "      <td>7</td>\n",
       "      <td>apple</td>\n",
       "      <td>high</td>\n",
       "      <td>14</td>\n",
       "    </tr>\n",
       "    <tr>\n",
       "      <th>1</th>\n",
       "      <td>apple</td>\n",
       "      <td>high</td>\n",
       "      <td>1</td>\n",
       "      <td>apple</td>\n",
       "      <td>high</td>\n",
       "      <td>14</td>\n",
       "    </tr>\n",
       "    <tr>\n",
       "      <th>2</th>\n",
       "      <td>apple</td>\n",
       "      <td>high</td>\n",
       "      <td>2</td>\n",
       "      <td>apple</td>\n",
       "      <td>high</td>\n",
       "      <td>14</td>\n",
       "    </tr>\n",
       "    <tr>\n",
       "      <th>3</th>\n",
       "      <td>orange</td>\n",
       "      <td>low</td>\n",
       "      <td>12</td>\n",
       "      <td>orange</td>\n",
       "      <td>low</td>\n",
       "      <td>4</td>\n",
       "    </tr>\n",
       "    <tr>\n",
       "      <th>4</th>\n",
       "      <td>orange</td>\n",
       "      <td>low</td>\n",
       "      <td>7</td>\n",
       "      <td>orange</td>\n",
       "      <td>low</td>\n",
       "      <td>4</td>\n",
       "    </tr>\n",
       "    <tr>\n",
       "      <th>5</th>\n",
       "      <td>orange</td>\n",
       "      <td>low</td>\n",
       "      <td>14</td>\n",
       "      <td>orange</td>\n",
       "      <td>low</td>\n",
       "      <td>4</td>\n",
       "    </tr>\n",
       "  </tbody>\n",
       "</table>\n",
       "</div>"
      ],
      "text/plain": [
       "    fruit weight  price_left  pazham  kilo  price_right\n",
       "0   apple   high           7   apple  high           14\n",
       "1   apple   high           1   apple  high           14\n",
       "2   apple   high           2   apple  high           14\n",
       "3  orange    low          12  orange   low            4\n",
       "4  orange    low           7  orange   low            4\n",
       "5  orange    low          14  orange   low            4"
      ]
     },
     "execution_count": 109,
     "metadata": {},
     "output_type": "execute_result"
    }
   ],
   "source": [
    "pd.merge(df1, df2, how='inner', left_on=['fruit', 'weight'], right_on = ['pazham', 'kilo'], suffixes=('_left', '_right'))"
   ]
  },
  {
   "cell_type": "code",
   "execution_count": 110,
   "id": "f88bcfbb",
   "metadata": {
    "ExecuteTime": {
     "end_time": "2023-01-27T12:15:55.729080Z",
     "start_time": "2023-01-27T12:15:55.724574Z"
    }
   },
   "outputs": [
    {
     "data": {
      "text/html": [
       "<div>\n",
       "<style scoped>\n",
       "    .dataframe tbody tr th:only-of-type {\n",
       "        vertical-align: middle;\n",
       "    }\n",
       "\n",
       "    .dataframe tbody tr th {\n",
       "        vertical-align: top;\n",
       "    }\n",
       "\n",
       "    .dataframe thead th {\n",
       "        text-align: right;\n",
       "    }\n",
       "</style>\n",
       "<table border=\"1\" class=\"dataframe\">\n",
       "  <thead>\n",
       "    <tr style=\"text-align: right;\">\n",
       "      <th></th>\n",
       "      <th>fruit</th>\n",
       "      <th>weight</th>\n",
       "      <th>price_left</th>\n",
       "      <th>pazham</th>\n",
       "      <th>kilo</th>\n",
       "      <th>price_right</th>\n",
       "    </tr>\n",
       "  </thead>\n",
       "  <tbody>\n",
       "    <tr>\n",
       "      <th>0</th>\n",
       "      <td>apple</td>\n",
       "      <td>high</td>\n",
       "      <td>7</td>\n",
       "      <td>apple</td>\n",
       "      <td>high</td>\n",
       "      <td>14</td>\n",
       "    </tr>\n",
       "    <tr>\n",
       "      <th>1</th>\n",
       "      <td>apple</td>\n",
       "      <td>high</td>\n",
       "      <td>1</td>\n",
       "      <td>apple</td>\n",
       "      <td>high</td>\n",
       "      <td>14</td>\n",
       "    </tr>\n",
       "    <tr>\n",
       "      <th>2</th>\n",
       "      <td>apple</td>\n",
       "      <td>high</td>\n",
       "      <td>2</td>\n",
       "      <td>apple</td>\n",
       "      <td>high</td>\n",
       "      <td>14</td>\n",
       "    </tr>\n",
       "    <tr>\n",
       "      <th>3</th>\n",
       "      <td>orange</td>\n",
       "      <td>low</td>\n",
       "      <td>12</td>\n",
       "      <td>orange</td>\n",
       "      <td>low</td>\n",
       "      <td>4</td>\n",
       "    </tr>\n",
       "    <tr>\n",
       "      <th>4</th>\n",
       "      <td>orange</td>\n",
       "      <td>low</td>\n",
       "      <td>7</td>\n",
       "      <td>orange</td>\n",
       "      <td>low</td>\n",
       "      <td>4</td>\n",
       "    </tr>\n",
       "    <tr>\n",
       "      <th>5</th>\n",
       "      <td>orange</td>\n",
       "      <td>low</td>\n",
       "      <td>14</td>\n",
       "      <td>orange</td>\n",
       "      <td>low</td>\n",
       "      <td>4</td>\n",
       "    </tr>\n",
       "  </tbody>\n",
       "</table>\n",
       "</div>"
      ],
      "text/plain": [
       "    fruit weight  price_left  pazham  kilo  price_right\n",
       "0   apple   high           7   apple  high           14\n",
       "1   apple   high           1   apple  high           14\n",
       "2   apple   high           2   apple  high           14\n",
       "3  orange    low          12  orange   low            4\n",
       "4  orange    low           7  orange   low            4\n",
       "5  orange    low          14  orange   low            4"
      ]
     },
     "execution_count": 110,
     "metadata": {},
     "output_type": "execute_result"
    }
   ],
   "source": [
    "df_merged = df1.merge(df2, how='inner', left_on=['fruit', 'weight'], right_on = ['pazham', 'kilo'], suffixes=('_left', '_right'))\n",
    "df_merged"
   ]
  },
  {
   "cell_type": "markdown",
   "id": "bbae83cd",
   "metadata": {},
   "source": [
    "Lets explore dropping duplicate rows"
   ]
  },
  {
   "cell_type": "code",
   "execution_count": 111,
   "id": "f751b92b",
   "metadata": {
    "ExecuteTime": {
     "end_time": "2023-01-27T12:15:55.838867Z",
     "start_time": "2023-01-27T12:15:55.834182Z"
    }
   },
   "outputs": [
    {
     "data": {
      "text/html": [
       "<div>\n",
       "<style scoped>\n",
       "    .dataframe tbody tr th:only-of-type {\n",
       "        vertical-align: middle;\n",
       "    }\n",
       "\n",
       "    .dataframe tbody tr th {\n",
       "        vertical-align: top;\n",
       "    }\n",
       "\n",
       "    .dataframe thead th {\n",
       "        text-align: right;\n",
       "    }\n",
       "</style>\n",
       "<table border=\"1\" class=\"dataframe\">\n",
       "  <thead>\n",
       "    <tr style=\"text-align: right;\">\n",
       "      <th></th>\n",
       "      <th>fruit</th>\n",
       "      <th>weight</th>\n",
       "      <th>price_left</th>\n",
       "      <th>pazham</th>\n",
       "      <th>kilo</th>\n",
       "      <th>price_right</th>\n",
       "    </tr>\n",
       "  </thead>\n",
       "  <tbody>\n",
       "    <tr>\n",
       "      <th>0</th>\n",
       "      <td>apple</td>\n",
       "      <td>high</td>\n",
       "      <td>7</td>\n",
       "      <td>apple</td>\n",
       "      <td>high</td>\n",
       "      <td>14</td>\n",
       "    </tr>\n",
       "    <tr>\n",
       "      <th>1</th>\n",
       "      <td>apple</td>\n",
       "      <td>high</td>\n",
       "      <td>1</td>\n",
       "      <td>apple</td>\n",
       "      <td>high</td>\n",
       "      <td>14</td>\n",
       "    </tr>\n",
       "    <tr>\n",
       "      <th>2</th>\n",
       "      <td>apple</td>\n",
       "      <td>high</td>\n",
       "      <td>2</td>\n",
       "      <td>apple</td>\n",
       "      <td>high</td>\n",
       "      <td>14</td>\n",
       "    </tr>\n",
       "    <tr>\n",
       "      <th>3</th>\n",
       "      <td>orange</td>\n",
       "      <td>low</td>\n",
       "      <td>12</td>\n",
       "      <td>orange</td>\n",
       "      <td>low</td>\n",
       "      <td>4</td>\n",
       "    </tr>\n",
       "    <tr>\n",
       "      <th>4</th>\n",
       "      <td>orange</td>\n",
       "      <td>low</td>\n",
       "      <td>7</td>\n",
       "      <td>orange</td>\n",
       "      <td>low</td>\n",
       "      <td>4</td>\n",
       "    </tr>\n",
       "    <tr>\n",
       "      <th>5</th>\n",
       "      <td>orange</td>\n",
       "      <td>low</td>\n",
       "      <td>14</td>\n",
       "      <td>orange</td>\n",
       "      <td>low</td>\n",
       "      <td>4</td>\n",
       "    </tr>\n",
       "  </tbody>\n",
       "</table>\n",
       "</div>"
      ],
      "text/plain": [
       "    fruit weight  price_left  pazham  kilo  price_right\n",
       "0   apple   high           7   apple  high           14\n",
       "1   apple   high           1   apple  high           14\n",
       "2   apple   high           2   apple  high           14\n",
       "3  orange    low          12  orange   low            4\n",
       "4  orange    low           7  orange   low            4\n",
       "5  orange    low          14  orange   low            4"
      ]
     },
     "execution_count": 111,
     "metadata": {},
     "output_type": "execute_result"
    }
   ],
   "source": [
    "df_merged.drop_duplicates(keep='first')"
   ]
  },
  {
   "cell_type": "code",
   "execution_count": 112,
   "id": "dd9ae33a",
   "metadata": {
    "ExecuteTime": {
     "end_time": "2023-01-27T12:15:55.843611Z",
     "start_time": "2023-01-27T12:15:55.839541Z"
    }
   },
   "outputs": [
    {
     "data": {
      "text/html": [
       "<div>\n",
       "<style scoped>\n",
       "    .dataframe tbody tr th:only-of-type {\n",
       "        vertical-align: middle;\n",
       "    }\n",
       "\n",
       "    .dataframe tbody tr th {\n",
       "        vertical-align: top;\n",
       "    }\n",
       "\n",
       "    .dataframe thead th {\n",
       "        text-align: right;\n",
       "    }\n",
       "</style>\n",
       "<table border=\"1\" class=\"dataframe\">\n",
       "  <thead>\n",
       "    <tr style=\"text-align: right;\">\n",
       "      <th></th>\n",
       "      <th>fruit</th>\n",
       "      <th>weight</th>\n",
       "      <th>price_left</th>\n",
       "      <th>pazham</th>\n",
       "      <th>kilo</th>\n",
       "      <th>price_right</th>\n",
       "    </tr>\n",
       "  </thead>\n",
       "  <tbody>\n",
       "    <tr>\n",
       "      <th>2</th>\n",
       "      <td>apple</td>\n",
       "      <td>high</td>\n",
       "      <td>2</td>\n",
       "      <td>apple</td>\n",
       "      <td>high</td>\n",
       "      <td>14</td>\n",
       "    </tr>\n",
       "    <tr>\n",
       "      <th>5</th>\n",
       "      <td>orange</td>\n",
       "      <td>low</td>\n",
       "      <td>14</td>\n",
       "      <td>orange</td>\n",
       "      <td>low</td>\n",
       "      <td>4</td>\n",
       "    </tr>\n",
       "  </tbody>\n",
       "</table>\n",
       "</div>"
      ],
      "text/plain": [
       "    fruit weight  price_left  pazham  kilo  price_right\n",
       "2   apple   high           2   apple  high           14\n",
       "5  orange    low          14  orange   low            4"
      ]
     },
     "execution_count": 112,
     "metadata": {},
     "output_type": "execute_result"
    }
   ],
   "source": [
    "df_merged.drop_duplicates(keep='last', inplace=False, ignore_index=False, subset=['fruit', 'weight'])"
   ]
  },
  {
   "cell_type": "markdown",
   "id": "07162b91",
   "metadata": {},
   "source": [
    "- *keep* отвечает за то, какой индекс оставить для одинаковых элементов, первый встреченный или последний\n",
    "- *ignore_index* -- делать ли реиндексацию или нет\n",
    "- *subset* -- задать множество колонок, по которым будем считать дупликаты\n",
    "- *inplace* -- (здесь и далее) делать ли изменения в исходном датафрейме (inplace=True) или вернуть копию"
   ]
  },
  {
   "cell_type": "markdown",
   "id": "299275d4",
   "metadata": {},
   "source": [
    "###  Reverse all rows (first row should become last etc.)"
   ]
  },
  {
   "cell_type": "code",
   "execution_count": 146,
   "id": "ef97cfaa",
   "metadata": {
    "ExecuteTime": {
     "end_time": "2023-01-27T12:17:21.033257Z",
     "start_time": "2023-01-27T12:17:21.031039Z"
    }
   },
   "outputs": [],
   "source": [
    "df = pd.DataFrame(np.arange(30).reshape(-1, 6), columns=map(lambda x: f'column_{x}', range(6)))"
   ]
  },
  {
   "cell_type": "code",
   "execution_count": 147,
   "id": "2a166683",
   "metadata": {
    "ExecuteTime": {
     "end_time": "2023-01-27T12:17:21.374499Z",
     "start_time": "2023-01-27T12:17:21.370990Z"
    }
   },
   "outputs": [
    {
     "data": {
      "text/html": [
       "<div>\n",
       "<style scoped>\n",
       "    .dataframe tbody tr th:only-of-type {\n",
       "        vertical-align: middle;\n",
       "    }\n",
       "\n",
       "    .dataframe tbody tr th {\n",
       "        vertical-align: top;\n",
       "    }\n",
       "\n",
       "    .dataframe thead th {\n",
       "        text-align: right;\n",
       "    }\n",
       "</style>\n",
       "<table border=\"1\" class=\"dataframe\">\n",
       "  <thead>\n",
       "    <tr style=\"text-align: right;\">\n",
       "      <th></th>\n",
       "      <th>column_0</th>\n",
       "      <th>column_1</th>\n",
       "      <th>column_2</th>\n",
       "      <th>column_3</th>\n",
       "      <th>column_4</th>\n",
       "      <th>column_5</th>\n",
       "    </tr>\n",
       "  </thead>\n",
       "  <tbody>\n",
       "    <tr>\n",
       "      <th>0</th>\n",
       "      <td>0</td>\n",
       "      <td>1</td>\n",
       "      <td>2</td>\n",
       "      <td>3</td>\n",
       "      <td>4</td>\n",
       "      <td>5</td>\n",
       "    </tr>\n",
       "    <tr>\n",
       "      <th>1</th>\n",
       "      <td>6</td>\n",
       "      <td>7</td>\n",
       "      <td>8</td>\n",
       "      <td>9</td>\n",
       "      <td>10</td>\n",
       "      <td>11</td>\n",
       "    </tr>\n",
       "    <tr>\n",
       "      <th>2</th>\n",
       "      <td>12</td>\n",
       "      <td>13</td>\n",
       "      <td>14</td>\n",
       "      <td>15</td>\n",
       "      <td>16</td>\n",
       "      <td>17</td>\n",
       "    </tr>\n",
       "    <tr>\n",
       "      <th>3</th>\n",
       "      <td>18</td>\n",
       "      <td>19</td>\n",
       "      <td>20</td>\n",
       "      <td>21</td>\n",
       "      <td>22</td>\n",
       "      <td>23</td>\n",
       "    </tr>\n",
       "    <tr>\n",
       "      <th>4</th>\n",
       "      <td>24</td>\n",
       "      <td>25</td>\n",
       "      <td>26</td>\n",
       "      <td>27</td>\n",
       "      <td>28</td>\n",
       "      <td>29</td>\n",
       "    </tr>\n",
       "  </tbody>\n",
       "</table>\n",
       "</div>"
      ],
      "text/plain": [
       "   column_0  column_1  column_2  column_3  column_4  column_5\n",
       "0         0         1         2         3         4         5\n",
       "1         6         7         8         9        10        11\n",
       "2        12        13        14        15        16        17\n",
       "3        18        19        20        21        22        23\n",
       "4        24        25        26        27        28        29"
      ]
     },
     "execution_count": 147,
     "metadata": {},
     "output_type": "execute_result"
    }
   ],
   "source": [
    "df"
   ]
  },
  {
   "cell_type": "code",
   "execution_count": 148,
   "id": "520c3651",
   "metadata": {
    "ExecuteTime": {
     "end_time": "2023-01-27T12:17:21.843795Z",
     "start_time": "2023-01-27T12:17:21.840283Z"
    }
   },
   "outputs": [
    {
     "data": {
      "text/html": [
       "<div>\n",
       "<style scoped>\n",
       "    .dataframe tbody tr th:only-of-type {\n",
       "        vertical-align: middle;\n",
       "    }\n",
       "\n",
       "    .dataframe tbody tr th {\n",
       "        vertical-align: top;\n",
       "    }\n",
       "\n",
       "    .dataframe thead th {\n",
       "        text-align: right;\n",
       "    }\n",
       "</style>\n",
       "<table border=\"1\" class=\"dataframe\">\n",
       "  <thead>\n",
       "    <tr style=\"text-align: right;\">\n",
       "      <th></th>\n",
       "      <th>column_0</th>\n",
       "      <th>column_1</th>\n",
       "      <th>column_2</th>\n",
       "      <th>column_3</th>\n",
       "      <th>column_4</th>\n",
       "      <th>column_5</th>\n",
       "    </tr>\n",
       "  </thead>\n",
       "  <tbody>\n",
       "    <tr>\n",
       "      <th>4</th>\n",
       "      <td>24</td>\n",
       "      <td>25</td>\n",
       "      <td>26</td>\n",
       "      <td>27</td>\n",
       "      <td>28</td>\n",
       "      <td>29</td>\n",
       "    </tr>\n",
       "    <tr>\n",
       "      <th>3</th>\n",
       "      <td>18</td>\n",
       "      <td>19</td>\n",
       "      <td>20</td>\n",
       "      <td>21</td>\n",
       "      <td>22</td>\n",
       "      <td>23</td>\n",
       "    </tr>\n",
       "    <tr>\n",
       "      <th>2</th>\n",
       "      <td>12</td>\n",
       "      <td>13</td>\n",
       "      <td>14</td>\n",
       "      <td>15</td>\n",
       "      <td>16</td>\n",
       "      <td>17</td>\n",
       "    </tr>\n",
       "    <tr>\n",
       "      <th>1</th>\n",
       "      <td>6</td>\n",
       "      <td>7</td>\n",
       "      <td>8</td>\n",
       "      <td>9</td>\n",
       "      <td>10</td>\n",
       "      <td>11</td>\n",
       "    </tr>\n",
       "    <tr>\n",
       "      <th>0</th>\n",
       "      <td>0</td>\n",
       "      <td>1</td>\n",
       "      <td>2</td>\n",
       "      <td>3</td>\n",
       "      <td>4</td>\n",
       "      <td>5</td>\n",
       "    </tr>\n",
       "  </tbody>\n",
       "</table>\n",
       "</div>"
      ],
      "text/plain": [
       "   column_0  column_1  column_2  column_3  column_4  column_5\n",
       "4        24        25        26        27        28        29\n",
       "3        18        19        20        21        22        23\n",
       "2        12        13        14        15        16        17\n",
       "1         6         7         8         9        10        11\n",
       "0         0         1         2         3         4         5"
      ]
     },
     "execution_count": 148,
     "metadata": {},
     "output_type": "execute_result"
    }
   ],
   "source": [
    "df.iloc[::-1]"
   ]
  },
  {
   "cell_type": "code",
   "execution_count": 149,
   "id": "185fe609",
   "metadata": {
    "ExecuteTime": {
     "end_time": "2023-01-27T12:17:27.740218Z",
     "start_time": "2023-01-27T12:17:27.736339Z"
    }
   },
   "outputs": [
    {
     "data": {
      "text/html": [
       "<div>\n",
       "<style scoped>\n",
       "    .dataframe tbody tr th:only-of-type {\n",
       "        vertical-align: middle;\n",
       "    }\n",
       "\n",
       "    .dataframe tbody tr th {\n",
       "        vertical-align: top;\n",
       "    }\n",
       "\n",
       "    .dataframe thead th {\n",
       "        text-align: right;\n",
       "    }\n",
       "</style>\n",
       "<table border=\"1\" class=\"dataframe\">\n",
       "  <thead>\n",
       "    <tr style=\"text-align: right;\">\n",
       "      <th></th>\n",
       "      <th>column_0</th>\n",
       "      <th>column_1</th>\n",
       "      <th>column_2</th>\n",
       "      <th>column_3</th>\n",
       "      <th>column_4</th>\n",
       "      <th>column_5</th>\n",
       "    </tr>\n",
       "  </thead>\n",
       "  <tbody>\n",
       "    <tr>\n",
       "      <th>4</th>\n",
       "      <td>24</td>\n",
       "      <td>25</td>\n",
       "      <td>26</td>\n",
       "      <td>27</td>\n",
       "      <td>28</td>\n",
       "      <td>29</td>\n",
       "    </tr>\n",
       "    <tr>\n",
       "      <th>3</th>\n",
       "      <td>18</td>\n",
       "      <td>19</td>\n",
       "      <td>20</td>\n",
       "      <td>21</td>\n",
       "      <td>22</td>\n",
       "      <td>23</td>\n",
       "    </tr>\n",
       "    <tr>\n",
       "      <th>2</th>\n",
       "      <td>12</td>\n",
       "      <td>13</td>\n",
       "      <td>14</td>\n",
       "      <td>15</td>\n",
       "      <td>16</td>\n",
       "      <td>17</td>\n",
       "    </tr>\n",
       "    <tr>\n",
       "      <th>1</th>\n",
       "      <td>6</td>\n",
       "      <td>7</td>\n",
       "      <td>8</td>\n",
       "      <td>9</td>\n",
       "      <td>10</td>\n",
       "      <td>11</td>\n",
       "    </tr>\n",
       "    <tr>\n",
       "      <th>0</th>\n",
       "      <td>0</td>\n",
       "      <td>1</td>\n",
       "      <td>2</td>\n",
       "      <td>3</td>\n",
       "      <td>4</td>\n",
       "      <td>5</td>\n",
       "    </tr>\n",
       "  </tbody>\n",
       "</table>\n",
       "</div>"
      ],
      "text/plain": [
       "   column_0  column_1  column_2  column_3  column_4  column_5\n",
       "4        24        25        26        27        28        29\n",
       "3        18        19        20        21        22        23\n",
       "2        12        13        14        15        16        17\n",
       "1         6         7         8         9        10        11\n",
       "0         0         1         2         3         4         5"
      ]
     },
     "execution_count": 149,
     "metadata": {},
     "output_type": "execute_result"
    }
   ],
   "source": [
    "df[::-1]"
   ]
  },
  {
   "cell_type": "code",
   "execution_count": 150,
   "id": "d696323c",
   "metadata": {
    "ExecuteTime": {
     "end_time": "2023-01-27T12:17:33.079745Z",
     "start_time": "2023-01-27T12:17:33.075926Z"
    }
   },
   "outputs": [
    {
     "data": {
      "text/html": [
       "<div>\n",
       "<style scoped>\n",
       "    .dataframe tbody tr th:only-of-type {\n",
       "        vertical-align: middle;\n",
       "    }\n",
       "\n",
       "    .dataframe tbody tr th {\n",
       "        vertical-align: top;\n",
       "    }\n",
       "\n",
       "    .dataframe thead th {\n",
       "        text-align: right;\n",
       "    }\n",
       "</style>\n",
       "<table border=\"1\" class=\"dataframe\">\n",
       "  <thead>\n",
       "    <tr style=\"text-align: right;\">\n",
       "      <th></th>\n",
       "      <th>column_0</th>\n",
       "      <th>column_1</th>\n",
       "      <th>column_2</th>\n",
       "      <th>column_3</th>\n",
       "      <th>column_4</th>\n",
       "      <th>column_5</th>\n",
       "    </tr>\n",
       "  </thead>\n",
       "  <tbody>\n",
       "    <tr>\n",
       "      <th>4</th>\n",
       "      <td>24</td>\n",
       "      <td>25</td>\n",
       "      <td>26</td>\n",
       "      <td>27</td>\n",
       "      <td>28</td>\n",
       "      <td>29</td>\n",
       "    </tr>\n",
       "    <tr>\n",
       "      <th>3</th>\n",
       "      <td>18</td>\n",
       "      <td>19</td>\n",
       "      <td>20</td>\n",
       "      <td>21</td>\n",
       "      <td>22</td>\n",
       "      <td>23</td>\n",
       "    </tr>\n",
       "    <tr>\n",
       "      <th>2</th>\n",
       "      <td>12</td>\n",
       "      <td>13</td>\n",
       "      <td>14</td>\n",
       "      <td>15</td>\n",
       "      <td>16</td>\n",
       "      <td>17</td>\n",
       "    </tr>\n",
       "    <tr>\n",
       "      <th>1</th>\n",
       "      <td>6</td>\n",
       "      <td>7</td>\n",
       "      <td>8</td>\n",
       "      <td>9</td>\n",
       "      <td>10</td>\n",
       "      <td>11</td>\n",
       "    </tr>\n",
       "    <tr>\n",
       "      <th>0</th>\n",
       "      <td>0</td>\n",
       "      <td>1</td>\n",
       "      <td>2</td>\n",
       "      <td>3</td>\n",
       "      <td>4</td>\n",
       "      <td>5</td>\n",
       "    </tr>\n",
       "  </tbody>\n",
       "</table>\n",
       "</div>"
      ],
      "text/plain": [
       "   column_0  column_1  column_2  column_3  column_4  column_5\n",
       "4        24        25        26        27        28        29\n",
       "3        18        19        20        21        22        23\n",
       "2        12        13        14        15        16        17\n",
       "1         6         7         8         9        10        11\n",
       "0         0         1         2         3         4         5"
      ]
     },
     "execution_count": 150,
     "metadata": {},
     "output_type": "execute_result"
    }
   ],
   "source": [
    "df.iloc[::-1, :]"
   ]
  },
  {
   "cell_type": "code",
   "execution_count": 151,
   "id": "52a2344e",
   "metadata": {
    "ExecuteTime": {
     "end_time": "2023-01-27T12:17:39.127126Z",
     "start_time": "2023-01-27T12:17:39.123138Z"
    }
   },
   "outputs": [
    {
     "data": {
      "text/html": [
       "<div>\n",
       "<style scoped>\n",
       "    .dataframe tbody tr th:only-of-type {\n",
       "        vertical-align: middle;\n",
       "    }\n",
       "\n",
       "    .dataframe tbody tr th {\n",
       "        vertical-align: top;\n",
       "    }\n",
       "\n",
       "    .dataframe thead th {\n",
       "        text-align: right;\n",
       "    }\n",
       "</style>\n",
       "<table border=\"1\" class=\"dataframe\">\n",
       "  <thead>\n",
       "    <tr style=\"text-align: right;\">\n",
       "      <th></th>\n",
       "      <th>column_0</th>\n",
       "      <th>column_1</th>\n",
       "      <th>column_2</th>\n",
       "      <th>column_3</th>\n",
       "      <th>column_4</th>\n",
       "      <th>column_5</th>\n",
       "    </tr>\n",
       "  </thead>\n",
       "  <tbody>\n",
       "    <tr>\n",
       "      <th>4</th>\n",
       "      <td>24</td>\n",
       "      <td>25</td>\n",
       "      <td>26</td>\n",
       "      <td>27</td>\n",
       "      <td>28</td>\n",
       "      <td>29</td>\n",
       "    </tr>\n",
       "    <tr>\n",
       "      <th>3</th>\n",
       "      <td>18</td>\n",
       "      <td>19</td>\n",
       "      <td>20</td>\n",
       "      <td>21</td>\n",
       "      <td>22</td>\n",
       "      <td>23</td>\n",
       "    </tr>\n",
       "    <tr>\n",
       "      <th>2</th>\n",
       "      <td>12</td>\n",
       "      <td>13</td>\n",
       "      <td>14</td>\n",
       "      <td>15</td>\n",
       "      <td>16</td>\n",
       "      <td>17</td>\n",
       "    </tr>\n",
       "    <tr>\n",
       "      <th>1</th>\n",
       "      <td>6</td>\n",
       "      <td>7</td>\n",
       "      <td>8</td>\n",
       "      <td>9</td>\n",
       "      <td>10</td>\n",
       "      <td>11</td>\n",
       "    </tr>\n",
       "    <tr>\n",
       "      <th>0</th>\n",
       "      <td>0</td>\n",
       "      <td>1</td>\n",
       "      <td>2</td>\n",
       "      <td>3</td>\n",
       "      <td>4</td>\n",
       "      <td>5</td>\n",
       "    </tr>\n",
       "  </tbody>\n",
       "</table>\n",
       "</div>"
      ],
      "text/plain": [
       "   column_0  column_1  column_2  column_3  column_4  column_5\n",
       "4        24        25        26        27        28        29\n",
       "3        18        19        20        21        22        23\n",
       "2        12        13        14        15        16        17\n",
       "1         6         7         8         9        10        11\n",
       "0         0         1         2         3         4         5"
      ]
     },
     "execution_count": 151,
     "metadata": {},
     "output_type": "execute_result"
    }
   ],
   "source": [
    "df.reindex(index=df.index[::-1])"
   ]
  },
  {
   "cell_type": "code",
   "execution_count": 152,
   "id": "7a6103af",
   "metadata": {
    "ExecuteTime": {
     "end_time": "2023-01-27T12:17:44.258659Z",
     "start_time": "2023-01-27T12:17:44.254291Z"
    }
   },
   "outputs": [
    {
     "data": {
      "text/html": [
       "<div>\n",
       "<style scoped>\n",
       "    .dataframe tbody tr th:only-of-type {\n",
       "        vertical-align: middle;\n",
       "    }\n",
       "\n",
       "    .dataframe tbody tr th {\n",
       "        vertical-align: top;\n",
       "    }\n",
       "\n",
       "    .dataframe thead th {\n",
       "        text-align: right;\n",
       "    }\n",
       "</style>\n",
       "<table border=\"1\" class=\"dataframe\">\n",
       "  <thead>\n",
       "    <tr style=\"text-align: right;\">\n",
       "      <th></th>\n",
       "      <th>column_0</th>\n",
       "      <th>column_1</th>\n",
       "      <th>column_2</th>\n",
       "      <th>column_3</th>\n",
       "      <th>column_4</th>\n",
       "      <th>column_5</th>\n",
       "    </tr>\n",
       "  </thead>\n",
       "  <tbody>\n",
       "    <tr>\n",
       "      <th>4</th>\n",
       "      <td>24</td>\n",
       "      <td>25</td>\n",
       "      <td>26</td>\n",
       "      <td>27</td>\n",
       "      <td>28</td>\n",
       "      <td>29</td>\n",
       "    </tr>\n",
       "    <tr>\n",
       "      <th>3</th>\n",
       "      <td>18</td>\n",
       "      <td>19</td>\n",
       "      <td>20</td>\n",
       "      <td>21</td>\n",
       "      <td>22</td>\n",
       "      <td>23</td>\n",
       "    </tr>\n",
       "    <tr>\n",
       "      <th>2</th>\n",
       "      <td>12</td>\n",
       "      <td>13</td>\n",
       "      <td>14</td>\n",
       "      <td>15</td>\n",
       "      <td>16</td>\n",
       "      <td>17</td>\n",
       "    </tr>\n",
       "    <tr>\n",
       "      <th>1</th>\n",
       "      <td>6</td>\n",
       "      <td>7</td>\n",
       "      <td>8</td>\n",
       "      <td>9</td>\n",
       "      <td>10</td>\n",
       "      <td>11</td>\n",
       "    </tr>\n",
       "    <tr>\n",
       "      <th>0</th>\n",
       "      <td>0</td>\n",
       "      <td>1</td>\n",
       "      <td>2</td>\n",
       "      <td>3</td>\n",
       "      <td>4</td>\n",
       "      <td>5</td>\n",
       "    </tr>\n",
       "  </tbody>\n",
       "</table>\n",
       "</div>"
      ],
      "text/plain": [
       "   column_0  column_1  column_2  column_3  column_4  column_5\n",
       "4        24        25        26        27        28        29\n",
       "3        18        19        20        21        22        23\n",
       "2        12        13        14        15        16        17\n",
       "1         6         7         8         9        10        11\n",
       "0         0         1         2         3         4         5"
      ]
     },
     "execution_count": 152,
     "metadata": {},
     "output_type": "execute_result"
    }
   ],
   "source": [
    "df.loc[df.index[::-1]]"
   ]
  },
  {
   "cell_type": "markdown",
   "id": "0855ea57",
   "metadata": {},
   "source": [
    "### Get column name with the highest number of row-wise maximum’s in dataframe"
   ]
  },
  {
   "cell_type": "code",
   "execution_count": 116,
   "id": "a6151e02",
   "metadata": {
    "ExecuteTime": {
     "end_time": "2023-01-27T12:15:56.209860Z",
     "start_time": "2023-01-27T12:15:56.207882Z"
    }
   },
   "outputs": [],
   "source": [
    "df = pd.DataFrame(np.random.randint(0, 100, 50).reshape(-1, 5), columns=map(lambda x: f'column_{x}', range(5)))"
   ]
  },
  {
   "cell_type": "code",
   "execution_count": 117,
   "id": "7eee2224",
   "metadata": {
    "ExecuteTime": {
     "end_time": "2023-01-27T12:15:56.215666Z",
     "start_time": "2023-01-27T12:15:56.212497Z"
    }
   },
   "outputs": [
    {
     "data": {
      "text/html": [
       "<div>\n",
       "<style scoped>\n",
       "    .dataframe tbody tr th:only-of-type {\n",
       "        vertical-align: middle;\n",
       "    }\n",
       "\n",
       "    .dataframe tbody tr th {\n",
       "        vertical-align: top;\n",
       "    }\n",
       "\n",
       "    .dataframe thead th {\n",
       "        text-align: right;\n",
       "    }\n",
       "</style>\n",
       "<table border=\"1\" class=\"dataframe\">\n",
       "  <thead>\n",
       "    <tr style=\"text-align: right;\">\n",
       "      <th></th>\n",
       "      <th>column_0</th>\n",
       "      <th>column_1</th>\n",
       "      <th>column_2</th>\n",
       "      <th>column_3</th>\n",
       "      <th>column_4</th>\n",
       "    </tr>\n",
       "  </thead>\n",
       "  <tbody>\n",
       "    <tr>\n",
       "      <th>0</th>\n",
       "      <td>39</td>\n",
       "      <td>37</td>\n",
       "      <td>22</td>\n",
       "      <td>62</td>\n",
       "      <td>69</td>\n",
       "    </tr>\n",
       "    <tr>\n",
       "      <th>1</th>\n",
       "      <td>11</td>\n",
       "      <td>86</td>\n",
       "      <td>77</td>\n",
       "      <td>44</td>\n",
       "      <td>14</td>\n",
       "    </tr>\n",
       "    <tr>\n",
       "      <th>2</th>\n",
       "      <td>81</td>\n",
       "      <td>7</td>\n",
       "      <td>72</td>\n",
       "      <td>89</td>\n",
       "      <td>4</td>\n",
       "    </tr>\n",
       "    <tr>\n",
       "      <th>3</th>\n",
       "      <td>38</td>\n",
       "      <td>92</td>\n",
       "      <td>97</td>\n",
       "      <td>72</td>\n",
       "      <td>14</td>\n",
       "    </tr>\n",
       "    <tr>\n",
       "      <th>4</th>\n",
       "      <td>14</td>\n",
       "      <td>92</td>\n",
       "      <td>2</td>\n",
       "      <td>26</td>\n",
       "      <td>97</td>\n",
       "    </tr>\n",
       "    <tr>\n",
       "      <th>5</th>\n",
       "      <td>30</td>\n",
       "      <td>76</td>\n",
       "      <td>92</td>\n",
       "      <td>96</td>\n",
       "      <td>47</td>\n",
       "    </tr>\n",
       "    <tr>\n",
       "      <th>6</th>\n",
       "      <td>43</td>\n",
       "      <td>55</td>\n",
       "      <td>69</td>\n",
       "      <td>70</td>\n",
       "      <td>23</td>\n",
       "    </tr>\n",
       "    <tr>\n",
       "      <th>7</th>\n",
       "      <td>99</td>\n",
       "      <td>55</td>\n",
       "      <td>80</td>\n",
       "      <td>26</td>\n",
       "      <td>49</td>\n",
       "    </tr>\n",
       "    <tr>\n",
       "      <th>8</th>\n",
       "      <td>86</td>\n",
       "      <td>4</td>\n",
       "      <td>58</td>\n",
       "      <td>58</td>\n",
       "      <td>35</td>\n",
       "    </tr>\n",
       "    <tr>\n",
       "      <th>9</th>\n",
       "      <td>68</td>\n",
       "      <td>91</td>\n",
       "      <td>68</td>\n",
       "      <td>67</td>\n",
       "      <td>5</td>\n",
       "    </tr>\n",
       "  </tbody>\n",
       "</table>\n",
       "</div>"
      ],
      "text/plain": [
       "   column_0  column_1  column_2  column_3  column_4\n",
       "0        39        37        22        62        69\n",
       "1        11        86        77        44        14\n",
       "2        81         7        72        89         4\n",
       "3        38        92        97        72        14\n",
       "4        14        92         2        26        97\n",
       "5        30        76        92        96        47\n",
       "6        43        55        69        70        23\n",
       "7        99        55        80        26        49\n",
       "8        86         4        58        58        35\n",
       "9        68        91        68        67         5"
      ]
     },
     "execution_count": 117,
     "metadata": {},
     "output_type": "execute_result"
    }
   ],
   "source": [
    "df"
   ]
  },
  {
   "cell_type": "code",
   "execution_count": 118,
   "id": "c0d6485b",
   "metadata": {
    "ExecuteTime": {
     "end_time": "2023-01-27T12:15:56.218962Z",
     "start_time": "2023-01-27T12:15:56.216450Z"
    }
   },
   "outputs": [
    {
     "data": {
      "text/plain": [
       "0    column_4\n",
       "1    column_1\n",
       "2    column_3\n",
       "3    column_2\n",
       "4    column_4\n",
       "5    column_3\n",
       "6    column_3\n",
       "7    column_0\n",
       "8    column_0\n",
       "9    column_1\n",
       "dtype: object"
      ]
     },
     "execution_count": 118,
     "metadata": {},
     "output_type": "execute_result"
    }
   ],
   "source": [
    "df.idxmax(axis=1)"
   ]
  },
  {
   "cell_type": "markdown",
   "id": "9b9fa8a3",
   "metadata": {},
   "source": [
    "То же самое через df.apply"
   ]
  },
  {
   "cell_type": "code",
   "execution_count": 119,
   "id": "cae50ee2",
   "metadata": {
    "ExecuteTime": {
     "end_time": "2023-01-27T12:15:56.336802Z",
     "start_time": "2023-01-27T12:15:56.334123Z"
    }
   },
   "outputs": [
    {
     "data": {
      "text/plain": [
       "0    4\n",
       "1    1\n",
       "2    3\n",
       "3    2\n",
       "4    4\n",
       "5    3\n",
       "6    3\n",
       "7    0\n",
       "8    0\n",
       "9    1\n",
       "dtype: int64"
      ]
     },
     "execution_count": 119,
     "metadata": {},
     "output_type": "execute_result"
    }
   ],
   "source": [
    "df.apply(np.argmax, axis=1)"
   ]
  },
  {
   "cell_type": "code",
   "execution_count": 120,
   "id": "6f946f44",
   "metadata": {
    "ExecuteTime": {
     "end_time": "2023-01-27T12:15:56.342028Z",
     "start_time": "2023-01-27T12:15:56.339372Z"
    }
   },
   "outputs": [
    {
     "data": {
      "text/plain": [
       "column_3    3\n",
       "column_4    2\n",
       "column_1    2\n",
       "column_0    2\n",
       "column_2    1\n",
       "dtype: int64"
      ]
     },
     "execution_count": 120,
     "metadata": {},
     "output_type": "execute_result"
    }
   ],
   "source": [
    "df.idxmax(axis=1).value_counts()"
   ]
  },
  {
   "cell_type": "code",
   "execution_count": 121,
   "id": "ac750ff7",
   "metadata": {
    "ExecuteTime": {
     "end_time": "2023-01-27T12:15:56.345016Z",
     "start_time": "2023-01-27T12:15:56.342728Z"
    }
   },
   "outputs": [
    {
     "data": {
      "text/plain": [
       "Index(['column_3', 'column_4', 'column_1', 'column_0', 'column_2'], dtype='object')"
      ]
     },
     "execution_count": 121,
     "metadata": {},
     "output_type": "execute_result"
    }
   ],
   "source": [
    "df.idxmax(axis=1).value_counts().index"
   ]
  },
  {
   "cell_type": "markdown",
   "id": "d8a0582d",
   "metadata": {},
   "source": [
    "Наш ответ"
   ]
  },
  {
   "cell_type": "code",
   "execution_count": 122,
   "id": "4171f482",
   "metadata": {
    "ExecuteTime": {
     "end_time": "2023-01-27T12:15:56.466060Z",
     "start_time": "2023-01-27T12:15:56.463348Z"
    }
   },
   "outputs": [
    {
     "data": {
      "text/plain": [
       "'column_3'"
      ]
     },
     "execution_count": 122,
     "metadata": {},
     "output_type": "execute_result"
    }
   ],
   "source": [
    "df.idxmax(axis=1).value_counts().index[0]"
   ]
  },
  {
   "cell_type": "markdown",
   "id": "b4d8135a",
   "metadata": {},
   "source": [
    "### Find the positions of numbers that are multiples of N"
   ]
  },
  {
   "cell_type": "code",
   "execution_count": 123,
   "id": "6e40c318",
   "metadata": {
    "ExecuteTime": {
     "end_time": "2023-01-27T12:15:56.580271Z",
     "start_time": "2023-01-27T12:15:56.579001Z"
    }
   },
   "outputs": [],
   "source": [
    "N = 5"
   ]
  },
  {
   "cell_type": "code",
   "execution_count": 124,
   "id": "0aa2574f",
   "metadata": {
    "ExecuteTime": {
     "end_time": "2023-01-27T12:15:56.593384Z",
     "start_time": "2023-01-27T12:15:56.590024Z"
    }
   },
   "outputs": [
    {
     "data": {
      "text/html": [
       "<div>\n",
       "<style scoped>\n",
       "    .dataframe tbody tr th:only-of-type {\n",
       "        vertical-align: middle;\n",
       "    }\n",
       "\n",
       "    .dataframe tbody tr th {\n",
       "        vertical-align: top;\n",
       "    }\n",
       "\n",
       "    .dataframe thead th {\n",
       "        text-align: right;\n",
       "    }\n",
       "</style>\n",
       "<table border=\"1\" class=\"dataframe\">\n",
       "  <thead>\n",
       "    <tr style=\"text-align: right;\">\n",
       "      <th></th>\n",
       "      <th>column_0</th>\n",
       "      <th>column_1</th>\n",
       "      <th>column_2</th>\n",
       "      <th>column_3</th>\n",
       "      <th>column_4</th>\n",
       "    </tr>\n",
       "  </thead>\n",
       "  <tbody>\n",
       "    <tr>\n",
       "      <th>0</th>\n",
       "      <td>39</td>\n",
       "      <td>37</td>\n",
       "      <td>22</td>\n",
       "      <td>62</td>\n",
       "      <td>69</td>\n",
       "    </tr>\n",
       "    <tr>\n",
       "      <th>1</th>\n",
       "      <td>11</td>\n",
       "      <td>86</td>\n",
       "      <td>77</td>\n",
       "      <td>44</td>\n",
       "      <td>14</td>\n",
       "    </tr>\n",
       "    <tr>\n",
       "      <th>2</th>\n",
       "      <td>81</td>\n",
       "      <td>7</td>\n",
       "      <td>72</td>\n",
       "      <td>89</td>\n",
       "      <td>4</td>\n",
       "    </tr>\n",
       "    <tr>\n",
       "      <th>3</th>\n",
       "      <td>38</td>\n",
       "      <td>92</td>\n",
       "      <td>97</td>\n",
       "      <td>72</td>\n",
       "      <td>14</td>\n",
       "    </tr>\n",
       "    <tr>\n",
       "      <th>4</th>\n",
       "      <td>14</td>\n",
       "      <td>92</td>\n",
       "      <td>2</td>\n",
       "      <td>26</td>\n",
       "      <td>97</td>\n",
       "    </tr>\n",
       "    <tr>\n",
       "      <th>5</th>\n",
       "      <td>30</td>\n",
       "      <td>76</td>\n",
       "      <td>92</td>\n",
       "      <td>96</td>\n",
       "      <td>47</td>\n",
       "    </tr>\n",
       "    <tr>\n",
       "      <th>6</th>\n",
       "      <td>43</td>\n",
       "      <td>55</td>\n",
       "      <td>69</td>\n",
       "      <td>70</td>\n",
       "      <td>23</td>\n",
       "    </tr>\n",
       "    <tr>\n",
       "      <th>7</th>\n",
       "      <td>99</td>\n",
       "      <td>55</td>\n",
       "      <td>80</td>\n",
       "      <td>26</td>\n",
       "      <td>49</td>\n",
       "    </tr>\n",
       "    <tr>\n",
       "      <th>8</th>\n",
       "      <td>86</td>\n",
       "      <td>4</td>\n",
       "      <td>58</td>\n",
       "      <td>58</td>\n",
       "      <td>35</td>\n",
       "    </tr>\n",
       "    <tr>\n",
       "      <th>9</th>\n",
       "      <td>68</td>\n",
       "      <td>91</td>\n",
       "      <td>68</td>\n",
       "      <td>67</td>\n",
       "      <td>5</td>\n",
       "    </tr>\n",
       "  </tbody>\n",
       "</table>\n",
       "</div>"
      ],
      "text/plain": [
       "   column_0  column_1  column_2  column_3  column_4\n",
       "0        39        37        22        62        69\n",
       "1        11        86        77        44        14\n",
       "2        81         7        72        89         4\n",
       "3        38        92        97        72        14\n",
       "4        14        92         2        26        97\n",
       "5        30        76        92        96        47\n",
       "6        43        55        69        70        23\n",
       "7        99        55        80        26        49\n",
       "8        86         4        58        58        35\n",
       "9        68        91        68        67         5"
      ]
     },
     "execution_count": 124,
     "metadata": {},
     "output_type": "execute_result"
    }
   ],
   "source": [
    "df"
   ]
  },
  {
   "cell_type": "markdown",
   "id": "f77af719",
   "metadata": {},
   "source": [
    "For each column Series separately "
   ]
  },
  {
   "cell_type": "code",
   "execution_count": 125,
   "id": "432266b1",
   "metadata": {
    "ExecuteTime": {
     "end_time": "2023-01-27T12:15:56.710680Z",
     "start_time": "2023-01-27T12:15:56.706278Z"
    }
   },
   "outputs": [
    {
     "name": "stdout",
     "output_type": "stream",
     "text": [
      "column_0: [5]\n",
      "column_1: [6, 7]\n",
      "column_2: [7]\n",
      "column_3: [6]\n",
      "column_4: [8, 9]\n"
     ]
    }
   ],
   "source": [
    "pos_map = df.apply(lambda x: x % N == 0)\n",
    "for col in pos_map.columns:\n",
    "    ser = pos_map.loc[:, col]\n",
    "    print(f'{col}: {ser[ser].index.tolist()}')"
   ]
  },
  {
   "cell_type": "markdown",
   "id": "2335a507",
   "metadata": {},
   "source": [
    "```\n",
    "column_0: [0, 2, 6, 7]\n",
    "column_1: [0, 5]\n",
    "column_2: [6, 9]\n",
    "column_3: [7, 8]\n",
    "column_4: [5, 8]\n",
    "```"
   ]
  },
  {
   "cell_type": "markdown",
   "id": "59ecc82f",
   "metadata": {},
   "source": [
    "Now try to treat rows and columns as coordinates. Return list (or array) of pairs for such elements. (one-liner)"
   ]
  },
  {
   "cell_type": "code",
   "execution_count": 126,
   "id": "c1b4e7d5",
   "metadata": {
    "ExecuteTime": {
     "end_time": "2023-01-27T12:15:56.947433Z",
     "start_time": "2023-01-27T12:15:56.944491Z"
    }
   },
   "outputs": [
    {
     "data": {
      "text/plain": [
       "[[5, 0], [6, 1], [6, 3], [7, 1], [7, 2], [8, 4], [9, 4]]"
      ]
     },
     "execution_count": 126,
     "metadata": {},
     "output_type": "execute_result"
    }
   ],
   "source": [
    "np.argwhere(df.values % N == 0).tolist()"
   ]
  },
  {
   "cell_type": "markdown",
   "id": "fef8957e",
   "metadata": {},
   "source": [
    "```[[0, 0],\n",
    " [0, 1],\n",
    " [2, 0],\n",
    " [5, 1],\n",
    " [5, 4],\n",
    " [6, 0],\n",
    " [6, 2],\n",
    " [7, 0],\n",
    " [7, 3],\n",
    " [8, 3],\n",
    " [8, 4],\n",
    " [9, 2]]\n",
    " ```"
   ]
  },
  {
   "cell_type": "markdown",
   "id": "1aff5416",
   "metadata": {},
   "source": [
    "### Compute the minimum-by-maximum for every row of dataframe"
   ]
  },
  {
   "cell_type": "code",
   "execution_count": 127,
   "id": "d3733616",
   "metadata": {
    "ExecuteTime": {
     "end_time": "2023-01-27T12:15:57.058343Z",
     "start_time": "2023-01-27T12:15:57.054551Z"
    }
   },
   "outputs": [
    {
     "data": {
      "text/html": [
       "<div>\n",
       "<style scoped>\n",
       "    .dataframe tbody tr th:only-of-type {\n",
       "        vertical-align: middle;\n",
       "    }\n",
       "\n",
       "    .dataframe tbody tr th {\n",
       "        vertical-align: top;\n",
       "    }\n",
       "\n",
       "    .dataframe thead th {\n",
       "        text-align: right;\n",
       "    }\n",
       "</style>\n",
       "<table border=\"1\" class=\"dataframe\">\n",
       "  <thead>\n",
       "    <tr style=\"text-align: right;\">\n",
       "      <th></th>\n",
       "      <th>column_0</th>\n",
       "      <th>column_1</th>\n",
       "      <th>column_2</th>\n",
       "      <th>column_3</th>\n",
       "      <th>column_4</th>\n",
       "    </tr>\n",
       "  </thead>\n",
       "  <tbody>\n",
       "    <tr>\n",
       "      <th>0</th>\n",
       "      <td>39</td>\n",
       "      <td>37</td>\n",
       "      <td>22</td>\n",
       "      <td>62</td>\n",
       "      <td>69</td>\n",
       "    </tr>\n",
       "    <tr>\n",
       "      <th>1</th>\n",
       "      <td>11</td>\n",
       "      <td>86</td>\n",
       "      <td>77</td>\n",
       "      <td>44</td>\n",
       "      <td>14</td>\n",
       "    </tr>\n",
       "    <tr>\n",
       "      <th>2</th>\n",
       "      <td>81</td>\n",
       "      <td>7</td>\n",
       "      <td>72</td>\n",
       "      <td>89</td>\n",
       "      <td>4</td>\n",
       "    </tr>\n",
       "    <tr>\n",
       "      <th>3</th>\n",
       "      <td>38</td>\n",
       "      <td>92</td>\n",
       "      <td>97</td>\n",
       "      <td>72</td>\n",
       "      <td>14</td>\n",
       "    </tr>\n",
       "    <tr>\n",
       "      <th>4</th>\n",
       "      <td>14</td>\n",
       "      <td>92</td>\n",
       "      <td>2</td>\n",
       "      <td>26</td>\n",
       "      <td>97</td>\n",
       "    </tr>\n",
       "    <tr>\n",
       "      <th>5</th>\n",
       "      <td>30</td>\n",
       "      <td>76</td>\n",
       "      <td>92</td>\n",
       "      <td>96</td>\n",
       "      <td>47</td>\n",
       "    </tr>\n",
       "    <tr>\n",
       "      <th>6</th>\n",
       "      <td>43</td>\n",
       "      <td>55</td>\n",
       "      <td>69</td>\n",
       "      <td>70</td>\n",
       "      <td>23</td>\n",
       "    </tr>\n",
       "    <tr>\n",
       "      <th>7</th>\n",
       "      <td>99</td>\n",
       "      <td>55</td>\n",
       "      <td>80</td>\n",
       "      <td>26</td>\n",
       "      <td>49</td>\n",
       "    </tr>\n",
       "    <tr>\n",
       "      <th>8</th>\n",
       "      <td>86</td>\n",
       "      <td>4</td>\n",
       "      <td>58</td>\n",
       "      <td>58</td>\n",
       "      <td>35</td>\n",
       "    </tr>\n",
       "    <tr>\n",
       "      <th>9</th>\n",
       "      <td>68</td>\n",
       "      <td>91</td>\n",
       "      <td>68</td>\n",
       "      <td>67</td>\n",
       "      <td>5</td>\n",
       "    </tr>\n",
       "  </tbody>\n",
       "</table>\n",
       "</div>"
      ],
      "text/plain": [
       "   column_0  column_1  column_2  column_3  column_4\n",
       "0        39        37        22        62        69\n",
       "1        11        86        77        44        14\n",
       "2        81         7        72        89         4\n",
       "3        38        92        97        72        14\n",
       "4        14        92         2        26        97\n",
       "5        30        76        92        96        47\n",
       "6        43        55        69        70        23\n",
       "7        99        55        80        26        49\n",
       "8        86         4        58        58        35\n",
       "9        68        91        68        67         5"
      ]
     },
     "execution_count": 127,
     "metadata": {},
     "output_type": "execute_result"
    }
   ],
   "source": [
    "df"
   ]
  },
  {
   "cell_type": "code",
   "execution_count": 128,
   "id": "366b8f99",
   "metadata": {
    "ExecuteTime": {
     "end_time": "2023-01-27T12:15:57.060123Z",
     "start_time": "2023-01-27T12:15:57.059089Z"
    }
   },
   "outputs": [],
   "source": [
    "# your code\n",
    "# hint: use df.min, max or np.min, max"
   ]
  },
  {
   "cell_type": "markdown",
   "id": "36a3974a",
   "metadata": {},
   "source": [
    "### Normalize all columns of df by subtracting the column mean and divide by standard deviation."
   ]
  },
  {
   "cell_type": "code",
   "execution_count": 129,
   "id": "7372c7d4",
   "metadata": {
    "ExecuteTime": {
     "end_time": "2023-01-27T12:15:57.166038Z",
     "start_time": "2023-01-27T12:15:57.162400Z"
    }
   },
   "outputs": [
    {
     "data": {
      "text/html": [
       "<div>\n",
       "<style scoped>\n",
       "    .dataframe tbody tr th:only-of-type {\n",
       "        vertical-align: middle;\n",
       "    }\n",
       "\n",
       "    .dataframe tbody tr th {\n",
       "        vertical-align: top;\n",
       "    }\n",
       "\n",
       "    .dataframe thead th {\n",
       "        text-align: right;\n",
       "    }\n",
       "</style>\n",
       "<table border=\"1\" class=\"dataframe\">\n",
       "  <thead>\n",
       "    <tr style=\"text-align: right;\">\n",
       "      <th></th>\n",
       "      <th>column_0</th>\n",
       "      <th>column_1</th>\n",
       "      <th>column_2</th>\n",
       "      <th>column_3</th>\n",
       "      <th>column_4</th>\n",
       "    </tr>\n",
       "  </thead>\n",
       "  <tbody>\n",
       "    <tr>\n",
       "      <th>0</th>\n",
       "      <td>39</td>\n",
       "      <td>37</td>\n",
       "      <td>22</td>\n",
       "      <td>62</td>\n",
       "      <td>69</td>\n",
       "    </tr>\n",
       "    <tr>\n",
       "      <th>1</th>\n",
       "      <td>11</td>\n",
       "      <td>86</td>\n",
       "      <td>77</td>\n",
       "      <td>44</td>\n",
       "      <td>14</td>\n",
       "    </tr>\n",
       "    <tr>\n",
       "      <th>2</th>\n",
       "      <td>81</td>\n",
       "      <td>7</td>\n",
       "      <td>72</td>\n",
       "      <td>89</td>\n",
       "      <td>4</td>\n",
       "    </tr>\n",
       "    <tr>\n",
       "      <th>3</th>\n",
       "      <td>38</td>\n",
       "      <td>92</td>\n",
       "      <td>97</td>\n",
       "      <td>72</td>\n",
       "      <td>14</td>\n",
       "    </tr>\n",
       "    <tr>\n",
       "      <th>4</th>\n",
       "      <td>14</td>\n",
       "      <td>92</td>\n",
       "      <td>2</td>\n",
       "      <td>26</td>\n",
       "      <td>97</td>\n",
       "    </tr>\n",
       "    <tr>\n",
       "      <th>5</th>\n",
       "      <td>30</td>\n",
       "      <td>76</td>\n",
       "      <td>92</td>\n",
       "      <td>96</td>\n",
       "      <td>47</td>\n",
       "    </tr>\n",
       "    <tr>\n",
       "      <th>6</th>\n",
       "      <td>43</td>\n",
       "      <td>55</td>\n",
       "      <td>69</td>\n",
       "      <td>70</td>\n",
       "      <td>23</td>\n",
       "    </tr>\n",
       "    <tr>\n",
       "      <th>7</th>\n",
       "      <td>99</td>\n",
       "      <td>55</td>\n",
       "      <td>80</td>\n",
       "      <td>26</td>\n",
       "      <td>49</td>\n",
       "    </tr>\n",
       "    <tr>\n",
       "      <th>8</th>\n",
       "      <td>86</td>\n",
       "      <td>4</td>\n",
       "      <td>58</td>\n",
       "      <td>58</td>\n",
       "      <td>35</td>\n",
       "    </tr>\n",
       "    <tr>\n",
       "      <th>9</th>\n",
       "      <td>68</td>\n",
       "      <td>91</td>\n",
       "      <td>68</td>\n",
       "      <td>67</td>\n",
       "      <td>5</td>\n",
       "    </tr>\n",
       "  </tbody>\n",
       "</table>\n",
       "</div>"
      ],
      "text/plain": [
       "   column_0  column_1  column_2  column_3  column_4\n",
       "0        39        37        22        62        69\n",
       "1        11        86        77        44        14\n",
       "2        81         7        72        89         4\n",
       "3        38        92        97        72        14\n",
       "4        14        92         2        26        97\n",
       "5        30        76        92        96        47\n",
       "6        43        55        69        70        23\n",
       "7        99        55        80        26        49\n",
       "8        86         4        58        58        35\n",
       "9        68        91        68        67         5"
      ]
     },
     "execution_count": 129,
     "metadata": {},
     "output_type": "execute_result"
    }
   ],
   "source": [
    "df"
   ]
  },
  {
   "cell_type": "code",
   "execution_count": 130,
   "id": "68fd7744",
   "metadata": {
    "ExecuteTime": {
     "end_time": "2023-01-27T12:15:57.168053Z",
     "start_time": "2023-01-27T12:15:57.166722Z"
    }
   },
   "outputs": [],
   "source": [
    "# your code\n",
    "# hint: use apply (for what axis?), np.mean and np.std (or similar pandas methods)"
   ]
  },
  {
   "cell_type": "markdown",
   "id": "60bca1c7",
   "metadata": {},
   "source": [
    "### Range all columns of df such that the minimum value in each column is 0 and max is 1"
   ]
  },
  {
   "cell_type": "code",
   "execution_count": 131,
   "id": "3efe24d1",
   "metadata": {
    "ExecuteTime": {
     "end_time": "2023-01-27T12:15:57.275724Z",
     "start_time": "2023-01-27T12:15:57.272382Z"
    }
   },
   "outputs": [
    {
     "data": {
      "text/html": [
       "<div>\n",
       "<style scoped>\n",
       "    .dataframe tbody tr th:only-of-type {\n",
       "        vertical-align: middle;\n",
       "    }\n",
       "\n",
       "    .dataframe tbody tr th {\n",
       "        vertical-align: top;\n",
       "    }\n",
       "\n",
       "    .dataframe thead th {\n",
       "        text-align: right;\n",
       "    }\n",
       "</style>\n",
       "<table border=\"1\" class=\"dataframe\">\n",
       "  <thead>\n",
       "    <tr style=\"text-align: right;\">\n",
       "      <th></th>\n",
       "      <th>column_0</th>\n",
       "      <th>column_1</th>\n",
       "      <th>column_2</th>\n",
       "      <th>column_3</th>\n",
       "      <th>column_4</th>\n",
       "    </tr>\n",
       "  </thead>\n",
       "  <tbody>\n",
       "    <tr>\n",
       "      <th>0</th>\n",
       "      <td>39</td>\n",
       "      <td>37</td>\n",
       "      <td>22</td>\n",
       "      <td>62</td>\n",
       "      <td>69</td>\n",
       "    </tr>\n",
       "    <tr>\n",
       "      <th>1</th>\n",
       "      <td>11</td>\n",
       "      <td>86</td>\n",
       "      <td>77</td>\n",
       "      <td>44</td>\n",
       "      <td>14</td>\n",
       "    </tr>\n",
       "    <tr>\n",
       "      <th>2</th>\n",
       "      <td>81</td>\n",
       "      <td>7</td>\n",
       "      <td>72</td>\n",
       "      <td>89</td>\n",
       "      <td>4</td>\n",
       "    </tr>\n",
       "    <tr>\n",
       "      <th>3</th>\n",
       "      <td>38</td>\n",
       "      <td>92</td>\n",
       "      <td>97</td>\n",
       "      <td>72</td>\n",
       "      <td>14</td>\n",
       "    </tr>\n",
       "    <tr>\n",
       "      <th>4</th>\n",
       "      <td>14</td>\n",
       "      <td>92</td>\n",
       "      <td>2</td>\n",
       "      <td>26</td>\n",
       "      <td>97</td>\n",
       "    </tr>\n",
       "    <tr>\n",
       "      <th>5</th>\n",
       "      <td>30</td>\n",
       "      <td>76</td>\n",
       "      <td>92</td>\n",
       "      <td>96</td>\n",
       "      <td>47</td>\n",
       "    </tr>\n",
       "    <tr>\n",
       "      <th>6</th>\n",
       "      <td>43</td>\n",
       "      <td>55</td>\n",
       "      <td>69</td>\n",
       "      <td>70</td>\n",
       "      <td>23</td>\n",
       "    </tr>\n",
       "    <tr>\n",
       "      <th>7</th>\n",
       "      <td>99</td>\n",
       "      <td>55</td>\n",
       "      <td>80</td>\n",
       "      <td>26</td>\n",
       "      <td>49</td>\n",
       "    </tr>\n",
       "    <tr>\n",
       "      <th>8</th>\n",
       "      <td>86</td>\n",
       "      <td>4</td>\n",
       "      <td>58</td>\n",
       "      <td>58</td>\n",
       "      <td>35</td>\n",
       "    </tr>\n",
       "    <tr>\n",
       "      <th>9</th>\n",
       "      <td>68</td>\n",
       "      <td>91</td>\n",
       "      <td>68</td>\n",
       "      <td>67</td>\n",
       "      <td>5</td>\n",
       "    </tr>\n",
       "  </tbody>\n",
       "</table>\n",
       "</div>"
      ],
      "text/plain": [
       "   column_0  column_1  column_2  column_3  column_4\n",
       "0        39        37        22        62        69\n",
       "1        11        86        77        44        14\n",
       "2        81         7        72        89         4\n",
       "3        38        92        97        72        14\n",
       "4        14        92         2        26        97\n",
       "5        30        76        92        96        47\n",
       "6        43        55        69        70        23\n",
       "7        99        55        80        26        49\n",
       "8        86         4        58        58        35\n",
       "9        68        91        68        67         5"
      ]
     },
     "execution_count": 131,
     "metadata": {},
     "output_type": "execute_result"
    }
   ],
   "source": [
    "df"
   ]
  },
  {
   "cell_type": "code",
   "execution_count": 132,
   "id": "5d0cd8cd",
   "metadata": {
    "ExecuteTime": {
     "end_time": "2023-01-27T12:15:57.277690Z",
     "start_time": "2023-01-27T12:15:57.276571Z"
    }
   },
   "outputs": [],
   "source": [
    "# your code\n",
    "# same as prev task. google for the minmax normalization formula "
   ]
  },
  {
   "cell_type": "markdown",
   "id": "276248c3",
   "metadata": {},
   "source": [
    "### Create a column that contains the second-largest value in each row?"
   ]
  },
  {
   "cell_type": "code",
   "execution_count": 133,
   "id": "c85edc48",
   "metadata": {
    "ExecuteTime": {
     "end_time": "2023-01-27T12:15:57.391165Z",
     "start_time": "2023-01-27T12:15:57.387977Z"
    }
   },
   "outputs": [
    {
     "data": {
      "text/html": [
       "<div>\n",
       "<style scoped>\n",
       "    .dataframe tbody tr th:only-of-type {\n",
       "        vertical-align: middle;\n",
       "    }\n",
       "\n",
       "    .dataframe tbody tr th {\n",
       "        vertical-align: top;\n",
       "    }\n",
       "\n",
       "    .dataframe thead th {\n",
       "        text-align: right;\n",
       "    }\n",
       "</style>\n",
       "<table border=\"1\" class=\"dataframe\">\n",
       "  <thead>\n",
       "    <tr style=\"text-align: right;\">\n",
       "      <th></th>\n",
       "      <th>column_0</th>\n",
       "      <th>column_1</th>\n",
       "      <th>column_2</th>\n",
       "      <th>column_3</th>\n",
       "      <th>column_4</th>\n",
       "    </tr>\n",
       "  </thead>\n",
       "  <tbody>\n",
       "    <tr>\n",
       "      <th>0</th>\n",
       "      <td>39</td>\n",
       "      <td>37</td>\n",
       "      <td>22</td>\n",
       "      <td>62</td>\n",
       "      <td>69</td>\n",
       "    </tr>\n",
       "    <tr>\n",
       "      <th>1</th>\n",
       "      <td>11</td>\n",
       "      <td>86</td>\n",
       "      <td>77</td>\n",
       "      <td>44</td>\n",
       "      <td>14</td>\n",
       "    </tr>\n",
       "    <tr>\n",
       "      <th>2</th>\n",
       "      <td>81</td>\n",
       "      <td>7</td>\n",
       "      <td>72</td>\n",
       "      <td>89</td>\n",
       "      <td>4</td>\n",
       "    </tr>\n",
       "    <tr>\n",
       "      <th>3</th>\n",
       "      <td>38</td>\n",
       "      <td>92</td>\n",
       "      <td>97</td>\n",
       "      <td>72</td>\n",
       "      <td>14</td>\n",
       "    </tr>\n",
       "    <tr>\n",
       "      <th>4</th>\n",
       "      <td>14</td>\n",
       "      <td>92</td>\n",
       "      <td>2</td>\n",
       "      <td>26</td>\n",
       "      <td>97</td>\n",
       "    </tr>\n",
       "    <tr>\n",
       "      <th>5</th>\n",
       "      <td>30</td>\n",
       "      <td>76</td>\n",
       "      <td>92</td>\n",
       "      <td>96</td>\n",
       "      <td>47</td>\n",
       "    </tr>\n",
       "    <tr>\n",
       "      <th>6</th>\n",
       "      <td>43</td>\n",
       "      <td>55</td>\n",
       "      <td>69</td>\n",
       "      <td>70</td>\n",
       "      <td>23</td>\n",
       "    </tr>\n",
       "    <tr>\n",
       "      <th>7</th>\n",
       "      <td>99</td>\n",
       "      <td>55</td>\n",
       "      <td>80</td>\n",
       "      <td>26</td>\n",
       "      <td>49</td>\n",
       "    </tr>\n",
       "    <tr>\n",
       "      <th>8</th>\n",
       "      <td>86</td>\n",
       "      <td>4</td>\n",
       "      <td>58</td>\n",
       "      <td>58</td>\n",
       "      <td>35</td>\n",
       "    </tr>\n",
       "    <tr>\n",
       "      <th>9</th>\n",
       "      <td>68</td>\n",
       "      <td>91</td>\n",
       "      <td>68</td>\n",
       "      <td>67</td>\n",
       "      <td>5</td>\n",
       "    </tr>\n",
       "  </tbody>\n",
       "</table>\n",
       "</div>"
      ],
      "text/plain": [
       "   column_0  column_1  column_2  column_3  column_4\n",
       "0        39        37        22        62        69\n",
       "1        11        86        77        44        14\n",
       "2        81         7        72        89         4\n",
       "3        38        92        97        72        14\n",
       "4        14        92         2        26        97\n",
       "5        30        76        92        96        47\n",
       "6        43        55        69        70        23\n",
       "7        99        55        80        26        49\n",
       "8        86         4        58        58        35\n",
       "9        68        91        68        67         5"
      ]
     },
     "execution_count": 133,
     "metadata": {},
     "output_type": "execute_result"
    }
   ],
   "source": [
    "df"
   ]
  },
  {
   "cell_type": "code",
   "execution_count": 134,
   "id": "0b8b0c5c",
   "metadata": {
    "ExecuteTime": {
     "end_time": "2023-01-27T12:15:57.393703Z",
     "start_time": "2023-01-27T12:15:57.391898Z"
    }
   },
   "outputs": [],
   "source": [
    "# your code\n",
    "# hint: apply with sorting"
   ]
  },
  {
   "cell_type": "markdown",
   "id": "542ab6c1",
   "metadata": {},
   "source": [
    "### Split a text column into two separate columns?"
   ]
  },
  {
   "cell_type": "code",
   "execution_count": 135,
   "id": "c817bf2f",
   "metadata": {
    "ExecuteTime": {
     "end_time": "2023-01-27T12:15:57.510572Z",
     "start_time": "2023-01-27T12:15:57.509006Z"
    }
   },
   "outputs": [],
   "source": [
    "df_text = pd.DataFrame(\n",
    "    {\n",
    "        'row':\n",
    "        [\n",
    "            'id\\t Name, Surname',\n",
    "            '2\\t Nadal, Raphael',\n",
    "            '5\\t Djokovic,  Novak',\n",
    "            '1\\t Federer, Roger'\n",
    "        ]\n",
    "    }\n",
    ")"
   ]
  },
  {
   "cell_type": "code",
   "execution_count": 136,
   "id": "de163fa0",
   "metadata": {
    "ExecuteTime": {
     "end_time": "2023-01-27T12:15:57.515193Z",
     "start_time": "2023-01-27T12:15:57.512733Z"
    }
   },
   "outputs": [
    {
     "data": {
      "text/html": [
       "<div>\n",
       "<style scoped>\n",
       "    .dataframe tbody tr th:only-of-type {\n",
       "        vertical-align: middle;\n",
       "    }\n",
       "\n",
       "    .dataframe tbody tr th {\n",
       "        vertical-align: top;\n",
       "    }\n",
       "\n",
       "    .dataframe thead th {\n",
       "        text-align: right;\n",
       "    }\n",
       "</style>\n",
       "<table border=\"1\" class=\"dataframe\">\n",
       "  <thead>\n",
       "    <tr style=\"text-align: right;\">\n",
       "      <th></th>\n",
       "      <th>row</th>\n",
       "    </tr>\n",
       "  </thead>\n",
       "  <tbody>\n",
       "    <tr>\n",
       "      <th>0</th>\n",
       "      <td>id\\t Name, Surname</td>\n",
       "    </tr>\n",
       "    <tr>\n",
       "      <th>1</th>\n",
       "      <td>2\\t Nadal, Raphael</td>\n",
       "    </tr>\n",
       "    <tr>\n",
       "      <th>2</th>\n",
       "      <td>5\\t Djokovic,  Novak</td>\n",
       "    </tr>\n",
       "    <tr>\n",
       "      <th>3</th>\n",
       "      <td>1\\t Federer, Roger</td>\n",
       "    </tr>\n",
       "  </tbody>\n",
       "</table>\n",
       "</div>"
      ],
      "text/plain": [
       "                    row\n",
       "0    id\\t Name, Surname\n",
       "1    2\\t Nadal, Raphael\n",
       "2  5\\t Djokovic,  Novak\n",
       "3    1\\t Federer, Roger"
      ]
     },
     "execution_count": 136,
     "metadata": {},
     "output_type": "execute_result"
    }
   ],
   "source": [
    "df_text"
   ]
  },
  {
   "cell_type": "code",
   "execution_count": 137,
   "id": "624819fe",
   "metadata": {
    "ExecuteTime": {
     "end_time": "2023-01-27T12:15:57.517528Z",
     "start_time": "2023-01-27T12:15:57.515848Z"
    }
   },
   "outputs": [],
   "source": [
    "splitted_df = df_text.row.str.split(r'\\t|,', expand=True)"
   ]
  },
  {
   "cell_type": "code",
   "execution_count": 138,
   "id": "9691382c",
   "metadata": {
    "ExecuteTime": {
     "end_time": "2023-01-27T12:15:57.523073Z",
     "start_time": "2023-01-27T12:15:57.520407Z"
    }
   },
   "outputs": [
    {
     "data": {
      "text/html": [
       "<div>\n",
       "<style scoped>\n",
       "    .dataframe tbody tr th:only-of-type {\n",
       "        vertical-align: middle;\n",
       "    }\n",
       "\n",
       "    .dataframe tbody tr th {\n",
       "        vertical-align: top;\n",
       "    }\n",
       "\n",
       "    .dataframe thead th {\n",
       "        text-align: right;\n",
       "    }\n",
       "</style>\n",
       "<table border=\"1\" class=\"dataframe\">\n",
       "  <thead>\n",
       "    <tr style=\"text-align: right;\">\n",
       "      <th></th>\n",
       "      <th>0</th>\n",
       "      <th>1</th>\n",
       "      <th>2</th>\n",
       "    </tr>\n",
       "  </thead>\n",
       "  <tbody>\n",
       "    <tr>\n",
       "      <th>0</th>\n",
       "      <td>id</td>\n",
       "      <td>Name</td>\n",
       "      <td>Surname</td>\n",
       "    </tr>\n",
       "    <tr>\n",
       "      <th>1</th>\n",
       "      <td>2</td>\n",
       "      <td>Nadal</td>\n",
       "      <td>Raphael</td>\n",
       "    </tr>\n",
       "    <tr>\n",
       "      <th>2</th>\n",
       "      <td>5</td>\n",
       "      <td>Djokovic</td>\n",
       "      <td>Novak</td>\n",
       "    </tr>\n",
       "    <tr>\n",
       "      <th>3</th>\n",
       "      <td>1</td>\n",
       "      <td>Federer</td>\n",
       "      <td>Roger</td>\n",
       "    </tr>\n",
       "  </tbody>\n",
       "</table>\n",
       "</div>"
      ],
      "text/plain": [
       "    0          1         2\n",
       "0  id       Name   Surname\n",
       "1   2      Nadal   Raphael\n",
       "2   5   Djokovic     Novak\n",
       "3   1    Federer     Roger"
      ]
     },
     "execution_count": 138,
     "metadata": {},
     "output_type": "execute_result"
    }
   ],
   "source": [
    "splitted_df"
   ]
  },
  {
   "cell_type": "code",
   "execution_count": 139,
   "id": "d2fd611c",
   "metadata": {
    "ExecuteTime": {
     "end_time": "2023-01-27T12:15:57.525219Z",
     "start_time": "2023-01-27T12:15:57.523767Z"
    }
   },
   "outputs": [],
   "source": [
    "splitted_df.columns = splitted_df.iloc[0]"
   ]
  },
  {
   "cell_type": "code",
   "execution_count": 140,
   "id": "1a0a6eb7",
   "metadata": {
    "ExecuteTime": {
     "end_time": "2023-01-27T12:15:57.531338Z",
     "start_time": "2023-01-27T12:15:57.528567Z"
    }
   },
   "outputs": [
    {
     "data": {
      "text/html": [
       "<div>\n",
       "<style scoped>\n",
       "    .dataframe tbody tr th:only-of-type {\n",
       "        vertical-align: middle;\n",
       "    }\n",
       "\n",
       "    .dataframe tbody tr th {\n",
       "        vertical-align: top;\n",
       "    }\n",
       "\n",
       "    .dataframe thead th {\n",
       "        text-align: right;\n",
       "    }\n",
       "</style>\n",
       "<table border=\"1\" class=\"dataframe\">\n",
       "  <thead>\n",
       "    <tr style=\"text-align: right;\">\n",
       "      <th></th>\n",
       "      <th>id</th>\n",
       "      <th>Name</th>\n",
       "      <th>Surname</th>\n",
       "    </tr>\n",
       "  </thead>\n",
       "  <tbody>\n",
       "    <tr>\n",
       "      <th>0</th>\n",
       "      <td>id</td>\n",
       "      <td>Name</td>\n",
       "      <td>Surname</td>\n",
       "    </tr>\n",
       "    <tr>\n",
       "      <th>1</th>\n",
       "      <td>2</td>\n",
       "      <td>Nadal</td>\n",
       "      <td>Raphael</td>\n",
       "    </tr>\n",
       "    <tr>\n",
       "      <th>2</th>\n",
       "      <td>5</td>\n",
       "      <td>Djokovic</td>\n",
       "      <td>Novak</td>\n",
       "    </tr>\n",
       "    <tr>\n",
       "      <th>3</th>\n",
       "      <td>1</td>\n",
       "      <td>Federer</td>\n",
       "      <td>Roger</td>\n",
       "    </tr>\n",
       "  </tbody>\n",
       "</table>\n",
       "</div>"
      ],
      "text/plain": [
       "0  id       Name   Surname\n",
       "0  id       Name   Surname\n",
       "1   2      Nadal   Raphael\n",
       "2   5   Djokovic     Novak\n",
       "3   1    Federer     Roger"
      ]
     },
     "execution_count": 140,
     "metadata": {},
     "output_type": "execute_result"
    }
   ],
   "source": [
    "splitted_df"
   ]
  },
  {
   "cell_type": "code",
   "execution_count": 141,
   "id": "823c663e",
   "metadata": {
    "ExecuteTime": {
     "end_time": "2023-01-27T12:15:57.533639Z",
     "start_time": "2023-01-27T12:15:57.532059Z"
    }
   },
   "outputs": [],
   "source": [
    "splitted_df.drop(0, inplace=True)"
   ]
  },
  {
   "cell_type": "code",
   "execution_count": 142,
   "id": "3d2ba74e",
   "metadata": {
    "ExecuteTime": {
     "end_time": "2023-01-27T12:15:57.538787Z",
     "start_time": "2023-01-27T12:15:57.535957Z"
    }
   },
   "outputs": [
    {
     "data": {
      "text/html": [
       "<div>\n",
       "<style scoped>\n",
       "    .dataframe tbody tr th:only-of-type {\n",
       "        vertical-align: middle;\n",
       "    }\n",
       "\n",
       "    .dataframe tbody tr th {\n",
       "        vertical-align: top;\n",
       "    }\n",
       "\n",
       "    .dataframe thead th {\n",
       "        text-align: right;\n",
       "    }\n",
       "</style>\n",
       "<table border=\"1\" class=\"dataframe\">\n",
       "  <thead>\n",
       "    <tr style=\"text-align: right;\">\n",
       "      <th></th>\n",
       "      <th>id</th>\n",
       "      <th>Name</th>\n",
       "      <th>Surname</th>\n",
       "    </tr>\n",
       "  </thead>\n",
       "  <tbody>\n",
       "    <tr>\n",
       "      <th>1</th>\n",
       "      <td>2</td>\n",
       "      <td>Nadal</td>\n",
       "      <td>Raphael</td>\n",
       "    </tr>\n",
       "    <tr>\n",
       "      <th>2</th>\n",
       "      <td>5</td>\n",
       "      <td>Djokovic</td>\n",
       "      <td>Novak</td>\n",
       "    </tr>\n",
       "    <tr>\n",
       "      <th>3</th>\n",
       "      <td>1</td>\n",
       "      <td>Federer</td>\n",
       "      <td>Roger</td>\n",
       "    </tr>\n",
       "  </tbody>\n",
       "</table>\n",
       "</div>"
      ],
      "text/plain": [
       "0 id       Name   Surname\n",
       "1  2      Nadal   Raphael\n",
       "2  5   Djokovic     Novak\n",
       "3  1    Federer     Roger"
      ]
     },
     "execution_count": 142,
     "metadata": {},
     "output_type": "execute_result"
    }
   ],
   "source": [
    "splitted_df"
   ]
  },
  {
   "cell_type": "code",
   "execution_count": 143,
   "id": "d47d6f9a",
   "metadata": {
    "ExecuteTime": {
     "end_time": "2023-01-27T12:15:57.540896Z",
     "start_time": "2023-01-27T12:15:57.539488Z"
    }
   },
   "outputs": [],
   "source": [
    "splitted_df.set_index('id', inplace=True)"
   ]
  },
  {
   "cell_type": "code",
   "execution_count": 144,
   "id": "5df1f992",
   "metadata": {
    "ExecuteTime": {
     "end_time": "2023-01-27T12:15:57.546509Z",
     "start_time": "2023-01-27T12:15:57.543804Z"
    }
   },
   "outputs": [
    {
     "data": {
      "text/html": [
       "<div>\n",
       "<style scoped>\n",
       "    .dataframe tbody tr th:only-of-type {\n",
       "        vertical-align: middle;\n",
       "    }\n",
       "\n",
       "    .dataframe tbody tr th {\n",
       "        vertical-align: top;\n",
       "    }\n",
       "\n",
       "    .dataframe thead th {\n",
       "        text-align: right;\n",
       "    }\n",
       "</style>\n",
       "<table border=\"1\" class=\"dataframe\">\n",
       "  <thead>\n",
       "    <tr style=\"text-align: right;\">\n",
       "      <th></th>\n",
       "      <th>Name</th>\n",
       "      <th>Surname</th>\n",
       "    </tr>\n",
       "    <tr>\n",
       "      <th>id</th>\n",
       "      <th></th>\n",
       "      <th></th>\n",
       "    </tr>\n",
       "  </thead>\n",
       "  <tbody>\n",
       "    <tr>\n",
       "      <th>2</th>\n",
       "      <td>Nadal</td>\n",
       "      <td>Raphael</td>\n",
       "    </tr>\n",
       "    <tr>\n",
       "      <th>5</th>\n",
       "      <td>Djokovic</td>\n",
       "      <td>Novak</td>\n",
       "    </tr>\n",
       "    <tr>\n",
       "      <th>1</th>\n",
       "      <td>Federer</td>\n",
       "      <td>Roger</td>\n",
       "    </tr>\n",
       "  </tbody>\n",
       "</table>\n",
       "</div>"
      ],
      "text/plain": [
       "0        Name   Surname\n",
       "id                     \n",
       "2       Nadal   Raphael\n",
       "5    Djokovic     Novak\n",
       "1     Federer     Roger"
      ]
     },
     "execution_count": 144,
     "metadata": {},
     "output_type": "execute_result"
    }
   ],
   "source": [
    "splitted_df"
   ]
  },
  {
   "cell_type": "markdown",
   "id": "719b2aa2",
   "metadata": {},
   "source": [
    "---"
   ]
  },
  {
   "cell_type": "markdown",
   "id": "8eda6d28",
   "metadata": {},
   "source": [
    "Больше [упражнений на Pandas с решениями](https://www.machinelearningplus.com/python/101-pandas-exercises-python/)"
   ]
  },
  {
   "cell_type": "markdown",
   "id": "3d3d2bc9",
   "metadata": {},
   "source": [
    "## PS"
   ]
  },
  {
   "cell_type": "markdown",
   "id": "b7984b39",
   "metadata": {},
   "source": [
    "1. Для тех, кто сидит на Windows, советую поставить WSL2 и работать из-под этой подсистемы:\n",
    "\n",
    "- [гайд](https://learn.microsoft.com/ru-ru/windows/wsl/install#manual-installation-steps) от Microsoft\n",
    "- [базовые команды терминала](https://ubuntu.com/tutorials/command-line-for-beginners#1-overview)\n",
    "- [установите Anaconda](https://www.digitalocean.com/community/tutorials/how-to-install-the-anaconda-python-distribution-on-ubuntu-22-04)\n",
    "\n",
    "Запускать ноутбучки локально с помощью команды `jupyter notebook --no-browser`. Также можно работать с подсистемой с помощью VSCode\n",
    "\n",
    "Сможете легко склонировать наш (и не только) [репозиторий](https://github.com/sanityseeker/lspy-2023) с помощью git clone :) "
   ]
  },
  {
   "cell_type": "markdown",
   "id": "bcc2afcd",
   "metadata": {},
   "source": [
    "2. Расширения для Jupyter Notebook -- [nbextensions](https://jupyter-contrib-nbextensions.readthedocs.io/en/latest/install.html) "
   ]
  }
 ],
 "metadata": {
  "kernelspec": {
   "display_name": "ml-env",
   "language": "python",
   "name": "ml-env"
  },
  "language_info": {
   "codemirror_mode": {
    "name": "ipython",
    "version": 3
   },
   "file_extension": ".py",
   "mimetype": "text/x-python",
   "name": "python",
   "nbconvert_exporter": "python",
   "pygments_lexer": "ipython3",
   "version": "3.8.13"
  },
  "toc": {
   "base_numbering": 1,
   "nav_menu": {},
   "number_sections": true,
   "sideBar": true,
   "skip_h1_title": false,
   "title_cell": "Table of Contents",
   "title_sidebar": "Contents",
   "toc_cell": false,
   "toc_position": {},
   "toc_section_display": true,
   "toc_window_display": true
  },
  "varInspector": {
   "cols": {
    "lenName": 16,
    "lenType": 16,
    "lenVar": 40
   },
   "kernels_config": {
    "python": {
     "delete_cmd_postfix": "",
     "delete_cmd_prefix": "del ",
     "library": "var_list.py",
     "varRefreshCmd": "print(var_dic_list())"
    },
    "r": {
     "delete_cmd_postfix": ") ",
     "delete_cmd_prefix": "rm(",
     "library": "var_list.r",
     "varRefreshCmd": "cat(var_dic_list()) "
    }
   },
   "types_to_exclude": [
    "module",
    "function",
    "builtin_function_or_method",
    "instance",
    "_Feature"
   ],
   "window_display": false
  }
 },
 "nbformat": 4,
 "nbformat_minor": 5
}
