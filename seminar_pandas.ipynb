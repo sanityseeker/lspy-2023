{
 "cells": [
  {
   "cell_type": "code",
   "execution_count": 2,
   "id": "33e276da",
   "metadata": {
    "ExecuteTime": {
     "end_time": "2023-01-26T23:23:56.007269Z",
     "start_time": "2023-01-26T23:23:55.842817Z"
    }
   },
   "outputs": [],
   "source": [
    "import numpy as np\n",
    "import pandas as pd"
   ]
  },
  {
   "cell_type": "markdown",
   "id": "f64f86cc",
   "metadata": {},
   "source": [
    "## Немного ни о чем"
   ]
  },
  {
   "cell_type": "code",
   "execution_count": 1,
   "id": "78579517",
   "metadata": {
    "ExecuteTime": {
     "end_time": "2023-01-27T09:43:25.610680Z",
     "start_time": "2023-01-27T09:43:25.608857Z"
    }
   },
   "outputs": [],
   "source": [
    "# our code"
   ]
  },
  {
   "cell_type": "markdown",
   "id": "22a1edeb",
   "metadata": {},
   "source": [
    "## Задачи"
   ]
  },
  {
   "cell_type": "markdown",
   "id": "858fb50e",
   "metadata": {},
   "source": [
    "**1. Given series A and series B**"
   ]
  },
  {
   "cell_type": "code",
   "execution_count": 178,
   "id": "0fde126c",
   "metadata": {
    "ExecuteTime": {
     "end_time": "2023-01-27T00:24:40.654932Z",
     "start_time": "2023-01-27T00:24:40.652583Z"
    }
   },
   "outputs": [],
   "source": [
    "series_a = pd.Series([1, 2, 4, 3])\n",
    "series_b = pd.Series([3, 4, 5, 6])"
   ]
  },
  {
   "cell_type": "markdown",
   "id": "d08e5c73",
   "metadata": {},
   "source": [
    "- Items is series A not present in series B\n",
    "- Intersection of series\n",
    "- Items presented only in one of the series, not in both"
   ]
  },
  {
   "cell_type": "code",
   "execution_count": 180,
   "id": "486f0638",
   "metadata": {
    "ExecuteTime": {
     "end_time": "2023-01-27T00:25:05.571984Z",
     "start_time": "2023-01-27T00:25:05.570265Z"
    }
   },
   "outputs": [],
   "source": [
    "# your code"
   ]
  },
  {
   "cell_type": "markdown",
   "id": "299275d4",
   "metadata": {},
   "source": [
    "**2. Reverse all rows (first row should become last etc.)**"
   ]
  },
  {
   "cell_type": "code",
   "execution_count": 232,
   "id": "ef97cfaa",
   "metadata": {
    "ExecuteTime": {
     "end_time": "2023-01-27T00:49:28.239439Z",
     "start_time": "2023-01-27T00:49:28.237134Z"
    }
   },
   "outputs": [],
   "source": [
    "df = pd.DataFrame(np.arange(30).reshape(-1, 6), columns=map(lambda x: f'column_{x}', range(6)))"
   ]
  },
  {
   "cell_type": "code",
   "execution_count": 233,
   "id": "2a166683",
   "metadata": {
    "ExecuteTime": {
     "end_time": "2023-01-27T00:49:28.756113Z",
     "start_time": "2023-01-27T00:49:28.752662Z"
    }
   },
   "outputs": [
    {
     "data": {
      "text/html": [
       "<div>\n",
       "<style scoped>\n",
       "    .dataframe tbody tr th:only-of-type {\n",
       "        vertical-align: middle;\n",
       "    }\n",
       "\n",
       "    .dataframe tbody tr th {\n",
       "        vertical-align: top;\n",
       "    }\n",
       "\n",
       "    .dataframe thead th {\n",
       "        text-align: right;\n",
       "    }\n",
       "</style>\n",
       "<table border=\"1\" class=\"dataframe\">\n",
       "  <thead>\n",
       "    <tr style=\"text-align: right;\">\n",
       "      <th></th>\n",
       "      <th>column_0</th>\n",
       "      <th>column_1</th>\n",
       "      <th>column_2</th>\n",
       "      <th>column_3</th>\n",
       "      <th>column_4</th>\n",
       "      <th>column_5</th>\n",
       "    </tr>\n",
       "  </thead>\n",
       "  <tbody>\n",
       "    <tr>\n",
       "      <th>0</th>\n",
       "      <td>0</td>\n",
       "      <td>1</td>\n",
       "      <td>2</td>\n",
       "      <td>3</td>\n",
       "      <td>4</td>\n",
       "      <td>5</td>\n",
       "    </tr>\n",
       "    <tr>\n",
       "      <th>1</th>\n",
       "      <td>6</td>\n",
       "      <td>7</td>\n",
       "      <td>8</td>\n",
       "      <td>9</td>\n",
       "      <td>10</td>\n",
       "      <td>11</td>\n",
       "    </tr>\n",
       "    <tr>\n",
       "      <th>2</th>\n",
       "      <td>12</td>\n",
       "      <td>13</td>\n",
       "      <td>14</td>\n",
       "      <td>15</td>\n",
       "      <td>16</td>\n",
       "      <td>17</td>\n",
       "    </tr>\n",
       "    <tr>\n",
       "      <th>3</th>\n",
       "      <td>18</td>\n",
       "      <td>19</td>\n",
       "      <td>20</td>\n",
       "      <td>21</td>\n",
       "      <td>22</td>\n",
       "      <td>23</td>\n",
       "    </tr>\n",
       "    <tr>\n",
       "      <th>4</th>\n",
       "      <td>24</td>\n",
       "      <td>25</td>\n",
       "      <td>26</td>\n",
       "      <td>27</td>\n",
       "      <td>28</td>\n",
       "      <td>29</td>\n",
       "    </tr>\n",
       "  </tbody>\n",
       "</table>\n",
       "</div>"
      ],
      "text/plain": [
       "   column_0  column_1  column_2  column_3  column_4  column_5\n",
       "0         0         1         2         3         4         5\n",
       "1         6         7         8         9        10        11\n",
       "2        12        13        14        15        16        17\n",
       "3        18        19        20        21        22        23\n",
       "4        24        25        26        27        28        29"
      ]
     },
     "execution_count": 233,
     "metadata": {},
     "output_type": "execute_result"
    }
   ],
   "source": [
    "df"
   ]
  },
  {
   "cell_type": "code",
   "execution_count": 234,
   "id": "520c3651",
   "metadata": {
    "ExecuteTime": {
     "end_time": "2023-01-27T00:49:29.905897Z",
     "start_time": "2023-01-27T00:49:29.904008Z"
    }
   },
   "outputs": [],
   "source": [
    "# your code"
   ]
  },
  {
   "cell_type": "markdown",
   "id": "0855ea57",
   "metadata": {},
   "source": [
    "**3. Get column name with the highest number of row-wise maximum’s in dataframe**"
   ]
  },
  {
   "cell_type": "code",
   "execution_count": 237,
   "id": "a6151e02",
   "metadata": {
    "ExecuteTime": {
     "end_time": "2023-01-27T00:49:54.560211Z",
     "start_time": "2023-01-27T00:49:54.558020Z"
    }
   },
   "outputs": [],
   "source": [
    "df = pd.DataFrame(np.random.randint(0, 100, 50).reshape(-1, 5), columns=map(lambda x: f'column_{x}', range(5)))"
   ]
  },
  {
   "cell_type": "code",
   "execution_count": 238,
   "id": "7eee2224",
   "metadata": {
    "ExecuteTime": {
     "end_time": "2023-01-27T00:49:55.069653Z",
     "start_time": "2023-01-27T00:49:55.065802Z"
    }
   },
   "outputs": [
    {
     "data": {
      "text/html": [
       "<div>\n",
       "<style scoped>\n",
       "    .dataframe tbody tr th:only-of-type {\n",
       "        vertical-align: middle;\n",
       "    }\n",
       "\n",
       "    .dataframe tbody tr th {\n",
       "        vertical-align: top;\n",
       "    }\n",
       "\n",
       "    .dataframe thead th {\n",
       "        text-align: right;\n",
       "    }\n",
       "</style>\n",
       "<table border=\"1\" class=\"dataframe\">\n",
       "  <thead>\n",
       "    <tr style=\"text-align: right;\">\n",
       "      <th></th>\n",
       "      <th>column_0</th>\n",
       "      <th>column_1</th>\n",
       "      <th>column_2</th>\n",
       "      <th>column_3</th>\n",
       "      <th>column_4</th>\n",
       "    </tr>\n",
       "  </thead>\n",
       "  <tbody>\n",
       "    <tr>\n",
       "      <th>0</th>\n",
       "      <td>10</td>\n",
       "      <td>80</td>\n",
       "      <td>16</td>\n",
       "      <td>7</td>\n",
       "      <td>78</td>\n",
       "    </tr>\n",
       "    <tr>\n",
       "      <th>1</th>\n",
       "      <td>27</td>\n",
       "      <td>91</td>\n",
       "      <td>48</td>\n",
       "      <td>27</td>\n",
       "      <td>4</td>\n",
       "    </tr>\n",
       "    <tr>\n",
       "      <th>2</th>\n",
       "      <td>85</td>\n",
       "      <td>94</td>\n",
       "      <td>14</td>\n",
       "      <td>94</td>\n",
       "      <td>6</td>\n",
       "    </tr>\n",
       "    <tr>\n",
       "      <th>3</th>\n",
       "      <td>49</td>\n",
       "      <td>11</td>\n",
       "      <td>32</td>\n",
       "      <td>11</td>\n",
       "      <td>73</td>\n",
       "    </tr>\n",
       "    <tr>\n",
       "      <th>4</th>\n",
       "      <td>28</td>\n",
       "      <td>92</td>\n",
       "      <td>64</td>\n",
       "      <td>11</td>\n",
       "      <td>16</td>\n",
       "    </tr>\n",
       "    <tr>\n",
       "      <th>5</th>\n",
       "      <td>48</td>\n",
       "      <td>20</td>\n",
       "      <td>56</td>\n",
       "      <td>89</td>\n",
       "      <td>45</td>\n",
       "    </tr>\n",
       "    <tr>\n",
       "      <th>6</th>\n",
       "      <td>70</td>\n",
       "      <td>99</td>\n",
       "      <td>5</td>\n",
       "      <td>42</td>\n",
       "      <td>33</td>\n",
       "    </tr>\n",
       "    <tr>\n",
       "      <th>7</th>\n",
       "      <td>60</td>\n",
       "      <td>53</td>\n",
       "      <td>97</td>\n",
       "      <td>70</td>\n",
       "      <td>71</td>\n",
       "    </tr>\n",
       "    <tr>\n",
       "      <th>8</th>\n",
       "      <td>48</td>\n",
       "      <td>99</td>\n",
       "      <td>54</td>\n",
       "      <td>30</td>\n",
       "      <td>30</td>\n",
       "    </tr>\n",
       "    <tr>\n",
       "      <th>9</th>\n",
       "      <td>74</td>\n",
       "      <td>44</td>\n",
       "      <td>65</td>\n",
       "      <td>27</td>\n",
       "      <td>86</td>\n",
       "    </tr>\n",
       "  </tbody>\n",
       "</table>\n",
       "</div>"
      ],
      "text/plain": [
       "   column_0  column_1  column_2  column_3  column_4\n",
       "0        10        80        16         7        78\n",
       "1        27        91        48        27         4\n",
       "2        85        94        14        94         6\n",
       "3        49        11        32        11        73\n",
       "4        28        92        64        11        16\n",
       "5        48        20        56        89        45\n",
       "6        70        99         5        42        33\n",
       "7        60        53        97        70        71\n",
       "8        48        99        54        30        30\n",
       "9        74        44        65        27        86"
      ]
     },
     "execution_count": 238,
     "metadata": {},
     "output_type": "execute_result"
    }
   ],
   "source": [
    "df"
   ]
  },
  {
   "cell_type": "code",
   "execution_count": 239,
   "id": "c0d6485b",
   "metadata": {
    "ExecuteTime": {
     "end_time": "2023-01-27T00:50:14.347880Z",
     "start_time": "2023-01-27T00:50:14.346134Z"
    }
   },
   "outputs": [],
   "source": [
    "# your code"
   ]
  },
  {
   "cell_type": "markdown",
   "id": "b4d8135a",
   "metadata": {},
   "source": [
    "**4. Find the positions of numbers that are multiples of N**"
   ]
  },
  {
   "cell_type": "code",
   "execution_count": 240,
   "id": "6e40c318",
   "metadata": {
    "ExecuteTime": {
     "end_time": "2023-01-27T00:51:29.510198Z",
     "start_time": "2023-01-27T00:51:29.508314Z"
    }
   },
   "outputs": [],
   "source": [
    "N = 5"
   ]
  },
  {
   "cell_type": "code",
   "execution_count": 290,
   "id": "0aa2574f",
   "metadata": {
    "ExecuteTime": {
     "end_time": "2023-01-27T01:06:39.004406Z",
     "start_time": "2023-01-27T01:06:39.000698Z"
    }
   },
   "outputs": [
    {
     "data": {
      "text/html": [
       "<div>\n",
       "<style scoped>\n",
       "    .dataframe tbody tr th:only-of-type {\n",
       "        vertical-align: middle;\n",
       "    }\n",
       "\n",
       "    .dataframe tbody tr th {\n",
       "        vertical-align: top;\n",
       "    }\n",
       "\n",
       "    .dataframe thead th {\n",
       "        text-align: right;\n",
       "    }\n",
       "</style>\n",
       "<table border=\"1\" class=\"dataframe\">\n",
       "  <thead>\n",
       "    <tr style=\"text-align: right;\">\n",
       "      <th></th>\n",
       "      <th>column_0</th>\n",
       "      <th>column_1</th>\n",
       "      <th>column_2</th>\n",
       "      <th>column_3</th>\n",
       "      <th>column_4</th>\n",
       "    </tr>\n",
       "  </thead>\n",
       "  <tbody>\n",
       "    <tr>\n",
       "      <th>0</th>\n",
       "      <td>10</td>\n",
       "      <td>80</td>\n",
       "      <td>16</td>\n",
       "      <td>7</td>\n",
       "      <td>78</td>\n",
       "    </tr>\n",
       "    <tr>\n",
       "      <th>1</th>\n",
       "      <td>27</td>\n",
       "      <td>91</td>\n",
       "      <td>48</td>\n",
       "      <td>27</td>\n",
       "      <td>4</td>\n",
       "    </tr>\n",
       "    <tr>\n",
       "      <th>2</th>\n",
       "      <td>85</td>\n",
       "      <td>94</td>\n",
       "      <td>14</td>\n",
       "      <td>94</td>\n",
       "      <td>6</td>\n",
       "    </tr>\n",
       "    <tr>\n",
       "      <th>3</th>\n",
       "      <td>49</td>\n",
       "      <td>11</td>\n",
       "      <td>32</td>\n",
       "      <td>11</td>\n",
       "      <td>73</td>\n",
       "    </tr>\n",
       "    <tr>\n",
       "      <th>4</th>\n",
       "      <td>28</td>\n",
       "      <td>92</td>\n",
       "      <td>64</td>\n",
       "      <td>11</td>\n",
       "      <td>16</td>\n",
       "    </tr>\n",
       "    <tr>\n",
       "      <th>5</th>\n",
       "      <td>48</td>\n",
       "      <td>20</td>\n",
       "      <td>56</td>\n",
       "      <td>89</td>\n",
       "      <td>45</td>\n",
       "    </tr>\n",
       "    <tr>\n",
       "      <th>6</th>\n",
       "      <td>70</td>\n",
       "      <td>99</td>\n",
       "      <td>5</td>\n",
       "      <td>42</td>\n",
       "      <td>33</td>\n",
       "    </tr>\n",
       "    <tr>\n",
       "      <th>7</th>\n",
       "      <td>60</td>\n",
       "      <td>53</td>\n",
       "      <td>97</td>\n",
       "      <td>70</td>\n",
       "      <td>71</td>\n",
       "    </tr>\n",
       "    <tr>\n",
       "      <th>8</th>\n",
       "      <td>48</td>\n",
       "      <td>99</td>\n",
       "      <td>54</td>\n",
       "      <td>30</td>\n",
       "      <td>30</td>\n",
       "    </tr>\n",
       "    <tr>\n",
       "      <th>9</th>\n",
       "      <td>74</td>\n",
       "      <td>44</td>\n",
       "      <td>65</td>\n",
       "      <td>27</td>\n",
       "      <td>86</td>\n",
       "    </tr>\n",
       "  </tbody>\n",
       "</table>\n",
       "</div>"
      ],
      "text/plain": [
       "   column_0  column_1  column_2  column_3  column_4\n",
       "0        10        80        16         7        78\n",
       "1        27        91        48        27         4\n",
       "2        85        94        14        94         6\n",
       "3        49        11        32        11        73\n",
       "4        28        92        64        11        16\n",
       "5        48        20        56        89        45\n",
       "6        70        99         5        42        33\n",
       "7        60        53        97        70        71\n",
       "8        48        99        54        30        30\n",
       "9        74        44        65        27        86"
      ]
     },
     "execution_count": 290,
     "metadata": {},
     "output_type": "execute_result"
    }
   ],
   "source": [
    "df"
   ]
  },
  {
   "cell_type": "markdown",
   "id": "f77af719",
   "metadata": {},
   "source": [
    "For each column Series separately "
   ]
  },
  {
   "cell_type": "code",
   "execution_count": 291,
   "id": "f7f83b97",
   "metadata": {
    "ExecuteTime": {
     "end_time": "2023-01-27T01:10:14.862435Z",
     "start_time": "2023-01-27T01:10:14.860580Z"
    }
   },
   "outputs": [],
   "source": [
    "# your code"
   ]
  },
  {
   "cell_type": "markdown",
   "id": "2335a507",
   "metadata": {},
   "source": [
    "```\n",
    "column_0: [0, 2, 6, 7]\n",
    "column_1: [0, 5]\n",
    "column_2: [6, 9]\n",
    "column_3: [7, 8]\n",
    "column_4: [5, 8]\n",
    "```"
   ]
  },
  {
   "cell_type": "markdown",
   "id": "59ecc82f",
   "metadata": {},
   "source": [
    "Now try to treat rows and columns as coordinates. Return list (or array) of pairs for such elements. (one-liner)"
   ]
  },
  {
   "cell_type": "code",
   "execution_count": 293,
   "id": "97fae2e9",
   "metadata": {
    "ExecuteTime": {
     "end_time": "2023-01-27T01:12:35.560639Z",
     "start_time": "2023-01-27T01:12:35.558839Z"
    }
   },
   "outputs": [],
   "source": [
    "# your code"
   ]
  },
  {
   "cell_type": "markdown",
   "id": "fef8957e",
   "metadata": {},
   "source": [
    "```[[0, 0],\n",
    " [0, 1],\n",
    " [2, 0],\n",
    " [5, 1],\n",
    " [5, 4],\n",
    " [6, 0],\n",
    " [6, 2],\n",
    " [7, 0],\n",
    " [7, 3],\n",
    " [8, 3],\n",
    " [8, 4],\n",
    " [9, 2]]\n",
    " ```"
   ]
  },
  {
   "cell_type": "markdown",
   "id": "1aff5416",
   "metadata": {},
   "source": [
    "**5. Compute the minimum-by-maximum for every row of dataframe**"
   ]
  },
  {
   "cell_type": "code",
   "execution_count": 302,
   "id": "7119c741",
   "metadata": {
    "ExecuteTime": {
     "end_time": "2023-01-27T01:15:04.691766Z",
     "start_time": "2023-01-27T01:15:04.689895Z"
    }
   },
   "outputs": [],
   "source": [
    "# your code"
   ]
  },
  {
   "cell_type": "markdown",
   "id": "36a3974a",
   "metadata": {},
   "source": [
    "**6. Normalize all columns of df by subtracting the column mean and divide by standard deviation.**"
   ]
  },
  {
   "cell_type": "code",
   "execution_count": 303,
   "id": "68fd7744",
   "metadata": {
    "ExecuteTime": {
     "end_time": "2023-01-27T01:18:48.293331Z",
     "start_time": "2023-01-27T01:18:48.291447Z"
    }
   },
   "outputs": [],
   "source": [
    "# your code"
   ]
  },
  {
   "cell_type": "markdown",
   "id": "60bca1c7",
   "metadata": {},
   "source": [
    "**7. Range all columns of df such that the minimum value in each column is 0 and max is 1**"
   ]
  },
  {
   "cell_type": "code",
   "execution_count": 304,
   "id": "5d0cd8cd",
   "metadata": {
    "ExecuteTime": {
     "end_time": "2023-01-27T01:18:52.328890Z",
     "start_time": "2023-01-27T01:18:52.327296Z"
    }
   },
   "outputs": [],
   "source": [
    "# your code"
   ]
  },
  {
   "cell_type": "markdown",
   "id": "276248c3",
   "metadata": {},
   "source": [
    "**8. Create a column that contains the second-largest value in each row?**"
   ]
  },
  {
   "cell_type": "code",
   "execution_count": 305,
   "id": "0b8b0c5c",
   "metadata": {
    "ExecuteTime": {
     "end_time": "2023-01-27T01:20:37.559323Z",
     "start_time": "2023-01-27T01:20:37.557733Z"
    }
   },
   "outputs": [],
   "source": [
    "# your code"
   ]
  },
  {
   "cell_type": "code",
   "execution_count": null,
   "id": "1ce44d88",
   "metadata": {},
   "outputs": [],
   "source": [
    "out = df.apply(lambda x: x.sort_values().unique()[-2], axis=1)"
   ]
  },
  {
   "cell_type": "markdown",
   "id": "542ab6c1",
   "metadata": {},
   "source": [
    "**9. Split a text column into two separate columns?**"
   ]
  },
  {
   "cell_type": "code",
   "execution_count": null,
   "id": "c817bf2f",
   "metadata": {
    "ExecuteTime": {
     "end_time": "2023-01-27T09:45:32.236447Z",
     "start_time": "2023-01-27T09:45:32.025976Z"
    }
   },
   "outputs": [],
   "source": [
    "df_text = pd.DataFrame(\n",
    "    {\n",
    "        'row':\n",
    "        [\n",
    "            'id\\t Name, Surname',\n",
    "            '2\\t Nadal, Raphael',\n",
    "            '5\\t Djokovic,  Novak',\n",
    "            '1\\t Federer, Roger'\n",
    "        ]\n",
    "    }\n",
    ")"
   ]
  },
  {
   "cell_type": "code",
   "execution_count": 3,
   "id": "9a2e2f1f",
   "metadata": {
    "ExecuteTime": {
     "end_time": "2023-01-27T09:46:23.308076Z",
     "start_time": "2023-01-27T09:46:23.306438Z"
    }
   },
   "outputs": [],
   "source": [
    "# your code"
   ]
  },
  {
   "cell_type": "code",
   "execution_count": 345,
   "id": "5df1f992",
   "metadata": {
    "ExecuteTime": {
     "end_time": "2023-01-27T01:38:17.303803Z",
     "start_time": "2023-01-27T01:38:17.300393Z"
    }
   },
   "outputs": [
    {
     "data": {
      "text/html": [
       "<div>\n",
       "<style scoped>\n",
       "    .dataframe tbody tr th:only-of-type {\n",
       "        vertical-align: middle;\n",
       "    }\n",
       "\n",
       "    .dataframe tbody tr th {\n",
       "        vertical-align: top;\n",
       "    }\n",
       "\n",
       "    .dataframe thead th {\n",
       "        text-align: right;\n",
       "    }\n",
       "</style>\n",
       "<table border=\"1\" class=\"dataframe\">\n",
       "  <thead>\n",
       "    <tr style=\"text-align: right;\">\n",
       "      <th></th>\n",
       "      <th>Name</th>\n",
       "      <th>Surname</th>\n",
       "    </tr>\n",
       "    <tr>\n",
       "      <th>id</th>\n",
       "      <th></th>\n",
       "      <th></th>\n",
       "    </tr>\n",
       "  </thead>\n",
       "  <tbody>\n",
       "    <tr>\n",
       "      <th>13</th>\n",
       "      <td>John</td>\n",
       "      <td>Doe</td>\n",
       "    </tr>\n",
       "    <tr>\n",
       "      <th>431</th>\n",
       "      <td>Иван</td>\n",
       "      <td>Иванов</td>\n",
       "    </tr>\n",
       "    <tr>\n",
       "      <th>42</th>\n",
       "      <td>Jane</td>\n",
       "      <td>Null</td>\n",
       "    </tr>\n",
       "  </tbody>\n",
       "</table>\n",
       "</div>"
      ],
      "text/plain": [
       "0     Name   Surname\n",
       "id                  \n",
       "13    John       Doe\n",
       "431   Иван    Иванов\n",
       "42    Jane      Null"
      ]
     },
     "execution_count": 345,
     "metadata": {},
     "output_type": "execute_result"
    }
   ],
   "source": [
    "splitted_df"
   ]
  },
  {
   "cell_type": "markdown",
   "id": "719b2aa2",
   "metadata": {},
   "source": [
    "---"
   ]
  }
 ],
 "metadata": {
  "kernelspec": {
   "display_name": "ml-env",
   "language": "python",
   "name": "ml-env"
  },
  "language_info": {
   "codemirror_mode": {
    "name": "ipython",
    "version": 3
   },
   "file_extension": ".py",
   "mimetype": "text/x-python",
   "name": "python",
   "nbconvert_exporter": "python",
   "pygments_lexer": "ipython3",
   "version": "3.8.13"
  },
  "toc": {
   "base_numbering": 1,
   "nav_menu": {},
   "number_sections": true,
   "sideBar": true,
   "skip_h1_title": false,
   "title_cell": "Table of Contents",
   "title_sidebar": "Contents",
   "toc_cell": false,
   "toc_position": {},
   "toc_section_display": true,
   "toc_window_display": false
  },
  "varInspector": {
   "cols": {
    "lenName": 16,
    "lenType": 16,
    "lenVar": 40
   },
   "kernels_config": {
    "python": {
     "delete_cmd_postfix": "",
     "delete_cmd_prefix": "del ",
     "library": "var_list.py",
     "varRefreshCmd": "print(var_dic_list())"
    },
    "r": {
     "delete_cmd_postfix": ") ",
     "delete_cmd_prefix": "rm(",
     "library": "var_list.r",
     "varRefreshCmd": "cat(var_dic_list()) "
    }
   },
   "types_to_exclude": [
    "module",
    "function",
    "builtin_function_or_method",
    "instance",
    "_Feature"
   ],
   "window_display": false
  }
 },
 "nbformat": 4,
 "nbformat_minor": 5
}
