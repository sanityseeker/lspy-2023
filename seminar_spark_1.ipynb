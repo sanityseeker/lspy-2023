{
 "cells": [
  {
   "cell_type": "code",
   "execution_count": 1,
   "id": "ccd8bdc1",
   "metadata": {
    "ExecuteTime": {
     "end_time": "2023-03-03T10:07:15.847140Z",
     "start_time": "2023-03-03T10:07:15.845455Z"
    }
   },
   "outputs": [],
   "source": [
    "# ! pip install pyspark"
   ]
  },
  {
   "cell_type": "code",
   "execution_count": 2,
   "id": "68e1bda8",
   "metadata": {
    "ExecuteTime": {
     "end_time": "2023-03-03T10:08:40.363033Z",
     "start_time": "2023-03-03T10:08:40.326622Z"
    }
   },
   "outputs": [],
   "source": [
    "import pyspark\n",
    "\n",
    "from pyspark.sql import SparkSession, Row, functions"
   ]
  },
  {
   "cell_type": "code",
   "execution_count": 3,
   "id": "9b8341a2",
   "metadata": {
    "ExecuteTime": {
     "end_time": "2023-03-03T10:08:54.040151Z",
     "start_time": "2023-03-03T10:08:52.205338Z"
    }
   },
   "outputs": [
    {
     "name": "stdout",
     "output_type": "stream",
     "text": [
      "23/03/03 14:08:53 WARN Utils: Your hostname, celeron resolves to a loopback address: 127.0.1.1; using 192.168.10.58 instead (on interface wlo1)\n",
      "23/03/03 14:08:53 WARN Utils: Set SPARK_LOCAL_IP if you need to bind to another address\n"
     ]
    },
    {
     "name": "stderr",
     "output_type": "stream",
     "text": [
      "Setting default log level to \"WARN\".\n",
      "To adjust logging level use sc.setLogLevel(newLevel). For SparkR, use setLogLevel(newLevel).\n"
     ]
    },
    {
     "name": "stdout",
     "output_type": "stream",
     "text": [
      "23/03/03 14:08:53 WARN NativeCodeLoader: Unable to load native-hadoop library for your platform... using builtin-java classes where applicable\n"
     ]
    }
   ],
   "source": [
    "sc = pyspark.SparkContext(appName='Union')"
   ]
  },
  {
   "cell_type": "code",
   "execution_count": 4,
   "id": "9f2efc7a",
   "metadata": {
    "ExecuteTime": {
     "end_time": "2023-03-03T10:09:04.498546Z",
     "start_time": "2023-03-03T10:09:04.492916Z"
    }
   },
   "outputs": [
    {
     "data": {
      "text/plain": [
       "['PACKAGE_EXTENSIONS',\n",
       " '__annotations__',\n",
       " '__class__',\n",
       " '__delattr__',\n",
       " '__dict__',\n",
       " '__dir__',\n",
       " '__doc__',\n",
       " '__enter__',\n",
       " '__eq__',\n",
       " '__exit__',\n",
       " '__format__',\n",
       " '__ge__',\n",
       " '__getattribute__',\n",
       " '__getnewargs__',\n",
       " '__gt__',\n",
       " '__hash__',\n",
       " '__init__',\n",
       " '__init_subclass__',\n",
       " '__le__',\n",
       " '__lt__',\n",
       " '__module__',\n",
       " '__ne__',\n",
       " '__new__',\n",
       " '__reduce__',\n",
       " '__reduce_ex__',\n",
       " '__repr__',\n",
       " '__setattr__',\n",
       " '__sizeof__',\n",
       " '__str__',\n",
       " '__subclasshook__',\n",
       " '__weakref__',\n",
       " '_accumulatorServer',\n",
       " '_active_spark_context',\n",
       " '_assert_on_driver',\n",
       " '_batchSize',\n",
       " '_callsite',\n",
       " '_checkpointFile',\n",
       " '_conf',\n",
       " '_dictToJavaMap',\n",
       " '_do_init',\n",
       " '_encryption_enabled',\n",
       " '_ensure_initialized',\n",
       " '_gateway',\n",
       " '_getJavaStorageLevel',\n",
       " '_initialize_context',\n",
       " '_javaAccumulator',\n",
       " '_jsc',\n",
       " '_jvm',\n",
       " '_lock',\n",
       " '_next_accum_id',\n",
       " '_pickled_broadcast_vars',\n",
       " '_python_includes',\n",
       " '_repr_html_',\n",
       " '_serialize_to_jvm',\n",
       " '_temp_dir',\n",
       " '_unbatched_serializer',\n",
       " 'accumulator',\n",
       " 'addArchive',\n",
       " 'addFile',\n",
       " 'addPyFile',\n",
       " 'appName',\n",
       " 'applicationId',\n",
       " 'binaryFiles',\n",
       " 'binaryRecords',\n",
       " 'broadcast',\n",
       " 'cancelAllJobs',\n",
       " 'cancelJobGroup',\n",
       " 'defaultMinPartitions',\n",
       " 'defaultParallelism',\n",
       " 'dump_profiles',\n",
       " 'emptyRDD',\n",
       " 'environment',\n",
       " 'getCheckpointDir',\n",
       " 'getConf',\n",
       " 'getLocalProperty',\n",
       " 'getOrCreate',\n",
       " 'hadoopFile',\n",
       " 'hadoopRDD',\n",
       " 'master',\n",
       " 'newAPIHadoopFile',\n",
       " 'newAPIHadoopRDD',\n",
       " 'parallelize',\n",
       " 'pickleFile',\n",
       " 'profiler_collector',\n",
       " 'pythonExec',\n",
       " 'pythonVer',\n",
       " 'range',\n",
       " 'resources',\n",
       " 'runJob',\n",
       " 'sequenceFile',\n",
       " 'serializer',\n",
       " 'setCheckpointDir',\n",
       " 'setJobDescription',\n",
       " 'setJobGroup',\n",
       " 'setLocalProperty',\n",
       " 'setLogLevel',\n",
       " 'setSystemProperty',\n",
       " 'show_profiles',\n",
       " 'sparkHome',\n",
       " 'sparkUser',\n",
       " 'startTime',\n",
       " 'statusTracker',\n",
       " 'stop',\n",
       " 'textFile',\n",
       " 'uiWebUrl',\n",
       " 'union',\n",
       " 'version',\n",
       " 'wholeTextFiles']"
      ]
     },
     "execution_count": 4,
     "metadata": {},
     "output_type": "execute_result"
    }
   ],
   "source": [
    "dir(sc)"
   ]
  },
  {
   "cell_type": "code",
   "execution_count": 5,
   "id": "9d527597",
   "metadata": {
    "ExecuteTime": {
     "end_time": "2023-03-03T10:09:30.658789Z",
     "start_time": "2023-03-03T10:09:30.605527Z"
    }
   },
   "outputs": [],
   "source": [
    "se = SparkSession(sc)"
   ]
  },
  {
   "cell_type": "markdown",
   "id": "e372bcd6",
   "metadata": {},
   "source": [
    "https://medium.com/analytics-vidhya/how-does-pyspark-work-step-by-step-with-pictures-c011402ccd57"
   ]
  },
  {
   "cell_type": "markdown",
   "id": "a3ffd888",
   "metadata": {},
   "source": [
    "# Read custom data"
   ]
  },
  {
   "cell_type": "code",
   "execution_count": 6,
   "id": "664df5cf",
   "metadata": {
    "ExecuteTime": {
     "end_time": "2023-03-03T10:09:48.747119Z",
     "start_time": "2023-03-03T10:09:47.604534Z"
    }
   },
   "outputs": [],
   "source": [
    "text = se.read.text(\"data/words.txt\")\n",
    "\n",
    "# rdd = sc.parallelize(text.collect())"
   ]
  },
  {
   "cell_type": "code",
   "execution_count": 7,
   "id": "b416e58e",
   "metadata": {
    "ExecuteTime": {
     "end_time": "2023-03-03T10:12:14.287594Z",
     "start_time": "2023-03-03T10:12:13.320937Z"
    }
   },
   "outputs": [
    {
     "data": {
      "text/plain": [
       "1"
      ]
     },
     "execution_count": 7,
     "metadata": {},
     "output_type": "execute_result"
    }
   ],
   "source": [
    "text.count() # return number of rows"
   ]
  },
  {
   "cell_type": "code",
   "execution_count": 9,
   "id": "3b7e369e",
   "metadata": {
    "ExecuteTime": {
     "end_time": "2023-03-03T10:13:13.125071Z",
     "start_time": "2023-03-03T10:13:13.123400Z"
    },
    "scrolled": false
   },
   "outputs": [],
   "source": [
    "text.take(1) # look at first n rows"
   ]
  },
  {
   "cell_type": "code",
   "execution_count": 10,
   "id": "76516afb",
   "metadata": {
    "ExecuteTime": {
     "end_time": "2023-03-03T10:13:24.017317Z",
     "start_time": "2023-03-03T10:13:23.773088Z"
    }
   },
   "outputs": [
    {
     "data": {
      "text/html": [
       "<div>\n",
       "<style scoped>\n",
       "    .dataframe tbody tr th:only-of-type {\n",
       "        vertical-align: middle;\n",
       "    }\n",
       "\n",
       "    .dataframe tbody tr th {\n",
       "        vertical-align: top;\n",
       "    }\n",
       "\n",
       "    .dataframe thead th {\n",
       "        text-align: right;\n",
       "    }\n",
       "</style>\n",
       "<table border=\"1\" class=\"dataframe\">\n",
       "  <thead>\n",
       "    <tr style=\"text-align: right;\">\n",
       "      <th></th>\n",
       "      <th>value</th>\n",
       "    </tr>\n",
       "  </thead>\n",
       "  <tbody>\n",
       "    <tr>\n",
       "      <th>0</th>\n",
       "      <td>peaceful,*,*,capitalistically, ,necessarianism...</td>\n",
       "    </tr>\n",
       "  </tbody>\n",
       "</table>\n",
       "</div>"
      ],
      "text/plain": [
       "                                               value\n",
       "0  peaceful,*,*,capitalistically, ,necessarianism..."
      ]
     },
     "execution_count": 10,
     "metadata": {},
     "output_type": "execute_result"
    }
   ],
   "source": [
    "text.toPandas() # convert to Pandas"
   ]
  },
  {
   "cell_type": "markdown",
   "id": "d436f684",
   "metadata": {},
   "source": [
    "**Let's found out the size of our text file**"
   ]
  },
  {
   "cell_type": "markdown",
   "id": "8bb3e4ee",
   "metadata": {},
   "source": [
    "Map applies a function to each element"
   ]
  },
  {
   "cell_type": "code",
   "execution_count": 11,
   "id": "8942ae85",
   "metadata": {
    "ExecuteTime": {
     "end_time": "2023-03-03T10:14:54.719121Z",
     "start_time": "2023-03-03T10:14:54.705306Z"
    }
   },
   "outputs": [],
   "source": [
    "text_len = text.rdd.map(lambda x: len(x.value))"
   ]
  },
  {
   "cell_type": "code",
   "execution_count": 12,
   "id": "c1af0d13",
   "metadata": {
    "ExecuteTime": {
     "end_time": "2023-03-03T10:15:04.498692Z",
     "start_time": "2023-03-03T10:15:04.158163Z"
    }
   },
   "outputs": [
    {
     "data": {
      "text/plain": [
       "[7667925]"
      ]
     },
     "execution_count": 12,
     "metadata": {},
     "output_type": "execute_result"
    }
   ],
   "source": [
    "text_len.collect()"
   ]
  },
  {
   "cell_type": "markdown",
   "id": "80ebc8ee",
   "metadata": {},
   "source": [
    "We need to split the file to rows to process its content"
   ]
  },
  {
   "cell_type": "markdown",
   "id": "fe3ec6d1",
   "metadata": {},
   "source": [
    "flatMap() combines mapping and flattening. It runs the map(), and then the flatten() method to generate the result. We create a single collection"
   ]
  },
  {
   "cell_type": "code",
   "execution_count": 18,
   "id": "e7219dba",
   "metadata": {
    "ExecuteTime": {
     "end_time": "2023-03-03T10:21:09.700127Z",
     "start_time": "2023-03-03T10:21:09.698423Z"
    }
   },
   "outputs": [],
   "source": [
    "# text.rdd.map(lambda x: x.value.split(',')).collect()"
   ]
  },
  {
   "cell_type": "code",
   "execution_count": 13,
   "id": "a5cab7c3",
   "metadata": {
    "ExecuteTime": {
     "end_time": "2023-03-03T10:18:02.374828Z",
     "start_time": "2023-03-03T10:18:02.372470Z"
    }
   },
   "outputs": [],
   "source": [
    "words = text.rdd.flatMap(lambda x: x.value.split(','))"
   ]
  },
  {
   "cell_type": "code",
   "execution_count": 14,
   "id": "b877e672",
   "metadata": {
    "ExecuteTime": {
     "end_time": "2023-03-03T10:18:03.788743Z",
     "start_time": "2023-03-03T10:18:03.542321Z"
    }
   },
   "outputs": [
    {
     "data": {
      "text/plain": [
       "['peaceful',\n",
       " '*',\n",
       " '*',\n",
       " 'capitalistically',\n",
       " ' ',\n",
       " 'necessarianism',\n",
       " 'turbinella',\n",
       " 'suingly',\n",
       " 'coexecutrix',\n",
       " 'nitroxyl',\n",
       " 'introversive',\n",
       " 'throttling',\n",
       " 'feathering',\n",
       " 'provisory',\n",
       " 'ileostomy',\n",
       " '*',\n",
       " 'orthometric',\n",
       " ' ',\n",
       " 'shechita',\n",
       " ' ',\n",
       " 'adorableness',\n",
       " 'gitana',\n",
       " ' ',\n",
       " 'suingly',\n",
       " '*',\n",
       " 'optometry',\n",
       " '*',\n",
       " 'icterine',\n",
       " 'obdurately',\n",
       " 'waterfronts',\n",
       " 'spiriting',\n",
       " 'kettledrums',\n",
       " 'fissiparous',\n",
       " 'terroriser',\n",
       " 'neutralizer',\n",
       " 'peaceful',\n",
       " 'knowable',\n",
       " 'investigable',\n",
       " 'spiriting',\n",
       " 'turbinella',\n",
       " 'semihardy',\n",
       " 'piggiest',\n",
       " 'neutralizer',\n",
       " 'feathering',\n",
       " 'piggiest',\n",
       " 'toastmistress',\n",
       " 'obligately',\n",
       " 'orthometric',\n",
       " 'collaborators',\n",
       " 'peace',\n",
       " ' ',\n",
       " 'piggiest',\n",
       " 'peaceful',\n",
       " 'kielbasas',\n",
       " 'kettledrums',\n",
       " 'orthometric',\n",
       " 'obdurately',\n",
       " 'obligately',\n",
       " ' ',\n",
       " 'kinetoplast',\n",
       " 'obligately',\n",
       " 'shechita',\n",
       " 'shechita',\n",
       " 'geophilidae',\n",
       " 'farrieries',\n",
       " '*',\n",
       " 'toastmistress',\n",
       " 'knowable',\n",
       " 'punchinello',\n",
       " 'ileostomy',\n",
       " 'turbinella',\n",
       " 'feathering',\n",
       " ' ',\n",
       " 'terroriser',\n",
       " ' ',\n",
       " 'toastmistress',\n",
       " 'neencephalon',\n",
       " 'completers',\n",
       " 'finitude',\n",
       " 'punchinello',\n",
       " 'feathering',\n",
       " 'nonresonant',\n",
       " 'peace',\n",
       " 'peace',\n",
       " ' ',\n",
       " 'orthometric',\n",
       " 'semihardy',\n",
       " 'adorableness',\n",
       " 'piggiest',\n",
       " 'wittier',\n",
       " 'ileostomy',\n",
       " 'knowable',\n",
       " 'tinamous',\n",
       " 'terroriser',\n",
       " 'piggiest',\n",
       " '\\t',\n",
       " 'throttling',\n",
       " 'obligately',\n",
       " 'ileostomy',\n",
       " 'ileostomy',\n",
       " 'terroriser',\n",
       " ' ',\n",
       " 'anthropographic',\n",
       " '*',\n",
       " ' ',\n",
       " 'kettledrums',\n",
       " 'toastmistress',\n",
       " ' ',\n",
       " 'obdurately',\n",
       " 'introversive',\n",
       " 'turbinella',\n",
       " 'peace',\n",
       " 'finitude',\n",
       " 'peace',\n",
       " ' ',\n",
       " 'farrieries',\n",
       " 'obligately',\n",
       " 'kielbasas',\n",
       " '\\t',\n",
       " 'suingly',\n",
       " 'neutralizer',\n",
       " 'orthometric',\n",
       " 'ostracize',\n",
       " 'terroriser',\n",
       " 'tinamous',\n",
       " ' ',\n",
       " 'gitana',\n",
       " 'knightliness',\n",
       " 'neutralizer',\n",
       " 'geophilidae',\n",
       " 'synonyme',\n",
       " 'peaceful',\n",
       " 'obligately',\n",
       " 'tinamous',\n",
       " ' ',\n",
       " '*',\n",
       " 'obdurately',\n",
       " 'provisory',\n",
       " 'suingly',\n",
       " 'neutralizer',\n",
       " 'optometry',\n",
       " 'filiated',\n",
       " 'capitalistically',\n",
       " 'synonyme',\n",
       " 'throttling',\n",
       " 'fissiparous',\n",
       " 'filiated',\n",
       " '*',\n",
       " 'provisory',\n",
       " 'collaborators',\n",
       " 'nitroxyl',\n",
       " ' ',\n",
       " 'neencephalon',\n",
       " 'adorableness',\n",
       " 'anthropographic',\n",
       " 'shechita',\n",
       " 'spiriting',\n",
       " 'gonadotrophic',\n",
       " 'peace',\n",
       " 'terroriser',\n",
       " 'toastmistress',\n",
       " ' ',\n",
       " ' ',\n",
       " '*',\n",
       " 'spiriting',\n",
       " 'tinamous',\n",
       " 'shechita',\n",
       " 'terroriser',\n",
       " '\\t',\n",
       " 'neutralizer',\n",
       " 'piggiest',\n",
       " ' ',\n",
       " 'feathering',\n",
       " 'farrieries',\n",
       " 'tinamous',\n",
       " ' ',\n",
       " ' ',\n",
       " 'geophilidae',\n",
       " 'peace',\n",
       " 'coexecutrix',\n",
       " 'terroriser',\n",
       " 'shechita',\n",
       " 'ileostomy',\n",
       " 'obdurately',\n",
       " 'obdurately',\n",
       " 'feathering',\n",
       " 'capitalistically',\n",
       " ' ',\n",
       " 'peace',\n",
       " 'anthropographic',\n",
       " ' ',\n",
       " 'investigable',\n",
       " 'fissiparous',\n",
       " '\\t',\n",
       " 'coexecutrix',\n",
       " 'gitana',\n",
       " 'obdurately',\n",
       " 'cocoanut',\n",
       " 'terroriser',\n",
       " 'kettledrums',\n",
       " 'punchinello',\n",
       " 'obdurately',\n",
       " 'punchinello',\n",
       " 'necessarianism',\n",
       " '\\t',\n",
       " '*',\n",
       " 'optometry',\n",
       " 'turbinella',\n",
       " 'feathering',\n",
       " 'turbinella',\n",
       " 'turbinella',\n",
       " 'spiriting',\n",
       " 'peace',\n",
       " 'synonyme',\n",
       " 'introversive',\n",
       " 'throttling',\n",
       " 'throttling',\n",
       " 'gonadotrophic',\n",
       " 'ostracize',\n",
       " 'gonadotrophic',\n",
       " 'semihardy',\n",
       " 'throttling',\n",
       " 'kinetoplast',\n",
       " '\\t',\n",
       " 'peace',\n",
       " 'terroriser',\n",
       " 'neencephalon',\n",
       " 'kinetoplast',\n",
       " 'investigable',\n",
       " 'nonresonant',\n",
       " 'piggiest',\n",
       " 'knowable',\n",
       " 'waterfronts',\n",
       " 'fissiparous',\n",
       " 'terroriser',\n",
       " 'completers',\n",
       " 'ostracize',\n",
       " 'peaceful',\n",
       " 'finitude',\n",
       " 'toastmistress',\n",
       " 'obligately',\n",
       " 'fissiparous',\n",
       " 'attractable',\n",
       " 'optometry',\n",
       " 'throttling',\n",
       " 'synonyme',\n",
       " 'finitude',\n",
       " 'provisory',\n",
       " 'cocoanut',\n",
       " 'turbinella',\n",
       " '*',\n",
       " 'gormandizers',\n",
       " ' ',\n",
       " 'provisory',\n",
       " '\\t',\n",
       " 'gitana',\n",
       " 'synonyme',\n",
       " ' ',\n",
       " 'farrieries',\n",
       " 'kinetoplast',\n",
       " 'kinetoplast',\n",
       " 'nitroxyl',\n",
       " ' ',\n",
       " ' ',\n",
       " 'geophilidae',\n",
       " 'synonyme',\n",
       " 'obligately',\n",
       " 'shechita',\n",
       " 'feathering',\n",
       " 'peace',\n",
       " 'finitude',\n",
       " 'gitana',\n",
       " '*',\n",
       " 'filiated',\n",
       " 'suingly',\n",
       " '*',\n",
       " 'piggiest',\n",
       " ' ',\n",
       " 'throttling',\n",
       " 'kinetoplast',\n",
       " 'idola',\n",
       " 'feathering',\n",
       " 'farrieries',\n",
       " 'farrieries',\n",
       " ' ',\n",
       " 'turbinella',\n",
       " 'turbinella',\n",
       " 'suingly',\n",
       " 'ostracize',\n",
       " 'orthometric',\n",
       " 'ostracize',\n",
       " 'shechita',\n",
       " 'nitroxyl',\n",
       " '*',\n",
       " 'knightliness',\n",
       " 'provisory',\n",
       " 'terroriser',\n",
       " 'obligately',\n",
       " 'obdurately',\n",
       " 'fissiparous',\n",
       " 'gitana',\n",
       " 'tinamous',\n",
       " '*',\n",
       " 'ileostomy',\n",
       " ' ',\n",
       " 'icterine',\n",
       " 'neencephalon',\n",
       " 'piggiest',\n",
       " 'tinamous',\n",
       " 'shechita',\n",
       " 'spiriting',\n",
       " 'shechita',\n",
       " 'filiated',\n",
       " 'punchinello',\n",
       " 'suingly',\n",
       " 'cocoanut',\n",
       " 'spiriting',\n",
       " 'ostracize',\n",
       " 'geophilidae',\n",
       " 'suingly',\n",
       " 'anthropographic',\n",
       " 'peace',\n",
       " 'icterine',\n",
       " 'obdurately',\n",
       " 'completers',\n",
       " 'gonadotrophic',\n",
       " ' ',\n",
       " 'icterine',\n",
       " 'semihardy',\n",
       " '*',\n",
       " 'capitalistically',\n",
       " 'throttling',\n",
       " 'provisory',\n",
       " 'tinamous',\n",
       " 'necessarianism',\n",
       " '\\t',\n",
       " 'obligately',\n",
       " 'tinamous',\n",
       " 'fissiparous',\n",
       " 'waterfronts',\n",
       " 'coexecutrix',\n",
       " 'adorableness',\n",
       " 'semihardy',\n",
       " 'terroriser',\n",
       " 'filiated',\n",
       " 'throttling',\n",
       " '*',\n",
       " 'neutralizer',\n",
       " 'workingwomen',\n",
       " 'piggiest',\n",
       " 'nitroxyl',\n",
       " 'farrieries',\n",
       " 'optometry',\n",
       " '*',\n",
       " 'spiriting',\n",
       " 'obligately',\n",
       " 'investigable',\n",
       " 'obligately',\n",
       " 'knightliness',\n",
       " ' ',\n",
       " '*',\n",
       " 'spiriting',\n",
       " 'knowable',\n",
       " 'geophilidae',\n",
       " 'obligately',\n",
       " 'obligately',\n",
       " 'investigable',\n",
       " 'fissiparous',\n",
       " '*',\n",
       " 'peace',\n",
       " 'toastmistress',\n",
       " 'tinamous',\n",
       " 'coexecutrix',\n",
       " 'filiated',\n",
       " 'workingwomen',\n",
       " '*',\n",
       " '*',\n",
       " 'waterfronts',\n",
       " 'kinetoplast',\n",
       " 'orthometric',\n",
       " 'obdurately',\n",
       " ' ',\n",
       " 'optometry',\n",
       " ' ',\n",
       " 'neencephalon',\n",
       " 'synonyme',\n",
       " 'gnarliest',\n",
       " 'optometry',\n",
       " 'toastmistress',\n",
       " 'idola',\n",
       " 'obligately',\n",
       " 'obligately',\n",
       " 'anthropographic',\n",
       " ' ',\n",
       " '*',\n",
       " 'knightliness',\n",
       " 'neencephalon',\n",
       " 'neutralizer',\n",
       " 'suingly',\n",
       " '\\t',\n",
       " 'ostracize',\n",
       " 'farrieries',\n",
       " '*',\n",
       " 'turbinella',\n",
       " 'neencephalon',\n",
       " 'filiated',\n",
       " 'optometry',\n",
       " ' ',\n",
       " 'kettledrums',\n",
       " 'peace',\n",
       " 'spiriting',\n",
       " 'tinamous',\n",
       " 'terroriser',\n",
       " 'suingly',\n",
       " 'completers',\n",
       " 'optometry',\n",
       " 'toastmistress',\n",
       " '*',\n",
       " 'optometry',\n",
       " 'optometry',\n",
       " 'kielbasas',\n",
       " '*',\n",
       " 'punchinello',\n",
       " 'synonyme',\n",
       " 'turbinella',\n",
       " 'throttling',\n",
       " 'optometry',\n",
       " 'semihardy',\n",
       " 'farrieries',\n",
       " 'fissiparous',\n",
       " ' ',\n",
       " 'turbinella',\n",
       " 'optometry',\n",
       " ' ',\n",
       " 'synonyme',\n",
       " ' ',\n",
       " 'tinamous',\n",
       " 'suingly',\n",
       " 'obligately',\n",
       " 'turbinella',\n",
       " 'orthometric',\n",
       " 'kettledrums',\n",
       " ' ',\n",
       " 'semihardy',\n",
       " '*',\n",
       " 'knowable',\n",
       " 'orthometric',\n",
       " 'investigable',\n",
       " 'throttling',\n",
       " 'collaborators',\n",
       " 'ostracize',\n",
       " 'terroriser',\n",
       " 'semihardy',\n",
       " '*',\n",
       " 'suingly',\n",
       " 'introversive',\n",
       " 'finitude',\n",
       " ' ',\n",
       " 'collaborators',\n",
       " 'semihardy',\n",
       " 'punchinello',\n",
       " 'finitude',\n",
       " 'terroriser',\n",
       " 'feathering',\n",
       " 'collaborators',\n",
       " 'completers',\n",
       " ' ',\n",
       " '*',\n",
       " 'fissiparous',\n",
       " 'finitude',\n",
       " 'kinetoplast',\n",
       " 'wranglership',\n",
       " ' ',\n",
       " 'nonresonant',\n",
       " 'ostracize',\n",
       " 'gonadotrophic',\n",
       " ' ',\n",
       " '*',\n",
       " 'fissiparous',\n",
       " 'obligately',\n",
       " 'obligately',\n",
       " '*',\n",
       " 'fissiparous',\n",
       " 'obdurately',\n",
       " 'peace',\n",
       " 'ileostomy',\n",
       " 'kinetoplast',\n",
       " 'kielbasas',\n",
       " 'filiated',\n",
       " '*',\n",
       " 'completers',\n",
       " 'throttling',\n",
       " 'introversive',\n",
       " 'necessarianism',\n",
       " 'completers',\n",
       " 'optometry',\n",
       " 'waterfronts',\n",
       " 'cocoanut',\n",
       " 'capitalistically',\n",
       " 'ostracize',\n",
       " 'peaceful',\n",
       " 'gonadotrophic',\n",
       " 'gitana',\n",
       " 'optometry',\n",
       " 'synonyme',\n",
       " 'gitana',\n",
       " 'completers',\n",
       " 'peaceful',\n",
       " ' ',\n",
       " 'knowable',\n",
       " 'filiated',\n",
       " 'optometry',\n",
       " 'acantholysis',\n",
       " 'introversive',\n",
       " 'toastmistress',\n",
       " 'optometry',\n",
       " 'completers',\n",
       " 'filiated',\n",
       " '*',\n",
       " 'provisory',\n",
       " 'peace',\n",
       " 'farrieries',\n",
       " 'orthometric',\n",
       " '\\t',\n",
       " '*',\n",
       " 'spiriting',\n",
       " ' ',\n",
       " 'shechita',\n",
       " 'suingly',\n",
       " 'feathering',\n",
       " 'provisory',\n",
       " 'provisory',\n",
       " '*',\n",
       " 'piggiest',\n",
       " 'provisory',\n",
       " 'provisory',\n",
       " 'shechita',\n",
       " 'provisory',\n",
       " 'turbinella',\n",
       " 'spiriting',\n",
       " 'feathering',\n",
       " 'coexecutrix',\n",
       " '*',\n",
       " 'toastmistress',\n",
       " 'spiriting',\n",
       " 'optometry',\n",
       " ' ',\n",
       " 'introversive',\n",
       " 'peaceful',\n",
       " 'shechita',\n",
       " 'ileostomy',\n",
       " 'piggiest',\n",
       " 'collaborators',\n",
       " ' ',\n",
       " 'semihardy',\n",
       " 'completers',\n",
       " 'toastmistress',\n",
       " 'admiration',\n",
       " 'semihardy',\n",
       " 'shechita',\n",
       " 'tinamous',\n",
       " 'semihardy',\n",
       " 'filiated',\n",
       " 'turbinella',\n",
       " 'turbinella',\n",
       " ' ',\n",
       " 'farrieries',\n",
       " 'peaceful',\n",
       " 'cocoanut',\n",
       " 'ostracize',\n",
       " 'fissiparous',\n",
       " 'provisory',\n",
       " 'terroriser',\n",
       " 'throttling',\n",
       " 'obligately',\n",
       " 'synonyme',\n",
       " 'terroriser',\n",
       " 'fissiparous',\n",
       " 'optometry',\n",
       " 'ostracize',\n",
       " 'coexecutrix',\n",
       " 'optometry',\n",
       " 'neencephalon',\n",
       " 'coexecutrix',\n",
       " 'peaceful',\n",
       " 'nitroxyl',\n",
       " 'idola',\n",
       " '\\t',\n",
       " 'turbinella',\n",
       " 'synonyme',\n",
       " 'throttling',\n",
       " ' ',\n",
       " 'cocoanut',\n",
       " 'admiration',\n",
       " 'synonyme',\n",
       " 'farrieries',\n",
       " 'provisory',\n",
       " 'throttling',\n",
       " 'toastmistress',\n",
       " 'spiriting',\n",
       " 'tinamous',\n",
       " 'spiriting',\n",
       " 'punchinello',\n",
       " 'shechita',\n",
       " 'knowable',\n",
       " 'capitalistically',\n",
       " 'fissiparous',\n",
       " 'semihardy',\n",
       " 'semihardy',\n",
       " 'synonyme',\n",
       " 'punchinello',\n",
       " 'investigable',\n",
       " 'piggiest',\n",
       " '*',\n",
       " 'anthropographic',\n",
       " '*',\n",
       " 'obligately',\n",
       " 'neencephalon',\n",
       " 'gnarliest',\n",
       " 'piggiest',\n",
       " 'provisory',\n",
       " 'obligately',\n",
       " 'synonyme',\n",
       " 'necessarianism',\n",
       " 'coexecutrix',\n",
       " 'obligately',\n",
       " 'waterfronts',\n",
       " 'peaceful',\n",
       " 'synonyme',\n",
       " 'neencephalon',\n",
       " 'spiriting',\n",
       " '*',\n",
       " '*',\n",
       " 'toastmistress',\n",
       " 'suingly',\n",
       " 'gitana',\n",
       " 'kielbasas',\n",
       " 'gnarliest',\n",
       " 'throttling',\n",
       " 'completers',\n",
       " 'terroriser',\n",
       " 'obligately',\n",
       " 'spiriting',\n",
       " '*',\n",
       " ' ',\n",
       " 'shechita',\n",
       " 'turbinella',\n",
       " 'suingly',\n",
       " 'suingly',\n",
       " '*',\n",
       " 'coexecutrix',\n",
       " 'throttling',\n",
       " 'kielbasas',\n",
       " ' ',\n",
       " 'icterine',\n",
       " ' ',\n",
       " 'capitalistically',\n",
       " 'waterfronts',\n",
       " 'feathering',\n",
       " 'obdurately',\n",
       " 'punchinello',\n",
       " 'punchinello',\n",
       " 'suingly',\n",
       " 'peaceful',\n",
       " ' ',\n",
       " 'ostracize',\n",
       " 'coexecutrix',\n",
       " 'punchinello',\n",
       " 'synonyme',\n",
       " 'gnarliest',\n",
       " ' ',\n",
       " ' ',\n",
       " 'terroriser',\n",
       " 'feathering',\n",
       " 'knightliness',\n",
       " 'shechita',\n",
       " 'kinetoplast',\n",
       " 'investigable',\n",
       " 'completers',\n",
       " 'peaceful',\n",
       " 'filiated',\n",
       " ' ',\n",
       " 'kettledrums',\n",
       " 'kettledrums',\n",
       " 'ostracize',\n",
       " 'icterine',\n",
       " 'optometry',\n",
       " 'suingly',\n",
       " 'semihardy',\n",
       " 'tinamous',\n",
       " 'spiriting',\n",
       " 'icterine',\n",
       " 'provisory',\n",
       " '*',\n",
       " '\\t',\n",
       " 'adorableness',\n",
       " 'farrieries',\n",
       " ' ',\n",
       " 'capitalistically',\n",
       " 'wranglership',\n",
       " 'semihardy',\n",
       " ' ',\n",
       " 'fissiparous',\n",
       " 'orthometric',\n",
       " '*',\n",
       " 'geophilidae',\n",
       " 'neutralizer',\n",
       " 'semihardy',\n",
       " 'semihardy',\n",
       " '*',\n",
       " 'throttling',\n",
       " '*',\n",
       " 'necessarianism',\n",
       " '\\t',\n",
       " 'coexecutrix',\n",
       " 'spiriting',\n",
       " 'punchinello',\n",
       " 'obligately',\n",
       " 'peaceful',\n",
       " 'punchinello',\n",
       " 'neencephalon',\n",
       " 'completers',\n",
       " 'gnarliest',\n",
       " 'fissiparous',\n",
       " 'knowable',\n",
       " 'turbinella',\n",
       " 'obdurately',\n",
       " '*',\n",
       " 'orthometric',\n",
       " 'throttling',\n",
       " 'anthropographic',\n",
       " 'finitude',\n",
       " 'peaceful',\n",
       " 'farrieries',\n",
       " 'peace',\n",
       " 'necessarianism',\n",
       " ' ',\n",
       " 'semihardy',\n",
       " 'semihardy',\n",
       " 'obdurately',\n",
       " 'semihardy',\n",
       " 'optometry',\n",
       " 'turbinella',\n",
       " 'completers',\n",
       " ' ',\n",
       " ' ',\n",
       " ' ',\n",
       " 'farrieries',\n",
       " 'toastmistress',\n",
       " 'kielbasas',\n",
       " 'orthometric',\n",
       " 'optometry',\n",
       " 'cocoanut',\n",
       " 'gormandizers',\n",
       " 'finitude',\n",
       " 'ostracize',\n",
       " 'optometry',\n",
       " ' ',\n",
       " 'obdurately',\n",
       " 'peaceful',\n",
       " 'obdurately',\n",
       " 'shechita',\n",
       " 'suingly',\n",
       " 'toastmistress',\n",
       " 'farrieries',\n",
       " ' ',\n",
       " 'shechita',\n",
       " 'capitalistically',\n",
       " 'tinamous',\n",
       " '\\t',\n",
       " 'peace',\n",
       " ' ',\n",
       " 'completers',\n",
       " 'filiated',\n",
       " 'idola',\n",
       " 'obligately',\n",
       " 'piggiest',\n",
       " 'shechita',\n",
       " 'feathering',\n",
       " 'completers',\n",
       " 'completers',\n",
       " ' ',\n",
       " 'kielbasas',\n",
       " 'gnarliest',\n",
       " 'cocoanut',\n",
       " 'piggiest',\n",
       " 'kielbasas',\n",
       " 'peaceful',\n",
       " 'suingly',\n",
       " 'shechita',\n",
       " 'workingwomen',\n",
       " 'coexecutrix',\n",
       " 'shechita',\n",
       " '*',\n",
       " 'kettledrums',\n",
       " 'kinetoplast',\n",
       " 'ileostomy',\n",
       " 'orthometric',\n",
       " 'provisory',\n",
       " 'ileostomy',\n",
       " 'punchinello',\n",
       " 'suingly',\n",
       " '*',\n",
       " '*',\n",
       " 'orthometric',\n",
       " 'cocoanut',\n",
       " ' ',\n",
       " 'collaborators',\n",
       " 'tinamous',\n",
       " 'piggiest',\n",
       " 'fissiparous',\n",
       " 'kettledrums',\n",
       " 'wranglership',\n",
       " 'peace',\n",
       " 'suingly',\n",
       " 'obligately',\n",
       " 'gitana',\n",
       " 'semihardy',\n",
       " 'provisory',\n",
       " 'acantholysis',\n",
       " 'peaceful',\n",
       " 'turbinella',\n",
       " 'terroriser',\n",
       " 'investigable',\n",
       " 'collaborators',\n",
       " 'peace',\n",
       " 'coexecutrix',\n",
       " 'peace',\n",
       " ' ',\n",
       " ' ',\n",
       " 'suingly',\n",
       " 'toastmistress',\n",
       " 'toastmistress',\n",
       " 'punchinello',\n",
       " 'neencephalon',\n",
       " 'workingwomen',\n",
       " 'knightliness',\n",
       " 'throttling',\n",
       " 'idola',\n",
       " 'gnarliest',\n",
       " 'fissiparous',\n",
       " 'piggiest',\n",
       " 'farrieries',\n",
       " '\\t',\n",
       " 'workingwomen',\n",
       " 'terroriser',\n",
       " 'throttling',\n",
       " 'tinamous',\n",
       " '\\t',\n",
       " 'kettledrums',\n",
       " 'orthometric',\n",
       " 'semihardy',\n",
       " 'piggiest',\n",
       " 'gonadotrophic',\n",
       " 'shechita',\n",
       " 'tinamous',\n",
       " '\\t',\n",
       " 'filiated',\n",
       " 'gonadotrophic',\n",
       " '*',\n",
       " 'ostracize',\n",
       " 'ostracize',\n",
       " 'filiated',\n",
       " ' ',\n",
       " ' ',\n",
       " 'filiated',\n",
       " 'terroriser',\n",
       " 'orthometric',\n",
       " 'feathering',\n",
       " 'suingly',\n",
       " 'icterine',\n",
       " 'provisory',\n",
       " 'finitude',\n",
       " 'gnarliest',\n",
       " 'gonadotrophic',\n",
       " 'shechita',\n",
       " 'provisory',\n",
       " 'peaceful',\n",
       " 'farrieries',\n",
       " 'kinetoplast',\n",
       " 'wittier',\n",
       " 'gonadotrophic',\n",
       " ' ',\n",
       " 'semihardy',\n",
       " 'terroriser',\n",
       " ' ',\n",
       " 'turbinella',\n",
       " 'obdurately',\n",
       " 'icterine',\n",
       " 'orthometric',\n",
       " 'filiated',\n",
       " 'kettledrums',\n",
       " 'collaborators',\n",
       " 'collaborators',\n",
       " 'finitude',\n",
       " 'investigable',\n",
       " '*',\n",
       " 'shechita',\n",
       " 'wanderer',\n",
       " 'terroriser',\n",
       " 'obdurately',\n",
       " ' ',\n",
       " 'obligately',\n",
       " 'toastmistress',\n",
       " ' ',\n",
       " 'obdurately',\n",
       " 'obligately',\n",
       " 'ileostomy',\n",
       " 'finitude',\n",
       " 'icterine',\n",
       " ' ',\n",
       " 'kielbasas',\n",
       " '*',\n",
       " 'throttling',\n",
       " 'knowable',\n",
       " 'introversive',\n",
       " '*',\n",
       " 'obligately',\n",
       " 'spiriting',\n",
       " '*',\n",
       " 'orthometric',\n",
       " '*',\n",
       " 'cocoanut',\n",
       " 'completers',\n",
       " ' ',\n",
       " 'attractable',\n",
       " 'punchinello',\n",
       " 'farrieries',\n",
       " 'fissiparous',\n",
       " ' ',\n",
       " 'suingly',\n",
       " 'filiated',\n",
       " 'completers',\n",
       " 'peaceful',\n",
       " 'filiated',\n",
       " ' ',\n",
       " 'toastmistress',\n",
       " 'obligately',\n",
       " '*',\n",
       " 'kinetoplast',\n",
       " 'toastmistress',\n",
       " 'suingly',\n",
       " ' ',\n",
       " 'nitroxyl',\n",
       " 'orthometric',\n",
       " 'ileostomy',\n",
       " 'necessarianism',\n",
       " 'neencephalon',\n",
       " ' ',\n",
       " 'necessarianism',\n",
       " 'punchinello',\n",
       " 'icterine',\n",
       " 'coexecutrix',\n",
       " 'turbinella',\n",
       " ' ',\n",
       " 'capitalistically',\n",
       " 'coexecutrix',\n",
       " 'feathering',\n",
       " 'feathering',\n",
       " 'gnarliest',\n",
       " 'rinderpest',\n",
       " 'nitroxyl',\n",
       " 'peaceful',\n",
       " 'finitude',\n",
       " 'tinamous',\n",
       " 'ostracize',\n",
       " 'fissiparous',\n",
       " 'necessarianism',\n",
       " 'feathering',\n",
       " 'icterine',\n",
       " 'necessarianism',\n",
       " ' ',\n",
       " 'semihardy',\n",
       " 'ileostomy',\n",
       " '*',\n",
       " 'terroriser',\n",
       " 'punchinello',\n",
       " 'provisory',\n",
       " 'icterine',\n",
       " 'synonyme',\n",
       " '\\t',\n",
       " '*',\n",
       " 'nonresonant',\n",
       " 'toastmistress',\n",
       " 'optometry',\n",
       " 'peaceful',\n",
       " 'investigable',\n",
       " 'synonyme',\n",
       " 'suingly',\n",
       " 'farrieries',\n",
       " 'gormandizers',\n",
       " 'obdurately',\n",
       " 'collaborators',\n",
       " 'fissiparous',\n",
       " 'peaceful',\n",
       " '*',\n",
       " 'tinamous',\n",
       " ' ',\n",
       " '*',\n",
       " 'terroriser',\n",
       " ...]"
      ]
     },
     "execution_count": 14,
     "metadata": {},
     "output_type": "execute_result"
    }
   ],
   "source": [
    "words.collect()"
   ]
  },
  {
   "cell_type": "markdown",
   "id": "49eaa333",
   "metadata": {},
   "source": [
    "# Operations"
   ]
  },
  {
   "cell_type": "markdown",
   "id": "42a8834d",
   "metadata": {},
   "source": [
    "## Count unique words"
   ]
  },
  {
   "cell_type": "code",
   "execution_count": 19,
   "id": "23412db2",
   "metadata": {
    "ExecuteTime": {
     "end_time": "2023-03-03T10:23:36.032004Z",
     "start_time": "2023-03-03T10:23:36.030083Z"
    }
   },
   "outputs": [],
   "source": [
    "from operator import add, itemgetter\n",
    "\n",
    "\n",
    "unique_words_cnt = words.map(lambda word: (word, 1))"
   ]
  },
  {
   "cell_type": "code",
   "execution_count": 23,
   "id": "27bbce0a",
   "metadata": {
    "ExecuteTime": {
     "end_time": "2023-03-03T10:25:36.450748Z",
     "start_time": "2023-03-03T10:25:35.839159Z"
    }
   },
   "outputs": [
    {
     "data": {
      "text/plain": [
       "[('!', 1),\n",
       " ('rinderpest', 1191),\n",
       " ('reconnect', 1239),\n",
       " ('rhinencephala', 1258),\n",
       " ('rabiator', 1267),\n",
       " ('reactionaries', 1295),\n",
       " ('adorableness', 2438),\n",
       " ('admiration', 2498),\n",
       " ('anthropographic', 2513),\n",
       " ('attractable', 2525),\n",
       " ('acantholysis', 2526),\n",
       " ('wittier', 3700),\n",
       " ('waterfronts', 3738),\n",
       " ('wranglership', 3751),\n",
       " ('wanderer', 3765),\n",
       " ('workingwomen', 3796),\n",
       " ('gormandizers', 6204),\n",
       " ('gonadotrophic', 6226),\n",
       " ('geophilidae', 6251),\n",
       " ('gnarliest', 6257),\n",
       " ('gitana', 6312),\n",
       " ('nitroxyl', 7383),\n",
       " ('nonresonant', 7405),\n",
       " ('neutralizer', 7540),\n",
       " ('necessarianism', 7584),\n",
       " ('neencephalon', 7588),\n",
       " ('icterine', 8669),\n",
       " ('idola', 8715),\n",
       " ('introversive', 8763),\n",
       " ('ileostomy', 8773),\n",
       " ('investigable', 8830),\n",
       " ('knowable', 9919),\n",
       " ('knightliness', 9979),\n",
       " ('kielbasas', 10017),\n",
       " ('kinetoplast', 10030),\n",
       " ('kettledrums', 10055),\n",
       " ('completers', 11152),\n",
       " ('cocoanut', 11188),\n",
       " ('coexecutrix', 11286),\n",
       " ('capitalistically', 11292),\n",
       " ('collaborators', 11332),\n",
       " ('farrieries', 13651),\n",
       " ('finitude', 13699),\n",
       " ('fissiparous', 13744),\n",
       " ('feathering', 13745),\n",
       " ('filiated', 13911),\n",
       " ('piggiest', 15983),\n",
       " ('peace', 16209),\n",
       " ('punchinello', 16314),\n",
       " ('provisory', 16365),\n",
       " ('peaceful', 16379),\n",
       " ('optometry', 17411),\n",
       " ('orthometric', 17426),\n",
       " ('ostracize', 17516),\n",
       " ('obligately', 17549),\n",
       " ('obdurately', 17598),\n",
       " ('terroriser', 18525),\n",
       " ('toastmistress', 18708),\n",
       " ('turbinella', 18812),\n",
       " ('throttling', 18821),\n",
       " ('tinamous', 18884),\n",
       " ('semihardy', 19937),\n",
       " ('spiriting', 19952),\n",
       " ('suingly', 19999),\n",
       " ('synonyme', 20054),\n",
       " ('shechita', 20058),\n",
       " ('\\t', 25000),\n",
       " ('*', 62500),\n",
       " (' ', 75000)]"
      ]
     },
     "execution_count": 23,
     "metadata": {},
     "output_type": "execute_result"
    }
   ],
   "source": [
    "unique_words_cnt.reduceByKey(add).sortBy(itemgetter(1)).collect()"
   ]
  },
  {
   "cell_type": "markdown",
   "id": "fc0f4780",
   "metadata": {},
   "source": [
    "rewrite"
   ]
  },
  {
   "cell_type": "code",
   "execution_count": 24,
   "id": "dd207d92",
   "metadata": {
    "ExecuteTime": {
     "end_time": "2023-03-03T10:26:50.294066Z",
     "start_time": "2023-03-03T10:26:50.285749Z"
    }
   },
   "outputs": [],
   "source": [
    "unique_wc = (\n",
    "    text.rdd\n",
    "    .flatMap(lambda x: x.value.split(','))\n",
    "    .map(lambda word: (word, 1))\n",
    "    .reduceByKey(add)\n",
    ")"
   ]
  },
  {
   "cell_type": "code",
   "execution_count": 26,
   "id": "d7103b29",
   "metadata": {
    "ExecuteTime": {
     "end_time": "2023-03-03T10:27:14.254142Z",
     "start_time": "2023-03-03T10:27:13.837380Z"
    }
   },
   "outputs": [
    {
     "data": {
      "text/plain": [
       "[('*', 62500),\n",
       " ('turbinella', 18812),\n",
       " ('coexecutrix', 11286),\n",
       " ('introversive', 8763),\n",
       " ('throttling', 18821),\n",
       " ('feathering', 13745),\n",
       " ('orthometric', 17426),\n",
       " ('gitana', 6312),\n",
       " ('optometry', 17411),\n",
       " ('icterine', 8669),\n",
       " ('obdurately', 17598),\n",
       " ('waterfronts', 3738),\n",
       " ('kettledrums', 10055),\n",
       " ('fissiparous', 13744),\n",
       " ('neutralizer', 7540),\n",
       " ('knowable', 9919),\n",
       " ('investigable', 8830),\n",
       " ('semihardy', 19937),\n",
       " ('piggiest', 15983),\n",
       " ('toastmistress', 18708),\n",
       " ('peace', 16209),\n",
       " ('geophilidae', 6251),\n",
       " ('farrieries', 13651),\n",
       " ('finitude', 13699),\n",
       " ('wittier', 3700),\n",
       " ('\\t', 25000),\n",
       " ('anthropographic', 2513),\n",
       " ('synonyme', 20054),\n",
       " ('attractable', 2525),\n",
       " ('idola', 8715),\n",
       " ('admiration', 2498),\n",
       " ('rhinencephala', 1258),\n",
       " ('reconnect', 1239),\n",
       " ('reactionaries', 1295),\n",
       " ('!', 1),\n",
       " ('peaceful', 16379),\n",
       " ('capitalistically', 11292),\n",
       " (' ', 75000),\n",
       " ('necessarianism', 7584),\n",
       " ('suingly', 19999),\n",
       " ('nitroxyl', 7383),\n",
       " ('provisory', 16365),\n",
       " ('ileostomy', 8773),\n",
       " ('shechita', 20058),\n",
       " ('adorableness', 2438),\n",
       " ('spiriting', 19952),\n",
       " ('terroriser', 18525),\n",
       " ('obligately', 17549),\n",
       " ('collaborators', 11332),\n",
       " ('kielbasas', 10017),\n",
       " ('kinetoplast', 10030),\n",
       " ('punchinello', 16314),\n",
       " ('neencephalon', 7588),\n",
       " ('completers', 11152),\n",
       " ('nonresonant', 7405),\n",
       " ('tinamous', 18884),\n",
       " ('ostracize', 17516),\n",
       " ('knightliness', 9979),\n",
       " ('filiated', 13911),\n",
       " ('gonadotrophic', 6226),\n",
       " ('cocoanut', 11188),\n",
       " ('gormandizers', 6204),\n",
       " ('workingwomen', 3796),\n",
       " ('gnarliest', 6257),\n",
       " ('wranglership', 3751),\n",
       " ('acantholysis', 2526),\n",
       " ('wanderer', 3765),\n",
       " ('rinderpest', 1191),\n",
       " ('rabiator', 1267)]"
      ]
     },
     "execution_count": 26,
     "metadata": {},
     "output_type": "execute_result"
    }
   ],
   "source": [
    "unique_wc.collect()"
   ]
  },
  {
   "cell_type": "markdown",
   "id": "054e5179",
   "metadata": {},
   "source": [
    "You can watch the plan of calculations"
   ]
  },
  {
   "cell_type": "code",
   "execution_count": 27,
   "id": "7c0c0b97",
   "metadata": {
    "ExecuteTime": {
     "end_time": "2023-03-03T10:27:39.749529Z",
     "start_time": "2023-03-03T10:27:39.744859Z"
    }
   },
   "outputs": [
    {
     "name": "stdout",
     "output_type": "stream",
     "text": [
      "(2) PythonRDD[54] at RDD at PythonRDD.scala:53 []\n",
      " |  MapPartitionsRDD[53] at mapPartitions at PythonRDD.scala:145 []\n",
      " |  ShuffledRDD[52] at partitionBy at NativeMethodAccessorImpl.java:0 []\n",
      " +-(2) PairwiseRDD[51] at reduceByKey at /tmp/ipykernel_8913/870653427.py:2 []\n",
      "    |  PythonRDD[50] at reduceByKey at /tmp/ipykernel_8913/870653427.py:2 []\n",
      "    |  MapPartitionsRDD[16] at javaToPython at NativeMethodAccessorImpl.java:0 []\n",
      "    |  MapPartitionsRDD[15] at javaToPython at NativeMethodAccessorImpl.java:0 []\n",
      "    |  SQLExecutionRDD[14] at javaToPython at NativeMethodAccessorImpl.java:0 []\n",
      "    |  MapPartitionsRDD[13] at javaToPython at NativeMethodAccessorImpl.java:0 []\n",
      "    |  FileScanRDD[10] at toPandas at /tmp/ipykernel_8913/1428240239.py:1 []\n"
     ]
    }
   ],
   "source": [
    "print(unique_wc.toDebugString().decode('utf-8'))"
   ]
  },
  {
   "cell_type": "markdown",
   "id": "3ee9ed82",
   "metadata": {},
   "source": [
    "## Count unique char bi-grams"
   ]
  },
  {
   "cell_type": "code",
   "execution_count": 28,
   "id": "a88818cf",
   "metadata": {
    "ExecuteTime": {
     "end_time": "2023-03-03T10:30:57.176468Z",
     "start_time": "2023-03-03T10:30:57.174424Z"
    }
   },
   "outputs": [],
   "source": [
    "letters = 'abcdegf'"
   ]
  },
  {
   "cell_type": "code",
   "execution_count": 30,
   "id": "c2618f98",
   "metadata": {
    "ExecuteTime": {
     "end_time": "2023-03-03T10:35:40.418338Z",
     "start_time": "2023-03-03T10:35:40.415583Z"
    }
   },
   "outputs": [
    {
     "data": {
      "text/plain": [
       "['ab', 'bc', 'cd', 'de', 'eg', 'gf']"
      ]
     },
     "execution_count": 30,
     "metadata": {},
     "output_type": "execute_result"
    }
   ],
   "source": [
    "[letters[i:i+2] for i in range(len(letters) - len(letters) % 2)]"
   ]
  },
  {
   "cell_type": "code",
   "execution_count": 31,
   "id": "95438969",
   "metadata": {
    "ExecuteTime": {
     "end_time": "2023-03-03T10:36:51.388616Z",
     "start_time": "2023-03-03T10:36:51.380468Z"
    }
   },
   "outputs": [],
   "source": [
    "bigrams = words.flatMap(lambda letters: [letters[i:i+2] for i in range(len(letters) - len(letters) % 2)]).map(lambda bigramm: (bigramm, 1)).reduceByKey(add)"
   ]
  },
  {
   "cell_type": "code",
   "execution_count": 33,
   "id": "1f18cf48",
   "metadata": {
    "ExecuteTime": {
     "end_time": "2023-03-03T10:37:31.268166Z",
     "start_time": "2023-03-03T10:37:31.009840Z"
    }
   },
   "outputs": [
    {
     "data": {
      "text/plain": [
       "[('rp', 1191),\n",
       " ('nn', 1239),\n",
       " ('rh', 1258),\n",
       " ('dm', 2498),\n",
       " ('gr', 2513),\n",
       " ('po', 2513),\n",
       " ('og', 2513),\n",
       " ('ys', 2526),\n",
       " ('wi', 3700),\n",
       " ('fr', 3738),\n",
       " ('rf', 3738),\n",
       " ('ts', 3738),\n",
       " ('p', 3751),\n",
       " ('wr', 3751),\n",
       " ('io', 3793),\n",
       " ('rk', 3796),\n",
       " ('gw', 3796),\n",
       " ('rm', 6204),\n",
       " ('ma', 6204),\n",
       " ('di', 6204),\n",
       " ('da', 6251),\n",
       " ('ge', 6251),\n",
       " ('ae', 6251),\n",
       " ('gn', 6257),\n",
       " ('rl', 6257),\n",
       " ('ox', 7383),\n",
       " ('xy', 7383),\n",
       " ('yl', 7383),\n",
       " ('nr', 7405),\n",
       " ('eu', 7540),\n",
       " ('sm', 7584),\n",
       " ('m', 7584),\n",
       " ('ee', 7588),\n",
       " ('wo', 7592),\n",
       " ('iv', 8763),\n",
       " ('my', 8773),\n",
       " ('nv', 8830),\n",
       " ('ep', 8846),\n",
       " ('ow', 9919),\n",
       " ('gh', 9979),\n",
       " ('ht', 9979),\n",
       " ('lb', 10017),\n",
       " ('ba', 10017),\n",
       " ('um', 10055),\n",
       " ('ke', 10055),\n",
       " ('dr', 10055),\n",
       " ('ru', 10055),\n",
       " ('ms', 10055),\n",
       " ('mp', 11152),\n",
       " ('nd', 11160),\n",
       " ('ad', 11162),\n",
       " ('oc', 11188),\n",
       " ('nu', 11188),\n",
       " ('oe', 11286),\n",
       " ('ex', 11286),\n",
       " ('cu', 11286),\n",
       " ('xe', 11286),\n",
       " ('ix', 11286),\n",
       " ('bo', 11332),\n",
       " ('go', 12430),\n",
       " ('fa', 13651),\n",
       " ('ud', 13699),\n",
       " ('ct', 13728),\n",
       " ('pa', 13744),\n",
       " ('fe', 13745),\n",
       " ('ap', 13805),\n",
       " ('n', 13882),\n",
       " ('d', 13911),\n",
       " ('id', 14966),\n",
       " ('eo', 15024),\n",
       " ('en', 15080),\n",
       " ('gg', 15983),\n",
       " ('pu', 16314),\n",
       " ('un', 16314),\n",
       " ('pr', 16365),\n",
       " ('vi', 16365),\n",
       " ('ef', 16379),\n",
       " ('fu', 16379),\n",
       " ('ul', 16379),\n",
       " ('do', 17379),\n",
       " ('pt', 17411),\n",
       " ('wa', 17422),\n",
       " ('rt', 17426),\n",
       " ('ip', 17495),\n",
       " ('ci', 17516),\n",
       " ('du', 17598),\n",
       " ('bd', 17598),\n",
       " ('sa', 17601),\n",
       " ('de', 18655),\n",
       " ('tm', 18708),\n",
       " ('rb', 18812),\n",
       " ('am', 18884),\n",
       " ('mo', 18884),\n",
       " ('kn', 19898),\n",
       " ('em', 19937),\n",
       " ('ih', 19937),\n",
       " ('rd', 19937),\n",
       " ('dy', 19937),\n",
       " ('ho', 19952),\n",
       " ('sp', 19952),\n",
       " ('su', 19999),\n",
       " ('ui', 19999),\n",
       " ('ny', 20054),\n",
       " ('sy', 20054),\n",
       " ('yn', 20054),\n",
       " ('ym', 20054),\n",
       " ('bi', 20079),\n",
       " ('pl', 21182),\n",
       " ('hr', 21334),\n",
       " ('gi', 22295),\n",
       " ('ir', 22450),\n",
       " ('ol', 22573),\n",
       " ('ia', 22762),\n",
       " ('r', 23557),\n",
       " ('gl', 23750),\n",
       " ('l', 23762),\n",
       " ('so', 23770),\n",
       " ('sh', 23809),\n",
       " ('ph', 23836),\n",
       " ('ki', 23843),\n",
       " ('lo', 23902),\n",
       " ('ed', 23966),\n",
       " ('nt', 24945),\n",
       " ('si', 25033),\n",
       " ('ot', 25047),\n",
       " ('ca', 25110),\n",
       " ('ov', 25128),\n",
       " ('nc', 25160),\n",
       " ('os', 26289),\n",
       " ('ve', 26356),\n",
       " ('ga', 26379),\n",
       " ('t', 28362),\n",
       " ('ha', 28783),\n",
       " ('il', 28935),\n",
       " ('oa', 29896),\n",
       " ('ut', 30014),\n",
       " ('ze', 31260),\n",
       " ('iz', 31260),\n",
       " ('rr', 32176),\n",
       " ('re', 32412),\n",
       " ('tu', 32511),\n",
       " ('g', 32566),\n",
       " ('ou', 32628),\n",
       " ('us', 32628),\n",
       " ('ry', 33776),\n",
       " ('pe', 33779),\n",
       " ('he', 33803),\n",
       " ('tt', 35101),\n",
       " ('ob', 35147),\n",
       " ('ab', 36311),\n",
       " ('ch', 36372),\n",
       " ('ur', 36410),\n",
       " ('no', 37378),\n",
       " ('se', 38462),\n",
       " ('ni', 38645),\n",
       " ('tl', 38855),\n",
       " ('al', 38970),\n",
       " ('ta', 40187),\n",
       " ('mi', 41143),\n",
       " ('rs', 41202),\n",
       " ('bl', 41261),\n",
       " ('fi', 41354),\n",
       " ('ec', 41406),\n",
       " ('op', 42431),\n",
       " ('a', 45182),\n",
       " ('ic', 46126),\n",
       " ('na', 46379),\n",
       " ('y', 46439),\n",
       " ('pi', 47227),\n",
       " ('ea', 47628),\n",
       " ('as', 48772),\n",
       " ('ce', 49018),\n",
       " ('la', 50147),\n",
       " ('an', 51248),\n",
       " ('ig', 52341),\n",
       " ('ss', 52453),\n",
       " ('th', 55031),\n",
       " ('hi', 56371),\n",
       " ('ac', 56450),\n",
       " ('co', 57385),\n",
       " ('le', 57443),\n",
       " ('on', 57448),\n",
       " ('ll', 57750),\n",
       " ('om', 58558),\n",
       " ('me', 58687),\n",
       " ('ar', 62468),\n",
       " ('ie', 64554),\n",
       " ('s', 64834),\n",
       " ('et', 66074),\n",
       " ('ti', 66451),\n",
       " ('to', 67521),\n",
       " ('ly', 68964),\n",
       " ('ra', 68978),\n",
       " ('e', 69934),\n",
       " ('ng', 80064),\n",
       " ('el', 80290),\n",
       " ('it', 82396),\n",
       " ('at', 84163),\n",
       " ('or', 88685),\n",
       " ('is', 88744),\n",
       " ('te', 91142),\n",
       " ('ne', 91451),\n",
       " ('li', 91600),\n",
       " ('es', 93321),\n",
       " ('ro', 96078),\n",
       " ('tr', 114784),\n",
       " ('st', 117288),\n",
       " ('er', 126684),\n",
       " ('ri', 126975),\n",
       " ('in', 192742)]"
      ]
     },
     "execution_count": 33,
     "metadata": {},
     "output_type": "execute_result"
    }
   ],
   "source": [
    "bigrams.sortBy(lambda x: x[-1]).collect()"
   ]
  },
  {
   "cell_type": "markdown",
   "id": "390f3590",
   "metadata": {},
   "source": [
    "## How many unique words in total"
   ]
  },
  {
   "cell_type": "markdown",
   "id": "ac86473f",
   "metadata": {},
   "source": [
    "If we want to calculate the count of unique words. \n",
    "\n",
    "1. Use *aggregate* function"
   ]
  },
  {
   "cell_type": "code",
   "execution_count": 34,
   "id": "f2d8f69e",
   "metadata": {
    "ExecuteTime": {
     "end_time": "2023-03-03T10:38:12.689563Z",
     "start_time": "2023-03-03T10:38:12.687380Z"
    }
   },
   "outputs": [],
   "source": [
    "words = text.rdd.flatMap(lambda x: x.value.split(','))"
   ]
  },
  {
   "cell_type": "code",
   "execution_count": null,
   "id": "3ace423a",
   "metadata": {},
   "outputs": [],
   "source": [
    "words.aggregate()"
   ]
  },
  {
   "cell_type": "code",
   "execution_count": 37,
   "id": "4575f764",
   "metadata": {
    "ExecuteTime": {
     "end_time": "2023-03-03T10:43:29.237980Z",
     "start_time": "2023-03-03T10:43:28.800313Z"
    }
   },
   "outputs": [],
   "source": [
    "unique_words_num = (\n",
    "    words\n",
    "    .map(lambda x: (x, 1))\n",
    "    .reduceByKey(max)\n",
    "    .aggregate(0, lambda x, y: x + y[1], lambda x, y: x + y)\n",
    ")"
   ]
  },
  {
   "cell_type": "code",
   "execution_count": 38,
   "id": "dc1948aa",
   "metadata": {
    "ExecuteTime": {
     "end_time": "2023-03-03T10:43:31.363146Z",
     "start_time": "2023-03-03T10:43:31.361028Z"
    }
   },
   "outputs": [
    {
     "data": {
      "text/plain": [
       "69"
      ]
     },
     "execution_count": 38,
     "metadata": {},
     "output_type": "execute_result"
    }
   ],
   "source": [
    "unique_words_num"
   ]
  },
  {
   "cell_type": "markdown",
   "id": "fb09f04b",
   "metadata": {},
   "source": [
    "or *count()* function"
   ]
  },
  {
   "cell_type": "code",
   "execution_count": 39,
   "id": "3cabc613",
   "metadata": {
    "ExecuteTime": {
     "end_time": "2023-03-03T10:44:00.452992Z",
     "start_time": "2023-03-03T10:44:00.033039Z"
    }
   },
   "outputs": [],
   "source": [
    "unique_words_num = (\n",
    "    words\n",
    "    .map(lambda x: (x, 1))\n",
    "    .reduceByKey(add)\n",
    "    .count()\n",
    ")"
   ]
  },
  {
   "cell_type": "code",
   "execution_count": 40,
   "id": "2dcae122",
   "metadata": {
    "ExecuteTime": {
     "end_time": "2023-03-03T10:44:04.950534Z",
     "start_time": "2023-03-03T10:44:04.948217Z"
    }
   },
   "outputs": [
    {
     "data": {
      "text/plain": [
       "69"
      ]
     },
     "execution_count": 40,
     "metadata": {},
     "output_type": "execute_result"
    }
   ],
   "source": [
    "unique_words_num"
   ]
  },
  {
   "cell_type": "markdown",
   "id": "a9a1fa25",
   "metadata": {},
   "source": [
    "**Use converting to DataFrame**"
   ]
  },
  {
   "cell_type": "code",
   "execution_count": 44,
   "id": "2a9994c7",
   "metadata": {
    "ExecuteTime": {
     "end_time": "2023-03-03T10:46:34.257282Z",
     "start_time": "2023-03-03T10:46:34.147194Z"
    }
   },
   "outputs": [],
   "source": [
    "grouped_words = (\n",
    "    words\n",
    "    .map(lambda x: (x, 1))\n",
    "    .toDF(['word', 'cnt'])\n",
    "    .groupBy('word')\n",
    ")"
   ]
  },
  {
   "cell_type": "code",
   "execution_count": 47,
   "id": "bfcc7a74",
   "metadata": {
    "ExecuteTime": {
     "end_time": "2023-03-03T10:48:16.107669Z",
     "start_time": "2023-03-03T10:48:15.115333Z"
    }
   },
   "outputs": [
    {
     "name": "stderr",
     "output_type": "stream",
     "text": [
      "                                                                                \r"
     ]
    },
    {
     "data": {
      "text/plain": [
       "[Row(word='filiated', count(word)=13911),\n",
       " Row(word='knightliness', count(word)=9979),\n",
       " Row(word='shechita', count(word)=20058),\n",
       " Row(word='acantholysis', count(word)=2526),\n",
       " Row(word='nitroxyl', count(word)=7383),\n",
       " Row(word='necessarianism', count(word)=7584),\n",
       " Row(word='kinetoplast', count(word)=10030),\n",
       " Row(word='*', count(word)=62500),\n",
       " Row(word='wranglership', count(word)=3751),\n",
       " Row(word='!', count(word)=1),\n",
       " Row(word='gonadotrophic', count(word)=6226),\n",
       " Row(word='gormandizers', count(word)=6204),\n",
       " Row(word='gitana', count(word)=6312),\n",
       " Row(word='\\t', count(word)=25000),\n",
       " Row(word='peaceful', count(word)=16379),\n",
       " Row(word='feathering', count(word)=13745),\n",
       " Row(word='synonyme', count(word)=20054),\n",
       " Row(word='coexecutrix', count(word)=11286),\n",
       " Row(word='adorableness', count(word)=2438),\n",
       " Row(word='wittier', count(word)=3700),\n",
       " Row(word='turbinella', count(word)=18812),\n",
       " Row(word='cocoanut', count(word)=11188),\n",
       " Row(word='icterine', count(word)=8669),\n",
       " Row(word='fissiparous', count(word)=13744),\n",
       " Row(word='ileostomy', count(word)=8773),\n",
       " Row(word='obdurately', count(word)=17598),\n",
       " Row(word='finitude', count(word)=13699),\n",
       " Row(word='introversive', count(word)=8763),\n",
       " Row(word='obligately', count(word)=17549),\n",
       " Row(word='orthometric', count(word)=17426),\n",
       " Row(word='peace', count(word)=16209),\n",
       " Row(word='completers', count(word)=11152),\n",
       " Row(word='nonresonant', count(word)=7405),\n",
       " Row(word='capitalistically', count(word)=11292),\n",
       " Row(word='neencephalon', count(word)=7588),\n",
       " Row(word='workingwomen', count(word)=3796),\n",
       " Row(word='rhinencephala', count(word)=1258),\n",
       " Row(word='kettledrums', count(word)=10055),\n",
       " Row(word='toastmistress', count(word)=18708),\n",
       " Row(word='idola', count(word)=8715),\n",
       " Row(word='gnarliest', count(word)=6257),\n",
       " Row(word='tinamous', count(word)=18884),\n",
       " Row(word='reactionaries', count(word)=1295),\n",
       " Row(word='provisory', count(word)=16365),\n",
       " Row(word='wanderer', count(word)=3765),\n",
       " Row(word='knowable', count(word)=9919),\n",
       " Row(word='geophilidae', count(word)=6251),\n",
       " Row(word='piggiest', count(word)=15983),\n",
       " Row(word='farrieries', count(word)=13651),\n",
       " Row(word='optometry', count(word)=17411),\n",
       " Row(word='rabiator', count(word)=1267),\n",
       " Row(word='throttling', count(word)=18821),\n",
       " Row(word='attractable', count(word)=2525),\n",
       " Row(word='punchinello', count(word)=16314),\n",
       " Row(word='anthropographic', count(word)=2513),\n",
       " Row(word='reconnect', count(word)=1239),\n",
       " Row(word='admiration', count(word)=2498),\n",
       " Row(word=' ', count(word)=75000),\n",
       " Row(word='investigable', count(word)=8830),\n",
       " Row(word='rinderpest', count(word)=1191),\n",
       " Row(word='waterfronts', count(word)=3738),\n",
       " Row(word='terroriser', count(word)=18525),\n",
       " Row(word='neutralizer', count(word)=7540),\n",
       " Row(word='spiriting', count(word)=19952),\n",
       " Row(word='ostracize', count(word)=17516),\n",
       " Row(word='collaborators', count(word)=11332),\n",
       " Row(word='semihardy', count(word)=19937),\n",
       " Row(word='kielbasas', count(word)=10017),\n",
       " Row(word='suingly', count(word)=19999)]"
      ]
     },
     "execution_count": 47,
     "metadata": {},
     "output_type": "execute_result"
    }
   ],
   "source": [
    "grouped_words.agg(functions.count('word')).collect()"
   ]
  },
  {
   "cell_type": "code",
   "execution_count": 48,
   "id": "968421aa",
   "metadata": {
    "ExecuteTime": {
     "end_time": "2023-03-03T10:50:14.516237Z",
     "start_time": "2023-03-03T10:50:14.412505Z"
    }
   },
   "outputs": [],
   "source": [
    "unique_words_cnt = (\n",
    "    words\n",
    "    .map(lambda x: (1, x))\n",
    "    .toDF(['_', 'word'])\n",
    "    .groupby('_')\n",
    "    .agg(functions.countDistinct('word'))\n",
    ")"
   ]
  },
  {
   "cell_type": "code",
   "execution_count": 49,
   "id": "4d632eb4",
   "metadata": {
    "ExecuteTime": {
     "end_time": "2023-03-03T10:50:17.406243Z",
     "start_time": "2023-03-03T10:50:16.460452Z"
    }
   },
   "outputs": [
    {
     "name": "stderr",
     "output_type": "stream",
     "text": [
      "                                                                                \r"
     ]
    },
    {
     "data": {
      "text/plain": [
       "[Row(_=1, count(word)=69)]"
      ]
     },
     "execution_count": 49,
     "metadata": {},
     "output_type": "execute_result"
    }
   ],
   "source": [
    "unique_words_cnt.collect()"
   ]
  },
  {
   "cell_type": "code",
   "execution_count": 50,
   "id": "fdb7a263",
   "metadata": {
    "ExecuteTime": {
     "end_time": "2023-03-03T10:50:37.968932Z",
     "start_time": "2023-03-03T10:50:37.964756Z"
    }
   },
   "outputs": [
    {
     "name": "stdout",
     "output_type": "stream",
     "text": [
      "== Physical Plan ==\n",
      "AdaptiveSparkPlan isFinalPlan=true\n",
      "+- == Final Plan ==\n",
      "   *(3) HashAggregate(keys=[_#31L], functions=[count(distinct word#32)])\n",
      "   +- AQEShuffleRead coalesced\n",
      "      +- ShuffleQueryStage 1\n",
      "         +- Exchange hashpartitioning(_#31L, 200), ENSURE_REQUIREMENTS, [plan_id=143]\n",
      "            +- *(2) HashAggregate(keys=[_#31L], functions=[partial_count(distinct word#32)])\n",
      "               +- *(2) HashAggregate(keys=[_#31L, word#32], functions=[])\n",
      "                  +- AQEShuffleRead coalesced\n",
      "                     +- ShuffleQueryStage 0\n",
      "                        +- Exchange hashpartitioning(_#31L, word#32, 200), ENSURE_REQUIREMENTS, [plan_id=119]\n",
      "                           +- *(1) HashAggregate(keys=[_#31L, word#32], functions=[])\n",
      "                              +- *(1) Scan ExistingRDD[_#31L,word#32]\n",
      "+- == Initial Plan ==\n",
      "   HashAggregate(keys=[_#31L], functions=[count(distinct word#32)])\n",
      "   +- Exchange hashpartitioning(_#31L, 200), ENSURE_REQUIREMENTS, [plan_id=105]\n",
      "      +- HashAggregate(keys=[_#31L], functions=[partial_count(distinct word#32)])\n",
      "         +- HashAggregate(keys=[_#31L, word#32], functions=[])\n",
      "            +- Exchange hashpartitioning(_#31L, word#32, 200), ENSURE_REQUIREMENTS, [plan_id=101]\n",
      "               +- HashAggregate(keys=[_#31L, word#32], functions=[])\n",
      "                  +- Scan ExistingRDD[_#31L,word#32]\n",
      "\n",
      "\n"
     ]
    }
   ],
   "source": [
    "unique_words_cnt.explain()"
   ]
  },
  {
   "cell_type": "markdown",
   "id": "aeb64e70",
   "metadata": {},
   "source": [
    "**add filter**"
   ]
  },
  {
   "cell_type": "markdown",
   "id": "615d581b",
   "metadata": {},
   "source": [
    "Add some condition on data. For example, work only with words which have at least 2 characters"
   ]
  },
  {
   "cell_type": "code",
   "execution_count": 51,
   "id": "25052917",
   "metadata": {
    "ExecuteTime": {
     "end_time": "2023-03-03T10:52:43.569003Z",
     "start_time": "2023-03-03T10:52:43.099288Z"
    }
   },
   "outputs": [],
   "source": [
    "unique_filtered_words_num = (\n",
    "    words\n",
    "    .filter(lambda x: len(x) > 1)\n",
    "    .map(lambda x: (x, 1))\n",
    "    .reduceByKey(add)\n",
    "    .count()\n",
    ")"
   ]
  },
  {
   "cell_type": "code",
   "execution_count": 52,
   "id": "3c42f67a",
   "metadata": {
    "ExecuteTime": {
     "end_time": "2023-03-03T10:52:45.673622Z",
     "start_time": "2023-03-03T10:52:45.671220Z"
    }
   },
   "outputs": [
    {
     "data": {
      "text/plain": [
       "65"
      ]
     },
     "execution_count": 52,
     "metadata": {},
     "output_type": "execute_result"
    }
   ],
   "source": [
    "unique_filtered_words_num"
   ]
  },
  {
   "cell_type": "markdown",
   "id": "d951548f",
   "metadata": {},
   "source": [
    "## Solve wordCount with different reducers "
   ]
  },
  {
   "cell_type": "code",
   "execution_count": 53,
   "id": "2906c5f3",
   "metadata": {
    "ExecuteTime": {
     "end_time": "2023-03-03T10:53:04.899017Z",
     "start_time": "2023-03-03T10:53:04.398984Z"
    }
   },
   "outputs": [],
   "source": [
    "df_wc = sc.parallelize(words.map(lambda x: (x, 1)).collect(), 16)  # it won't actually parallelize on local machine with"
   ]
  },
  {
   "cell_type": "markdown",
   "id": "6ef6265f",
   "metadata": {},
   "source": [
    "### reduceByKey()"
   ]
  },
  {
   "cell_type": "code",
   "execution_count": 54,
   "id": "342ce294",
   "metadata": {
    "ExecuteTime": {
     "end_time": "2023-03-03T10:53:58.272593Z",
     "start_time": "2023-03-03T10:53:58.262640Z"
    }
   },
   "outputs": [],
   "source": [
    "wc_reduce = (\n",
    "    df_wc\n",
    "    .reduceByKey(add)\n",
    ")"
   ]
  },
  {
   "cell_type": "code",
   "execution_count": 55,
   "id": "b9e6ad2f",
   "metadata": {
    "ExecuteTime": {
     "end_time": "2023-03-03T10:53:59.479894Z",
     "start_time": "2023-03-03T10:53:59.183526Z"
    }
   },
   "outputs": [
    {
     "data": {
      "text/plain": [
       "[('*', 62500),\n",
       " ('knowable', 9919),\n",
       " ('finitude', 13699),\n",
       " ('attractable', 2525),\n",
       " ('admiration', 2498),\n",
       " ('shechita', 20058),\n",
       " ('tinamous', 18884),\n",
       " ('filiated', 13911),\n",
       " ('gormandizers', 6204),\n",
       " ('workingwomen', 3796),\n",
       " ('obdurately', 17598),\n",
       " ('fissiparous', 13744),\n",
       " ('farrieries', 13651),\n",
       " ('!', 1),\n",
       " ('ileostomy', 8773),\n",
       " ('spiriting', 19952),\n",
       " ('completers', 11152),\n",
       " ('ostracize', 17516),\n",
       " ('wranglership', 3751),\n",
       " ('orthometric', 17426),\n",
       " ('optometry', 17411),\n",
       " ('semihardy', 19937),\n",
       " ('anthropographic', 2513),\n",
       " ('capitalistically', 11292),\n",
       " ('suingly', 19999),\n",
       " ('adorableness', 2438),\n",
       " ('kielbasas', 10017),\n",
       " ('neencephalon', 7588),\n",
       " ('rabiator', 1267),\n",
       " ('throttling', 18821),\n",
       " ('investigable', 8830),\n",
       " ('peace', 16209),\n",
       " ('rhinencephala', 1258),\n",
       " ('peaceful', 16379),\n",
       " (' ', 75000),\n",
       " ('gonadotrophic', 6226),\n",
       " ('rinderpest', 1191),\n",
       " ('coexecutrix', 11286),\n",
       " ('introversive', 8763),\n",
       " ('feathering', 13745),\n",
       " ('kettledrums', 10055),\n",
       " ('neutralizer', 7540),\n",
       " ('geophilidae', 6251),\n",
       " ('idola', 8715),\n",
       " ('reconnect', 1239),\n",
       " ('necessarianism', 7584),\n",
       " ('provisory', 16365),\n",
       " ('obligately', 17549),\n",
       " ('collaborators', 11332),\n",
       " ('knightliness', 9979),\n",
       " ('gnarliest', 6257),\n",
       " ('wanderer', 3765),\n",
       " ('gitana', 6312),\n",
       " ('icterine', 8669),\n",
       " ('piggiest', 15983),\n",
       " ('toastmistress', 18708),\n",
       " ('wittier', 3700),\n",
       " ('reactionaries', 1295),\n",
       " ('turbinella', 18812),\n",
       " ('kinetoplast', 10030),\n",
       " ('nonresonant', 7405),\n",
       " ('acantholysis', 2526),\n",
       " ('waterfronts', 3738),\n",
       " ('\\t', 25000),\n",
       " ('synonyme', 20054),\n",
       " ('nitroxyl', 7383),\n",
       " ('terroriser', 18525),\n",
       " ('punchinello', 16314),\n",
       " ('cocoanut', 11188)]"
      ]
     },
     "execution_count": 55,
     "metadata": {},
     "output_type": "execute_result"
    }
   ],
   "source": [
    "wc_reduce.collect()"
   ]
  },
  {
   "cell_type": "markdown",
   "id": "5e6da695",
   "metadata": {},
   "source": [
    "### groupByKey()"
   ]
  },
  {
   "cell_type": "code",
   "execution_count": 56,
   "id": "6f03d5e0",
   "metadata": {
    "ExecuteTime": {
     "end_time": "2023-03-03T10:56:12.416644Z",
     "start_time": "2023-03-03T10:56:12.408118Z"
    }
   },
   "outputs": [],
   "source": [
    "wc_groupby = (\n",
    "    df_wc\n",
    "    .groupByKey()\n",
    "    .map(lambda x: (x[0], sum(x[1])))\n",
    ")"
   ]
  },
  {
   "cell_type": "code",
   "execution_count": 57,
   "id": "8bbc09a1",
   "metadata": {
    "ExecuteTime": {
     "end_time": "2023-03-03T10:56:14.962835Z",
     "start_time": "2023-03-03T10:56:14.675868Z"
    }
   },
   "outputs": [
    {
     "data": {
      "text/plain": [
       "[('*', 62500),\n",
       " ('knowable', 9919),\n",
       " ('finitude', 13699),\n",
       " ('attractable', 2525),\n",
       " ('admiration', 2498),\n",
       " ('shechita', 20058),\n",
       " ('tinamous', 18884),\n",
       " ('filiated', 13911),\n",
       " ('gormandizers', 6204),\n",
       " ('workingwomen', 3796),\n",
       " ('obdurately', 17598),\n",
       " ('fissiparous', 13744),\n",
       " ('farrieries', 13651),\n",
       " ('!', 1),\n",
       " ('ileostomy', 8773),\n",
       " ('spiriting', 19952),\n",
       " ('completers', 11152),\n",
       " ('ostracize', 17516),\n",
       " ('wranglership', 3751),\n",
       " ('orthometric', 17426),\n",
       " ('optometry', 17411),\n",
       " ('semihardy', 19937),\n",
       " ('anthropographic', 2513),\n",
       " ('capitalistically', 11292),\n",
       " ('suingly', 19999),\n",
       " ('adorableness', 2438),\n",
       " ('kielbasas', 10017),\n",
       " ('neencephalon', 7588),\n",
       " ('rabiator', 1267),\n",
       " ('throttling', 18821),\n",
       " ('investigable', 8830),\n",
       " ('peace', 16209),\n",
       " ('rhinencephala', 1258),\n",
       " ('peaceful', 16379),\n",
       " (' ', 75000),\n",
       " ('gonadotrophic', 6226),\n",
       " ('rinderpest', 1191),\n",
       " ('coexecutrix', 11286),\n",
       " ('introversive', 8763),\n",
       " ('feathering', 13745),\n",
       " ('kettledrums', 10055),\n",
       " ('neutralizer', 7540),\n",
       " ('geophilidae', 6251),\n",
       " ('idola', 8715),\n",
       " ('reconnect', 1239),\n",
       " ('necessarianism', 7584),\n",
       " ('provisory', 16365),\n",
       " ('obligately', 17549),\n",
       " ('collaborators', 11332),\n",
       " ('knightliness', 9979),\n",
       " ('gnarliest', 6257),\n",
       " ('wanderer', 3765),\n",
       " ('gitana', 6312),\n",
       " ('icterine', 8669),\n",
       " ('piggiest', 15983),\n",
       " ('toastmistress', 18708),\n",
       " ('wittier', 3700),\n",
       " ('reactionaries', 1295),\n",
       " ('turbinella', 18812),\n",
       " ('kinetoplast', 10030),\n",
       " ('nonresonant', 7405),\n",
       " ('acantholysis', 2526),\n",
       " ('waterfronts', 3738),\n",
       " ('\\t', 25000),\n",
       " ('synonyme', 20054),\n",
       " ('nitroxyl', 7383),\n",
       " ('terroriser', 18525),\n",
       " ('punchinello', 16314),\n",
       " ('cocoanut', 11188)]"
      ]
     },
     "execution_count": 57,
     "metadata": {},
     "output_type": "execute_result"
    }
   ],
   "source": [
    "wc_groupby.collect()"
   ]
  },
  {
   "cell_type": "markdown",
   "id": "8b575a6e",
   "metadata": {},
   "source": [
    "**GroupByKey() vs ReduceByKey()**"
   ]
  },
  {
   "cell_type": "markdown",
   "id": "9d301335",
   "metadata": {},
   "source": [
    "![](https://sparkbyexamples.com/wp-content/uploads/2022/12/groupByKey-Vs-reduceByKey-1-1.jpg)"
   ]
  },
  {
   "cell_type": "markdown",
   "id": "265c3899",
   "metadata": {},
   "source": [
    "https://sparkbyexamples.com/spark/spark-groupbykey/\n",
    "\n",
    "From the above diagram, when calling Spark `groupByKey` on the dataset,\n",
    "\n",
    "- All the key-value pairs are shuffled across the executors.\n",
    "- This is a lot of unnecessary data to be transferred over the network.\n",
    "- Spark uses the partition function on the dataset to determine which partition to be shuffled across the executors.\n",
    "- Spark `groupByKey` spills data to disk when there is more data shuffled onto a single executor machine than can fit in memory.\n",
    "- If the size of the data is more than the memory of the executor Spark spills out the data to disk one key at a time – so if a single key has more key-value pairs than can fit in executor memory, an out-of-memory exception occurs.\n",
    "- This was handled in a later release of Spark so the job can still proceed, but should still be avoided – when Spark needs to spill to disk, performance is severely impacted.\n",
    "\n",
    "Whereas when we use `reduceByKey` on the same datasets,\n",
    "\n",
    "- key-value pairs on the same machine with the same key are combined (by using the lambda function passed into `reduceByKey` ) before the data is shuffled.\n",
    "- The lambda function is called again to reduce all the values from each partition to produce one final result.\n",
    "- In this way, shuffling is minimal in the case of `ReduceByKey` and improvises performance a lot faster."
   ]
  },
  {
   "cell_type": "markdown",
   "id": "73a4bee2",
   "metadata": {},
   "source": [
    "### combineByKey()"
   ]
  },
  {
   "cell_type": "code",
   "execution_count": 39,
   "id": "df6c32cf",
   "metadata": {
    "ExecuteTime": {
     "end_time": "2023-03-02T23:50:38.575041Z",
     "start_time": "2023-03-02T23:50:38.566845Z"
    }
   },
   "outputs": [],
   "source": [
    "wc_combine = (\n",
    "    df_wc\n",
    "    .combineByKey(\n",
    "        lambda count: count,  # create combiner\n",
    "        lambda counts_agg, count: counts_agg + count,  # merge values in each partitions\n",
    "        lambda counts_agg_one, counts_agg_two: counts_agg_one + counts_agg_two  # combine values from different partitions\n",
    "    )  \n",
    ")"
   ]
  },
  {
   "cell_type": "code",
   "execution_count": 40,
   "id": "9b0519fe",
   "metadata": {
    "ExecuteTime": {
     "end_time": "2023-03-02T23:50:39.321347Z",
     "start_time": "2023-03-02T23:50:39.078080Z"
    }
   },
   "outputs": [
    {
     "data": {
      "text/plain": [
       "[('*', 62500),\n",
       " ('knowable', 9919),\n",
       " ('finitude', 13699),\n",
       " ('attractable', 2525),\n",
       " ('admiration', 2498),\n",
       " ('shechita', 20058),\n",
       " ('tinamous', 18884),\n",
       " ('filiated', 13911),\n",
       " ('gormandizers', 6204),\n",
       " ('workingwomen', 3796),\n",
       " ('obdurately', 17598),\n",
       " ('fissiparous', 13744),\n",
       " ('farrieries', 13651),\n",
       " ('!', 1),\n",
       " ('ileostomy', 8773),\n",
       " ('spiriting', 19952),\n",
       " ('completers', 11152),\n",
       " ('ostracize', 17516),\n",
       " ('wranglership', 3751),\n",
       " ('orthometric', 17426),\n",
       " ('optometry', 17411),\n",
       " ('semihardy', 19937),\n",
       " ('anthropographic', 2513),\n",
       " ('capitalistically', 11292),\n",
       " ('suingly', 19999),\n",
       " ('adorableness', 2438),\n",
       " ('kielbasas', 10017),\n",
       " ('neencephalon', 7588),\n",
       " ('rabiator', 1267),\n",
       " ('throttling', 18821),\n",
       " ('investigable', 8830),\n",
       " ('peace', 16209),\n",
       " ('rhinencephala', 1258),\n",
       " ('peaceful', 16379),\n",
       " (' ', 75000),\n",
       " ('gonadotrophic', 6226),\n",
       " ('rinderpest', 1191),\n",
       " ('coexecutrix', 11286),\n",
       " ('introversive', 8763),\n",
       " ('feathering', 13745),\n",
       " ('kettledrums', 10055),\n",
       " ('neutralizer', 7540),\n",
       " ('geophilidae', 6251),\n",
       " ('idola', 8715),\n",
       " ('reconnect', 1239),\n",
       " ('necessarianism', 7584),\n",
       " ('provisory', 16365),\n",
       " ('obligately', 17549),\n",
       " ('collaborators', 11332),\n",
       " ('knightliness', 9979),\n",
       " ('gnarliest', 6257),\n",
       " ('wanderer', 3765),\n",
       " ('gitana', 6312),\n",
       " ('icterine', 8669),\n",
       " ('piggiest', 15983),\n",
       " ('toastmistress', 18708),\n",
       " ('wittier', 3700),\n",
       " ('reactionaries', 1295),\n",
       " ('turbinella', 18812),\n",
       " ('kinetoplast', 10030),\n",
       " ('nonresonant', 7405),\n",
       " ('acantholysis', 2526),\n",
       " ('waterfronts', 3738),\n",
       " ('\\t', 25000),\n",
       " ('synonyme', 20054),\n",
       " ('nitroxyl', 7383),\n",
       " ('terroriser', 18525),\n",
       " ('punchinello', 16314),\n",
       " ('cocoanut', 11188)]"
      ]
     },
     "execution_count": 40,
     "metadata": {},
     "output_type": "execute_result"
    }
   ],
   "source": [
    "wc_combine.collect()"
   ]
  },
  {
   "cell_type": "markdown",
   "id": "232a7a94",
   "metadata": {},
   "source": [
    "https://www.oreilly.com/library/view/data-algorithms-with/9781492082378/ch04.html#callout_reductions_in_spark_CO6-1"
   ]
  },
  {
   "cell_type": "markdown",
   "id": "ee6860f2",
   "metadata": {},
   "source": [
    "## Calculate most popular lengths of words"
   ]
  },
  {
   "cell_type": "markdown",
   "id": "85b523b7",
   "metadata": {},
   "source": [
    "And return the sorted answer in descending order "
   ]
  },
  {
   "cell_type": "code",
   "execution_count": 58,
   "id": "f18a487d",
   "metadata": {
    "ExecuteTime": {
     "end_time": "2023-03-03T11:01:53.054127Z",
     "start_time": "2023-03-03T11:01:52.585435Z"
    }
   },
   "outputs": [],
   "source": [
    "most_popular_lens = (\n",
    "    words\n",
    "    .map(lambda x: (len(x), 1))\n",
    "    .reduceByKey(add)\n",
    "    .sortBy(lambda x: -x[1])\n",
    ")"
   ]
  },
  {
   "cell_type": "code",
   "execution_count": 59,
   "id": "e62c95ba",
   "metadata": {
    "ExecuteTime": {
     "end_time": "2023-03-03T11:01:54.137300Z",
     "start_time": "2023-03-03T11:01:54.019265Z"
    }
   },
   "outputs": [
    {
     "data": {
      "text/plain": [
       "[(1, 162501),\n",
       " (8, 161159),\n",
       " (10, 133542),\n",
       " (9, 117467),\n",
       " (11, 106314),\n",
       " (12, 53875),\n",
       " (13, 38819),\n",
       " (5, 24924),\n",
       " (7, 23699),\n",
       " (16, 11292),\n",
       " (14, 7584),\n",
       " (6, 6312),\n",
       " (15, 2513)]"
      ]
     },
     "execution_count": 59,
     "metadata": {},
     "output_type": "execute_result"
    }
   ],
   "source": [
    "most_popular_lens.collect()"
   ]
  },
  {
   "cell_type": "markdown",
   "id": "c317a0c9",
   "metadata": {},
   "source": [
    "**Now return the same but with word examples in additional field**"
   ]
  },
  {
   "cell_type": "code",
   "execution_count": 60,
   "id": "838a6ead",
   "metadata": {
    "ExecuteTime": {
     "end_time": "2023-03-03T11:08:46.250051Z",
     "start_time": "2023-03-03T11:08:45.542490Z"
    }
   },
   "outputs": [],
   "source": [
    "most_popular_lens = (\n",
    "    words\n",
    "    .map(lambda x: (len(x), (1, {x})))\n",
    "    .reduceByKey(lambda x, y: (x[0] + y[0], x[1].union(y[1])))\n",
    "    .map(lambda x: (x[0], x[1][0], str(x[1][1])))\n",
    "    .sortBy(lambda x: -x[1])\n",
    ")"
   ]
  },
  {
   "cell_type": "code",
   "execution_count": 61,
   "id": "6812d271",
   "metadata": {
    "ExecuteTime": {
     "end_time": "2023-03-03T11:08:47.741434Z",
     "start_time": "2023-03-03T11:08:47.617983Z"
    }
   },
   "outputs": [
    {
     "data": {
      "text/plain": [
       "[(1, 162501, \"{'*', '!', '\\\\t', ' '}\"),\n",
       " (8,\n",
       "  161159,\n",
       "  \"{'knowable', 'shechita', 'piggiest', 'nitroxyl', 'peaceful', 'wanderer', 'synonyme', 'finitude', 'tinamous', 'filiated', 'rabiator', 'icterine', 'cocoanut'}\"),\n",
       " (10,\n",
       "  133542,\n",
       "  \"{'admiration', 'farrieries', 'completers', 'throttling', 'feathering', 'obligately', 'turbinella', 'terroriser', 'obdurately', 'rinderpest'}\"),\n",
       " (9,\n",
       "  117467,\n",
       "  \"{'ileostomy', 'optometry', 'ostracize', 'semihardy', 'reconnect', 'gnarliest', 'spiriting', 'kielbasas', 'provisory'}\"),\n",
       " (11,\n",
       "  106314,\n",
       "  \"{'fissiparous', 'kettledrums', 'geophilidae', 'coexecutrix', 'neutralizer', 'kinetoplast', 'attractable', 'orthometric', 'nonresonant', 'waterfronts', 'punchinello'}\"),\n",
       " (12,\n",
       "  53875,\n",
       "  \"{'gormandizers', 'workingwomen', 'adorableness', 'investigable', 'introversive', 'knightliness', 'wranglership', 'neencephalon', 'acantholysis'}\"),\n",
       " (13,\n",
       "  38819,\n",
       "  \"{'reactionaries', 'toastmistress', 'rhinencephala', 'gonadotrophic', 'collaborators'}\"),\n",
       " (5, 24924, \"{'idola', 'peace'}\"),\n",
       " (7, 23699, \"{'wittier', 'suingly'}\"),\n",
       " (16, 11292, \"{'capitalistically'}\"),\n",
       " (14, 7584, \"{'necessarianism'}\"),\n",
       " (6, 6312, \"{'gitana'}\"),\n",
       " (15, 2513, \"{'anthropographic'}\")]"
      ]
     },
     "execution_count": 61,
     "metadata": {},
     "output_type": "execute_result"
    }
   ],
   "source": [
    "most_popular_lens.collect()"
   ]
  },
  {
   "cell_type": "code",
   "execution_count": 63,
   "id": "757ea055",
   "metadata": {
    "ExecuteTime": {
     "end_time": "2023-03-03T11:09:11.210180Z",
     "start_time": "2023-03-03T11:09:11.068169Z"
    }
   },
   "outputs": [
    {
     "data": {
      "text/html": [
       "<div>\n",
       "<style scoped>\n",
       "    .dataframe tbody tr th:only-of-type {\n",
       "        vertical-align: middle;\n",
       "    }\n",
       "\n",
       "    .dataframe tbody tr th {\n",
       "        vertical-align: top;\n",
       "    }\n",
       "\n",
       "    .dataframe thead th {\n",
       "        text-align: right;\n",
       "    }\n",
       "</style>\n",
       "<table border=\"1\" class=\"dataframe\">\n",
       "  <thead>\n",
       "    <tr style=\"text-align: right;\">\n",
       "      <th></th>\n",
       "      <th>words_count</th>\n",
       "      <th>words_examples</th>\n",
       "    </tr>\n",
       "    <tr>\n",
       "      <th>len</th>\n",
       "      <th></th>\n",
       "      <th></th>\n",
       "    </tr>\n",
       "  </thead>\n",
       "  <tbody>\n",
       "    <tr>\n",
       "      <th>1</th>\n",
       "      <td>162501</td>\n",
       "      <td>{'*', '!', '\\t', ' '}</td>\n",
       "    </tr>\n",
       "    <tr>\n",
       "      <th>8</th>\n",
       "      <td>161159</td>\n",
       "      <td>{'knowable', 'shechita', 'piggiest', 'nitroxyl...</td>\n",
       "    </tr>\n",
       "    <tr>\n",
       "      <th>10</th>\n",
       "      <td>133542</td>\n",
       "      <td>{'admiration', 'farrieries', 'completers', 'th...</td>\n",
       "    </tr>\n",
       "    <tr>\n",
       "      <th>9</th>\n",
       "      <td>117467</td>\n",
       "      <td>{'ileostomy', 'optometry', 'ostracize', 'semih...</td>\n",
       "    </tr>\n",
       "    <tr>\n",
       "      <th>11</th>\n",
       "      <td>106314</td>\n",
       "      <td>{'fissiparous', 'kettledrums', 'geophilidae', ...</td>\n",
       "    </tr>\n",
       "    <tr>\n",
       "      <th>12</th>\n",
       "      <td>53875</td>\n",
       "      <td>{'gormandizers', 'workingwomen', 'adorableness...</td>\n",
       "    </tr>\n",
       "    <tr>\n",
       "      <th>13</th>\n",
       "      <td>38819</td>\n",
       "      <td>{'reactionaries', 'toastmistress', 'rhinenceph...</td>\n",
       "    </tr>\n",
       "    <tr>\n",
       "      <th>5</th>\n",
       "      <td>24924</td>\n",
       "      <td>{'idola', 'peace'}</td>\n",
       "    </tr>\n",
       "    <tr>\n",
       "      <th>7</th>\n",
       "      <td>23699</td>\n",
       "      <td>{'wittier', 'suingly'}</td>\n",
       "    </tr>\n",
       "    <tr>\n",
       "      <th>16</th>\n",
       "      <td>11292</td>\n",
       "      <td>{'capitalistically'}</td>\n",
       "    </tr>\n",
       "    <tr>\n",
       "      <th>14</th>\n",
       "      <td>7584</td>\n",
       "      <td>{'necessarianism'}</td>\n",
       "    </tr>\n",
       "    <tr>\n",
       "      <th>6</th>\n",
       "      <td>6312</td>\n",
       "      <td>{'gitana'}</td>\n",
       "    </tr>\n",
       "    <tr>\n",
       "      <th>15</th>\n",
       "      <td>2513</td>\n",
       "      <td>{'anthropographic'}</td>\n",
       "    </tr>\n",
       "  </tbody>\n",
       "</table>\n",
       "</div>"
      ],
      "text/plain": [
       "     words_count                                     words_examples\n",
       "len                                                                \n",
       "1         162501                              {'*', '!', '\\t', ' '}\n",
       "8         161159  {'knowable', 'shechita', 'piggiest', 'nitroxyl...\n",
       "10        133542  {'admiration', 'farrieries', 'completers', 'th...\n",
       "9         117467  {'ileostomy', 'optometry', 'ostracize', 'semih...\n",
       "11        106314  {'fissiparous', 'kettledrums', 'geophilidae', ...\n",
       "12         53875  {'gormandizers', 'workingwomen', 'adorableness...\n",
       "13         38819  {'reactionaries', 'toastmistress', 'rhinenceph...\n",
       "5          24924                                 {'idola', 'peace'}\n",
       "7          23699                             {'wittier', 'suingly'}\n",
       "16         11292                               {'capitalistically'}\n",
       "14          7584                                 {'necessarianism'}\n",
       "6           6312                                         {'gitana'}\n",
       "15          2513                                {'anthropographic'}"
      ]
     },
     "execution_count": 63,
     "metadata": {},
     "output_type": "execute_result"
    }
   ],
   "source": [
    "most_popular_lens.toDF(['len', 'words_count', 'words_examples']).toPandas().set_index('len')"
   ]
  },
  {
   "cell_type": "markdown",
   "id": "243ff7ad",
   "metadata": {},
   "source": [
    "## How words are usually ending? \n",
    "\n",
    "Count the frequency of last symbols. Sort result in ascending order and cast to dataframe"
   ]
  },
  {
   "cell_type": "code",
   "execution_count": 64,
   "id": "10e00f4f",
   "metadata": {
    "ExecuteTime": {
     "end_time": "2023-03-03T11:10:04.585887Z",
     "start_time": "2023-03-03T11:10:04.111776Z"
    }
   },
   "outputs": [],
   "source": [
    "end_chars = (\n",
    "    words\n",
    "    .map(lambda x: (x[-1], 1))\n",
    "    .reduceByKey(add)\n",
    "    .sortBy(lambda x: x[1])\n",
    ")"
   ]
  },
  {
   "cell_type": "code",
   "execution_count": 65,
   "id": "9b386951",
   "metadata": {
    "ExecuteTime": {
     "end_time": "2023-03-03T11:10:05.258201Z",
     "start_time": "2023-03-03T11:10:05.135137Z"
    }
   },
   "outputs": [
    {
     "data": {
      "text/plain": [
       "[('!', 1),\n",
       " ('p', 3751),\n",
       " ('m', 7584),\n",
       " ('x', 11286),\n",
       " ('n', 13882),\n",
       " ('d', 13911),\n",
       " ('o', 16314),\n",
       " ('l', 23762),\n",
       " ('\\t', 25000),\n",
       " ('c', 26165),\n",
       " ('r', 34797),\n",
       " ('g', 52518),\n",
       " ('t', 53293),\n",
       " ('a', 55155),\n",
       " ('*', 62500),\n",
       " (' ', 75000),\n",
       " ('e', 112435),\n",
       " ('y', 128924),\n",
       " ('s', 133723)]"
      ]
     },
     "execution_count": 65,
     "metadata": {},
     "output_type": "execute_result"
    }
   ],
   "source": [
    "end_chars.collect()"
   ]
  },
  {
   "cell_type": "code",
   "execution_count": 67,
   "id": "ef8fa092",
   "metadata": {
    "ExecuteTime": {
     "end_time": "2023-03-03T11:10:22.473493Z",
     "start_time": "2023-03-03T11:10:22.338771Z"
    }
   },
   "outputs": [
    {
     "data": {
      "text/plain": [
       "[Row(char='!', cnt=1),\n",
       " Row(char='p', cnt=3751),\n",
       " Row(char='m', cnt=7584),\n",
       " Row(char='x', cnt=11286),\n",
       " Row(char='n', cnt=13882)]"
      ]
     },
     "execution_count": 67,
     "metadata": {},
     "output_type": "execute_result"
    }
   ],
   "source": [
    "end_chars.toDF(['char', 'cnt']).take(5)"
   ]
  },
  {
   "cell_type": "markdown",
   "id": "4a0a79b8",
   "metadata": {},
   "source": [
    "With Pandas"
   ]
  },
  {
   "cell_type": "code",
   "execution_count": 69,
   "id": "f6485a9e",
   "metadata": {
    "ExecuteTime": {
     "end_time": "2023-03-03T11:10:53.814676Z",
     "start_time": "2023-03-03T11:10:53.673644Z"
    }
   },
   "outputs": [
    {
     "data": {
      "text/html": [
       "<div>\n",
       "<style scoped>\n",
       "    .dataframe tbody tr th:only-of-type {\n",
       "        vertical-align: middle;\n",
       "    }\n",
       "\n",
       "    .dataframe tbody tr th {\n",
       "        vertical-align: top;\n",
       "    }\n",
       "\n",
       "    .dataframe thead th {\n",
       "        text-align: right;\n",
       "    }\n",
       "</style>\n",
       "<table border=\"1\" class=\"dataframe\">\n",
       "  <thead>\n",
       "    <tr style=\"text-align: right;\">\n",
       "      <th></th>\n",
       "      <th>cnt</th>\n",
       "    </tr>\n",
       "    <tr>\n",
       "      <th>char</th>\n",
       "      <th></th>\n",
       "    </tr>\n",
       "  </thead>\n",
       "  <tbody>\n",
       "    <tr>\n",
       "      <th>!</th>\n",
       "      <td>1</td>\n",
       "    </tr>\n",
       "    <tr>\n",
       "      <th>p</th>\n",
       "      <td>3751</td>\n",
       "    </tr>\n",
       "    <tr>\n",
       "      <th>m</th>\n",
       "      <td>7584</td>\n",
       "    </tr>\n",
       "    <tr>\n",
       "      <th>x</th>\n",
       "      <td>11286</td>\n",
       "    </tr>\n",
       "    <tr>\n",
       "      <th>n</th>\n",
       "      <td>13882</td>\n",
       "    </tr>\n",
       "    <tr>\n",
       "      <th>d</th>\n",
       "      <td>13911</td>\n",
       "    </tr>\n",
       "    <tr>\n",
       "      <th>o</th>\n",
       "      <td>16314</td>\n",
       "    </tr>\n",
       "    <tr>\n",
       "      <th>l</th>\n",
       "      <td>23762</td>\n",
       "    </tr>\n",
       "    <tr>\n",
       "      <th>\\t</th>\n",
       "      <td>25000</td>\n",
       "    </tr>\n",
       "    <tr>\n",
       "      <th>c</th>\n",
       "      <td>26165</td>\n",
       "    </tr>\n",
       "    <tr>\n",
       "      <th>r</th>\n",
       "      <td>34797</td>\n",
       "    </tr>\n",
       "    <tr>\n",
       "      <th>g</th>\n",
       "      <td>52518</td>\n",
       "    </tr>\n",
       "    <tr>\n",
       "      <th>t</th>\n",
       "      <td>53293</td>\n",
       "    </tr>\n",
       "    <tr>\n",
       "      <th>a</th>\n",
       "      <td>55155</td>\n",
       "    </tr>\n",
       "    <tr>\n",
       "      <th>*</th>\n",
       "      <td>62500</td>\n",
       "    </tr>\n",
       "    <tr>\n",
       "      <th></th>\n",
       "      <td>75000</td>\n",
       "    </tr>\n",
       "    <tr>\n",
       "      <th>e</th>\n",
       "      <td>112435</td>\n",
       "    </tr>\n",
       "    <tr>\n",
       "      <th>y</th>\n",
       "      <td>128924</td>\n",
       "    </tr>\n",
       "    <tr>\n",
       "      <th>s</th>\n",
       "      <td>133723</td>\n",
       "    </tr>\n",
       "  </tbody>\n",
       "</table>\n",
       "</div>"
      ],
      "text/plain": [
       "         cnt\n",
       "char        \n",
       "!          1\n",
       "p       3751\n",
       "m       7584\n",
       "x      11286\n",
       "n      13882\n",
       "d      13911\n",
       "o      16314\n",
       "l      23762\n",
       "\\t     25000\n",
       "c      26165\n",
       "r      34797\n",
       "g      52518\n",
       "t      53293\n",
       "a      55155\n",
       "*      62500\n",
       "       75000\n",
       "e     112435\n",
       "y     128924\n",
       "s     133723"
      ]
     },
     "execution_count": 69,
     "metadata": {},
     "output_type": "execute_result"
    }
   ],
   "source": [
    "end_chars.toDF(['char', 'cnt']).toPandas().set_index('char')"
   ]
  },
  {
   "cell_type": "markdown",
   "id": "4d80ec11",
   "metadata": {},
   "source": [
    "# Now let's repeat some of it with SQL"
   ]
  },
  {
   "cell_type": "markdown",
   "id": "7cca87db",
   "metadata": {},
   "source": [
    "Registering a table"
   ]
  },
  {
   "cell_type": "code",
   "execution_count": 71,
   "id": "1879a899",
   "metadata": {
    "ExecuteTime": {
     "end_time": "2023-03-03T11:11:45.179992Z",
     "start_time": "2023-03-03T11:11:45.079013Z"
    }
   },
   "outputs": [],
   "source": [
    "df_words = words.map(lambda x: (x, 1)).toDF(['word', 'cnt'])\n",
    "\n",
    "df_words.registerTempTable(\"words\")"
   ]
  },
  {
   "cell_type": "markdown",
   "id": "3207a97b",
   "metadata": {
    "ExecuteTime": {
     "end_time": "2023-02-24T03:33:04.541472Z",
     "start_time": "2023-02-24T03:33:04.539850Z"
    }
   },
   "source": [
    "## How many unique words in total"
   ]
  },
  {
   "cell_type": "code",
   "execution_count": 72,
   "id": "ba8f4cb4",
   "metadata": {
    "ExecuteTime": {
     "end_time": "2023-03-03T11:12:18.086263Z",
     "start_time": "2023-03-03T11:12:18.053486Z"
    }
   },
   "outputs": [],
   "source": [
    "unique_words_cnt = se.sql(f\"\"\"\n",
    "    select count(distinct word)\n",
    "    from words\n",
    "\"\"\"\n",
    ")"
   ]
  },
  {
   "cell_type": "code",
   "execution_count": 73,
   "id": "d7fdb456",
   "metadata": {
    "ExecuteTime": {
     "end_time": "2023-03-03T11:12:21.197693Z",
     "start_time": "2023-03-03T11:12:20.305379Z"
    }
   },
   "outputs": [
    {
     "name": "stderr",
     "output_type": "stream",
     "text": [
      "                                                                                \r"
     ]
    },
    {
     "data": {
      "text/plain": [
       "[Row(count(DISTINCT word)=69)]"
      ]
     },
     "execution_count": 73,
     "metadata": {},
     "output_type": "execute_result"
    }
   ],
   "source": [
    "unique_words_cnt.collect()"
   ]
  },
  {
   "cell_type": "markdown",
   "id": "811fcb22",
   "metadata": {},
   "source": [
    "Or using `select` and the function from `pyspark.sql.functions`"
   ]
  },
  {
   "cell_type": "code",
   "execution_count": 76,
   "id": "ca93eaa8",
   "metadata": {
    "ExecuteTime": {
     "end_time": "2023-03-03T11:13:22.874425Z",
     "start_time": "2023-03-03T11:13:22.053203Z"
    }
   },
   "outputs": [
    {
     "name": "stderr",
     "output_type": "stream",
     "text": [
      "\r",
      "[Stage 123:============================>                            (1 + 1) / 2]\r"
     ]
    },
    {
     "name": "stdout",
     "output_type": "stream",
     "text": [
      "+--------------------+\n",
      "|count(DISTINCT word)|\n",
      "+--------------------+\n",
      "|                  69|\n",
      "+--------------------+\n",
      "\n"
     ]
    },
    {
     "name": "stderr",
     "output_type": "stream",
     "text": [
      "\r",
      "                                                                                \r"
     ]
    }
   ],
   "source": [
    "df_words.select(functions.countDistinct('word')).show()"
   ]
  },
  {
   "cell_type": "markdown",
   "id": "26702227",
   "metadata": {},
   "source": [
    "**Add filter on word len**"
   ]
  },
  {
   "cell_type": "code",
   "execution_count": 77,
   "id": "89184325",
   "metadata": {
    "ExecuteTime": {
     "end_time": "2023-03-03T11:15:45.942643Z",
     "start_time": "2023-03-03T11:15:45.927075Z"
    }
   },
   "outputs": [],
   "source": [
    "unique_words_cnt = se.sql(f\"\"\"\n",
    "    select count(distinct word)\n",
    "    from words\n",
    "    where length(word) > 1\n",
    "\"\"\"\n",
    ")"
   ]
  },
  {
   "cell_type": "code",
   "execution_count": 79,
   "id": "cea71864",
   "metadata": {
    "ExecuteTime": {
     "end_time": "2023-03-03T11:15:52.737676Z",
     "start_time": "2023-03-03T11:15:51.968556Z"
    }
   },
   "outputs": [
    {
     "name": "stdout",
     "output_type": "stream",
     "text": [
      "+--------------------+\n",
      "|count(DISTINCT word)|\n",
      "+--------------------+\n",
      "|                  65|\n",
      "+--------------------+\n",
      "\n"
     ]
    },
    {
     "name": "stderr",
     "output_type": "stream",
     "text": [
      "\r",
      "[Stage 135:============================>                            (1 + 1) / 2]\r",
      "\r",
      "                                                                                \r"
     ]
    }
   ],
   "source": [
    "unique_words_cnt.show()"
   ]
  },
  {
   "cell_type": "markdown",
   "id": "eed8c093",
   "metadata": {},
   "source": [
    "Do the same in functional style. Search for `where` and `select` methods"
   ]
  },
  {
   "cell_type": "code",
   "execution_count": 80,
   "id": "938104c7",
   "metadata": {
    "ExecuteTime": {
     "end_time": "2023-03-03T11:16:42.727202Z",
     "start_time": "2023-03-03T11:16:41.940692Z"
    }
   },
   "outputs": [
    {
     "name": "stdout",
     "output_type": "stream",
     "text": [
      "+--------------------+\n",
      "|count(DISTINCT word)|\n",
      "+--------------------+\n",
      "|                  65|\n",
      "+--------------------+\n",
      "\n"
     ]
    },
    {
     "name": "stderr",
     "output_type": "stream",
     "text": [
      "\r",
      "[Stage 141:============================>                            (1 + 1) / 2]\r",
      "\r",
      "                                                                                \r"
     ]
    }
   ],
   "source": [
    "df_words.where('length(word) > 1').select(functions.countDistinct('word')).show()"
   ]
  },
  {
   "cell_type": "markdown",
   "id": "f00f0888",
   "metadata": {},
   "source": [
    "## Count number of word lengths\n",
    "\n",
    "And order in ascending order of counts"
   ]
  },
  {
   "cell_type": "code",
   "execution_count": 81,
   "id": "e9a4bb21",
   "metadata": {
    "ExecuteTime": {
     "end_time": "2023-03-03T11:18:43.718035Z",
     "start_time": "2023-03-03T11:18:43.696217Z"
    }
   },
   "outputs": [],
   "source": [
    "wc = se.sql(f\"\"\"\n",
    "    select length(word) as word_len, count(1) as cnt\n",
    "    from words\n",
    "    group by 1\n",
    "    order by 2 asc\n",
    "\"\"\"\n",
    ")"
   ]
  },
  {
   "cell_type": "code",
   "execution_count": 85,
   "id": "071d0c66",
   "metadata": {
    "ExecuteTime": {
     "end_time": "2023-03-03T11:19:06.150018Z",
     "start_time": "2023-03-03T11:19:06.121569Z"
    }
   },
   "outputs": [
    {
     "data": {
      "text/plain": [
       "[Row(word_len=15, cnt=2513),\n",
       " Row(word_len=6, cnt=6312),\n",
       " Row(word_len=14, cnt=7584),\n",
       " Row(word_len=16, cnt=11292),\n",
       " Row(word_len=7, cnt=23699),\n",
       " Row(word_len=5, cnt=24924),\n",
       " Row(word_len=13, cnt=38819),\n",
       " Row(word_len=12, cnt=53875),\n",
       " Row(word_len=11, cnt=106314),\n",
       " Row(word_len=9, cnt=117467),\n",
       " Row(word_len=10, cnt=133542),\n",
       " Row(word_len=8, cnt=161159),\n",
       " Row(word_len=1, cnt=162501)]"
      ]
     },
     "execution_count": 85,
     "metadata": {},
     "output_type": "execute_result"
    }
   ],
   "source": [
    "wc.collect()"
   ]
  },
  {
   "cell_type": "code",
   "execution_count": 86,
   "id": "02fd3c94",
   "metadata": {
    "ExecuteTime": {
     "end_time": "2023-03-03T11:19:08.612287Z",
     "start_time": "2023-03-03T11:19:07.862306Z"
    }
   },
   "outputs": [
    {
     "name": "stdout",
     "output_type": "stream",
     "text": [
      "+--------+------+\n",
      "|word_len|   cnt|\n",
      "+--------+------+\n",
      "|      15|  2513|\n",
      "|       6|  6312|\n",
      "|      14|  7584|\n",
      "|      16| 11292|\n",
      "|       7| 23699|\n",
      "|       5| 24924|\n",
      "|      13| 38819|\n",
      "|      12| 53875|\n",
      "|      11|106314|\n",
      "|       9|117467|\n",
      "|      10|133542|\n",
      "|       8|161159|\n",
      "|       1|162501|\n",
      "+--------+------+\n",
      "\n"
     ]
    },
    {
     "name": "stderr",
     "output_type": "stream",
     "text": [
      "\r",
      "[Stage 161:============================>                            (1 + 1) / 2]\r",
      "\r",
      "                                                                                \r"
     ]
    }
   ],
   "source": [
    "wc.show()"
   ]
  },
  {
   "cell_type": "markdown",
   "id": "628fc9fc",
   "metadata": {},
   "source": [
    "## Count unique words"
   ]
  },
  {
   "cell_type": "markdown",
   "id": "d0a0158e",
   "metadata": {},
   "source": [
    "Count the number of occurrences for each word, sort in descending order and filter words with total count < 10000"
   ]
  },
  {
   "cell_type": "code",
   "execution_count": 87,
   "id": "5f10cf7f",
   "metadata": {
    "ExecuteTime": {
     "end_time": "2023-03-03T11:20:55.808651Z",
     "start_time": "2023-03-03T11:20:55.795212Z"
    }
   },
   "outputs": [],
   "source": [
    "wc = se.sql(f\"\"\"\n",
    "    select word, count(1) as cnt\n",
    "    from words\n",
    "    group by 1\n",
    "    having cnt > 10000\n",
    "    order by 2 desc\n",
    "\"\"\"\n",
    ")"
   ]
  },
  {
   "cell_type": "code",
   "execution_count": 88,
   "id": "7d284dc2",
   "metadata": {
    "ExecuteTime": {
     "end_time": "2023-03-03T11:20:59.020078Z",
     "start_time": "2023-03-03T11:20:58.152320Z"
    }
   },
   "outputs": [
    {
     "name": "stderr",
     "output_type": "stream",
     "text": [
      "\r",
      "[Stage 164:============================>                            (1 + 1) / 2]\r",
      "\r",
      "                                                                                \r"
     ]
    },
    {
     "data": {
      "text/plain": [
       "[Row(word=' ', cnt=75000),\n",
       " Row(word='*', cnt=62500),\n",
       " Row(word='\\t', cnt=25000),\n",
       " Row(word='shechita', cnt=20058),\n",
       " Row(word='synonyme', cnt=20054),\n",
       " Row(word='suingly', cnt=19999),\n",
       " Row(word='spiriting', cnt=19952),\n",
       " Row(word='semihardy', cnt=19937),\n",
       " Row(word='tinamous', cnt=18884),\n",
       " Row(word='throttling', cnt=18821),\n",
       " Row(word='turbinella', cnt=18812),\n",
       " Row(word='toastmistress', cnt=18708),\n",
       " Row(word='terroriser', cnt=18525),\n",
       " Row(word='obdurately', cnt=17598),\n",
       " Row(word='obligately', cnt=17549),\n",
       " Row(word='ostracize', cnt=17516),\n",
       " Row(word='orthometric', cnt=17426),\n",
       " Row(word='optometry', cnt=17411),\n",
       " Row(word='peaceful', cnt=16379),\n",
       " Row(word='provisory', cnt=16365),\n",
       " Row(word='punchinello', cnt=16314),\n",
       " Row(word='peace', cnt=16209),\n",
       " Row(word='piggiest', cnt=15983),\n",
       " Row(word='filiated', cnt=13911),\n",
       " Row(word='feathering', cnt=13745),\n",
       " Row(word='fissiparous', cnt=13744),\n",
       " Row(word='finitude', cnt=13699),\n",
       " Row(word='farrieries', cnt=13651),\n",
       " Row(word='collaborators', cnt=11332),\n",
       " Row(word='capitalistically', cnt=11292),\n",
       " Row(word='coexecutrix', cnt=11286),\n",
       " Row(word='cocoanut', cnt=11188),\n",
       " Row(word='completers', cnt=11152),\n",
       " Row(word='kettledrums', cnt=10055),\n",
       " Row(word='kinetoplast', cnt=10030),\n",
       " Row(word='kielbasas', cnt=10017)]"
      ]
     },
     "execution_count": 88,
     "metadata": {},
     "output_type": "execute_result"
    }
   ],
   "source": [
    "wc.collect()"
   ]
  },
  {
   "cell_type": "code",
   "execution_count": 89,
   "id": "bace2132",
   "metadata": {
    "ExecuteTime": {
     "end_time": "2023-03-03T11:21:04.839540Z",
     "start_time": "2023-03-03T11:21:04.088225Z"
    }
   },
   "outputs": [
    {
     "name": "stdout",
     "output_type": "stream",
     "text": [
      "+-------------+-----+\n",
      "|         word|  cnt|\n",
      "+-------------+-----+\n",
      "|             |75000|\n",
      "|            *|62500|\n",
      "|           \\t|25000|\n",
      "|     shechita|20058|\n",
      "|     synonyme|20054|\n",
      "|      suingly|19999|\n",
      "|    spiriting|19952|\n",
      "|    semihardy|19937|\n",
      "|     tinamous|18884|\n",
      "|   throttling|18821|\n",
      "|   turbinella|18812|\n",
      "|toastmistress|18708|\n",
      "|   terroriser|18525|\n",
      "|   obdurately|17598|\n",
      "|   obligately|17549|\n",
      "|    ostracize|17516|\n",
      "|  orthometric|17426|\n",
      "|    optometry|17411|\n",
      "|     peaceful|16379|\n",
      "|    provisory|16365|\n",
      "+-------------+-----+\n",
      "only showing top 20 rows\n",
      "\n"
     ]
    },
    {
     "name": "stderr",
     "output_type": "stream",
     "text": [
      "\r",
      "[Stage 172:============================>                            (1 + 1) / 2]\r",
      "\r",
      "                                                                                \r"
     ]
    }
   ],
   "source": [
    "wc.show()"
   ]
  },
  {
   "cell_type": "markdown",
   "id": "c28a0aee",
   "metadata": {},
   "source": [
    "## Join data from other file"
   ]
  },
  {
   "cell_type": "markdown",
   "id": "6aca403f",
   "metadata": {},
   "source": [
    "Add descriptions from file words2def.txt, convert them to dataframe with (key, value)"
   ]
  },
  {
   "cell_type": "code",
   "execution_count": 90,
   "id": "657cf34e",
   "metadata": {
    "ExecuteTime": {
     "end_time": "2023-03-03T11:21:21.505303Z",
     "start_time": "2023-03-03T11:21:21.496284Z"
    }
   },
   "outputs": [],
   "source": [
    "defs = se.read.text(\"data/word2def.txt\")"
   ]
  },
  {
   "cell_type": "code",
   "execution_count": 91,
   "id": "bd011958",
   "metadata": {
    "ExecuteTime": {
     "end_time": "2023-03-03T11:21:22.145693Z",
     "start_time": "2023-03-03T11:21:22.110027Z"
    }
   },
   "outputs": [
    {
     "data": {
      "text/plain": [
       "[Row(value='peace | the nonwarring condition of a nation, group of nations, or the world.'),\n",
       " Row(value='peaceful | characterized by peace; free from war, strife, commotion, violence, or disorder.'),\n",
       " Row(value='reconnect | to link or be linked together again'),\n",
       " Row(value='reactionaries | plural for reactionary (adj. of, pertaining to, marked by, or favoring reaction, especially extreme conservatism or rightism in politics; opposing political or social change.)'),\n",
       " Row(value='admiration | a feeling of wonder, pleasure, or approval.'),\n",
       " Row(value='kettledrums | drums consisting of a hollow hemisphere of brass, copper, or fiberglass over which is stretched a skin, the tension of which can be modified by hand screws or foot pedals to vary the pitch.'),\n",
       " Row(value='cocoanut | coconut.'),\n",
       " Row(value='finitude | a finite state or quality.'),\n",
       " Row(value='investigable | capable of being investigated.'),\n",
       " Row(value='hope | the feeling that what is wanted can be had or that events will turn out for the best.')]"
      ]
     },
     "execution_count": 91,
     "metadata": {},
     "output_type": "execute_result"
    }
   ],
   "source": [
    "defs.collect()"
   ]
  },
  {
   "cell_type": "markdown",
   "id": "1d4263f2",
   "metadata": {},
   "source": [
    "Create a dictionary dataframe and register the corresponding temp table"
   ]
  },
  {
   "cell_type": "code",
   "execution_count": 92,
   "id": "3db88e6a",
   "metadata": {
    "ExecuteTime": {
     "end_time": "2023-03-03T11:21:50.992830Z",
     "start_time": "2023-03-03T11:21:50.987858Z"
    }
   },
   "outputs": [],
   "source": [
    "dictionary = defs.rdd.map(lambda x: x.value.split('|')).map(lambda x: (x[0].strip(), x[1].strip()))"
   ]
  },
  {
   "cell_type": "code",
   "execution_count": 93,
   "id": "a9e15bfe",
   "metadata": {
    "ExecuteTime": {
     "end_time": "2023-03-03T11:21:55.768208Z",
     "start_time": "2023-03-03T11:21:55.698346Z"
    }
   },
   "outputs": [],
   "source": [
    "dictionary = dictionary.toDF(['word', 'definition'])\n",
    "dictionary.createOrReplaceTempView('dictionary')"
   ]
  },
  {
   "cell_type": "code",
   "execution_count": 94,
   "id": "95b7f1d9",
   "metadata": {
    "ExecuteTime": {
     "end_time": "2023-03-03T11:22:03.556182Z",
     "start_time": "2023-03-03T11:22:03.481417Z"
    }
   },
   "outputs": [
    {
     "name": "stdout",
     "output_type": "stream",
     "text": [
      "+-------------+--------------------+\n",
      "|         word|          definition|\n",
      "+-------------+--------------------+\n",
      "|        peace|the nonwarring co...|\n",
      "|     peaceful|characterized by ...|\n",
      "|    reconnect|to link or be lin...|\n",
      "|reactionaries|plural for reacti...|\n",
      "|   admiration|a feeling of wond...|\n",
      "|  kettledrums|drums consisting ...|\n",
      "|     cocoanut|            coconut.|\n",
      "|     finitude|a finite state or...|\n",
      "| investigable|capable of being ...|\n",
      "|         hope|the feeling that ...|\n",
      "+-------------+--------------------+\n",
      "\n"
     ]
    }
   ],
   "source": [
    "dictionary.show()"
   ]
  },
  {
   "cell_type": "markdown",
   "id": "a1957184",
   "metadata": {},
   "source": [
    "**Repeat previous task. Leave only words, for which we have description**"
   ]
  },
  {
   "cell_type": "markdown",
   "id": "c9ae2257",
   "metadata": {},
   "source": [
    "Using Spark SQL"
   ]
  },
  {
   "cell_type": "code",
   "execution_count": 95,
   "id": "9df0121f",
   "metadata": {
    "ExecuteTime": {
     "end_time": "2023-03-03T11:24:06.276040Z",
     "start_time": "2023-03-03T11:24:06.261172Z"
    }
   },
   "outputs": [],
   "source": [
    "wc_filtered = se.sql(f\"\"\"\n",
    "    select word, definition, count(1) as cnt\n",
    "    from words\n",
    "    inner join dictionary using(word)\n",
    "    group by 1, 2\n",
    "    order by 3 desc\n",
    "\"\"\"\n",
    ")"
   ]
  },
  {
   "cell_type": "code",
   "execution_count": 96,
   "id": "24bcfcae",
   "metadata": {
    "ExecuteTime": {
     "end_time": "2023-03-03T11:24:09.000913Z",
     "start_time": "2023-03-03T11:24:07.387069Z"
    }
   },
   "outputs": [
    {
     "name": "stderr",
     "output_type": "stream",
     "text": [
      "                                                                                \r"
     ]
    },
    {
     "data": {
      "text/plain": [
       "[Row(word='peaceful', definition='characterized by peace; free from war, strife, commotion, violence, or disorder.', cnt=16379),\n",
       " Row(word='peace', definition='the nonwarring condition of a nation, group of nations, or the world.', cnt=16209),\n",
       " Row(word='finitude', definition='a finite state or quality.', cnt=13699),\n",
       " Row(word='cocoanut', definition='coconut.', cnt=11188),\n",
       " Row(word='kettledrums', definition='drums consisting of a hollow hemisphere of brass, copper, or fiberglass over which is stretched a skin, the tension of which can be modified by hand screws or foot pedals to vary the pitch.', cnt=10055),\n",
       " Row(word='investigable', definition='capable of being investigated.', cnt=8830),\n",
       " Row(word='admiration', definition='a feeling of wonder, pleasure, or approval.', cnt=2498),\n",
       " Row(word='reactionaries', definition='plural for reactionary (adj. of, pertaining to, marked by, or favoring reaction, especially extreme conservatism or rightism in politics; opposing political or social change.)', cnt=1295),\n",
       " Row(word='reconnect', definition='to link or be linked together again', cnt=1239)]"
      ]
     },
     "execution_count": 96,
     "metadata": {},
     "output_type": "execute_result"
    }
   ],
   "source": [
    "wc_filtered.collect()"
   ]
  },
  {
   "cell_type": "markdown",
   "id": "c5116011",
   "metadata": {},
   "source": [
    "**Leave all words. For words where we don't have descriptions, write 'None'**"
   ]
  },
  {
   "cell_type": "code",
   "execution_count": 98,
   "id": "ace0b62d",
   "metadata": {
    "ExecuteTime": {
     "end_time": "2023-03-03T11:25:27.311739Z",
     "start_time": "2023-03-03T11:25:26.235849Z"
    }
   },
   "outputs": [
    {
     "name": "stderr",
     "output_type": "stream",
     "text": [
      "                                                                                \r"
     ]
    },
    {
     "data": {
      "text/plain": [
       "[Row(word=' ', def='None', cnt=75000),\n",
       " Row(word='*', def='None', cnt=62500),\n",
       " Row(word='\\t', def='None', cnt=25000),\n",
       " Row(word='shechita', def='None', cnt=20058),\n",
       " Row(word='synonyme', def='None', cnt=20054),\n",
       " Row(word='suingly', def='None', cnt=19999),\n",
       " Row(word='spiriting', def='None', cnt=19952),\n",
       " Row(word='semihardy', def='None', cnt=19937),\n",
       " Row(word='tinamous', def='None', cnt=18884),\n",
       " Row(word='throttling', def='None', cnt=18821),\n",
       " Row(word='turbinella', def='None', cnt=18812),\n",
       " Row(word='toastmistress', def='None', cnt=18708),\n",
       " Row(word='terroriser', def='None', cnt=18525),\n",
       " Row(word='obdurately', def='None', cnt=17598),\n",
       " Row(word='obligately', def='None', cnt=17549),\n",
       " Row(word='ostracize', def='None', cnt=17516),\n",
       " Row(word='orthometric', def='None', cnt=17426),\n",
       " Row(word='optometry', def='None', cnt=17411),\n",
       " Row(word='peaceful', def='characterized by peace; free from war, strife, commotion, violence, or disorder.', cnt=16379),\n",
       " Row(word='provisory', def='None', cnt=16365),\n",
       " Row(word='punchinello', def='None', cnt=16314),\n",
       " Row(word='peace', def='the nonwarring condition of a nation, group of nations, or the world.', cnt=16209),\n",
       " Row(word='piggiest', def='None', cnt=15983),\n",
       " Row(word='filiated', def='None', cnt=13911),\n",
       " Row(word='feathering', def='None', cnt=13745),\n",
       " Row(word='fissiparous', def='None', cnt=13744),\n",
       " Row(word='finitude', def='a finite state or quality.', cnt=13699),\n",
       " Row(word='farrieries', def='None', cnt=13651),\n",
       " Row(word='collaborators', def='None', cnt=11332),\n",
       " Row(word='capitalistically', def='None', cnt=11292),\n",
       " Row(word='coexecutrix', def='None', cnt=11286),\n",
       " Row(word='cocoanut', def='coconut.', cnt=11188),\n",
       " Row(word='completers', def='None', cnt=11152),\n",
       " Row(word='kettledrums', def='drums consisting of a hollow hemisphere of brass, copper, or fiberglass over which is stretched a skin, the tension of which can be modified by hand screws or foot pedals to vary the pitch.', cnt=10055),\n",
       " Row(word='kinetoplast', def='None', cnt=10030),\n",
       " Row(word='kielbasas', def='None', cnt=10017),\n",
       " Row(word='knightliness', def='None', cnt=9979),\n",
       " Row(word='knowable', def='None', cnt=9919),\n",
       " Row(word='investigable', def='capable of being investigated.', cnt=8830),\n",
       " Row(word='ileostomy', def='None', cnt=8773),\n",
       " Row(word='introversive', def='None', cnt=8763),\n",
       " Row(word='idola', def='None', cnt=8715),\n",
       " Row(word='icterine', def='None', cnt=8669),\n",
       " Row(word='neencephalon', def='None', cnt=7588),\n",
       " Row(word='necessarianism', def='None', cnt=7584),\n",
       " Row(word='neutralizer', def='None', cnt=7540),\n",
       " Row(word='nonresonant', def='None', cnt=7405),\n",
       " Row(word='nitroxyl', def='None', cnt=7383),\n",
       " Row(word='gitana', def='None', cnt=6312),\n",
       " Row(word='gnarliest', def='None', cnt=6257),\n",
       " Row(word='geophilidae', def='None', cnt=6251),\n",
       " Row(word='gonadotrophic', def='None', cnt=6226),\n",
       " Row(word='gormandizers', def='None', cnt=6204),\n",
       " Row(word='workingwomen', def='None', cnt=3796),\n",
       " Row(word='wanderer', def='None', cnt=3765),\n",
       " Row(word='wranglership', def='None', cnt=3751),\n",
       " Row(word='waterfronts', def='None', cnt=3738),\n",
       " Row(word='wittier', def='None', cnt=3700),\n",
       " Row(word='acantholysis', def='None', cnt=2526),\n",
       " Row(word='attractable', def='None', cnt=2525),\n",
       " Row(word='anthropographic', def='None', cnt=2513),\n",
       " Row(word='admiration', def='a feeling of wonder, pleasure, or approval.', cnt=2498),\n",
       " Row(word='adorableness', def='None', cnt=2438),\n",
       " Row(word='reactionaries', def='plural for reactionary (adj. of, pertaining to, marked by, or favoring reaction, especially extreme conservatism or rightism in politics; opposing political or social change.)', cnt=1295),\n",
       " Row(word='rabiator', def='None', cnt=1267),\n",
       " Row(word='rhinencephala', def='None', cnt=1258),\n",
       " Row(word='reconnect', def='to link or be linked together again', cnt=1239),\n",
       " Row(word='rinderpest', def='None', cnt=1191),\n",
       " Row(word='!', def='None', cnt=1)]"
      ]
     },
     "execution_count": 98,
     "metadata": {},
     "output_type": "execute_result"
    }
   ],
   "source": [
    "se.sql(f\"\"\"\n",
    "    select word, coalesce(definition, 'None') as def, count(1) as cnt\n",
    "    from words\n",
    "    left join dictionary using(word)\n",
    "    group by 1, 2\n",
    "    order by 3 desc\n",
    "\"\"\"\n",
    ").collect()"
   ]
  },
  {
   "cell_type": "markdown",
   "id": "5adc753e",
   "metadata": {},
   "source": [
    "**Calculate last letters popularity**"
   ]
  },
  {
   "cell_type": "code",
   "execution_count": 99,
   "id": "23dc106c",
   "metadata": {
    "ExecuteTime": {
     "end_time": "2023-03-03T11:26:09.486002Z",
     "start_time": "2023-03-03T11:26:08.731857Z"
    }
   },
   "outputs": [
    {
     "name": "stdout",
     "output_type": "stream",
     "text": [
      "+---------+--------+\n",
      "|last_char|count(1)|\n",
      "+---------+--------+\n",
      "|        s|  133723|\n",
      "|        y|  128924|\n",
      "|        e|  112435|\n",
      "|         |   75000|\n",
      "|        *|   62500|\n",
      "|        a|   55155|\n",
      "|        t|   53293|\n",
      "|        g|   52518|\n",
      "|        r|   34797|\n",
      "|        c|   26165|\n",
      "|       \\t|   25000|\n",
      "|        l|   23762|\n",
      "|        o|   16314|\n",
      "|        d|   13911|\n",
      "|        n|   13882|\n",
      "|        x|   11286|\n",
      "|        m|    7584|\n",
      "|        p|    3751|\n",
      "|        !|       1|\n",
      "+---------+--------+\n",
      "\n"
     ]
    },
    {
     "name": "stderr",
     "output_type": "stream",
     "text": [
      "\r",
      "[Stage 212:============================>                            (1 + 1) / 2]\r",
      "\r",
      "                                                                                \r"
     ]
    }
   ],
   "source": [
    "se.sql(\"\"\"\n",
    "    select right(word, 1) as last_char, count(1)\n",
    "    from words\n",
    "    group by 1\n",
    "    order by 2 desc\n",
    "\"\"\"\n",
    ").show()"
   ]
  }
 ],
 "metadata": {
  "kernelspec": {
   "display_name": "Python [conda env:ml-env]",
   "language": "python",
   "name": "conda-env-ml-env-py"
  },
  "language_info": {
   "codemirror_mode": {
    "name": "ipython",
    "version": 3
   },
   "file_extension": ".py",
   "mimetype": "text/x-python",
   "name": "python",
   "nbconvert_exporter": "python",
   "pygments_lexer": "ipython3",
   "version": "3.8.13"
  },
  "toc": {
   "base_numbering": 1,
   "nav_menu": {},
   "number_sections": true,
   "sideBar": true,
   "skip_h1_title": false,
   "title_cell": "Table of Contents",
   "title_sidebar": "Contents",
   "toc_cell": false,
   "toc_position": {},
   "toc_section_display": true,
   "toc_window_display": true
  },
  "varInspector": {
   "cols": {
    "lenName": 16,
    "lenType": 16,
    "lenVar": 40
   },
   "kernels_config": {
    "python": {
     "delete_cmd_postfix": "",
     "delete_cmd_prefix": "del ",
     "library": "var_list.py",
     "varRefreshCmd": "print(var_dic_list())"
    },
    "r": {
     "delete_cmd_postfix": ") ",
     "delete_cmd_prefix": "rm(",
     "library": "var_list.r",
     "varRefreshCmd": "cat(var_dic_list()) "
    }
   },
   "types_to_exclude": [
    "module",
    "function",
    "builtin_function_or_method",
    "instance",
    "_Feature"
   ],
   "window_display": false
  }
 },
 "nbformat": 4,
 "nbformat_minor": 5
}
